{
 "cells": [
  {
   "cell_type": "code",
   "execution_count": 1,
   "id": "3559a8bd-d3ef-4fc1-9d11-9adbc07d2d50",
   "metadata": {},
   "outputs": [],
   "source": [
    "import os\n",
    "import torch\n",
    "import torch.nn as nn\n",
    "import torch.nn.functional as F\n",
    "import torch.backends.cudnn\n",
    "import polars as pl\n",
    "import pandas as pd\n",
    "import numpy as np\n",
    "import seaborn as sns\n",
    "import warnings\n",
    "from utils.utils import set_seed\n",
    "set_seed()\n",
    "\n",
    "\n",
    "from datetime import datetime, timedelta\n",
    "from torch_geometric.nn import GATv2Conv, GATConv\n",
    "from torch_geometric.utils import dense_to_sparse\n",
    "from torch.distributions import Normal, Laplace, RelaxedOneHotCategorical\n",
    "from torchdiffeq import odeint  # For continuous-time normalizing flows\n",
    "\n",
    "from feature.scalers import ranged_scaler\n",
    "from feature.engineering import *\n",
    "from CARAT.model_utils import *\n",
    "from CARAT.model import CausalGraphVAE\n",
    "from CARAT.components import *\n",
    "from utils.utils import set_seed, logger\n",
    "\n",
    "# Torch settings\n",
    "#torch.use_deterministic_algorithms(False)\n",
    "#torch.backends.cudnn.benchmark = False\n",
    "#torch.autograd.profiler.profile(enabled=False)\n",
    "#torch.autograd.profiler.emit_nvtx(enabled=False)\n",
    "#torch.autograd.set_detect_anomaly(mode=False)\n",
    "\n",
    "# Environment variables\n",
    "os.environ['CUBLAS_WORKSPACE_CONFIG'] = ':16:8'\n",
    "os.environ['CUDA_LAUNCH_BLOCKING'] = '1'\n",
    "os.environ['TORCH_USE_CUDA_DSA'] = \"1\"\n",
    "\n",
    "# Set device\n",
    "#device = torch.device(\"cuda:0\" if torch.cuda.is_available() else \"cpu\")\n",
    "device = torch.device(\"cpu\")\n",
    "# Suppress warnings\n",
    "warnings.filterwarnings('ignore')\n",
    "\n",
    "# Load data\n",
    "data = []\n",
    "with open('data/TEP/idv1/y.dat', 'r') as file:\n",
    "    for line in file:\n",
    "        columns = line.strip().split(\"\\t\")\n",
    "        data.append([float(col.strip()) for col in columns])\n"
   ]
  },
  {
   "cell_type": "code",
   "execution_count": 2,
   "id": "2bcf9903-62ed-4eec-9a22-28d013172a34",
   "metadata": {},
   "outputs": [],
   "source": [
    "vars = len(data[0])\n",
    "col_names = []\n",
    "for i in  range(0,vars):\n",
    "    col_names.append('x_'+str(i+1))\n",
    "    "
   ]
  },
  {
   "cell_type": "code",
   "execution_count": 3,
   "id": "4186cd19-2804-4acc-9e80-651792a44849",
   "metadata": {},
   "outputs": [],
   "source": [
    "import polars as pl\n",
    "from feature.scalers import ranged_scaler\n",
    "df = pl.DataFrame(data,schema=col_names)\n",
    "for col in df.columns:\n",
    "    df = df.with_columns(ranged_scaler(df[col]))"
   ]
  },
  {
   "cell_type": "code",
   "execution_count": 4,
   "id": "8cb09efe-a50e-4f3f-b8d7-33e501d19436",
   "metadata": {},
   "outputs": [
    {
     "name": "stdout",
     "output_type": "stream",
     "text": [
      "Column: x_1 | Final ADF: -5.4811 | p-value: 0.0000 | Diffs: 1\n",
      "Column: x_2 | Final ADF: -3.6982 | p-value: 0.0003 | Diffs: 0\n",
      "Column: x_3 | Final ADF: -3.6538 | p-value: 0.0003 | Diffs: 0\n",
      "Column: x_4 | Final ADF: -3.3276 | p-value: 0.0010 | Diffs: 0\n",
      "Column: x_5 | Final ADF: -28.9652 | p-value: 0.0000 | Diffs: 1\n",
      "Column: x_6 | Final ADF: -27.3830 | p-value: 0.0000 | Diffs: 1\n",
      "Column: x_7 | Final ADF: -5.1194 | p-value: 0.0000 | Diffs: 1\n",
      "Column: x_8 | Final ADF: -30.8786 | p-value: 0.0000 | Diffs: 1\n",
      "Column: x_9 | Final ADF: -3.0565 | p-value: 0.0024 | Diffs: 0\n",
      "Column: x_10 | Final ADF: -5.8785 | p-value: 0.0000 | Diffs: 1\n",
      "Column: x_11 | Final ADF: -5.5060 | p-value: 0.0000 | Diffs: 1\n",
      "Column: x_12 | Final ADF: -27.0496 | p-value: 0.0000 | Diffs: 1\n",
      "Column: x_13 | Final ADF: -5.5245 | p-value: 0.0000 | Diffs: 1\n",
      "Column: x_14 | Final ADF: -29.4428 | p-value: 0.0000 | Diffs: 1\n",
      "Column: x_15 | Final ADF: -23.7157 | p-value: 0.0000 | Diffs: 1\n",
      "Column: x_16 | Final ADF: -5.1058 | p-value: 0.0000 | Diffs: 1\n",
      "Column: x_17 | Final ADF: -30.4505 | p-value: 0.0000 | Diffs: 1\n",
      "Column: x_18 | Final ADF: -4.5867 | p-value: 0.0000 | Diffs: 1\n",
      "Column: x_19 | Final ADF: -24.7012 | p-value: 0.0000 | Diffs: 1\n",
      "Column: x_20 | Final ADF: -7.6420 | p-value: 0.0000 | Diffs: 1\n",
      "Column: x_21 | Final ADF: -9.3515 | p-value: 0.0000 | Diffs: 1\n",
      "Column: x_22 | Final ADF: -7.0943 | p-value: 0.0000 | Diffs: 1\n",
      "Column: x_23 | Final ADF: -24.8033 | p-value: 0.0000 | Diffs: 1\n",
      "Column: x_24 | Final ADF: -24.7994 | p-value: 0.0000 | Diffs: 1\n",
      "Column: x_25 | Final ADF: -27.1527 | p-value: 0.0000 | Diffs: 1\n",
      "Column: x_26 | Final ADF: -3.2823 | p-value: 0.0012 | Diffs: 0\n",
      "Column: x_27 | Final ADF: -30.0469 | p-value: 0.0000 | Diffs: 1\n",
      "Column: x_28 | Final ADF: -27.5087 | p-value: 0.0000 | Diffs: 1\n",
      "Column: x_29 | Final ADF: -22.6222 | p-value: 0.0000 | Diffs: 1\n",
      "Column: x_30 | Final ADF: -20.6208 | p-value: 0.0000 | Diffs: 1\n",
      "Column: x_31 | Final ADF: -21.2602 | p-value: 0.0000 | Diffs: 1\n",
      "Column: x_32 | Final ADF: -4.1043 | p-value: 0.0001 | Diffs: 0\n",
      "Column: x_33 | Final ADF: -27.7522 | p-value: 0.0000 | Diffs: 1\n",
      "Column: x_34 | Final ADF: -24.9966 | p-value: 0.0000 | Diffs: 1\n",
      "Column: x_35 | Final ADF: -26.3901 | p-value: 0.0000 | Diffs: 1\n",
      "Column: x_36 | Final ADF: -30.5467 | p-value: 0.0000 | Diffs: 1\n",
      "Column: x_37 | Final ADF: -3.3945 | p-value: 0.0008 | Diffs: 0\n",
      "Column: x_38 | Final ADF: -17.4584 | p-value: 0.0000 | Diffs: 1\n",
      "Column: x_39 | Final ADF: -3.0542 | p-value: 0.0025 | Diffs: 0\n",
      "Column: x_40 | Final ADF: -20.1681 | p-value: 0.0000 | Diffs: 1\n",
      "Column: x_41 | Final ADF: -21.8081 | p-value: 0.0000 | Diffs: 1\n",
      "Column: x_42 | Final ADF: -15.5148 | p-value: 0.0000 | Diffs: 1\n",
      "Column: x_43 | Final ADF: -11.3392 | p-value: 0.0000 | Diffs: 1\n",
      "Column: x_44 | Final ADF: -8.3272 | p-value: 0.0000 | Diffs: 1\n",
      "Column: x_45 | Final ADF: -6.6655 | p-value: 0.0000 | Diffs: 1\n",
      "Column: x_46 | Final ADF: -4.5653 | p-value: 0.0000 | Diffs: 1\n",
      "Column: x_47 | Final ADF: -3.8511 | p-value: 0.0001 | Diffs: 1\n",
      "Column: x_48 | Final ADF: -6.2267 | p-value: 0.0000 | Diffs: 1\n",
      "Column: x_49 | Final ADF: -4.0029 | p-value: 0.0001 | Diffs: 1\n",
      "Column: x_50 | Final ADF: -5.5598 | p-value: 0.0000 | Diffs: 1\n",
      "Column: x_51 | Final ADF: -5.9882 | p-value: 0.0000 | Diffs: 1\n"
     ]
    }
   ],
   "source": [
    "df = make_stationary(df)"
   ]
  },
  {
   "cell_type": "code",
   "execution_count": 5,
   "id": "d5f176e5-8328-47d3-898c-620aec152f45",
   "metadata": {},
   "outputs": [],
   "source": [
    "df=df.to_pandas()"
   ]
  },
  {
   "cell_type": "code",
   "execution_count": 6,
   "id": "3d5211d2-8b0d-48f1-9863-9986f68f65b7",
   "metadata": {},
   "outputs": [],
   "source": [
    "#random dates, trivial for this exercise\n",
    "\n",
    "start_date = '2023-03-01'  # Define the start date\n",
    "date_range = pd.date_range(start=start_date, periods=df.shape[0])"
   ]
  },
  {
   "cell_type": "code",
   "execution_count": 7,
   "id": "6e78764d-6061-4347-a15b-42915ce98352",
   "metadata": {},
   "outputs": [],
   "source": [
    "n_lags = most_frequent(find_optimal_lags_for_dataframe(df))+1"
   ]
  },
  {
   "cell_type": "code",
   "execution_count": 8,
   "id": "c41f2494-6c22-46f8-921d-dc3dd99a8b9b",
   "metadata": {},
   "outputs": [],
   "source": [
    "df['time']=date_range"
   ]
  },
  {
   "cell_type": "code",
   "execution_count": 9,
   "id": "b131b6f5-0728-4a5f-a866-7b964d369d4c",
   "metadata": {},
   "outputs": [
    {
     "data": {
      "text/plain": [
       "<Axes: xlabel='None', ylabel='x_44'>"
      ]
     },
     "execution_count": 9,
     "metadata": {},
     "output_type": "execute_result"
    },
    {
     "data": {
      "image/png": "[encoded data removed]",
      "text/plain": [
       "<Figure size 640x480 with 1 Axes>"
      ]
     },
     "metadata": {},
     "output_type": "display_data"
    }
   ],
   "source": [
    "sns.lineplot(data=df,y='x_44',x=df.index)"
   ]
  },
  {
   "cell_type": "code",
   "execution_count": 10,
   "id": "7e39ac1b-36cc-429c-809f-01b016584bcb",
   "metadata": {},
   "outputs": [],
   "source": [
    "df = df[['x_1', 'x_4','x_7','x_13','x_16','x_18','x_19','x_44','x_50']]"
   ]
  },
  {
   "cell_type": "code",
   "execution_count": 11,
   "id": "1ba3bdf6-cc0e-4f60-bd0d-ef5be924498e",
   "metadata": {},
   "outputs": [],
   "source": [
    "normal = df[200:]\n",
    "bad = df[0:200]"
   ]
  },
  {
   "cell_type": "code",
   "execution_count": 12,
   "id": "6b1ffb3d-85b0-4e90-be11-2e218b5f69b2",
   "metadata": {},
   "outputs": [
    {
     "data": {
      "text/plain": [
       "Index(['x_1', 'x_4', 'x_7', 'x_13', 'x_16', 'x_18', 'x_19', 'x_44', 'x_50'], dtype='object')"
      ]
     },
     "execution_count": 12,
     "metadata": {},
     "output_type": "execute_result"
    }
   ],
   "source": [
    "df.columns"
   ]
  },
  {
   "cell_type": "code",
   "execution_count": 13,
   "id": "0d3dc758-21df-44c7-bc12-ceb0dc3e36da",
   "metadata": {},
   "outputs": [],
   "source": [
    "try:\n",
    "    df = df.drop('time',axis=1)\n",
    "except:\n",
    "    None\n",
    "\n",
    "try:\n",
    "    normal = normal.drop('time',axis=1)\n",
    "except:\n",
    "    None\n",
    "try:\n",
    "    bad = bad.drop('time',axis=1)\n",
    "except:\n",
    "    None"
   ]
  },
  {
   "cell_type": "code",
   "execution_count": 14,
   "id": "47a52bc7-6830-4a25-8c76-7d167da5d30f",
   "metadata": {},
   "outputs": [],
   "source": [
    "cols = df.columns.tolist()"
   ]
  },
  {
   "cell_type": "code",
   "execution_count": 15,
   "id": "edb92727-92ff-4c95-ab54-be1c0a279212",
   "metadata": {},
   "outputs": [
    {
     "data": {
      "text/plain": [
       "['x_1', 'x_4', 'x_7', 'x_13', 'x_16', 'x_18', 'x_19', 'x_44', 'x_50']"
      ]
     },
     "execution_count": 15,
     "metadata": {},
     "output_type": "execute_result"
    }
   ],
   "source": [
    "cols"
   ]
  },
  {
   "cell_type": "markdown",
   "id": "645900e2-8fb0-4eb4-895b-f1d6c4c63c58",
   "metadata": {},
   "source": [
    "# Pretraining"
   ]
  },
  {
   "cell_type": "code",
   "execution_count": 16,
   "id": "44039614-1138-4a1b-8aaa-3244219d7554",
   "metadata": {},
   "outputs": [],
   "source": [
    "import torch\n",
    "import random\n",
    "import numpy as np\n",
    "\n",
    "# Define the seed value\n",
    "seed = 42\n",
    "\n",
    "# Set seed for PyTorch\n",
    "torch.manual_seed(seed)\n",
    "\n",
    "# Set seed for CUDA (if using GPUs)\n",
    "torch.cuda.manual_seed(seed)\n",
    "torch.cuda.manual_seed_all(seed)  # For multi-GPU setups\n",
    "\n",
    "# Set seed for Python's random module\n",
    "random.seed(seed)\n",
    "\n",
    "# Set seed for NumPy\n",
    "np.random.seed(seed)\n",
    "\n",
    "# Ensure deterministic behavior for PyTorch operations\n",
    "torch.backends.cudnn.deterministic = True\n",
    "torch.backends.cudnn.benchmark = False"
   ]
  },
  {
   "cell_type": "code",
   "execution_count": 35,
   "id": "344bfeb6-d2fd-4476-adda-89829a6bc1af",
   "metadata": {},
   "outputs": [
    {
     "name": "stdout",
     "output_type": "stream",
     "text": [
      "Epoch 1: Loss = 301.9690\n",
      "Recon Loss = 320.1398, KL Loss = 0.0000, Lagrangian Loss = 29.4586\n",
      "Epoch 51: Loss = 15.1541\n",
      "Recon Loss = 15.0322, KL Loss = 0.7678, Lagrangian Loss = 6.3340\n",
      "Epoch 101: Loss = 5.9774\n",
      "Recon Loss = 5.4800, KL Loss = 0.5173, Lagrangian Loss = 2.7307\n",
      "Epoch 151: Loss = 3.7469\n",
      "Recon Loss = 3.4642, KL Loss = 0.3201, Lagrangian Loss = 1.9046\n"
     ]
    },
    {
     "data": {
      "text/html": [
       "<div>\n",
       "<style scoped>\n",
       "    .dataframe tbody tr th:only-of-type {\n",
       "        vertical-align: middle;\n",
       "    }\n",
       "\n",
       "    .dataframe tbody tr th {\n",
       "        vertical-align: top;\n",
       "    }\n",
       "\n",
       "    .dataframe thead th {\n",
       "        text-align: right;\n",
       "    }\n",
       "</style>\n",
       "<table border=\"1\" class=\"dataframe\">\n",
       "  <thead>\n",
       "    <tr style=\"text-align: right;\">\n",
       "      <th></th>\n",
       "      <th>x_1</th>\n",
       "      <th>x_4</th>\n",
       "      <th>x_7</th>\n",
       "      <th>x_13</th>\n",
       "      <th>x_16</th>\n",
       "      <th>x_18</th>\n",
       "      <th>x_19</th>\n",
       "      <th>x_44</th>\n",
       "      <th>x_50</th>\n",
       "    </tr>\n",
       "  </thead>\n",
       "  <tbody>\n",
       "    <tr>\n",
       "      <th>x_1</th>\n",
       "      <td>0.000000</td>\n",
       "      <td>0.463701</td>\n",
       "      <td>0.331602</td>\n",
       "      <td>0.357082</td>\n",
       "      <td>0.332337</td>\n",
       "      <td>0.446658</td>\n",
       "      <td>0.325793</td>\n",
       "      <td>0.330286</td>\n",
       "      <td>0.322070</td>\n",
       "    </tr>\n",
       "    <tr>\n",
       "      <th>x_4</th>\n",
       "      <td>0.280336</td>\n",
       "      <td>0.000000</td>\n",
       "      <td>0.356729</td>\n",
       "      <td>0.386473</td>\n",
       "      <td>0.404197</td>\n",
       "      <td>0.305971</td>\n",
       "      <td>0.384953</td>\n",
       "      <td>0.407404</td>\n",
       "      <td>0.302840</td>\n",
       "    </tr>\n",
       "    <tr>\n",
       "      <th>x_7</th>\n",
       "      <td>0.322337</td>\n",
       "      <td>0.387143</td>\n",
       "      <td>0.000000</td>\n",
       "      <td>0.415536</td>\n",
       "      <td>0.332255</td>\n",
       "      <td>0.468466</td>\n",
       "      <td>0.347451</td>\n",
       "      <td>0.317093</td>\n",
       "      <td>0.378922</td>\n",
       "    </tr>\n",
       "    <tr>\n",
       "      <th>x_13</th>\n",
       "      <td>0.284771</td>\n",
       "      <td>0.357019</td>\n",
       "      <td>0.285732</td>\n",
       "      <td>0.000000</td>\n",
       "      <td>0.314734</td>\n",
       "      <td>0.350673</td>\n",
       "      <td>0.400621</td>\n",
       "      <td>0.369002</td>\n",
       "      <td>0.323369</td>\n",
       "    </tr>\n",
       "    <tr>\n",
       "      <th>x_16</th>\n",
       "      <td>0.283832</td>\n",
       "      <td>0.420236</td>\n",
       "      <td>0.353251</td>\n",
       "      <td>0.299617</td>\n",
       "      <td>0.000000</td>\n",
       "      <td>0.318161</td>\n",
       "      <td>0.317730</td>\n",
       "      <td>0.315012</td>\n",
       "      <td>0.312234</td>\n",
       "    </tr>\n",
       "    <tr>\n",
       "      <th>x_18</th>\n",
       "      <td>0.371586</td>\n",
       "      <td>0.340347</td>\n",
       "      <td>0.283001</td>\n",
       "      <td>0.410161</td>\n",
       "      <td>0.308738</td>\n",
       "      <td>0.000000</td>\n",
       "      <td>0.311795</td>\n",
       "      <td>0.422890</td>\n",
       "      <td>0.392977</td>\n",
       "    </tr>\n",
       "    <tr>\n",
       "      <th>x_19</th>\n",
       "      <td>0.311184</td>\n",
       "      <td>0.412615</td>\n",
       "      <td>0.289547</td>\n",
       "      <td>0.305193</td>\n",
       "      <td>0.327827</td>\n",
       "      <td>0.336896</td>\n",
       "      <td>0.000000</td>\n",
       "      <td>0.288606</td>\n",
       "      <td>0.415722</td>\n",
       "    </tr>\n",
       "    <tr>\n",
       "      <th>x_44</th>\n",
       "      <td>0.369653</td>\n",
       "      <td>0.419239</td>\n",
       "      <td>0.358901</td>\n",
       "      <td>0.412631</td>\n",
       "      <td>0.405392</td>\n",
       "      <td>0.334310</td>\n",
       "      <td>0.399950</td>\n",
       "      <td>0.000000</td>\n",
       "      <td>0.318081</td>\n",
       "    </tr>\n",
       "    <tr>\n",
       "      <th>x_50</th>\n",
       "      <td>0.298846</td>\n",
       "      <td>0.308027</td>\n",
       "      <td>0.315350</td>\n",
       "      <td>0.326999</td>\n",
       "      <td>0.404068</td>\n",
       "      <td>0.388763</td>\n",
       "      <td>0.302975</td>\n",
       "      <td>0.319219</td>\n",
       "      <td>0.000000</td>\n",
       "    </tr>\n",
       "  </tbody>\n",
       "</table>\n",
       "</div>"
      ],
      "text/plain": [
       "           x_1       x_4       x_7      x_13      x_16      x_18      x_19  \\\n",
       "x_1   0.000000  0.463701  0.331602  0.357082  0.332337  0.446658  0.325793   \n",
       "x_4   0.280336  0.000000  0.356729  0.386473  0.404197  0.305971  0.384953   \n",
       "x_7   0.322337  0.387143  0.000000  0.415536  0.332255  0.468466  0.347451   \n",
       "x_13  0.284771  0.357019  0.285732  0.000000  0.314734  0.350673  0.400621   \n",
       "x_16  0.283832  0.420236  0.353251  0.299617  0.000000  0.318161  0.317730   \n",
       "x_18  0.371586  0.340347  0.283001  0.410161  0.308738  0.000000  0.311795   \n",
       "x_19  0.311184  0.412615  0.289547  0.305193  0.327827  0.336896  0.000000   \n",
       "x_44  0.369653  0.419239  0.358901  0.412631  0.405392  0.334310  0.399950   \n",
       "x_50  0.298846  0.308027  0.315350  0.326999  0.404068  0.388763  0.302975   \n",
       "\n",
       "          x_44      x_50  \n",
       "x_1   0.330286  0.322070  \n",
       "x_4   0.407404  0.302840  \n",
       "x_7   0.317093  0.378922  \n",
       "x_13  0.369002  0.323369  \n",
       "x_16  0.315012  0.312234  \n",
       "x_18  0.422890  0.392977  \n",
       "x_19  0.288606  0.415722  \n",
       "x_44  0.000000  0.318081  \n",
       "x_50  0.319219  0.000000  "
      ]
     },
     "execution_count": 35,
     "metadata": {},
     "output_type": "execute_result"
    }
   ],
   "source": [
    "TIME_STEPS = 7\n",
    "BATCH_SIZE = 25\n",
    "hidden_dim = 64\n",
    "latent_dim = 8\n",
    "dataset_nominal = TimeSeriesDataset(normal, device=device, time_steps=TIME_STEPS)\n",
    "dataloader_nominal = DataLoader(dataset_nominal, batch_size=BATCH_SIZE, shuffle=True)\n",
    "\n",
    "# Initialize model and optimizer\n",
    "model = CausalGraphVAE(input_dim=normal.shape[1], hidden_dim=hidden_dim,\n",
    "                        latent_dim=latent_dim, num_nodes=normal.shape[1],device=device,\n",
    "                        time_steps=TIME_STEPS, prior_adj=None,instantaneous_weight=0.1).to(device)\n",
    "optimizer = torch.optim.AdamW(model.parameters(), lr=0.001, weight_decay=1e-4, amsgrad =True)\n",
    "\n",
    "# Train on nominal data\n",
    "#print(\"Pretraining on nominal data...\")\n",
    "model.train_model(dataloader_nominal, optimizer, num_epochs=200, patience=20,\n",
    "                  BATCH_SIZE=BATCH_SIZE,rho_max=4,alpha_max=2)\n",
    "\n",
    "# Extract learned adjacency\n",
    "prior_adj = model.causal_graph.adj_mat.clone().detach()\n",
    "pd.DataFrame((prior_adj).cpu().detach().numpy(),index=cols,columns=cols)"
   ]
  },
  {
   "cell_type": "code",
   "execution_count": 37,
   "id": "5057eeb3-1ac1-4644-a2bd-9d6550a42207",
   "metadata": {},
   "outputs": [
    {
     "name": "stdout",
     "output_type": "stream",
     "text": [
      "Epoch 1: Loss = 484.7809\n",
      "Recon Loss = 333.8819, KL Loss = 0.0000, Lagrangian Loss = 56.8405\n",
      "Early stopping triggered. Last Epoch: 36\n",
      "Recon Loss = 329.0327, KL Loss = 0.1503, Lagrangian Loss = 59.2672\n"
     ]
    },
    {
     "name": "stderr",
     "output_type": "stream",
     "text": [
      "2025-03-22 16:37:09,769 INFO -- Edge Accuracy = 100.00, Instantaneous Accuracy = 100.00, Lagged Accuracy = 100.00, Counterfactual Accuracy = 100.00,  Blended Accuracy = 100.00,  RR Accuracy = 100.00  \n"
     ]
    },
    {
     "name": "stdout",
     "output_type": "stream",
     "text": [
      "Epoch 1: Loss = 507.1897\n",
      "Recon Loss = 361.4441, KL Loss = 0.0000, Lagrangian Loss = 33.1681\n",
      "Early stopping triggered. Last Epoch: 41\n",
      "Recon Loss = 342.6387, KL Loss = 0.1417, Lagrangian Loss = 35.1250\n"
     ]
    },
    {
     "name": "stderr",
     "output_type": "stream",
     "text": [
      "2025-03-22 16:38:35,382 INFO -- Edge Accuracy = 100.00, Instantaneous Accuracy = 50.00, Lagged Accuracy = 100.00, Counterfactual Accuracy = 50.00,  Blended Accuracy = 50.00,  RR Accuracy = 50.00  \n"
     ]
    },
    {
     "name": "stdout",
     "output_type": "stream",
     "text": [
      "Epoch 1: Loss = 511.4388\n",
      "Recon Loss = 338.9256, KL Loss = 0.0000, Lagrangian Loss = 52.7374\n",
      "Early stopping triggered. Last Epoch: 32\n",
      "Recon Loss = 349.5581, KL Loss = 0.0735, Lagrangian Loss = 54.5671\n"
     ]
    },
    {
     "name": "stderr",
     "output_type": "stream",
     "text": [
      "2025-03-22 16:39:42,619 INFO -- Edge Accuracy = 100.00, Instantaneous Accuracy = 66.67, Lagged Accuracy = 100.00, Counterfactual Accuracy = 66.67,  Blended Accuracy = 66.67,  RR Accuracy = 66.67  \n"
     ]
    },
    {
     "name": "stdout",
     "output_type": "stream",
     "text": [
      "Epoch 1: Loss = 604.0389\n",
      "Recon Loss = 406.5718, KL Loss = 0.0000, Lagrangian Loss = 20.9198\n",
      "Early stopping triggered. Last Epoch: 42\n",
      "Recon Loss = 424.7911, KL Loss = 0.2115, Lagrangian Loss = 21.6133\n"
     ]
    },
    {
     "name": "stderr",
     "output_type": "stream",
     "text": [
      "2025-03-22 16:41:12,350 INFO -- Edge Accuracy = 100.00, Instantaneous Accuracy = 75.00, Lagged Accuracy = 75.00, Counterfactual Accuracy = 75.00,  Blended Accuracy = 75.00,  RR Accuracy = 75.00  \n"
     ]
    },
    {
     "name": "stdout",
     "output_type": "stream",
     "text": [
      "Epoch 1: Loss = 456.8222\n",
      "Recon Loss = 348.1344, KL Loss = 0.0000, Lagrangian Loss = 13.1267\n",
      "Early stopping triggered. Last Epoch: 33\n",
      "Recon Loss = 310.2558, KL Loss = 0.2425, Lagrangian Loss = 13.6598\n"
     ]
    },
    {
     "name": "stderr",
     "output_type": "stream",
     "text": [
      "2025-03-22 16:42:20,234 INFO -- Edge Accuracy = 100.00, Instantaneous Accuracy = 80.00, Lagged Accuracy = 80.00, Counterfactual Accuracy = 80.00,  Blended Accuracy = 80.00,  RR Accuracy = 80.00  \n"
     ]
    },
    {
     "name": "stdout",
     "output_type": "stream",
     "text": [
      "Epoch 1: Loss = 777.1239\n",
      "Recon Loss = 542.1554, KL Loss = 0.0000, Lagrangian Loss = 32.8658\n",
      "Early stopping triggered. Last Epoch: 21\n",
      "Recon Loss = 607.0638, KL Loss = 0.1088, Lagrangian Loss = 33.3507\n"
     ]
    },
    {
     "name": "stderr",
     "output_type": "stream",
     "text": [
      "2025-03-22 16:43:07,593 INFO -- Edge Accuracy = 100.00, Instantaneous Accuracy = 83.33, Lagged Accuracy = 83.33, Counterfactual Accuracy = 83.33,  Blended Accuracy = 83.33,  RR Accuracy = 66.67  \n"
     ]
    },
    {
     "name": "stdout",
     "output_type": "stream",
     "text": [
      "Epoch 1: Loss = 562.4576\n",
      "Recon Loss = 369.7958, KL Loss = 0.0000, Lagrangian Loss = 56.0608\n",
      "Early stopping triggered. Last Epoch: 28\n",
      "Recon Loss = 381.9231, KL Loss = 0.1249, Lagrangian Loss = 56.5409\n"
     ]
    },
    {
     "name": "stderr",
     "output_type": "stream",
     "text": [
      "2025-03-22 16:44:08,500 INFO -- Edge Accuracy = 100.00, Instantaneous Accuracy = 85.71, Lagged Accuracy = 85.71, Counterfactual Accuracy = 85.71,  Blended Accuracy = 85.71,  RR Accuracy = 71.43  \n"
     ]
    },
    {
     "name": "stdout",
     "output_type": "stream",
     "text": [
      "Epoch 1: Loss = 553.0990\n",
      "Recon Loss = 392.5659, KL Loss = 0.0000, Lagrangian Loss = 26.5320\n",
      "Early stopping triggered. Last Epoch: 26\n",
      "Recon Loss = 381.0881, KL Loss = 0.0964, Lagrangian Loss = 27.1588\n"
     ]
    },
    {
     "name": "stderr",
     "output_type": "stream",
     "text": [
      "2025-03-22 16:45:03,179 INFO -- Edge Accuracy = 100.00, Instantaneous Accuracy = 87.50, Lagged Accuracy = 87.50, Counterfactual Accuracy = 75.00,  Blended Accuracy = 75.00,  RR Accuracy = 62.50  \n"
     ]
    },
    {
     "name": "stdout",
     "output_type": "stream",
     "text": [
      "Epoch 1: Loss = 518.4788\n",
      "Recon Loss = 337.6612, KL Loss = 0.0000, Lagrangian Loss = 25.2945\n",
      "Early stopping triggered. Last Epoch: 37\n",
      "Recon Loss = 389.5706, KL Loss = 0.1511, Lagrangian Loss = 25.6990\n"
     ]
    },
    {
     "name": "stderr",
     "output_type": "stream",
     "text": [
      "2025-03-22 16:46:21,107 INFO -- Edge Accuracy = 100.00, Instantaneous Accuracy = 88.89, Lagged Accuracy = 88.89, Counterfactual Accuracy = 66.67,  Blended Accuracy = 66.67,  RR Accuracy = 55.56  \n"
     ]
    },
    {
     "name": "stdout",
     "output_type": "stream",
     "text": [
      "Epoch 1: Loss = 1049.1410\n",
      "Recon Loss = 765.9597, KL Loss = 0.0000, Lagrangian Loss = 20.6219\n",
      "Early stopping triggered. Last Epoch: 22\n",
      "Recon Loss = 741.2787, KL Loss = 0.0930, Lagrangian Loss = 21.3788\n"
     ]
    },
    {
     "name": "stderr",
     "output_type": "stream",
     "text": [
      "2025-03-22 16:47:08,422 INFO -- Edge Accuracy = 100.00, Instantaneous Accuracy = 90.00, Lagged Accuracy = 90.00, Counterfactual Accuracy = 70.00,  Blended Accuracy = 70.00,  RR Accuracy = 50.00  \n"
     ]
    },
    {
     "name": "stdout",
     "output_type": "stream",
     "text": [
      "Epoch 1: Loss = 573.6832\n",
      "Recon Loss = 407.8586, KL Loss = 0.0000, Lagrangian Loss = 25.2436\n",
      "Epoch 51: Loss = 583.0240\n",
      "Recon Loss = 405.3879, KL Loss = 0.1661, Lagrangian Loss = 27.5275\n",
      "Early stopping triggered. Last Epoch: 82\n",
      "Recon Loss = 399.3560, KL Loss = 0.1965, Lagrangian Loss = 30.7770\n"
     ]
    },
    {
     "name": "stderr",
     "output_type": "stream",
     "text": [
      "2025-03-22 16:49:49,921 INFO -- Edge Accuracy = 100.00, Instantaneous Accuracy = 90.91, Lagged Accuracy = 90.91, Counterfactual Accuracy = 63.64,  Blended Accuracy = 63.64,  RR Accuracy = 45.45  \n"
     ]
    },
    {
     "name": "stdout",
     "output_type": "stream",
     "text": [
      "Epoch 1: Loss = 587.6361\n",
      "Recon Loss = 422.6593, KL Loss = 0.0000, Lagrangian Loss = 31.8225\n",
      "Early stopping triggered. Last Epoch: 20\n",
      "Recon Loss = 424.8174, KL Loss = 0.0973, Lagrangian Loss = 32.2058\n"
     ]
    },
    {
     "name": "stderr",
     "output_type": "stream",
     "text": [
      "2025-03-22 16:50:31,797 INFO -- Edge Accuracy = 100.00, Instantaneous Accuracy = 91.67, Lagged Accuracy = 91.67, Counterfactual Accuracy = 66.67,  Blended Accuracy = 58.33,  RR Accuracy = 41.67  \n"
     ]
    },
    {
     "name": "stdout",
     "output_type": "stream",
     "text": [
      "Epoch 1: Loss = 679.5358\n",
      "Recon Loss = 397.3602, KL Loss = 0.0000, Lagrangian Loss = 103.3333\n",
      "Early stopping triggered. Last Epoch: 22\n",
      "Recon Loss = 456.2094, KL Loss = 0.0645, Lagrangian Loss = 104.9088\n"
     ]
    },
    {
     "name": "stderr",
     "output_type": "stream",
     "text": [
      "2025-03-22 16:51:18,053 INFO -- Edge Accuracy = 100.00, Instantaneous Accuracy = 92.31, Lagged Accuracy = 92.31, Counterfactual Accuracy = 61.54,  Blended Accuracy = 53.85,  RR Accuracy = 38.46  \n"
     ]
    },
    {
     "name": "stdout",
     "output_type": "stream",
     "text": [
      "Epoch 1: Loss = 589.8843\n",
      "Recon Loss = 406.3965, KL Loss = 0.0000, Lagrangian Loss = 33.2697\n",
      "Early stopping triggered. Last Epoch: 20\n",
      "Recon Loss = 417.1425, KL Loss = 0.0843, Lagrangian Loss = 33.6036\n"
     ]
    },
    {
     "name": "stderr",
     "output_type": "stream",
     "text": [
      "2025-03-22 16:52:01,003 INFO -- Edge Accuracy = 100.00, Instantaneous Accuracy = 92.86, Lagged Accuracy = 92.86, Counterfactual Accuracy = 57.14,  Blended Accuracy = 50.00,  RR Accuracy = 35.71  \n"
     ]
    },
    {
     "name": "stdout",
     "output_type": "stream",
     "text": [
      "Epoch 1: Loss = 529.0569\n",
      "Recon Loss = 370.4222, KL Loss = 0.0000, Lagrangian Loss = 23.6217\n",
      "Early stopping triggered. Last Epoch: 27\n",
      "Recon Loss = 382.0362, KL Loss = 0.0853, Lagrangian Loss = 24.5645\n"
     ]
    },
    {
     "name": "stderr",
     "output_type": "stream",
     "text": [
      "2025-03-22 16:52:57,901 INFO -- Edge Accuracy = 100.00, Instantaneous Accuracy = 93.33, Lagged Accuracy = 93.33, Counterfactual Accuracy = 60.00,  Blended Accuracy = 53.33,  RR Accuracy = 33.33  \n"
     ]
    },
    {
     "name": "stdout",
     "output_type": "stream",
     "text": [
      "Epoch 1: Loss = 553.6435\n",
      "Recon Loss = 370.1905, KL Loss = 0.0000, Lagrangian Loss = 79.0300\n",
      "Early stopping triggered. Last Epoch: 20\n",
      "Recon Loss = 383.1198, KL Loss = 0.0680, Lagrangian Loss = 81.4537\n"
     ]
    },
    {
     "name": "stderr",
     "output_type": "stream",
     "text": [
      "2025-03-22 16:53:41,777 INFO -- Edge Accuracy = 100.00, Instantaneous Accuracy = 93.75, Lagged Accuracy = 93.75, Counterfactual Accuracy = 56.25,  Blended Accuracy = 50.00,  RR Accuracy = 31.25  \n"
     ]
    },
    {
     "name": "stdout",
     "output_type": "stream",
     "text": [
      "Epoch 1: Loss = 681.7816\n",
      "Recon Loss = 497.0470, KL Loss = 0.0000, Lagrangian Loss = 36.3681\n",
      "Early stopping triggered. Last Epoch: 32\n",
      "Recon Loss = 492.8382, KL Loss = 0.1192, Lagrangian Loss = 37.3882\n"
     ]
    },
    {
     "name": "stderr",
     "output_type": "stream",
     "text": [
      "2025-03-22 16:54:48,327 INFO -- Edge Accuracy = 100.00, Instantaneous Accuracy = 88.24, Lagged Accuracy = 94.12, Counterfactual Accuracy = 52.94,  Blended Accuracy = 47.06,  RR Accuracy = 29.41  \n"
     ]
    },
    {
     "name": "stdout",
     "output_type": "stream",
     "text": [
      "Epoch 1: Loss = 791.5867\n",
      "Recon Loss = 543.3360, KL Loss = 0.0000, Lagrangian Loss = 39.2516\n",
      "Early stopping triggered. Last Epoch: 26\n",
      "Recon Loss = 598.1216, KL Loss = 0.1846, Lagrangian Loss = 39.7392\n"
     ]
    },
    {
     "name": "stderr",
     "output_type": "stream",
     "text": [
      "2025-03-22 16:55:45,020 INFO -- Edge Accuracy = 100.00, Instantaneous Accuracy = 88.89, Lagged Accuracy = 94.44, Counterfactual Accuracy = 55.56,  Blended Accuracy = 50.00,  RR Accuracy = 33.33  \n"
     ]
    },
    {
     "name": "stdout",
     "output_type": "stream",
     "text": [
      "Epoch 1: Loss = 499.4580\n",
      "Recon Loss = 372.4015, KL Loss = 0.0000, Lagrangian Loss = 42.0035\n",
      "Early stopping triggered. Last Epoch: 45\n",
      "Recon Loss = 314.5855, KL Loss = 0.2085, Lagrangian Loss = 43.2723\n"
     ]
    },
    {
     "name": "stderr",
     "output_type": "stream",
     "text": [
      "2025-03-22 16:57:20,181 INFO -- Edge Accuracy = 100.00, Instantaneous Accuracy = 89.47, Lagged Accuracy = 94.74, Counterfactual Accuracy = 52.63,  Blended Accuracy = 47.37,  RR Accuracy = 31.58  \n"
     ]
    },
    {
     "name": "stdout",
     "output_type": "stream",
     "text": [
      "Epoch 1: Loss = 498.8826\n",
      "Recon Loss = 351.6253, KL Loss = 0.0000, Lagrangian Loss = 31.0221\n",
      "Early stopping triggered. Last Epoch: 39\n",
      "Recon Loss = 342.8387, KL Loss = 0.1672, Lagrangian Loss = 31.9012\n"
     ]
    },
    {
     "name": "stderr",
     "output_type": "stream",
     "text": [
      "2025-03-22 16:58:41,141 INFO -- Edge Accuracy = 100.00, Instantaneous Accuracy = 85.00, Lagged Accuracy = 95.00, Counterfactual Accuracy = 50.00,  Blended Accuracy = 45.00,  RR Accuracy = 30.00  \n"
     ]
    },
    {
     "name": "stdout",
     "output_type": "stream",
     "text": [
      "Epoch 1: Loss = 459.5073\n",
      "Recon Loss = 350.5710, KL Loss = 0.0000, Lagrangian Loss = 21.2897\n",
      "Epoch 51: Loss = 470.5901\n",
      "Recon Loss = 355.3801, KL Loss = 0.2318, Lagrangian Loss = 23.0525\n",
      "Early stopping triggered. Last Epoch: 60\n",
      "Recon Loss = 321.0362, KL Loss = 0.3052, Lagrangian Loss = 23.8336\n"
     ]
    },
    {
     "name": "stderr",
     "output_type": "stream",
     "text": [
      "2025-03-22 17:00:43,241 INFO -- Edge Accuracy = 100.00, Instantaneous Accuracy = 85.71, Lagged Accuracy = 95.24, Counterfactual Accuracy = 52.38,  Blended Accuracy = 47.62,  RR Accuracy = 33.33  \n"
     ]
    },
    {
     "name": "stdout",
     "output_type": "stream",
     "text": [
      "Epoch 1: Loss = 478.9270\n",
      "Recon Loss = 408.3813, KL Loss = 0.0000, Lagrangian Loss = 24.0013\n",
      "Early stopping triggered. Last Epoch: 33\n",
      "Recon Loss = 344.4483, KL Loss = 0.1290, Lagrangian Loss = 24.6741\n"
     ]
    },
    {
     "name": "stderr",
     "output_type": "stream",
     "text": [
      "2025-03-22 17:01:51,528 INFO -- Edge Accuracy = 100.00, Instantaneous Accuracy = 86.36, Lagged Accuracy = 95.45, Counterfactual Accuracy = 54.55,  Blended Accuracy = 50.00,  RR Accuracy = 31.82  \n"
     ]
    },
    {
     "name": "stdout",
     "output_type": "stream",
     "text": [
      "Epoch 1: Loss = 449.7954\n",
      "Recon Loss = 299.8553, KL Loss = 0.0000, Lagrangian Loss = 24.0061\n",
      "Early stopping triggered. Last Epoch: 39\n",
      "Recon Loss = 313.6947, KL Loss = 0.1607, Lagrangian Loss = 25.3012\n"
     ]
    },
    {
     "name": "stderr",
     "output_type": "stream",
     "text": [
      "2025-03-22 17:03:09,600 INFO -- Edge Accuracy = 100.00, Instantaneous Accuracy = 86.96, Lagged Accuracy = 95.65, Counterfactual Accuracy = 52.17,  Blended Accuracy = 47.83,  RR Accuracy = 30.43  \n"
     ]
    },
    {
     "name": "stdout",
     "output_type": "stream",
     "text": [
      "Epoch 1: Loss = 646.8258\n",
      "Recon Loss = 447.1296, KL Loss = 0.0000, Lagrangian Loss = 37.2392\n",
      "Early stopping triggered. Last Epoch: 34\n",
      "Recon Loss = 427.7805, KL Loss = 0.2186, Lagrangian Loss = 38.8989\n"
     ]
    },
    {
     "name": "stderr",
     "output_type": "stream",
     "text": [
      "2025-03-22 17:04:22,682 INFO -- Edge Accuracy = 100.00, Instantaneous Accuracy = 83.33, Lagged Accuracy = 95.83, Counterfactual Accuracy = 54.17,  Blended Accuracy = 50.00,  RR Accuracy = 29.17  \n"
     ]
    },
    {
     "name": "stdout",
     "output_type": "stream",
     "text": [
      "Epoch 1: Loss = 571.6282\n",
      "Recon Loss = 402.6835, KL Loss = 0.0000, Lagrangian Loss = 16.2484\n",
      "Early stopping triggered. Last Epoch: 37\n",
      "Recon Loss = 388.5788, KL Loss = 0.2557, Lagrangian Loss = 17.0664\n"
     ]
    },
    {
     "name": "stderr",
     "output_type": "stream",
     "text": [
      "2025-03-22 17:05:41,301 INFO -- Edge Accuracy = 100.00, Instantaneous Accuracy = 84.00, Lagged Accuracy = 96.00, Counterfactual Accuracy = 56.00,  Blended Accuracy = 52.00,  RR Accuracy = 28.00  \n"
     ]
    },
    {
     "name": "stdout",
     "output_type": "stream",
     "text": [
      "Epoch 1: Loss = 649.7001\n",
      "Recon Loss = 428.9756, KL Loss = 0.0000, Lagrangian Loss = 60.1817\n",
      "Early stopping triggered. Last Epoch: 23\n",
      "Recon Loss = 469.0947, KL Loss = 0.0702, Lagrangian Loss = 61.1114\n"
     ]
    },
    {
     "name": "stderr",
     "output_type": "stream",
     "text": [
      "2025-03-22 17:06:31,351 INFO -- Edge Accuracy = 100.00, Instantaneous Accuracy = 84.62, Lagged Accuracy = 96.15, Counterfactual Accuracy = 57.69,  Blended Accuracy = 53.85,  RR Accuracy = 30.77  \n"
     ]
    },
    {
     "name": "stdout",
     "output_type": "stream",
     "text": [
      "Epoch 1: Loss = 549.6066\n",
      "Recon Loss = 456.1172, KL Loss = 0.0000, Lagrangian Loss = 12.9810\n",
      "Early stopping triggered. Last Epoch: 33\n",
      "Recon Loss = 361.5042, KL Loss = 0.0717, Lagrangian Loss = 13.4850\n"
     ]
    },
    {
     "name": "stderr",
     "output_type": "stream",
     "text": [
      "2025-03-22 17:07:40,583 INFO -- Edge Accuracy = 100.00, Instantaneous Accuracy = 85.19, Lagged Accuracy = 96.30, Counterfactual Accuracy = 55.56,  Blended Accuracy = 51.85,  RR Accuracy = 29.63  \n"
     ]
    },
    {
     "name": "stdout",
     "output_type": "stream",
     "text": [
      "Epoch 1: Loss = 759.9738\n",
      "Recon Loss = 531.2411, KL Loss = 0.0000, Lagrangian Loss = 45.2156\n",
      "Early stopping triggered. Last Epoch: 20\n",
      "Recon Loss = 550.5731, KL Loss = 0.0879, Lagrangian Loss = 45.6416\n"
     ]
    },
    {
     "name": "stderr",
     "output_type": "stream",
     "text": [
      "2025-03-22 17:08:25,255 INFO -- Edge Accuracy = 100.00, Instantaneous Accuracy = 85.71, Lagged Accuracy = 96.43, Counterfactual Accuracy = 53.57,  Blended Accuracy = 50.00,  RR Accuracy = 28.57  \n"
     ]
    },
    {
     "name": "stdout",
     "output_type": "stream",
     "text": [
      "Epoch 1: Loss = 575.9056\n",
      "Recon Loss = 374.2674, KL Loss = 0.0000, Lagrangian Loss = 64.7868\n",
      "Early stopping triggered. Last Epoch: 29\n",
      "Recon Loss = 379.9786, KL Loss = 0.1168, Lagrangian Loss = 66.3319\n"
     ]
    },
    {
     "name": "stderr",
     "output_type": "stream",
     "text": [
      "2025-03-22 17:09:26,609 INFO -- Edge Accuracy = 100.00, Instantaneous Accuracy = 86.21, Lagged Accuracy = 96.55, Counterfactual Accuracy = 55.17,  Blended Accuracy = 51.72,  RR Accuracy = 31.03  \n"
     ]
    },
    {
     "name": "stdout",
     "output_type": "stream",
     "text": [
      "Epoch 1: Loss = 659.8300\n",
      "Recon Loss = 472.3612, KL Loss = 0.0000, Lagrangian Loss = 38.3919\n",
      "Early stopping triggered. Last Epoch: 35\n",
      "Recon Loss = 438.0121, KL Loss = 0.1183, Lagrangian Loss = 39.8292\n"
     ]
    },
    {
     "name": "stderr",
     "output_type": "stream",
     "text": [
      "2025-03-22 17:10:35,672 INFO -- Edge Accuracy = 100.00, Instantaneous Accuracy = 86.67, Lagged Accuracy = 96.67, Counterfactual Accuracy = 56.67,  Blended Accuracy = 53.33,  RR Accuracy = 33.33  \n"
     ]
    }
   ],
   "source": [
    "TIME_STEPS = 7\n",
    "BATCH_SIZE = 25\n",
    "hidden_dim = 64\n",
    "latent_dim = 8\n",
    "edge_correct = 0\n",
    "instantaneous_correct = 0\n",
    "lagged_correct = 0\n",
    "counterfactual_correct = 0 \n",
    "rr_correct = 0\n",
    "total_correct = 0\n",
    "total_checked = 0\n",
    "for i in range(30):\n",
    "    total_checked+=1\n",
    "\n",
    "    dataset_bad = TimeSeriesDataset(bad, device=device, time_steps=TIME_STEPS)\n",
    "    dataloader_bad = DataLoader(dataset_bad, batch_size=BATCH_SIZE, shuffle=True)\n",
    "    \n",
    "    # Initialize model and optimizer\n",
    "    fine_tuned = CausalGraphVAE(input_dim=bad.shape[1], hidden_dim=hidden_dim,\n",
    "                            latent_dim=latent_dim, num_nodes=bad.shape[1],device=device,\n",
    "                            time_steps=TIME_STEPS, prior_adj=prior_adj,instantaneous_weight=0.1).to(device)\n",
    "    optimizer = torch.optim.AdamW(model.parameters(), lr=0.001, weight_decay=1e-4)\n",
    "    \n",
    "    # Train on nominal data\n",
    "    # print(\"Pretraining on nominal data...\")\n",
    "    fine_tuned.train_model(dataloader_bad, optimizer, num_epochs=200, patience=20,\n",
    "                           BATCH_SIZE=BATCH_SIZE,rho_max=4,alpha_max=2)\n",
    "    \n",
    "    X_data = torch.empty(0,device=device)\n",
    "    T_data = torch.empty(0,device=device)\n",
    "    for batch_idx, (X_batch, time_batch) in enumerate(dataloader_bad):\n",
    "        X_data = torch.cat((X_data[:batch_idx], X_batch, X_data[batch_idx:]))\n",
    "        T_data = torch.cat((T_data[:batch_idx], time_batch, T_data[batch_idx:]))\n",
    "    \n",
    "    causes= fine_tuned.infer_causal_effect(X_data,T_data,'x_4',cols,non_causal_indices=[])\n",
    "    \n",
    "    edge_cause_1 = causes.sort_values(by='causes',ascending=False)[0:3].index[0]\n",
    "    edge_cause_2 = causes.sort_values(by='causes',ascending=False)[0:3].index[1]\n",
    "    edge_cause_3 = causes.sort_values(by='causes',ascending=False)[0:3].index[2]\n",
    "    \n",
    "    instant_cause_1 = causes.sort_values(by='instantaneous',ascending=False)[0:3].index[0]\n",
    "    instant_cause_2 = causes.sort_values(by='instantaneous',ascending=False)[0:3].index[1]\n",
    "    instant_cause_3 = causes.sort_values(by='instantaneous',ascending=False)[0:3].index[2]\n",
    "    \n",
    "    lag_cause_1 = causes.sort_values(by='lagged',ascending=False)[0:3].index[0]\n",
    "    lag_cause_2 = causes.sort_values(by='lagged',ascending=False)[0:3].index[1]\n",
    "    lag_cause_3 = causes.sort_values(by='lagged',ascending=False)[0:3].index[2]\n",
    "    \n",
    "    counterfactual_cause_1 = causes.sort_values(by='counterfactuals',ascending=False)[0:3].index[0]\n",
    "    counterfactual_cause_2 = causes.sort_values(by='counterfactuals',ascending=False)[0:3].index[1]\n",
    "    counterfactual_cause_3 = causes.sort_values(by='counterfactuals',ascending=False)[0:3].index[2]\n",
    "    \n",
    "    rr_cause_1 = causes.sort_values(by='RootRank',ascending=False)[0:3].index[0]\n",
    "    rr_cause_2 = causes.sort_values(by='RootRank',ascending=False)[0:3].index[1]\n",
    "    rr_cause_3 = causes.sort_values(by='RootRank',ascending=False)[0:3].index[2]\n",
    "    \n",
    "    total_score_cause_1=causes.sort_values(by='causal_strength',ascending=False)[0:3].index[0]\n",
    "    total_score_cause_2=causes.sort_values(by='causal_strength',ascending=False)[0:3].index[1]\n",
    "    total_score_cause_3=causes.sort_values(by='causal_strength',ascending=False)[0:3].index[2]\n",
    "    \n",
    "    if (edge_cause_1 in ['x_1','x_44']) | (edge_cause_2 in ['x_1','x_44']) | (edge_cause_3 in ['x_1','x_44']):\n",
    "        edge_correct+=1\n",
    "    \n",
    "    if (  total_score_cause_1 in ['x_1','x_44']) | (total_score_cause_2 in ['x_1','x_44']) | ( total_score_cause_3 in ['x_1','x_44']):\n",
    "        total_correct+=1\n",
    "    \n",
    "    if (counterfactual_cause_1 in ['x_1','x_44']) | (counterfactual_cause_2 in ['x_1','x_44']) | (counterfactual_cause_3 in ['x_1','x_44']):\n",
    "        counterfactual_correct+=1\n",
    "    \n",
    "    if (instant_cause_1 in ['x_1','x_44']) | (instant_cause_2 in ['x_1','x_44']) |( instant_cause_3 in ['x_1','x_44'] ):\n",
    "        instantaneous_correct+=1\n",
    "    \n",
    "    if (lag_cause_1 in ['x_1','x_44']) | (lag_cause_2 in ['x_1','x_44'])  | (lag_cause_3 in ['x_1','x_44']):\n",
    "        lagged_correct+=1\n",
    "    \n",
    "    if (rr_cause_1 in ['x_1','x_44']) | (rr_cause_2 in ['x_1','x_44']) | (rr_cause_3 in ['x_1','x_44']):\n",
    "        rr_correct+=1\n",
    "        \n",
    "    total_accuracy = total_correct/total_checked* 100\n",
    "    edge_accuracy = edge_correct/total_checked* 100\n",
    "    cf_accuracy = counterfactual_correct/total_checked* 100\n",
    "    instant_accuracy = instantaneous_correct/total_checked* 100\n",
    "    lag_accuracy = lagged_correct/total_checked* 100\n",
    "    rr_accuracy = rr_correct/total_checked* 100\n",
    "    \n",
    "    \n",
    "    logger.info(f\"Edge Accuracy = {edge_accuracy:.2f}, Instantaneous Accuracy = {instant_accuracy:.2f}, Lagged Accuracy = {lag_accuracy:.2f}, Counterfactual Accuracy = {cf_accuracy:.2f},  Blended Accuracy = {total_accuracy:.2f},  RR Accuracy = {rr_accuracy:.2f}  \") \n",
    "    \n"
   ]
  },
  {
   "cell_type": "code",
   "execution_count": null,
   "id": "516d6947-e922-4fa1-8882-3b79fb409978",
   "metadata": {},
   "outputs": [],
   "source": []
  },
  {
   "cell_type": "code",
   "execution_count": null,
   "id": "d6df2f38-5a3b-4fc7-a968-877416d2567f",
   "metadata": {},
   "outputs": [],
   "source": []
  }
 ],
 "metadata": {
  "kernelspec": {
   "display_name": "Python 3 (ipykernel)",
   "language": "python",
   "name": "python3"
  },
  "language_info": {
   "codemirror_mode": {
    "name": "ipython",
    "version": 3
   },
   "file_extension": ".py",
   "mimetype": "text/x-python",
   "name": "python",
   "nbconvert_exporter": "python",
   "pygments_lexer": "ipython3",
   "version": "3.12.7"
  },
  "widgets": {
   "application/vnd.jupyter.widget-state+json": {
    "state": {},
    "version_major": 2,
    "version_minor": 0
   }
  }
 },
 "nbformat": 4,
 "nbformat_minor": 5
}
