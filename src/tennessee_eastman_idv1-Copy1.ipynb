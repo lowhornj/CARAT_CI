{
 "cells": [
  {
   "cell_type": "code",
   "execution_count": 1,
   "id": "3559a8bd-d3ef-4fc1-9d11-9adbc07d2d50",
   "metadata": {},
   "outputs": [],
   "source": [
    "import os\n",
    "import torch\n",
    "import torch.nn as nn\n",
    "import torch.nn.functional as F\n",
    "import torch.backends.cudnn\n",
    "import polars as pl\n",
    "import pandas as pd\n",
    "import numpy as np\n",
    "import seaborn as sns\n",
    "import warnings\n",
    "from utils.utils import set_seed\n",
    "set_seed()\n",
    "\n",
    "\n",
    "from datetime import datetime, timedelta\n",
    "from torch_geometric.nn import GATv2Conv, GATConv\n",
    "from torch_geometric.utils import dense_to_sparse\n",
    "from torch.distributions import Normal, Laplace, RelaxedOneHotCategorical\n",
    "from torchdiffeq import odeint  # For continuous-time normalizing flows\n",
    "\n",
    "from feature.scalers import ranged_scaler\n",
    "from feature.engineering import *\n",
    "from CARAT.model_utils import *\n",
    "from CARAT.model import CausalGraphVAE\n",
    "from CARAT.components import *\n",
    "from utils.utils import set_seed, logger\n",
    "\n",
    "# Torch settings\n",
    "#torch.use_deterministic_algorithms(False)\n",
    "#torch.backends.cudnn.benchmark = False\n",
    "#torch.autograd.profiler.profile(enabled=False)\n",
    "#torch.autograd.profiler.emit_nvtx(enabled=False)\n",
    "#torch.autograd.set_detect_anomaly(mode=False)\n",
    "\n",
    "# Environment variables\n",
    "os.environ['CUBLAS_WORKSPACE_CONFIG'] = ':16:8'\n",
    "os.environ['CUDA_LAUNCH_BLOCKING'] = '1'\n",
    "os.environ['TORCH_USE_CUDA_DSA'] = \"1\"\n",
    "\n",
    "# Set device\n",
    "#device = torch.device(\"cuda:0\" if torch.cuda.is_available() else \"cpu\")\n",
    "device = torch.device(\"cpu\")\n",
    "# Suppress warnings\n",
    "warnings.filterwarnings('ignore')\n",
    "\n",
    "# Load data\n",
    "data = []\n",
    "with open('data/TEP/idv1/y.dat', 'r') as file:\n",
    "    for line in file:\n",
    "        columns = line.strip().split(\"\\t\")\n",
    "        data.append([float(col.strip()) for col in columns])\n"
   ]
  },
  {
   "cell_type": "code",
   "execution_count": 2,
   "id": "2bcf9903-62ed-4eec-9a22-28d013172a34",
   "metadata": {},
   "outputs": [],
   "source": [
    "vars = len(data[0])\n",
    "col_names = []\n",
    "for i in  range(0,vars):\n",
    "    col_names.append('x_'+str(i+1))\n",
    "    "
   ]
  },
  {
   "cell_type": "code",
   "execution_count": 3,
   "id": "4186cd19-2804-4acc-9e80-651792a44849",
   "metadata": {},
   "outputs": [],
   "source": [
    "import polars as pl\n",
    "from feature.scalers import ranged_scaler\n",
    "df = pl.DataFrame(data,schema=col_names)\n",
    "for col in df.columns:\n",
    "    df = df.with_columns(ranged_scaler(df[col]))"
   ]
  },
  {
   "cell_type": "code",
   "execution_count": 4,
   "id": "8cb09efe-a50e-4f3f-b8d7-33e501d19436",
   "metadata": {},
   "outputs": [
    {
     "name": "stdout",
     "output_type": "stream",
     "text": [
      "Column: x_1 | Final ADF: -5.4811 | p-value: 0.0000 | Diffs: 1\n",
      "Column: x_2 | Final ADF: -3.6982 | p-value: 0.0003 | Diffs: 0\n",
      "Column: x_3 | Final ADF: -3.6538 | p-value: 0.0003 | Diffs: 0\n",
      "Column: x_4 | Final ADF: -3.3276 | p-value: 0.0010 | Diffs: 0\n",
      "Column: x_5 | Final ADF: -28.9652 | p-value: 0.0000 | Diffs: 1\n",
      "Column: x_6 | Final ADF: -27.3830 | p-value: 0.0000 | Diffs: 1\n",
      "Column: x_7 | Final ADF: -5.1194 | p-value: 0.0000 | Diffs: 1\n",
      "Column: x_8 | Final ADF: -30.8786 | p-value: 0.0000 | Diffs: 1\n",
      "Column: x_9 | Final ADF: -3.0565 | p-value: 0.0024 | Diffs: 0\n",
      "Column: x_10 | Final ADF: -5.8785 | p-value: 0.0000 | Diffs: 1\n",
      "Column: x_11 | Final ADF: -5.5060 | p-value: 0.0000 | Diffs: 1\n",
      "Column: x_12 | Final ADF: -27.0496 | p-value: 0.0000 | Diffs: 1\n",
      "Column: x_13 | Final ADF: -5.5245 | p-value: 0.0000 | Diffs: 1\n",
      "Column: x_14 | Final ADF: -29.4428 | p-value: 0.0000 | Diffs: 1\n",
      "Column: x_15 | Final ADF: -23.7157 | p-value: 0.0000 | Diffs: 1\n",
      "Column: x_16 | Final ADF: -5.1058 | p-value: 0.0000 | Diffs: 1\n",
      "Column: x_17 | Final ADF: -30.4505 | p-value: 0.0000 | Diffs: 1\n",
      "Column: x_18 | Final ADF: -4.5867 | p-value: 0.0000 | Diffs: 1\n",
      "Column: x_19 | Final ADF: -24.7012 | p-value: 0.0000 | Diffs: 1\n",
      "Column: x_20 | Final ADF: -7.6420 | p-value: 0.0000 | Diffs: 1\n",
      "Column: x_21 | Final ADF: -9.3515 | p-value: 0.0000 | Diffs: 1\n",
      "Column: x_22 | Final ADF: -7.0943 | p-value: 0.0000 | Diffs: 1\n",
      "Column: x_23 | Final ADF: -24.8033 | p-value: 0.0000 | Diffs: 1\n",
      "Column: x_24 | Final ADF: -24.7994 | p-value: 0.0000 | Diffs: 1\n",
      "Column: x_25 | Final ADF: -27.1527 | p-value: 0.0000 | Diffs: 1\n",
      "Column: x_26 | Final ADF: -3.2823 | p-value: 0.0012 | Diffs: 0\n",
      "Column: x_27 | Final ADF: -30.0469 | p-value: 0.0000 | Diffs: 1\n",
      "Column: x_28 | Final ADF: -27.5087 | p-value: 0.0000 | Diffs: 1\n",
      "Column: x_29 | Final ADF: -22.6222 | p-value: 0.0000 | Diffs: 1\n",
      "Column: x_30 | Final ADF: -20.6208 | p-value: 0.0000 | Diffs: 1\n",
      "Column: x_31 | Final ADF: -21.2602 | p-value: 0.0000 | Diffs: 1\n",
      "Column: x_32 | Final ADF: -4.1043 | p-value: 0.0001 | Diffs: 0\n",
      "Column: x_33 | Final ADF: -27.7522 | p-value: 0.0000 | Diffs: 1\n",
      "Column: x_34 | Final ADF: -24.9966 | p-value: 0.0000 | Diffs: 1\n",
      "Column: x_35 | Final ADF: -26.3901 | p-value: 0.0000 | Diffs: 1\n",
      "Column: x_36 | Final ADF: -30.5467 | p-value: 0.0000 | Diffs: 1\n",
      "Column: x_37 | Final ADF: -3.3945 | p-value: 0.0008 | Diffs: 0\n",
      "Column: x_38 | Final ADF: -17.4584 | p-value: 0.0000 | Diffs: 1\n",
      "Column: x_39 | Final ADF: -3.0542 | p-value: 0.0025 | Diffs: 0\n",
      "Column: x_40 | Final ADF: -20.1681 | p-value: 0.0000 | Diffs: 1\n",
      "Column: x_41 | Final ADF: -21.8081 | p-value: 0.0000 | Diffs: 1\n",
      "Column: x_42 | Final ADF: -15.5148 | p-value: 0.0000 | Diffs: 1\n",
      "Column: x_43 | Final ADF: -11.3392 | p-value: 0.0000 | Diffs: 1\n",
      "Column: x_44 | Final ADF: -8.3272 | p-value: 0.0000 | Diffs: 1\n",
      "Column: x_45 | Final ADF: -6.6655 | p-value: 0.0000 | Diffs: 1\n",
      "Column: x_46 | Final ADF: -4.5653 | p-value: 0.0000 | Diffs: 1\n",
      "Column: x_47 | Final ADF: -3.8511 | p-value: 0.0001 | Diffs: 1\n",
      "Column: x_48 | Final ADF: -6.2267 | p-value: 0.0000 | Diffs: 1\n",
      "Column: x_49 | Final ADF: -4.0029 | p-value: 0.0001 | Diffs: 1\n",
      "Column: x_50 | Final ADF: -5.5598 | p-value: 0.0000 | Diffs: 1\n",
      "Column: x_51 | Final ADF: -5.9882 | p-value: 0.0000 | Diffs: 1\n"
     ]
    }
   ],
   "source": [
    "df = make_stationary(df)"
   ]
  },
  {
   "cell_type": "code",
   "execution_count": 5,
   "id": "d5f176e5-8328-47d3-898c-620aec152f45",
   "metadata": {},
   "outputs": [],
   "source": [
    "df=df.to_pandas()"
   ]
  },
  {
   "cell_type": "code",
   "execution_count": 6,
   "id": "3d5211d2-8b0d-48f1-9863-9986f68f65b7",
   "metadata": {},
   "outputs": [],
   "source": [
    "#random dates, trivial for this exercise\n",
    "\n",
    "start_date = '2023-03-01'  # Define the start date\n",
    "date_range = pd.date_range(start=start_date, periods=df.shape[0])"
   ]
  },
  {
   "cell_type": "code",
   "execution_count": 7,
   "id": "6e78764d-6061-4347-a15b-42915ce98352",
   "metadata": {},
   "outputs": [],
   "source": [
    "n_lags = most_frequent(find_optimal_lags_for_dataframe(df))+1"
   ]
  },
  {
   "cell_type": "code",
   "execution_count": 8,
   "id": "c41f2494-6c22-46f8-921d-dc3dd99a8b9b",
   "metadata": {},
   "outputs": [],
   "source": [
    "df['time']=date_range"
   ]
  },
  {
   "cell_type": "code",
   "execution_count": 9,
   "id": "b131b6f5-0728-4a5f-a866-7b964d369d4c",
   "metadata": {},
   "outputs": [
    {
     "data": {
      "text/plain": [
       "<Axes: xlabel='None', ylabel='x_44'>"
      ]
     },
     "execution_count": 9,
     "metadata": {},
     "output_type": "execute_result"
    },
    {
     "data": {
      "image/png": "[encoded data removed]",
      "text/plain": [
       "<Figure size 640x480 with 1 Axes>"
      ]
     },
     "metadata": {},
     "output_type": "display_data"
    }
   ],
   "source": [
    "sns.lineplot(data=df,y='x_44',x=df.index)"
   ]
  },
  {
   "cell_type": "code",
   "execution_count": 10,
   "id": "7e39ac1b-36cc-429c-809f-01b016584bcb",
   "metadata": {},
   "outputs": [],
   "source": [
    "df = df[['x_1', 'x_4','x_7','x_13','x_16','x_18','x_19','x_44','x_50']]"
   ]
  },
  {
   "cell_type": "code",
   "execution_count": 11,
   "id": "1ba3bdf6-cc0e-4f60-bd0d-ef5be924498e",
   "metadata": {},
   "outputs": [],
   "source": [
    "normal = df[200:]\n",
    "bad = df[0:200]"
   ]
  },
  {
   "cell_type": "code",
   "execution_count": 12,
   "id": "6b1ffb3d-85b0-4e90-be11-2e218b5f69b2",
   "metadata": {},
   "outputs": [
    {
     "data": {
      "text/plain": [
       "Index(['x_1', 'x_4', 'x_7', 'x_13', 'x_16', 'x_18', 'x_19', 'x_44', 'x_50'], dtype='object')"
      ]
     },
     "execution_count": 12,
     "metadata": {},
     "output_type": "execute_result"
    }
   ],
   "source": [
    "df.columns"
   ]
  },
  {
   "cell_type": "code",
   "execution_count": 13,
   "id": "0d3dc758-21df-44c7-bc12-ceb0dc3e36da",
   "metadata": {},
   "outputs": [],
   "source": [
    "try:\n",
    "    df = df.drop('time',axis=1)\n",
    "except:\n",
    "    None\n",
    "\n",
    "try:\n",
    "    normal = normal.drop('time',axis=1)\n",
    "except:\n",
    "    None\n",
    "try:\n",
    "    bad = bad.drop('time',axis=1)\n",
    "except:\n",
    "    None"
   ]
  },
  {
   "cell_type": "code",
   "execution_count": 14,
   "id": "47a52bc7-6830-4a25-8c76-7d167da5d30f",
   "metadata": {},
   "outputs": [],
   "source": [
    "cols = df.columns.tolist()"
   ]
  },
  {
   "cell_type": "code",
   "execution_count": 15,
   "id": "edb92727-92ff-4c95-ab54-be1c0a279212",
   "metadata": {},
   "outputs": [
    {
     "data": {
      "text/plain": [
       "['x_1', 'x_4', 'x_7', 'x_13', 'x_16', 'x_18', 'x_19', 'x_44', 'x_50']"
      ]
     },
     "execution_count": 15,
     "metadata": {},
     "output_type": "execute_result"
    }
   ],
   "source": [
    "cols"
   ]
  },
  {
   "cell_type": "markdown",
   "id": "645900e2-8fb0-4eb4-895b-f1d6c4c63c58",
   "metadata": {},
   "source": [
    "# Pretraining"
   ]
  },
  {
   "cell_type": "code",
   "execution_count": 16,
   "id": "44039614-1138-4a1b-8aaa-3244219d7554",
   "metadata": {},
   "outputs": [],
   "source": [
    "import torch\n",
    "import random\n",
    "import numpy as np\n",
    "\n",
    "# Define the seed value\n",
    "seed = 42\n",
    "\n",
    "# Set seed for PyTorch\n",
    "torch.manual_seed(seed)\n",
    "\n",
    "# Set seed for CUDA (if using GPUs)\n",
    "torch.cuda.manual_seed(seed)\n",
    "torch.cuda.manual_seed_all(seed)  # For multi-GPU setups\n",
    "\n",
    "# Set seed for Python's random module\n",
    "random.seed(seed)\n",
    "\n",
    "# Set seed for NumPy\n",
    "np.random.seed(seed)\n",
    "\n",
    "# Ensure deterministic behavior for PyTorch operations\n",
    "torch.backends.cudnn.deterministic = True\n",
    "torch.backends.cudnn.benchmark = False"
   ]
  },
  {
   "cell_type": "code",
   "execution_count": 17,
   "id": "344bfeb6-d2fd-4476-adda-89829a6bc1af",
   "metadata": {},
   "outputs": [
    {
     "name": "stdout",
     "output_type": "stream",
     "text": [
      "Epoch 1: Loss = 231.3500\n",
      "Recon Loss = 341.0206, KL Loss = 0.2543, Lagrangian Loss = 2.6673\n",
      "Epoch 51: Loss = 38.6689\n",
      "Recon Loss = 56.0460, KL Loss = 0.7276, Lagrangian Loss = 1.8577\n",
      "Epoch 101: Loss = 26.1406\n",
      "Recon Loss = 34.7812, KL Loss = 0.9826, Lagrangian Loss = 1.7645\n",
      "Epoch 151: Loss = 19.7746\n",
      "Recon Loss = 25.4570, KL Loss = 1.1139, Lagrangian Loss = 2.0742\n",
      "Epoch 201: Loss = 15.9066\n",
      "Recon Loss = 19.8245, KL Loss = 1.1680, Lagrangian Loss = 2.0851\n",
      "Epoch 251: Loss = 12.9848\n",
      "Recon Loss = 16.4142, KL Loss = 1.1717, Lagrangian Loss = 1.6846\n",
      "Epoch 301: Loss = 11.5844\n",
      "Recon Loss = 14.6023, KL Loss = 1.1239, Lagrangian Loss = 1.7509\n",
      "Epoch 351: Loss = 10.3417\n",
      "Recon Loss = 12.0815, KL Loss = 1.0827, Lagrangian Loss = 2.6398\n",
      "Epoch 401: Loss = 9.5122\n",
      "Recon Loss = 11.0253, KL Loss = 1.0202, Lagrangian Loss = 2.0862\n",
      "Epoch 451: Loss = 8.2993\n",
      "Recon Loss = 9.4997, KL Loss = 0.9272, Lagrangian Loss = 1.9133\n",
      "Epoch 501: Loss = 7.7661\n",
      "Recon Loss = 8.0485, KL Loss = 0.9419, Lagrangian Loss = 2.4095\n",
      "Epoch 551: Loss = 6.9357\n",
      "Recon Loss = 7.1884, KL Loss = 0.8377, Lagrangian Loss = 2.1035\n",
      "Epoch 601: Loss = 6.7843\n",
      "Recon Loss = 6.6798, KL Loss = 0.7785, Lagrangian Loss = 3.0797\n",
      "Early stopping triggered. Last Epoch: 634\n",
      "Recon Loss = 5.8734, KL Loss = 0.7284, Lagrangian Loss = 2.4903\n"
     ]
    },
    {
     "data": {
      "text/html": [
       "<div>\n",
       "<style scoped>\n",
       "    .dataframe tbody tr th:only-of-type {\n",
       "        vertical-align: middle;\n",
       "    }\n",
       "\n",
       "    .dataframe tbody tr th {\n",
       "        vertical-align: top;\n",
       "    }\n",
       "\n",
       "    .dataframe thead th {\n",
       "        text-align: right;\n",
       "    }\n",
       "</style>\n",
       "<table border=\"1\" class=\"dataframe\">\n",
       "  <thead>\n",
       "    <tr style=\"text-align: right;\">\n",
       "      <th></th>\n",
       "      <th>x_1</th>\n",
       "      <th>x_4</th>\n",
       "      <th>x_7</th>\n",
       "      <th>x_13</th>\n",
       "      <th>x_16</th>\n",
       "      <th>x_18</th>\n",
       "      <th>x_19</th>\n",
       "      <th>x_44</th>\n",
       "      <th>x_50</th>\n",
       "    </tr>\n",
       "  </thead>\n",
       "  <tbody>\n",
       "    <tr>\n",
       "      <th>x_1</th>\n",
       "      <td>0.000000</td>\n",
       "      <td>0.601530</td>\n",
       "      <td>0.546305</td>\n",
       "      <td>0.595542</td>\n",
       "      <td>0.555469</td>\n",
       "      <td>0.564844</td>\n",
       "      <td>0.577276</td>\n",
       "      <td>0.596922</td>\n",
       "      <td>0.585735</td>\n",
       "    </tr>\n",
       "    <tr>\n",
       "      <th>x_4</th>\n",
       "      <td>0.576992</td>\n",
       "      <td>0.000000</td>\n",
       "      <td>0.566479</td>\n",
       "      <td>0.591449</td>\n",
       "      <td>0.565654</td>\n",
       "      <td>0.577996</td>\n",
       "      <td>0.587286</td>\n",
       "      <td>0.561955</td>\n",
       "      <td>0.565267</td>\n",
       "    </tr>\n",
       "    <tr>\n",
       "      <th>x_7</th>\n",
       "      <td>0.588629</td>\n",
       "      <td>0.582904</td>\n",
       "      <td>0.000000</td>\n",
       "      <td>0.590842</td>\n",
       "      <td>0.593104</td>\n",
       "      <td>0.576998</td>\n",
       "      <td>0.591593</td>\n",
       "      <td>0.562137</td>\n",
       "      <td>0.593356</td>\n",
       "    </tr>\n",
       "    <tr>\n",
       "      <th>x_13</th>\n",
       "      <td>0.578270</td>\n",
       "      <td>0.556717</td>\n",
       "      <td>0.581635</td>\n",
       "      <td>0.000000</td>\n",
       "      <td>0.548276</td>\n",
       "      <td>0.588425</td>\n",
       "      <td>0.575095</td>\n",
       "      <td>0.588976</td>\n",
       "      <td>0.592500</td>\n",
       "    </tr>\n",
       "    <tr>\n",
       "      <th>x_16</th>\n",
       "      <td>0.570990</td>\n",
       "      <td>0.581675</td>\n",
       "      <td>0.599689</td>\n",
       "      <td>0.584679</td>\n",
       "      <td>0.000000</td>\n",
       "      <td>0.570158</td>\n",
       "      <td>0.598075</td>\n",
       "      <td>0.597638</td>\n",
       "      <td>0.573802</td>\n",
       "    </tr>\n",
       "    <tr>\n",
       "      <th>x_18</th>\n",
       "      <td>0.593639</td>\n",
       "      <td>0.573121</td>\n",
       "      <td>0.565424</td>\n",
       "      <td>0.578415</td>\n",
       "      <td>0.592880</td>\n",
       "      <td>0.000000</td>\n",
       "      <td>0.606357</td>\n",
       "      <td>0.577913</td>\n",
       "      <td>0.565785</td>\n",
       "    </tr>\n",
       "    <tr>\n",
       "      <th>x_19</th>\n",
       "      <td>0.570038</td>\n",
       "      <td>0.564308</td>\n",
       "      <td>0.565326</td>\n",
       "      <td>0.577313</td>\n",
       "      <td>0.588701</td>\n",
       "      <td>0.569644</td>\n",
       "      <td>0.000000</td>\n",
       "      <td>0.579350</td>\n",
       "      <td>0.592874</td>\n",
       "    </tr>\n",
       "    <tr>\n",
       "      <th>x_44</th>\n",
       "      <td>0.611028</td>\n",
       "      <td>0.591174</td>\n",
       "      <td>0.576100</td>\n",
       "      <td>0.576284</td>\n",
       "      <td>0.569356</td>\n",
       "      <td>0.580335</td>\n",
       "      <td>0.571339</td>\n",
       "      <td>0.000000</td>\n",
       "      <td>0.579962</td>\n",
       "    </tr>\n",
       "    <tr>\n",
       "      <th>x_50</th>\n",
       "      <td>0.580839</td>\n",
       "      <td>0.570932</td>\n",
       "      <td>0.597627</td>\n",
       "      <td>0.570488</td>\n",
       "      <td>0.578604</td>\n",
       "      <td>0.584646</td>\n",
       "      <td>0.572250</td>\n",
       "      <td>0.582709</td>\n",
       "      <td>0.000000</td>\n",
       "    </tr>\n",
       "  </tbody>\n",
       "</table>\n",
       "</div>"
      ],
      "text/plain": [
       "           x_1       x_4       x_7      x_13      x_16      x_18      x_19  \\\n",
       "x_1   0.000000  0.601530  0.546305  0.595542  0.555469  0.564844  0.577276   \n",
       "x_4   0.576992  0.000000  0.566479  0.591449  0.565654  0.577996  0.587286   \n",
       "x_7   0.588629  0.582904  0.000000  0.590842  0.593104  0.576998  0.591593   \n",
       "x_13  0.578270  0.556717  0.581635  0.000000  0.548276  0.588425  0.575095   \n",
       "x_16  0.570990  0.581675  0.599689  0.584679  0.000000  0.570158  0.598075   \n",
       "x_18  0.593639  0.573121  0.565424  0.578415  0.592880  0.000000  0.606357   \n",
       "x_19  0.570038  0.564308  0.565326  0.577313  0.588701  0.569644  0.000000   \n",
       "x_44  0.611028  0.591174  0.576100  0.576284  0.569356  0.580335  0.571339   \n",
       "x_50  0.580839  0.570932  0.597627  0.570488  0.578604  0.584646  0.572250   \n",
       "\n",
       "          x_44      x_50  \n",
       "x_1   0.596922  0.585735  \n",
       "x_4   0.561955  0.565267  \n",
       "x_7   0.562137  0.593356  \n",
       "x_13  0.588976  0.592500  \n",
       "x_16  0.597638  0.573802  \n",
       "x_18  0.577913  0.565785  \n",
       "x_19  0.579350  0.592874  \n",
       "x_44  0.000000  0.579962  \n",
       "x_50  0.582709  0.000000  "
      ]
     },
     "execution_count": 17,
     "metadata": {},
     "output_type": "execute_result"
    }
   ],
   "source": [
    "TIME_STEPS = 5\n",
    "BATCH_SIZE = 25\n",
    "hidden_dim = 64\n",
    "latent_dim = 8\n",
    "dataset_nominal = TimeSeriesDataset(normal, device=device, time_steps=TIME_STEPS)\n",
    "dataloader_nominal = DataLoader(dataset_nominal, batch_size=BATCH_SIZE, shuffle=True)\n",
    "\n",
    "# Initialize model and optimizer\n",
    "model = CausalGraphVAE(input_dim=normal.shape[1], hidden_dim=hidden_dim,\n",
    "                        latent_dim=latent_dim, num_nodes=normal.shape[1],device=device,\n",
    "                        time_steps=TIME_STEPS, prior_adj=None,instantaneous_weight=0.3).to(device)\n",
    "optimizer = torch.optim.AdamW(model.parameters(), lr=0.0001, weight_decay=1e-3, amsgrad =True)\n",
    "\n",
    "# Train on nominal data\n",
    "#print(\"Pretraining on nominal data...\")\n",
    "model.train_model(dataloader_nominal, optimizer, num_epochs=1000, patience=30,BATCH_SIZE=BATCH_SIZE,rho_max=2,alpha_max=2)\n",
    "\n",
    "# Extract learned adjacency\n",
    "prior_adj = model.causal_graph.adj_mat.clone().detach()\n",
    "pd.DataFrame((prior_adj).cpu().detach().numpy(),index=cols,columns=cols)"
   ]
  },
  {
   "cell_type": "code",
   "execution_count": 23,
   "id": "5057eeb3-1ac1-4644-a2bd-9d6550a42207",
   "metadata": {},
   "outputs": [
    {
     "name": "stdout",
     "output_type": "stream",
     "text": [
      "Epoch 1: Loss = 328.8114\n",
      "Recon Loss = 246.2729, KL Loss = 0.3238, Lagrangian Loss = 56.1226\n",
      "Early stopping triggered. Last Epoch: 39\n",
      "Recon Loss = 217.2266, KL Loss = 0.2981, Lagrangian Loss = 42.3249\n"
     ]
    },
    {
     "name": "stderr",
     "output_type": "stream",
     "text": [
      "2025-03-22 00:53:57,440 INFO -- Edge Accuracy = 100.00, Instantaneous Accuracy = 100.00, Lagged Accuracy = 0.00, Counterfactual Accuracy = 0.00,  Blended Accuracy = 100.00,  RR Accuracy = 0.00  \n"
     ]
    },
    {
     "name": "stdout",
     "output_type": "stream",
     "text": [
      "Epoch 1: Loss = 342.6387\n",
      "Recon Loss = 244.5517, KL Loss = 0.3368, Lagrangian Loss = 32.8145\n",
      "Epoch 51: Loss = 325.2398\n",
      "Recon Loss = 221.5304, KL Loss = 0.3699, Lagrangian Loss = 37.0640\n",
      "Early stopping triggered. Last Epoch: 59\n",
      "Recon Loss = 242.6814, KL Loss = 0.3437, Lagrangian Loss = 35.7722\n"
     ]
    },
    {
     "name": "stderr",
     "output_type": "stream",
     "text": [
      "2025-03-22 00:54:11,348 INFO -- Edge Accuracy = 100.00, Instantaneous Accuracy = 100.00, Lagged Accuracy = 50.00, Counterfactual Accuracy = 50.00,  Blended Accuracy = 100.00,  RR Accuracy = 50.00  \n"
     ]
    },
    {
     "name": "stdout",
     "output_type": "stream",
     "text": [
      "Epoch 1: Loss = 372.4084\n",
      "Recon Loss = 268.8959, KL Loss = 0.2236, Lagrangian Loss = 46.3819\n",
      "Epoch 51: Loss = 374.4907\n",
      "Recon Loss = 254.7566, KL Loss = 0.2299, Lagrangian Loss = 39.3062\n",
      "Early stopping triggered. Last Epoch: 57\n",
      "Recon Loss = 271.0829, KL Loss = 0.2193, Lagrangian Loss = 37.0361\n"
     ]
    },
    {
     "name": "stderr",
     "output_type": "stream",
     "text": [
      "2025-03-22 00:54:24,907 INFO -- Edge Accuracy = 100.00, Instantaneous Accuracy = 100.00, Lagged Accuracy = 66.67, Counterfactual Accuracy = 66.67,  Blended Accuracy = 100.00,  RR Accuracy = 33.33  \n"
     ]
    },
    {
     "name": "stdout",
     "output_type": "stream",
     "text": [
      "Epoch 1: Loss = 433.9393\n",
      "Recon Loss = 357.9979, KL Loss = 0.4176, Lagrangian Loss = 37.0299\n",
      "Epoch 51: Loss = 432.8658\n",
      "Recon Loss = 306.7006, KL Loss = 0.4106, Lagrangian Loss = 33.1286\n",
      "Early stopping triggered. Last Epoch: 67\n",
      "Recon Loss = 321.3769, KL Loss = 0.4338, Lagrangian Loss = 34.2619\n"
     ]
    },
    {
     "name": "stderr",
     "output_type": "stream",
     "text": [
      "2025-03-22 00:54:40,888 INFO -- Edge Accuracy = 100.00, Instantaneous Accuracy = 100.00, Lagged Accuracy = 75.00, Counterfactual Accuracy = 75.00,  Blended Accuracy = 100.00,  RR Accuracy = 50.00  \n"
     ]
    },
    {
     "name": "stdout",
     "output_type": "stream",
     "text": [
      "Epoch 1: Loss = 426.8073\n",
      "Recon Loss = 326.3881, KL Loss = 0.3434, Lagrangian Loss = 61.8726\n",
      "Epoch 51: Loss = 423.6243\n",
      "Recon Loss = 347.9550, KL Loss = 0.3563, Lagrangian Loss = 52.9638\n",
      "Early stopping triggered. Last Epoch: 63\n",
      "Recon Loss = 315.6432, KL Loss = 0.3271, Lagrangian Loss = 36.3780\n"
     ]
    },
    {
     "name": "stderr",
     "output_type": "stream",
     "text": [
      "2025-03-22 00:54:55,855 INFO -- Edge Accuracy = 100.00, Instantaneous Accuracy = 100.00, Lagged Accuracy = 80.00, Counterfactual Accuracy = 80.00,  Blended Accuracy = 100.00,  RR Accuracy = 60.00  \n"
     ]
    },
    {
     "name": "stdout",
     "output_type": "stream",
     "text": [
      "Epoch 1: Loss = 403.4405\n",
      "Recon Loss = 282.6848, KL Loss = 0.1289, Lagrangian Loss = 42.3506\n",
      "Early stopping triggered. Last Epoch: 44\n",
      "Recon Loss = 317.4285, KL Loss = 0.1325, Lagrangian Loss = 31.2254\n"
     ]
    },
    {
     "name": "stderr",
     "output_type": "stream",
     "text": [
      "2025-03-22 00:55:06,420 INFO -- Edge Accuracy = 100.00, Instantaneous Accuracy = 100.00, Lagged Accuracy = 83.33, Counterfactual Accuracy = 66.67,  Blended Accuracy = 100.00,  RR Accuracy = 66.67  \n"
     ]
    },
    {
     "name": "stdout",
     "output_type": "stream",
     "text": [
      "Epoch 1: Loss = 429.0470\n",
      "Recon Loss = 310.2557, KL Loss = 0.1917, Lagrangian Loss = 43.9606\n",
      "Epoch 51: Loss = 411.3530\n",
      "Recon Loss = 316.7821, KL Loss = 0.2240, Lagrangian Loss = 38.0229\n",
      "Early stopping triggered. Last Epoch: 79\n",
      "Recon Loss = 307.2747, KL Loss = 0.2004, Lagrangian Loss = 37.8203\n"
     ]
    },
    {
     "name": "stderr",
     "output_type": "stream",
     "text": [
      "2025-03-22 00:55:25,055 INFO -- Edge Accuracy = 100.00, Instantaneous Accuracy = 100.00, Lagged Accuracy = 85.71, Counterfactual Accuracy = 71.43,  Blended Accuracy = 100.00,  RR Accuracy = 71.43  \n"
     ]
    },
    {
     "name": "stdout",
     "output_type": "stream",
     "text": [
      "Epoch 1: Loss = 378.8070\n",
      "Recon Loss = 284.1910, KL Loss = 0.3588, Lagrangian Loss = 37.8077\n",
      "Early stopping triggered. Last Epoch: 30\n",
      "Recon Loss = 306.0388, KL Loss = 0.3950, Lagrangian Loss = 33.7709\n"
     ]
    },
    {
     "name": "stderr",
     "output_type": "stream",
     "text": [
      "2025-03-22 00:55:32,518 INFO -- Edge Accuracy = 100.00, Instantaneous Accuracy = 87.50, Lagged Accuracy = 87.50, Counterfactual Accuracy = 62.50,  Blended Accuracy = 87.50,  RR Accuracy = 62.50  \n"
     ]
    },
    {
     "name": "stdout",
     "output_type": "stream",
     "text": [
      "Epoch 1: Loss = 433.4456\n",
      "Recon Loss = 312.9286, KL Loss = 0.2898, Lagrangian Loss = 44.3831\n",
      "Early stopping triggered. Last Epoch: 30\n",
      "Recon Loss = 322.5756, KL Loss = 0.2883, Lagrangian Loss = 32.0636\n"
     ]
    },
    {
     "name": "stderr",
     "output_type": "stream",
     "text": [
      "2025-03-22 00:55:40,001 INFO -- Edge Accuracy = 88.89, Instantaneous Accuracy = 88.89, Lagged Accuracy = 88.89, Counterfactual Accuracy = 66.67,  Blended Accuracy = 88.89,  RR Accuracy = 55.56  \n"
     ]
    },
    {
     "name": "stdout",
     "output_type": "stream",
     "text": [
      "Epoch 1: Loss = 320.8369\n",
      "Recon Loss = 226.0886, KL Loss = 0.1641, Lagrangian Loss = 33.2647\n",
      "Epoch 51: Loss = 308.7508\n",
      "Recon Loss = 200.3251, KL Loss = 0.1637, Lagrangian Loss = 33.6174\n",
      "Early stopping triggered. Last Epoch: 80\n",
      "Recon Loss = 252.4823, KL Loss = 0.1554, Lagrangian Loss = 42.6273\n"
     ]
    },
    {
     "name": "stderr",
     "output_type": "stream",
     "text": [
      "2025-03-22 00:55:59,273 INFO -- Edge Accuracy = 90.00, Instantaneous Accuracy = 80.00, Lagged Accuracy = 90.00, Counterfactual Accuracy = 60.00,  Blended Accuracy = 80.00,  RR Accuracy = 60.00  \n"
     ]
    },
    {
     "name": "stdout",
     "output_type": "stream",
     "text": [
      "Epoch 1: Loss = 360.4128\n",
      "Recon Loss = 274.5806, KL Loss = 0.1796, Lagrangian Loss = 51.4045\n",
      "Early stopping triggered. Last Epoch: 31\n",
      "Recon Loss = 251.0571, KL Loss = 0.1844, Lagrangian Loss = 35.9392\n"
     ]
    },
    {
     "name": "stderr",
     "output_type": "stream",
     "text": [
      "2025-03-22 00:56:07,492 INFO -- Edge Accuracy = 90.91, Instantaneous Accuracy = 81.82, Lagged Accuracy = 90.91, Counterfactual Accuracy = 63.64,  Blended Accuracy = 81.82,  RR Accuracy = 54.55  \n"
     ]
    },
    {
     "name": "stdout",
     "output_type": "stream",
     "text": [
      "Epoch 1: Loss = 394.2748\n",
      "Recon Loss = 275.8977, KL Loss = 0.1869, Lagrangian Loss = 37.4881\n",
      "Epoch 51: Loss = 397.9648\n",
      "Recon Loss = 280.3003, KL Loss = 0.1925, Lagrangian Loss = 36.6864\n",
      "Early stopping triggered. Last Epoch: 56\n",
      "Recon Loss = 294.0007, KL Loss = 0.1729, Lagrangian Loss = 45.7238\n"
     ]
    },
    {
     "name": "stderr",
     "output_type": "stream",
     "text": [
      "2025-03-22 00:56:20,962 INFO -- Edge Accuracy = 83.33, Instantaneous Accuracy = 75.00, Lagged Accuracy = 91.67, Counterfactual Accuracy = 58.33,  Blended Accuracy = 75.00,  RR Accuracy = 58.33  \n"
     ]
    },
    {
     "name": "stdout",
     "output_type": "stream",
     "text": [
      "Epoch 1: Loss = 408.8830\n",
      "Recon Loss = 300.0361, KL Loss = 0.3843, Lagrangian Loss = 46.6779\n",
      "Epoch 51: Loss = 408.3983\n",
      "Recon Loss = 305.3535, KL Loss = 0.3833, Lagrangian Loss = 51.9097\n",
      "Early stopping triggered. Last Epoch: 73\n",
      "Recon Loss = 287.8005, KL Loss = 0.3751, Lagrangian Loss = 54.8870\n"
     ]
    },
    {
     "name": "stderr",
     "output_type": "stream",
     "text": [
      "2025-03-22 00:56:37,762 INFO -- Edge Accuracy = 76.92, Instantaneous Accuracy = 69.23, Lagged Accuracy = 84.62, Counterfactual Accuracy = 61.54,  Blended Accuracy = 69.23,  RR Accuracy = 61.54  \n"
     ]
    },
    {
     "name": "stdout",
     "output_type": "stream",
     "text": [
      "Epoch 1: Loss = 418.1182\n",
      "Recon Loss = 308.5071, KL Loss = 0.3155, Lagrangian Loss = 31.0194\n",
      "Early stopping triggered. Last Epoch: 40\n",
      "Recon Loss = 304.3744, KL Loss = 0.3134, Lagrangian Loss = 38.6737\n"
     ]
    },
    {
     "name": "stderr",
     "output_type": "stream",
     "text": [
      "2025-03-22 00:56:47,104 INFO -- Edge Accuracy = 78.57, Instantaneous Accuracy = 71.43, Lagged Accuracy = 85.71, Counterfactual Accuracy = 64.29,  Blended Accuracy = 71.43,  RR Accuracy = 57.14  \n"
     ]
    },
    {
     "name": "stdout",
     "output_type": "stream",
     "text": [
      "Epoch 1: Loss = 360.4927\n",
      "Recon Loss = 261.5324, KL Loss = 0.1920, Lagrangian Loss = 37.4986\n",
      "Early stopping triggered. Last Epoch: 49\n",
      "Recon Loss = 260.5976, KL Loss = 0.1999, Lagrangian Loss = 40.4032\n"
     ]
    },
    {
     "name": "stderr",
     "output_type": "stream",
     "text": [
      "2025-03-22 00:56:58,555 INFO -- Edge Accuracy = 80.00, Instantaneous Accuracy = 73.33, Lagged Accuracy = 86.67, Counterfactual Accuracy = 60.00,  Blended Accuracy = 73.33,  RR Accuracy = 60.00  \n"
     ]
    },
    {
     "name": "stdout",
     "output_type": "stream",
     "text": [
      "Epoch 1: Loss = 410.6550\n",
      "Recon Loss = 295.5577, KL Loss = 0.5928, Lagrangian Loss = 45.7247\n",
      "Epoch 51: Loss = 418.8617\n",
      "Recon Loss = 306.2234, KL Loss = 0.5615, Lagrangian Loss = 45.6538\n",
      "Early stopping triggered. Last Epoch: 62\n",
      "Recon Loss = 268.5811, KL Loss = 0.5956, Lagrangian Loss = 33.3382\n"
     ]
    },
    {
     "name": "stderr",
     "output_type": "stream",
     "text": [
      "2025-03-22 00:57:12,834 INFO -- Edge Accuracy = 81.25, Instantaneous Accuracy = 68.75, Lagged Accuracy = 87.50, Counterfactual Accuracy = 56.25,  Blended Accuracy = 75.00,  RR Accuracy = 56.25  \n"
     ]
    },
    {
     "name": "stdout",
     "output_type": "stream",
     "text": [
      "Epoch 1: Loss = 342.3195\n",
      "Recon Loss = 250.4762, KL Loss = 0.2412, Lagrangian Loss = 37.8769\n",
      "Early stopping triggered. Last Epoch: 31\n",
      "Recon Loss = 255.1476, KL Loss = 0.2485, Lagrangian Loss = 45.0971\n"
     ]
    },
    {
     "name": "stderr",
     "output_type": "stream",
     "text": [
      "2025-03-22 00:57:20,186 INFO -- Edge Accuracy = 82.35, Instantaneous Accuracy = 64.71, Lagged Accuracy = 88.24, Counterfactual Accuracy = 52.94,  Blended Accuracy = 70.59,  RR Accuracy = 58.82  \n"
     ]
    },
    {
     "name": "stdout",
     "output_type": "stream",
     "text": [
      "Epoch 1: Loss = 318.1214\n",
      "Recon Loss = 228.1297, KL Loss = 0.1754, Lagrangian Loss = 42.8093\n",
      "Epoch 51: Loss = 312.2435\n",
      "Recon Loss = 222.2001, KL Loss = 0.1838, Lagrangian Loss = 33.9738\n",
      "Early stopping triggered. Last Epoch: 88\n",
      "Recon Loss = 232.6891, KL Loss = 0.1882, Lagrangian Loss = 36.3330\n"
     ]
    },
    {
     "name": "stderr",
     "output_type": "stream",
     "text": [
      "2025-03-22 00:57:40,334 INFO -- Edge Accuracy = 83.33, Instantaneous Accuracy = 66.67, Lagged Accuracy = 88.89, Counterfactual Accuracy = 55.56,  Blended Accuracy = 72.22,  RR Accuracy = 61.11  \n"
     ]
    },
    {
     "name": "stdout",
     "output_type": "stream",
     "text": [
      "Epoch 1: Loss = 543.8720\n",
      "Recon Loss = 405.6545, KL Loss = 0.2118, Lagrangian Loss = 27.2814\n",
      "Epoch 51: Loss = 554.6205\n",
      "Recon Loss = 445.2534, KL Loss = 0.2298, Lagrangian Loss = 43.3718\n",
      "Early stopping triggered. Last Epoch: 57\n",
      "Recon Loss = 452.9232, KL Loss = 0.2365, Lagrangian Loss = 38.2301\n"
     ]
    },
    {
     "name": "stderr",
     "output_type": "stream",
     "text": [
      "2025-03-22 00:57:53,493 INFO -- Edge Accuracy = 84.21, Instantaneous Accuracy = 68.42, Lagged Accuracy = 89.47, Counterfactual Accuracy = 57.89,  Blended Accuracy = 73.68,  RR Accuracy = 63.16  \n"
     ]
    },
    {
     "name": "stdout",
     "output_type": "stream",
     "text": [
      "Epoch 1: Loss = 429.7202\n",
      "Recon Loss = 300.7194, KL Loss = 0.2921, Lagrangian Loss = 46.3918\n",
      "Early stopping triggered. Last Epoch: 40\n",
      "Recon Loss = 308.8640, KL Loss = 0.3024, Lagrangian Loss = 31.4831\n"
     ]
    },
    {
     "name": "stderr",
     "output_type": "stream",
     "text": [
      "2025-03-22 00:58:02,913 INFO -- Edge Accuracy = 85.00, Instantaneous Accuracy = 70.00, Lagged Accuracy = 90.00, Counterfactual Accuracy = 60.00,  Blended Accuracy = 75.00,  RR Accuracy = 65.00  \n"
     ]
    },
    {
     "name": "stdout",
     "output_type": "stream",
     "text": [
      "Epoch 1: Loss = 276.3417\n",
      "Recon Loss = 187.0432, KL Loss = 0.3632, Lagrangian Loss = 56.3635\n",
      "Early stopping triggered. Last Epoch: 30\n",
      "Recon Loss = 189.5224, KL Loss = 0.3684, Lagrangian Loss = 45.7918\n"
     ]
    },
    {
     "name": "stderr",
     "output_type": "stream",
     "text": [
      "2025-03-22 00:58:10,090 INFO -- Edge Accuracy = 85.71, Instantaneous Accuracy = 71.43, Lagged Accuracy = 90.48, Counterfactual Accuracy = 57.14,  Blended Accuracy = 76.19,  RR Accuracy = 61.90  \n"
     ]
    },
    {
     "name": "stdout",
     "output_type": "stream",
     "text": [
      "Epoch 1: Loss = 368.9594\n",
      "Recon Loss = 260.0863, KL Loss = 0.2951, Lagrangian Loss = 28.1358\n",
      "Epoch 51: Loss = 369.5866\n",
      "Recon Loss = 261.5557, KL Loss = 0.3077, Lagrangian Loss = 40.3329\n",
      "Early stopping triggered. Last Epoch: 75\n",
      "Recon Loss = 279.4987, KL Loss = 0.2799, Lagrangian Loss = 35.4300\n"
     ]
    },
    {
     "name": "stderr",
     "output_type": "stream",
     "text": [
      "2025-03-22 00:58:27,355 INFO -- Edge Accuracy = 81.82, Instantaneous Accuracy = 68.18, Lagged Accuracy = 90.91, Counterfactual Accuracy = 59.09,  Blended Accuracy = 77.27,  RR Accuracy = 59.09  \n"
     ]
    },
    {
     "name": "stdout",
     "output_type": "stream",
     "text": [
      "Epoch 1: Loss = 544.6051\n",
      "Recon Loss = 437.1739, KL Loss = 0.1249, Lagrangian Loss = 37.5355\n",
      "Epoch 51: Loss = 536.0523\n",
      "Recon Loss = 380.2057, KL Loss = 0.1274, Lagrangian Loss = 37.7988\n",
      "Early stopping triggered. Last Epoch: 52\n",
      "Recon Loss = 436.5937, KL Loss = 0.1177, Lagrangian Loss = 41.3957\n"
     ]
    },
    {
     "name": "stderr",
     "output_type": "stream",
     "text": [
      "2025-03-22 00:58:39,414 INFO -- Edge Accuracy = 82.61, Instantaneous Accuracy = 69.57, Lagged Accuracy = 86.96, Counterfactual Accuracy = 56.52,  Blended Accuracy = 78.26,  RR Accuracy = 60.87  \n"
     ]
    },
    {
     "name": "stdout",
     "output_type": "stream",
     "text": [
      "Epoch 1: Loss = 494.0504\n",
      "Recon Loss = 368.0630, KL Loss = 0.3105, Lagrangian Loss = 37.3072\n",
      "Epoch 51: Loss = 491.4054\n",
      "Recon Loss = 368.3058, KL Loss = 0.3156, Lagrangian Loss = 35.4940\n",
      "Early stopping triggered. Last Epoch: 67\n",
      "Recon Loss = 368.3221, KL Loss = 0.3087, Lagrangian Loss = 43.0739\n"
     ]
    },
    {
     "name": "stderr",
     "output_type": "stream",
     "text": [
      "2025-03-22 00:58:54,872 INFO -- Edge Accuracy = 83.33, Instantaneous Accuracy = 70.83, Lagged Accuracy = 87.50, Counterfactual Accuracy = 54.17,  Blended Accuracy = 79.17,  RR Accuracy = 58.33  \n"
     ]
    },
    {
     "name": "stdout",
     "output_type": "stream",
     "text": [
      "Epoch 1: Loss = 554.6178\n",
      "Recon Loss = 440.9299, KL Loss = 0.2436, Lagrangian Loss = 40.8089\n",
      "Early stopping triggered. Last Epoch: 35\n",
      "Recon Loss = 429.4130, KL Loss = 0.2256, Lagrangian Loss = 35.4659\n"
     ]
    },
    {
     "name": "stderr",
     "output_type": "stream",
     "text": [
      "2025-03-22 00:59:03,203 INFO -- Edge Accuracy = 80.00, Instantaneous Accuracy = 72.00, Lagged Accuracy = 84.00, Counterfactual Accuracy = 52.00,  Blended Accuracy = 76.00,  RR Accuracy = 56.00  \n"
     ]
    },
    {
     "name": "stdout",
     "output_type": "stream",
     "text": [
      "Epoch 1: Loss = 387.7769\n",
      "Recon Loss = 277.5874, KL Loss = 0.1874, Lagrangian Loss = 49.1080\n",
      "Epoch 51: Loss = 383.7934\n",
      "Recon Loss = 262.8676, KL Loss = 0.1704, Lagrangian Loss = 44.7509\n",
      "Early stopping triggered. Last Epoch: 78\n",
      "Recon Loss = 271.0037, KL Loss = 0.1809, Lagrangian Loss = 44.6935\n"
     ]
    },
    {
     "name": "stderr",
     "output_type": "stream",
     "text": [
      "2025-03-22 00:59:21,156 INFO -- Edge Accuracy = 80.77, Instantaneous Accuracy = 69.23, Lagged Accuracy = 84.62, Counterfactual Accuracy = 53.85,  Blended Accuracy = 76.92,  RR Accuracy = 57.69  \n"
     ]
    },
    {
     "name": "stdout",
     "output_type": "stream",
     "text": [
      "Epoch 1: Loss = 454.5559\n",
      "Recon Loss = 329.6991, KL Loss = 0.2557, Lagrangian Loss = 43.5485\n",
      "Epoch 51: Loss = 447.9885\n",
      "Recon Loss = 320.4373, KL Loss = 0.2646, Lagrangian Loss = 37.3117\n",
      "Early stopping triggered. Last Epoch: 54\n",
      "Recon Loss = 341.8684, KL Loss = 0.2665, Lagrangian Loss = 42.7180\n"
     ]
    },
    {
     "name": "stderr",
     "output_type": "stream",
     "text": [
      "2025-03-22 00:59:33,789 INFO -- Edge Accuracy = 81.48, Instantaneous Accuracy = 66.67, Lagged Accuracy = 85.19, Counterfactual Accuracy = 55.56,  Blended Accuracy = 77.78,  RR Accuracy = 59.26  \n"
     ]
    },
    {
     "name": "stdout",
     "output_type": "stream",
     "text": [
      "Epoch 1: Loss = 356.0435\n",
      "Recon Loss = 260.5930, KL Loss = 0.2252, Lagrangian Loss = 38.5514\n",
      "Epoch 51: Loss = 355.6174\n",
      "Recon Loss = 258.9633, KL Loss = 0.2226, Lagrangian Loss = 37.3089\n",
      "Early stopping triggered. Last Epoch: 53\n",
      "Recon Loss = 243.2802, KL Loss = 0.2268, Lagrangian Loss = 34.3264\n"
     ]
    },
    {
     "name": "stderr",
     "output_type": "stream",
     "text": [
      "2025-03-22 00:59:46,126 INFO -- Edge Accuracy = 78.57, Instantaneous Accuracy = 67.86, Lagged Accuracy = 82.14, Counterfactual Accuracy = 53.57,  Blended Accuracy = 75.00,  RR Accuracy = 57.14  \n"
     ]
    },
    {
     "name": "stdout",
     "output_type": "stream",
     "text": [
      "Epoch 1: Loss = 474.5082\n",
      "Recon Loss = 346.0765, KL Loss = 0.2191, Lagrangian Loss = 47.9885\n",
      "Early stopping triggered. Last Epoch: 32\n",
      "Recon Loss = 347.9712, KL Loss = 0.2335, Lagrangian Loss = 47.9389\n"
     ]
    },
    {
     "name": "stderr",
     "output_type": "stream",
     "text": [
      "2025-03-22 00:59:53,788 INFO -- Edge Accuracy = 79.31, Instantaneous Accuracy = 68.97, Lagged Accuracy = 82.76, Counterfactual Accuracy = 55.17,  Blended Accuracy = 75.86,  RR Accuracy = 58.62  \n"
     ]
    },
    {
     "name": "stdout",
     "output_type": "stream",
     "text": [
      "Epoch 1: Loss = 453.2792\n",
      "Recon Loss = 338.8878, KL Loss = 0.2874, Lagrangian Loss = 46.1345\n",
      "Early stopping triggered. Last Epoch: 45\n",
      "Recon Loss = 312.4365, KL Loss = 0.2814, Lagrangian Loss = 49.5225\n"
     ]
    },
    {
     "name": "stderr",
     "output_type": "stream",
     "text": [
      "2025-03-22 01:00:04,373 INFO -- Edge Accuracy = 76.67, Instantaneous Accuracy = 70.00, Lagged Accuracy = 80.00, Counterfactual Accuracy = 53.33,  Blended Accuracy = 73.33,  RR Accuracy = 60.00  \n"
     ]
    }
   ],
   "source": [
    "TIME_STEPS = 5\n",
    "BATCH_SIZE = 25\n",
    "hidden_dim = 64\n",
    "latent_dim = 8\n",
    "edge_correct = 0\n",
    "instantaneous_correct = 0\n",
    "lagged_correct = 0\n",
    "counterfactual_correct = 0 \n",
    "rr_correct = 0\n",
    "total_correct = 0\n",
    "total_checked = 0\n",
    "for i in range(30):\n",
    "    total_checked+=1\n",
    "\n",
    "    dataset_bad = TimeSeriesDataset(bad, device=device, time_steps=TIME_STEPS)\n",
    "    dataloader_bad = DataLoader(dataset_bad, batch_size=BATCH_SIZE, shuffle=True)\n",
    "    \n",
    "    # Initialize model and optimizer\n",
    "    fine_tuned = CausalGraphVAE(input_dim=bad.shape[1], hidden_dim=hidden_dim,\n",
    "                            latent_dim=latent_dim, num_nodes=bad.shape[1],device=device,\n",
    "                            time_steps=TIME_STEPS, prior_adj=prior_adj,instantaneous_weight=0.3).to(device)\n",
    "    optimizer = torch.optim.AdamW(model.parameters(), lr=0.0001, weight_decay=1e-3)\n",
    "    \n",
    "    # Train on nominal data\n",
    "    # print(\"Pretraining on nominal data...\")\n",
    "    fine_tuned.train_model(dataloader_bad, optimizer, num_epochs=1000, patience=30,BATCH_SIZE=BATCH_SIZE,rho_max=1,alpha_max=1)\n",
    "    \n",
    "    X_data = torch.empty(0,device=device)\n",
    "    T_data = torch.empty(0,device=device)\n",
    "    for batch_idx, (X_batch, time_batch) in enumerate(dataloader_bad):\n",
    "        X_data = torch.cat((X_data[:batch_idx], X_batch, X_data[batch_idx:]))\n",
    "        T_data = torch.cat((T_data[:batch_idx], time_batch, T_data[batch_idx:]))\n",
    "    \n",
    "    causes= fine_tuned.infer_causal_effect(X_data,T_data,'x_4',cols,non_causal_indices=[])\n",
    "    \n",
    "    edge_cause_1 = causes.sort_values(by='causes',ascending=False)[0:3].index[0]\n",
    "    edge_cause_2 = causes.sort_values(by='causes',ascending=False)[0:3].index[1]\n",
    "    edge_cause_3 = causes.sort_values(by='causes',ascending=False)[0:3].index[2]\n",
    "    \n",
    "    instant_cause_1 = causes.sort_values(by='instantaneous',ascending=False)[0:3].index[0]\n",
    "    instant_cause_2 = causes.sort_values(by='instantaneous',ascending=False)[0:3].index[1]\n",
    "    instant_cause_3 = causes.sort_values(by='instantaneous',ascending=False)[0:3].index[2]\n",
    "    \n",
    "    lag_cause_1 = causes.sort_values(by='lagged',ascending=False)[0:3].index[0]\n",
    "    lag_cause_2 = causes.sort_values(by='lagged',ascending=False)[0:3].index[1]\n",
    "    lag_cause_3 = causes.sort_values(by='lagged',ascending=False)[0:3].index[2]\n",
    "    \n",
    "    counterfactual_cause_1 = causes.sort_values(by='counterfactuals',ascending=False)[0:3].index[0]\n",
    "    counterfactual_cause_2 = causes.sort_values(by='counterfactuals',ascending=False)[0:3].index[1]\n",
    "    counterfactual_cause_3 = causes.sort_values(by='counterfactuals',ascending=False)[0:3].index[2]\n",
    "    \n",
    "    rr_cause_1 = causes.sort_values(by='RootRank',ascending=False)[0:3].index[0]\n",
    "    rr_cause_2 = causes.sort_values(by='RootRank',ascending=False)[0:3].index[1]\n",
    "    rr_cause_3 = causes.sort_values(by='RootRank',ascending=False)[0:3].index[2]\n",
    "    \n",
    "    total_score_cause_1=causes.sort_values(by='causal_strength',ascending=False)[0:3].index[0]\n",
    "    total_score_cause_2=causes.sort_values(by='causal_strength',ascending=False)[0:3].index[1]\n",
    "    total_score_cause_3=causes.sort_values(by='causal_strength',ascending=False)[0:3].index[2]\n",
    "    \n",
    "    if (edge_cause_1 in ['x_1','x_44']) | (edge_cause_2 in ['x_1','x_44']) | (edge_cause_3 in ['x_1','x_44']):\n",
    "        edge_correct+=1\n",
    "    \n",
    "    if (  total_score_cause_1 in ['x_1','x_44']) | (total_score_cause_2 in ['x_1','x_44']) | ( total_score_cause_3 in ['x_1','x_44']):\n",
    "        total_correct+=1\n",
    "    \n",
    "    if (counterfactual_cause_1 in ['x_1','x_44']) | (counterfactual_cause_2 in ['x_1','x_44']) | (counterfactual_cause_3 in ['x_1','x_44']):\n",
    "        counterfactual_correct+=1\n",
    "    \n",
    "    if (instant_cause_1 in ['x_1','x_44']) | (instant_cause_2 in ['x_1','x_44']) |( instant_cause_3 in ['x_1','x_44'] ):\n",
    "        instantaneous_correct+=1\n",
    "    \n",
    "    if (lag_cause_1 in ['x_1','x_44']) | (lag_cause_2 in ['x_1','x_44'])  | (lag_cause_3 in ['x_1','x_44']):\n",
    "        lagged_correct+=1\n",
    "    \n",
    "    if (rr_cause_1 in ['x_1','x_44']) | (rr_cause_2 in ['x_1','x_44']) | (rr_cause_3 in ['x_1','x_44']):\n",
    "        rr_correct+=1\n",
    "        \n",
    "    total_accuracy = total_correct/total_checked* 100\n",
    "    edge_accuracy = edge_correct/total_checked* 100\n",
    "    cf_accuracy = counterfactual_correct/total_checked* 100\n",
    "    instant_accuracy = instantaneous_correct/total_checked* 100\n",
    "    lag_accuracy = lagged_correct/total_checked* 100\n",
    "    rr_accuracy = rr_correct/total_checked* 100\n",
    "    \n",
    "    \n",
    "    logger.info(f\"Edge Accuracy = {edge_accuracy:.2f}, Instantaneous Accuracy = {instant_accuracy:.2f}, Lagged Accuracy = {lag_accuracy:.2f}, Counterfactual Accuracy = {cf_accuracy:.2f},  Blended Accuracy = {total_accuracy:.2f},  RR Accuracy = {rr_accuracy:.2f}  \") \n",
    "    \n"
   ]
  },
  {
   "cell_type": "code",
   "execution_count": null,
   "id": "516d6947-e922-4fa1-8882-3b79fb409978",
   "metadata": {},
   "outputs": [],
   "source": []
  },
  {
   "cell_type": "code",
   "execution_count": null,
   "id": "d6df2f38-5a3b-4fc7-a968-877416d2567f",
   "metadata": {},
   "outputs": [],
   "source": []
  }
 ],
 "metadata": {
  "kernelspec": {
   "display_name": "Python 3 (ipykernel)",
   "language": "python",
   "name": "python3"
  },
  "language_info": {
   "codemirror_mode": {
    "name": "ipython",
    "version": 3
   },
   "file_extension": ".py",
   "mimetype": "text/x-python",
   "name": "python",
   "nbconvert_exporter": "python",
   "pygments_lexer": "ipython3",
   "version": "3.12.7"
  },
  "widgets": {
   "application/vnd.jupyter.widget-state+json": {
    "state": {},
    "version_major": 2,
    "version_minor": 0
   }
  }
 },
 "nbformat": 4,
 "nbformat_minor": 5
}
