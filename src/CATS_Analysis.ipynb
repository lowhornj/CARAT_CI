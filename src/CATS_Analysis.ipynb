{
 "cells": [
  {
   "cell_type": "code",
   "execution_count": 1,
   "id": "a97d3321-4427-4837-8269-048dc64686f7",
   "metadata": {},
   "outputs": [],
   "source": [
    "import os\n",
    "import torch\n",
    "import torch.nn as nn\n",
    "import torch.nn.functional as F\n",
    "import torch.backends.cudnn\n",
    "import polars as pl\n",
    "import pandas as pd\n",
    "import numpy as np\n",
    "import seaborn as sns\n",
    "import warnings\n",
    "\n",
    "from datetime import datetime, timedelta\n",
    "from torch_geometric.nn import GATv2Conv, GATConv\n",
    "from torch_geometric.utils import dense_to_sparse\n",
    "from torch.distributions import Normal, Laplace, RelaxedOneHotCategorical\n",
    "from torchdiffeq import odeint  # For continuous-time normalizing flows\n",
    "\n",
    "from feature.scalers import ranged_scaler\n",
    "from feature.engineering import *\n",
    "from CARAT.model_utils import *\n",
    "from CARAT.model import CausalGraphVAE\n",
    "from CARAT.components import *\n",
    "from utils.utils import set_seed, logger\n",
    "\n",
    "# Torch settings\"\"\"\n",
    "\"\"\"torch.use_deterministic_algorithms(False)\n",
    "torch.backends.cudnn.benchmark = False\n",
    "torch.autograd.profiler.profile(enabled=False)\n",
    "torch.autograd.profiler.emit_nvtx(enabled=False)\n",
    "torch.autograd.set_detect_anomaly(mode=False)\n",
    "\n",
    "# Environment variables\n",
    "os.environ['CUBLAS_WORKSPACE_CONFIG'] = '167772160'\n",
    "os.environ['CUDA_LAUNCH_BLOCKING'] = '1'\n",
    "os.environ['TORCH_USE_CUDA_DSA'] = \"1\"\n",
    "\"\"\"\n",
    "# Set device\n",
    "device = torch.device('cpu')#torch.device(\"cuda:0\" if torch.cuda.is_available() else \"cpu\")\n",
    "\n",
    "# Suppress warnings\n",
    "warnings.filterwarnings('ignore')"
   ]
  },
  {
   "cell_type": "code",
   "execution_count": 2,
   "id": "6981e0a1-e1c0-409d-ab6a-cf7d34bf1793",
   "metadata": {},
   "outputs": [
    {
     "name": "stdout",
     "output_type": "stream",
     "text": [
      "(5000000, 20)\n"
     ]
    }
   ],
   "source": [
    "cats_df = pl.read_csv(\"data/data.csv\", separator=\",\")  \n",
    "print(cats_df.shape)\n",
    "metadata = pl.read_csv('data/metadata.csv',separator=',')\n",
    "potential_causes = metadata['root_cause'].unique().to_list()\n",
    "\n",
    "for col in cats_df.columns:\n",
    "    unique_vals = cats_df[col].n_unique()\n",
    "    data_type = cats_df[col].dtype\n",
    "    bad_dtypes = [pl.Date,pl.Datetime,pl.Utf8]\n",
    "    if ((unique_vals >= 50) & (data_type not in bad_dtypes) ):\n",
    "        cats_df = cats_df.with_columns(ranged_scaler(cats_df[col]))\n",
    "    else:\n",
    "        continue"
   ]
  },
  {
   "cell_type": "code",
   "execution_count": 3,
   "id": "df0f5a4d-1cf3-4a87-a3fb-751607296c58",
   "metadata": {},
   "outputs": [],
   "source": [
    "cats_df = cats_df.with_columns(\n",
    "    pl.col('timestamp').str.to_datetime(\"%Y-%m-%d %H:%M:%S\"),\n",
    "    pl.Series(\"entity_id\",range(len(cats_df)))\n",
    ")"
   ]
  },
  {
   "cell_type": "code",
   "execution_count": 4,
   "id": "48b9af15-9315-41d4-86fe-907430746a4a",
   "metadata": {},
   "outputs": [
    {
     "data": {
      "text/plain": [
       "(5000000, 21)"
      ]
     },
     "execution_count": 4,
     "metadata": {},
     "output_type": "execute_result"
    }
   ],
   "source": [
    "cats_rows_list = metadata.rows(named=True)\n",
    "cats_df.shape"
   ]
  },
  {
   "cell_type": "code",
   "execution_count": 5,
   "id": "52959448-4391-42ad-a59e-e0f732b1971f",
   "metadata": {},
   "outputs": [
    {
     "name": "stdout",
     "output_type": "stream",
     "text": [
      "⚠️ Skipping column timestamp (not a float column)\n",
      "Column: aimp | Final ADF: -2211.6294 | p-value: 0.0000 | Diffs: 0\n",
      "Column: amud | Final ADF: -8.0091 | p-value: 0.0000 | Diffs: 0\n",
      "Column: arnd | Final ADF: -18.1248 | p-value: 0.0000 | Diffs: 0\n",
      "Column: asin1 | Final ADF: -5.7565 | p-value: 0.0000 | Diffs: 1\n",
      "Column: asin2 | Final ADF: -39.8976 | p-value: 0.0000 | Diffs: 3\n",
      "Column: adbr | Final ADF: -111.5305 | p-value: 0.0000 | Diffs: 0\n",
      "Column: adfl | Final ADF: -217.2031 | p-value: 0.0000 | Diffs: 0\n",
      "Column: bed1 | Final ADF: -35.0214 | p-value: 0.0000 | Diffs: 0\n",
      "Column: bed2 | Final ADF: -44.5328 | p-value: 0.0000 | Diffs: 0\n",
      "Column: bfo1 | Final ADF: -8.5614 | p-value: 0.0000 | Diffs: 0\n",
      "Column: bfo2 | Final ADF: -13.3015 | p-value: 0.0000 | Diffs: 0\n",
      "Column: bso1 | Final ADF: -2164.1026 | p-value: 0.0000 | Diffs: 1\n",
      "Column: bso2 | Final ADF: -13.5707 | p-value: 0.0000 | Diffs: 0\n",
      "Column: bso3 | Final ADF: -14.7270 | p-value: 0.0000 | Diffs: 0\n",
      "Column: ced1 | Final ADF: -727.3289 | p-value: 0.0000 | Diffs: 1\n",
      "Column: cfo1 | Final ADF: -6.7640 | p-value: 0.0000 | Diffs: 0\n",
      "Column: cso1 | Final ADF: -7.8526 | p-value: 0.0000 | Diffs: 0\n",
      "Column: y | Final ADF: -51.2989 | p-value: 0.0000 | Diffs: 0\n",
      "Column: category | Final ADF: -53.9463 | p-value: 0.0000 | Diffs: 0\n",
      "⚠️ Skipping column entity_id (not a float column)\n"
     ]
    }
   ],
   "source": [
    "cats_df = make_stationary(cats_df)"
   ]
  },
  {
   "cell_type": "code",
   "execution_count": 6,
   "id": "b6b4cd0e-cacc-4d93-b0e9-a0cdca28b157",
   "metadata": {},
   "outputs": [],
   "source": [
    "cats_df = cats_df.to_pandas()"
   ]
  },
  {
   "cell_type": "code",
   "execution_count": 7,
   "id": "8e03dcda-4108-4fe2-9ec3-8ccbdeaf85f0",
   "metadata": {},
   "outputs": [
    {
     "data": {
      "text/plain": [
       "[\"['cso1']\", \"['cfo1']\", \"['ced1']\"]"
      ]
     },
     "execution_count": 7,
     "metadata": {},
     "output_type": "execute_result"
    }
   ],
   "source": [
    "metadata['affected'].unique().to_list()"
   ]
  },
  {
   "cell_type": "code",
   "execution_count": 8,
   "id": "dc297da3-97f8-4077-898e-cc23b8c2e24a",
   "metadata": {},
   "outputs": [],
   "source": [
    "potential_causes = metadata['root_cause'].unique().to_list()"
   ]
  },
  {
   "cell_type": "code",
   "execution_count": 9,
   "id": "e8be12f8-8ca1-49a7-81aa-5e05325023a5",
   "metadata": {},
   "outputs": [
    {
     "data": {
      "text/html": [
       "<div>\n",
       "<style scoped>\n",
       "    .dataframe tbody tr th:only-of-type {\n",
       "        vertical-align: middle;\n",
       "    }\n",
       "\n",
       "    .dataframe tbody tr th {\n",
       "        vertical-align: top;\n",
       "    }\n",
       "\n",
       "    .dataframe thead th {\n",
       "        text-align: right;\n",
       "    }\n",
       "</style>\n",
       "<table border=\"1\" class=\"dataframe\">\n",
       "  <thead>\n",
       "    <tr style=\"text-align: right;\">\n",
       "      <th></th>\n",
       "      <th>aimp</th>\n",
       "      <th>amud</th>\n",
       "      <th>arnd</th>\n",
       "      <th>asin1</th>\n",
       "      <th>asin2</th>\n",
       "      <th>adbr</th>\n",
       "      <th>adfl</th>\n",
       "      <th>bed1</th>\n",
       "      <th>bed2</th>\n",
       "      <th>bfo1</th>\n",
       "      <th>bfo2</th>\n",
       "      <th>bso1</th>\n",
       "      <th>bso2</th>\n",
       "      <th>bso3</th>\n",
       "      <th>ced1</th>\n",
       "      <th>cfo1</th>\n",
       "      <th>cso1</th>\n",
       "    </tr>\n",
       "    <tr>\n",
       "      <th>timestamp</th>\n",
       "      <th></th>\n",
       "      <th></th>\n",
       "      <th></th>\n",
       "      <th></th>\n",
       "      <th></th>\n",
       "      <th></th>\n",
       "      <th></th>\n",
       "      <th></th>\n",
       "      <th></th>\n",
       "      <th></th>\n",
       "      <th></th>\n",
       "      <th></th>\n",
       "      <th></th>\n",
       "      <th></th>\n",
       "      <th></th>\n",
       "      <th></th>\n",
       "      <th></th>\n",
       "    </tr>\n",
       "  </thead>\n",
       "  <tbody>\n",
       "    <tr>\n",
       "      <th>2023-01-01 00:00:06</th>\n",
       "      <td>0.0</td>\n",
       "      <td>0.142857</td>\n",
       "      <td>-0.444480</td>\n",
       "      <td>0.00002</td>\n",
       "      <td>-7.999823e-12</td>\n",
       "      <td>0.0</td>\n",
       "      <td>0.0</td>\n",
       "      <td>-0.32802</td>\n",
       "      <td>-0.369237</td>\n",
       "      <td>-0.738163</td>\n",
       "      <td>-0.767181</td>\n",
       "      <td>0.000072</td>\n",
       "      <td>-0.507953</td>\n",
       "      <td>-0.716059</td>\n",
       "      <td>0.0</td>\n",
       "      <td>0.100401</td>\n",
       "      <td>-0.186461</td>\n",
       "    </tr>\n",
       "    <tr>\n",
       "      <th>2023-01-01 00:00:07</th>\n",
       "      <td>0.0</td>\n",
       "      <td>0.142857</td>\n",
       "      <td>-0.446078</td>\n",
       "      <td>0.00002</td>\n",
       "      <td>-7.999823e-12</td>\n",
       "      <td>0.0</td>\n",
       "      <td>0.0</td>\n",
       "      <td>-0.32802</td>\n",
       "      <td>-0.369237</td>\n",
       "      <td>-0.738163</td>\n",
       "      <td>-0.767181</td>\n",
       "      <td>0.000083</td>\n",
       "      <td>-0.507953</td>\n",
       "      <td>-0.716059</td>\n",
       "      <td>0.0</td>\n",
       "      <td>0.100408</td>\n",
       "      <td>-0.186406</td>\n",
       "    </tr>\n",
       "    <tr>\n",
       "      <th>2023-01-01 00:00:08</th>\n",
       "      <td>0.0</td>\n",
       "      <td>0.142857</td>\n",
       "      <td>-0.447166</td>\n",
       "      <td>0.00002</td>\n",
       "      <td>-8.000267e-12</td>\n",
       "      <td>0.0</td>\n",
       "      <td>0.0</td>\n",
       "      <td>-0.32802</td>\n",
       "      <td>-0.369237</td>\n",
       "      <td>-0.738163</td>\n",
       "      <td>-0.767181</td>\n",
       "      <td>0.000094</td>\n",
       "      <td>-0.507953</td>\n",
       "      <td>-0.716059</td>\n",
       "      <td>0.0</td>\n",
       "      <td>0.100416</td>\n",
       "      <td>-0.186345</td>\n",
       "    </tr>\n",
       "    <tr>\n",
       "      <th>2023-01-01 00:00:09</th>\n",
       "      <td>0.0</td>\n",
       "      <td>0.142857</td>\n",
       "      <td>-0.442843</td>\n",
       "      <td>0.00002</td>\n",
       "      <td>-7.999823e-12</td>\n",
       "      <td>0.0</td>\n",
       "      <td>0.0</td>\n",
       "      <td>-0.32802</td>\n",
       "      <td>-0.369237</td>\n",
       "      <td>-0.738163</td>\n",
       "      <td>-0.767181</td>\n",
       "      <td>0.000104</td>\n",
       "      <td>-0.507953</td>\n",
       "      <td>-0.716059</td>\n",
       "      <td>0.0</td>\n",
       "      <td>0.100426</td>\n",
       "      <td>-0.186278</td>\n",
       "    </tr>\n",
       "    <tr>\n",
       "      <th>2023-01-01 00:00:10</th>\n",
       "      <td>0.0</td>\n",
       "      <td>0.142857</td>\n",
       "      <td>-0.441320</td>\n",
       "      <td>0.00002</td>\n",
       "      <td>-8.000045e-12</td>\n",
       "      <td>0.0</td>\n",
       "      <td>0.0</td>\n",
       "      <td>-0.32802</td>\n",
       "      <td>-0.369237</td>\n",
       "      <td>-0.738163</td>\n",
       "      <td>-0.767181</td>\n",
       "      <td>0.000113</td>\n",
       "      <td>-0.507953</td>\n",
       "      <td>-0.716059</td>\n",
       "      <td>0.0</td>\n",
       "      <td>0.100438</td>\n",
       "      <td>-0.186205</td>\n",
       "    </tr>\n",
       "  </tbody>\n",
       "</table>\n",
       "</div>"
      ],
      "text/plain": [
       "                     aimp      amud      arnd    asin1         asin2  adbr  \\\n",
       "timestamp                                                                    \n",
       "2023-01-01 00:00:06   0.0  0.142857 -0.444480  0.00002 -7.999823e-12   0.0   \n",
       "2023-01-01 00:00:07   0.0  0.142857 -0.446078  0.00002 -7.999823e-12   0.0   \n",
       "2023-01-01 00:00:08   0.0  0.142857 -0.447166  0.00002 -8.000267e-12   0.0   \n",
       "2023-01-01 00:00:09   0.0  0.142857 -0.442843  0.00002 -7.999823e-12   0.0   \n",
       "2023-01-01 00:00:10   0.0  0.142857 -0.441320  0.00002 -8.000045e-12   0.0   \n",
       "\n",
       "                     adfl     bed1      bed2      bfo1      bfo2      bso1  \\\n",
       "timestamp                                                                    \n",
       "2023-01-01 00:00:06   0.0 -0.32802 -0.369237 -0.738163 -0.767181  0.000072   \n",
       "2023-01-01 00:00:07   0.0 -0.32802 -0.369237 -0.738163 -0.767181  0.000083   \n",
       "2023-01-01 00:00:08   0.0 -0.32802 -0.369237 -0.738163 -0.767181  0.000094   \n",
       "2023-01-01 00:00:09   0.0 -0.32802 -0.369237 -0.738163 -0.767181  0.000104   \n",
       "2023-01-01 00:00:10   0.0 -0.32802 -0.369237 -0.738163 -0.767181  0.000113   \n",
       "\n",
       "                         bso2      bso3  ced1      cfo1      cso1  \n",
       "timestamp                                                          \n",
       "2023-01-01 00:00:06 -0.507953 -0.716059   0.0  0.100401 -0.186461  \n",
       "2023-01-01 00:00:07 -0.507953 -0.716059   0.0  0.100408 -0.186406  \n",
       "2023-01-01 00:00:08 -0.507953 -0.716059   0.0  0.100416 -0.186345  \n",
       "2023-01-01 00:00:09 -0.507953 -0.716059   0.0  0.100426 -0.186278  \n",
       "2023-01-01 00:00:10 -0.507953 -0.716059   0.0  0.100438 -0.186205  "
      ]
     },
     "execution_count": 9,
     "metadata": {},
     "output_type": "execute_result"
    }
   ],
   "source": [
    "cats_df=cats_df.set_index('timestamp')\n",
    "cats_df = cats_df.drop(['y','category','entity_id'],axis=1)\n",
    "cats_df.head()\n"
   ]
  },
  {
   "cell_type": "code",
   "execution_count": 10,
   "id": "c816fec8-c143-4f7e-a78c-1b1b18f32a96",
   "metadata": {},
   "outputs": [
    {
     "data": {
      "text/plain": [
       "(4999994, 17)"
      ]
     },
     "execution_count": 10,
     "metadata": {},
     "output_type": "execute_result"
    }
   ],
   "source": [
    "cats_df.shape"
   ]
  },
  {
   "cell_type": "code",
   "execution_count": 11,
   "id": "f6b15ba7-0bab-44e8-95aa-c6b534da9748",
   "metadata": {},
   "outputs": [],
   "source": [
    "train_df = cats_df[0:1000000]\n",
    "test_df = cats_df[1000000:]"
   ]
  },
  {
   "cell_type": "code",
   "execution_count": 12,
   "id": "c7eaa704-a473-421e-acaf-0aff6efe4fe6",
   "metadata": {},
   "outputs": [],
   "source": [
    "test_df = test_df.astype('float32')"
   ]
  },
  {
   "cell_type": "code",
   "execution_count": 13,
   "id": "ab4ff270-6892-43e6-8571-b623acdd105c",
   "metadata": {},
   "outputs": [],
   "source": [
    "try:\n",
    "    train_df = train_df.drop('time',axis=1)\n",
    "except:\n",
    "    None\n",
    "try:\n",
    "    test_df = test_df.drop('time',axis=1)\n",
    "except:\n",
    "    None"
   ]
  },
  {
   "cell_type": "code",
   "execution_count": 14,
   "id": "cfc22130-f5dd-4ef8-8d1b-e29c4f26b4c6",
   "metadata": {},
   "outputs": [],
   "source": [
    "cols = list(test_df.columns)\n",
    "non_causal_columns = list(set(cols).difference(set(potential_causes)))\n",
    "causal_indices = [train_df.columns.get_loc(col) for col in potential_causes]\n",
    "non_causal_indices = [train_df.columns.get_loc(col) for col in non_causal_columns]"
   ]
  },
  {
   "cell_type": "code",
   "execution_count": 15,
   "id": "3198cc09-56e4-4f5b-8f20-aea6df75647f",
   "metadata": {},
   "outputs": [],
   "source": [
    "import torch\n",
    "import random\n",
    "import numpy as np\n",
    "\n",
    "# Define the seed value\n",
    "seed = 42\n",
    "\n",
    "# Set seed for PyTorch\n",
    "torch.manual_seed(seed)\n",
    "\n",
    "# Set seed for CUDA (if using GPUs)\n",
    "torch.cuda.manual_seed(seed)\n",
    "torch.cuda.manual_seed_all(seed)  # For multi-GPU setups\n",
    "\n",
    "# Set seed for Python's random module\n",
    "random.seed(seed)\n",
    "\n",
    "# Set seed for NumPy\n",
    "np.random.seed(seed)\n",
    "\n",
    "# Ensure deterministic behavior for PyTorch operations\n",
    "torch.backends.cudnn.deterministic = True\n",
    "torch.backends.cudnn.benchmark = False"
   ]
  },
  {
   "cell_type": "code",
   "execution_count": null,
   "id": "eebb432e-a758-4045-ad93-c5ad7cb19bcd",
   "metadata": {},
   "outputs": [
    {
     "name": "stdout",
     "output_type": "stream",
     "text": [
      "Pretraining on nominal data...\n",
      "Epoch 1: Loss = 21468.7776\n",
      "Recon Loss =4894.2446, KL Loss = 2.4268, Sparsity Loss = 116.1447, Lagrangian Loss = 320.6222\n"
     ]
    }
   ],
   "source": [
    "TIME_STEPS = 3\n",
    "BATCH_SIZE = 10000\n",
    "hidden_dim = 128\n",
    "latent_dim = 8\n",
    "num_nodes = 17\n",
    "\n",
    "dataset_nominal = TimeSeriesDataset(train_df, device=device, time_steps=TIME_STEPS)\n",
    "dataloader_nominal = DataLoader(dataset_nominal, batch_size=BATCH_SIZE, shuffle=False, pin_memory=False)\n",
    "\n",
    "# Initialize model and optimizer\n",
    "model = CausalGraphVAE(input_dim=train_df.shape[1], hidden_dim=hidden_dim,\n",
    "                        latent_dim=latent_dim, num_nodes=train_df.shape[1],device=device,\n",
    "                        time_steps=TIME_STEPS, prior_adj=None)\n",
    "optimizer = torch.optim.AdamW(model.parameters(), lr=0.01, weight_decay=1e-10)\n",
    "\n",
    "# Train on nominal data\n",
    "print(\"Pretraining on nominal data...\")\n",
    "model.train_model(dataloader_nominal, optimizer, num_epochs=250, patience=30,rho_max=0.2,alpha_max=0.2)\n"
   ]
  },
  {
   "cell_type": "code",
   "execution_count": null,
   "id": "2d35de27-37ce-4711-9b1f-c052549cdbcd",
   "metadata": {},
   "outputs": [],
   "source": [
    "prior_adj = model.causal_graph.adj_mat.clone().detach()\n",
    "#scaled_prior = scale_tensor(prior_adj)\n",
    "for i, row in enumerate(prior_adj):\n",
    "    for j, column in enumerate(row):\n",
    "        if (j in non_causal_indices) and (i in causal_indices) & (i!=j):\n",
    "            continue\n",
    "        else:\n",
    "            prior_adj[i,j] = 0"
   ]
  },
  {
   "cell_type": "code",
   "execution_count": null,
   "id": "a1969b33-7fd1-471c-b21a-3b6c42c157ef",
   "metadata": {},
   "outputs": [],
   "source": [
    "pd.DataFrame(prior_adj.cpu().detach().numpy(),index=cols,columns=cols)"
   ]
  },
  {
   "cell_type": "code",
   "execution_count": 23,
   "id": "3c7d362f-6a8a-4a3c-b03f-3839ca30f4e4",
   "metadata": {},
   "outputs": [
    {
     "name": "stderr",
     "output_type": "stream",
     "text": [
      "2025-03-19 15:35:19,446 INFO -- Model: 0\n"
     ]
    },
    {
     "name": "stdout",
     "output_type": "stream",
     "text": [
      "Anomaly: cfo1\n",
      "Epoch 1: Loss = 7052.2529\n",
      "Recon Loss =6621.9775, KL Loss = 0.0064, Sparsity Loss = 120.7634, Lagrangian Loss = 309.5058\n",
      "Epoch 51: Loss = 764.5002\n",
      "Recon Loss =265.7029, KL Loss = 2.3069, Sparsity Loss = 117.5936, Lagrangian Loss = 378.8969\n",
      "Epoch 101: Loss = 641.3278\n",
      "Recon Loss =64.9545, KL Loss = 4.1509, Sparsity Loss = 121.1997, Lagrangian Loss = 451.0227\n",
      "Epoch 151: Loss = 369.8432\n",
      "Recon Loss =58.1800, KL Loss = 4.2286, Sparsity Loss = 115.5553, Lagrangian Loss = 191.8793\n",
      "Epoch 201: Loss = 308.3878\n",
      "Recon Loss =62.1439, KL Loss = 4.1178, Sparsity Loss = 110.1937, Lagrangian Loss = 131.9324\n",
      "Epoch 251: Loss = 287.8751\n",
      "Recon Loss =69.8216, KL Loss = 4.0854, Sparsity Loss = 105.9454, Lagrangian Loss = 108.0227\n",
      "Epoch 301: Loss = 269.3845\n",
      "Recon Loss =51.0238, KL Loss = 3.9421, Sparsity Loss = 106.5770, Lagrangian Loss = 107.8416\n",
      "Early stopping triggered. Last Epoch: 342\n",
      "Recon Loss =51.4998, KL Loss = 3.8687, Sparsity Loss = 108.0268, Lagrangian Loss = 109.9689\n"
     ]
    },
    {
     "name": "stderr",
     "output_type": "stream",
     "text": [
      "2025-03-19 15:35:54,572 INFO -- Edge Accuracy = 100.00, Instantaneous Accuracy = 100.00, Lagged Accuracy = 0.00, Counterfactual Accuracy = 0.00,  Blended Accuracy = 100.00,  RR Accuracy = 0.00  \n",
      "2025-03-19 15:35:54,573 INFO -- Model: 1\n"
     ]
    },
    {
     "name": "stdout",
     "output_type": "stream",
     "text": [
      "Anomaly: cfo1\n",
      "Epoch 1: Loss = 57012.4414\n",
      "Recon Loss =56367.6250, KL Loss = 0.0086, Sparsity Loss = 126.0190, Lagrangian Loss = 518.7902\n",
      "Epoch 51: Loss = 5966.3086\n",
      "Recon Loss =5382.8242, KL Loss = 2.5729, Sparsity Loss = 122.0903, Lagrangian Loss = 458.8214\n",
      "Epoch 101: Loss = 1703.6772\n",
      "Recon Loss =1392.7463, KL Loss = 4.4104, Sparsity Loss = 113.7722, Lagrangian Loss = 192.7483\n",
      "Epoch 151: Loss = 1769.7041\n",
      "Recon Loss =1307.6007, KL Loss = 4.3660, Sparsity Loss = 118.3791, Lagrangian Loss = 339.3585\n",
      "Early stopping triggered. Last Epoch: 159\n",
      "Recon Loss =1347.8794, KL Loss = 4.4392, Sparsity Loss = 119.9643, Lagrangian Loss = 358.2567\n"
     ]
    },
    {
     "name": "stderr",
     "output_type": "stream",
     "text": [
      "2025-03-19 15:37:06,845 INFO -- Edge Accuracy = 50.00, Instantaneous Accuracy = 50.00, Lagged Accuracy = 0.00, Counterfactual Accuracy = 0.00,  Blended Accuracy = 50.00,  RR Accuracy = 50.00  \n",
      "2025-03-19 15:37:06,846 INFO -- Model: 2\n"
     ]
    },
    {
     "name": "stdout",
     "output_type": "stream",
     "text": [
      "Anomaly: cso1\n",
      "Epoch 1: Loss = 16273.7549\n",
      "Recon Loss =15786.7803, KL Loss = 0.0052, Sparsity Loss = 122.3766, Lagrangian Loss = 364.5931\n",
      "Epoch 51: Loss = 2344.6990\n",
      "Recon Loss =1199.1029, KL Loss = 2.4373, Sparsity Loss = 131.6247, Lagrangian Loss = 1011.5340\n",
      "Epoch 101: Loss = 1471.7922\n",
      "Recon Loss =225.6727, KL Loss = 4.6485, Sparsity Loss = 130.7599, Lagrangian Loss = 1110.7112\n",
      "Epoch 151: Loss = 495.3727\n",
      "Recon Loss =179.6988, KL Loss = 4.7536, Sparsity Loss = 120.2860, Lagrangian Loss = 190.6342\n",
      "Epoch 201: Loss = 407.7846\n",
      "Recon Loss =184.6533, KL Loss = 4.8174, Sparsity Loss = 108.5755, Lagrangian Loss = 109.7383\n",
      "Epoch 251: Loss = 416.5790\n",
      "Recon Loss =183.0437, KL Loss = 4.7071, Sparsity Loss = 109.7066, Lagrangian Loss = 119.1216\n",
      "Early stopping triggered. Last Epoch: 257\n",
      "Recon Loss =189.4842, KL Loss = 4.6608, Sparsity Loss = 107.5509, Lagrangian Loss = 107.6494\n"
     ]
    },
    {
     "name": "stderr",
     "output_type": "stream",
     "text": [
      "2025-03-19 15:37:41,534 INFO -- Edge Accuracy = 33.33, Instantaneous Accuracy = 33.33, Lagged Accuracy = 0.00, Counterfactual Accuracy = 33.33,  Blended Accuracy = 33.33,  RR Accuracy = 33.33  \n",
      "2025-03-19 15:37:41,535 INFO -- Model: 3\n"
     ]
    },
    {
     "name": "stdout",
     "output_type": "stream",
     "text": [
      "Anomaly: ced1\n",
      "Epoch 1: Loss = 3870.6782\n",
      "Recon Loss =3473.5977, KL Loss = 0.0099, Sparsity Loss = 122.0305, Lagrangian Loss = 275.0401\n",
      "Epoch 51: Loss = 511.4185\n",
      "Recon Loss =46.9820, KL Loss = 2.7458, Sparsity Loss = 117.8871, Lagrangian Loss = 343.8036\n",
      "Epoch 101: Loss = 454.1665\n",
      "Recon Loss =32.7630, KL Loss = 3.2806, Sparsity Loss = 116.3695, Lagrangian Loss = 301.7534\n",
      "Epoch 151: Loss = 419.9746\n",
      "Recon Loss =32.2013, KL Loss = 3.3997, Sparsity Loss = 117.0282, Lagrangian Loss = 267.3455\n",
      "Epoch 201: Loss = 336.0693\n",
      "Recon Loss =33.8452, KL Loss = 3.1581, Sparsity Loss = 107.9964, Lagrangian Loss = 191.0696\n",
      "Early stopping triggered. Last Epoch: 245\n",
      "Recon Loss =36.2935, KL Loss = 3.3233, Sparsity Loss = 108.4999, Lagrangian Loss = 178.9054\n"
     ]
    },
    {
     "name": "stderr",
     "output_type": "stream",
     "text": [
      "2025-03-19 15:37:59,371 INFO -- Edge Accuracy = 50.00, Instantaneous Accuracy = 50.00, Lagged Accuracy = 25.00, Counterfactual Accuracy = 25.00,  Blended Accuracy = 50.00,  RR Accuracy = 50.00  \n",
      "2025-03-19 15:37:59,371 INFO -- Model: 4\n"
     ]
    },
    {
     "name": "stdout",
     "output_type": "stream",
     "text": [
      "Anomaly: cfo1\n",
      "Epoch 1: Loss = 4063.2944\n",
      "Recon Loss =3639.2544, KL Loss = 0.0057, Sparsity Loss = 124.3964, Lagrangian Loss = 299.6378\n",
      "Epoch 51: Loss = 604.5419\n",
      "Recon Loss =143.5190, KL Loss = 2.7492, Sparsity Loss = 117.9177, Lagrangian Loss = 340.3558\n",
      "Epoch 101: Loss = 527.8444\n",
      "Recon Loss =111.6907, KL Loss = 3.4699, Sparsity Loss = 117.2914, Lagrangian Loss = 295.3925\n",
      "Epoch 151: Loss = 413.5255\n",
      "Recon Loss =102.8301, KL Loss = 3.7842, Sparsity Loss = 120.5731, Lagrangian Loss = 186.3381\n",
      "Epoch 201: Loss = 304.6152\n",
      "Recon Loss =55.1429, KL Loss = 4.1919, Sparsity Loss = 112.2686, Lagrangian Loss = 133.0119\n",
      "Epoch 251: Loss = 293.2320\n",
      "Recon Loss =50.1327, KL Loss = 4.1936, Sparsity Loss = 111.8457, Lagrangian Loss = 127.0599\n",
      "Epoch 301: Loss = 276.4870\n",
      "Recon Loss =48.4397, KL Loss = 4.1913, Sparsity Loss = 108.1712, Lagrangian Loss = 115.6847\n",
      "Epoch 351: Loss = 279.9848\n",
      "Recon Loss =44.1522, KL Loss = 4.2356, Sparsity Loss = 110.3087, Lagrangian Loss = 121.2883\n",
      "Early stopping triggered. Last Epoch: 377\n",
      "Recon Loss =46.8554, KL Loss = 4.1160, Sparsity Loss = 105.5415, Lagrangian Loss = 108.9204\n"
     ]
    },
    {
     "name": "stderr",
     "output_type": "stream",
     "text": [
      "2025-03-19 15:38:26,739 INFO -- Edge Accuracy = 40.00, Instantaneous Accuracy = 40.00, Lagged Accuracy = 20.00, Counterfactual Accuracy = 20.00,  Blended Accuracy = 40.00,  RR Accuracy = 40.00  \n",
      "2025-03-19 15:38:26,740 INFO -- Model: 5\n"
     ]
    },
    {
     "name": "stdout",
     "output_type": "stream",
     "text": [
      "Anomaly: cfo1\n",
      "Epoch 1: Loss = 10103.8740\n",
      "Recon Loss =9733.6367, KL Loss = 0.0074, Sparsity Loss = 120.9207, Lagrangian Loss = 249.3085\n",
      "Epoch 51: Loss = 876.3136\n",
      "Recon Loss =445.3469, KL Loss = 2.9540, Sparsity Loss = 117.4617, Lagrangian Loss = 310.5510\n",
      "Epoch 101: Loss = 579.1648\n",
      "Recon Loss =73.4081, KL Loss = 4.2613, Sparsity Loss = 119.6519, Lagrangian Loss = 381.8434\n",
      "Epoch 151: Loss = 438.1336\n",
      "Recon Loss =73.6051, KL Loss = 4.2466, Sparsity Loss = 116.9012, Lagrangian Loss = 243.3807\n",
      "Epoch 201: Loss = 338.4120\n",
      "Recon Loss =73.0943, KL Loss = 4.1811, Sparsity Loss = 110.7953, Lagrangian Loss = 150.3414\n",
      "Early stopping triggered. Last Epoch: 247\n",
      "Recon Loss =70.0531, KL Loss = 4.2709, Sparsity Loss = 107.1022, Lagrangian Loss = 130.1762\n"
     ]
    },
    {
     "name": "stderr",
     "output_type": "stream",
     "text": [
      "2025-03-19 15:38:55,038 INFO -- Edge Accuracy = 50.00, Instantaneous Accuracy = 33.33, Lagged Accuracy = 33.33, Counterfactual Accuracy = 33.33,  Blended Accuracy = 50.00,  RR Accuracy = 50.00  \n",
      "2025-03-19 15:38:55,039 INFO -- Model: 6\n"
     ]
    },
    {
     "name": "stdout",
     "output_type": "stream",
     "text": [
      "Anomaly: cso1\n",
      "Epoch 1: Loss = 4512.0259\n",
      "Recon Loss =4169.9478, KL Loss = 0.0107, Sparsity Loss = 118.2566, Lagrangian Loss = 223.8110\n",
      "Epoch 51: Loss = 703.7893\n",
      "Recon Loss =236.8073, KL Loss = 2.2994, Sparsity Loss = 118.6926, Lagrangian Loss = 345.9899\n",
      "Epoch 101: Loss = 585.4933\n",
      "Recon Loss =134.4866, KL Loss = 3.6291, Sparsity Loss = 118.6761, Lagrangian Loss = 328.7015\n",
      "Epoch 151: Loss = 360.9637\n",
      "Recon Loss =49.7295, KL Loss = 4.4486, Sparsity Loss = 116.3165, Lagrangian Loss = 190.4690\n",
      "Epoch 201: Loss = 290.9837\n",
      "Recon Loss =47.0878, KL Loss = 4.4079, Sparsity Loss = 110.0873, Lagrangian Loss = 129.4008\n",
      "Epoch 251: Loss = 293.1718\n",
      "Recon Loss =48.2090, KL Loss = 4.2900, Sparsity Loss = 110.8727, Lagrangian Loss = 129.8000\n",
      "Epoch 301: Loss = 256.7190\n",
      "Recon Loss =47.7579, KL Loss = 4.4419, Sparsity Loss = 105.2413, Lagrangian Loss = 99.2778\n",
      "Epoch 351: Loss = 277.4881\n",
      "Recon Loss =46.0116, KL Loss = 4.1795, Sparsity Loss = 107.1442, Lagrangian Loss = 120.1527\n",
      "Epoch 401: Loss = 253.3448\n",
      "Recon Loss =45.4070, KL Loss = 4.2392, Sparsity Loss = 103.7749, Lagrangian Loss = 99.9237\n",
      "Early stopping triggered. Last Epoch: 402\n",
      "Recon Loss =45.3778, KL Loss = 4.2293, Sparsity Loss = 108.4156, Lagrangian Loss = 110.1329\n"
     ]
    },
    {
     "name": "stderr",
     "output_type": "stream",
     "text": [
      "2025-03-19 15:39:24,179 INFO -- Edge Accuracy = 42.86, Instantaneous Accuracy = 28.57, Lagged Accuracy = 28.57, Counterfactual Accuracy = 42.86,  Blended Accuracy = 42.86,  RR Accuracy = 42.86  \n",
      "2025-03-19 15:39:24,180 INFO -- Model: 7\n"
     ]
    },
    {
     "name": "stdout",
     "output_type": "stream",
     "text": [
      "Anomaly: cfo1\n",
      "Epoch 1: Loss = 4686.5229\n",
      "Recon Loss =4350.4014, KL Loss = 0.0097, Sparsity Loss = 119.2559, Lagrangian Loss = 216.8558\n",
      "Epoch 51: Loss = 443.8083\n",
      "Recon Loss =53.4259, KL Loss = 2.1082, Sparsity Loss = 113.5713, Lagrangian Loss = 274.7028\n",
      "Epoch 101: Loss = 430.4130\n",
      "Recon Loss =42.7056, KL Loss = 2.9805, Sparsity Loss = 120.8484, Lagrangian Loss = 263.8785\n",
      "Epoch 151: Loss = 324.4037\n",
      "Recon Loss =50.9160, KL Loss = 3.4079, Sparsity Loss = 113.0169, Lagrangian Loss = 157.0629\n",
      "Epoch 201: Loss = 281.7634\n",
      "Recon Loss =42.2755, KL Loss = 3.5300, Sparsity Loss = 108.2947, Lagrangian Loss = 127.6632\n",
      "Early stopping triggered. Last Epoch: 238\n",
      "Recon Loss =45.0572, KL Loss = 3.4247, Sparsity Loss = 108.3336, Lagrangian Loss = 136.4243\n"
     ]
    },
    {
     "name": "stderr",
     "output_type": "stream",
     "text": [
      "2025-03-19 15:39:53,038 INFO -- Edge Accuracy = 37.50, Instantaneous Accuracy = 25.00, Lagged Accuracy = 25.00, Counterfactual Accuracy = 37.50,  Blended Accuracy = 37.50,  RR Accuracy = 50.00  \n",
      "2025-03-19 15:39:53,038 INFO -- Model: 8\n"
     ]
    },
    {
     "name": "stdout",
     "output_type": "stream",
     "text": [
      "Anomaly: cso1\n",
      "Epoch 1: Loss = 10608.3096\n",
      "Recon Loss =10195.7148, KL Loss = 0.0119, Sparsity Loss = 122.2383, Lagrangian Loss = 290.3448\n",
      "Epoch 51: Loss = 1399.2604\n",
      "Recon Loss =838.1330, KL Loss = 1.9833, Sparsity Loss = 120.3062, Lagrangian Loss = 438.8379\n",
      "Epoch 101: Loss = 1297.0281\n",
      "Recon Loss =614.2200, KL Loss = 3.8055, Sparsity Loss = 124.5509, Lagrangian Loss = 554.4517\n",
      "Epoch 151: Loss = 638.4617\n",
      "Recon Loss =113.6060, KL Loss = 3.5001, Sparsity Loss = 120.8006, Lagrangian Loss = 400.5550\n",
      "Epoch 201: Loss = 786.3357\n",
      "Recon Loss =71.7186, KL Loss = 4.2168, Sparsity Loss = 123.1310, Lagrangian Loss = 587.2693\n",
      "Epoch 251: Loss = 361.4852\n",
      "Recon Loss =78.5612, KL Loss = 4.4663, Sparsity Loss = 117.5867, Lagrangian Loss = 160.8710\n",
      "Epoch 301: Loss = 310.6539\n",
      "Recon Loss =81.3597, KL Loss = 4.2162, Sparsity Loss = 107.3530, Lagrangian Loss = 117.7249\n",
      "Epoch 351: Loss = 334.5705\n",
      "Recon Loss =70.4852, KL Loss = 4.4833, Sparsity Loss = 111.6644, Lagrangian Loss = 147.9377\n",
      "Early stopping triggered. Last Epoch: 365\n",
      "Recon Loss =119.0638, KL Loss = 4.4171, Sparsity Loss = 108.7363, Lagrangian Loss = 124.8159\n"
     ]
    },
    {
     "name": "stderr",
     "output_type": "stream",
     "text": [
      "2025-03-19 15:40:34,643 INFO -- Edge Accuracy = 33.33, Instantaneous Accuracy = 22.22, Lagged Accuracy = 22.22, Counterfactual Accuracy = 33.33,  Blended Accuracy = 33.33,  RR Accuracy = 44.44  \n",
      "2025-03-19 15:40:34,643 INFO -- Model: 9\n"
     ]
    },
    {
     "name": "stdout",
     "output_type": "stream",
     "text": [
      "Anomaly: ced1\n",
      "Epoch 1: Loss = 6757.6963\n",
      "Recon Loss =6389.1147, KL Loss = 0.0113, Sparsity Loss = 120.0551, Lagrangian Loss = 248.5152\n",
      "Epoch 51: Loss = 630.7368\n",
      "Recon Loss =155.5315, KL Loss = 2.9427, Sparsity Loss = 120.1156, Lagrangian Loss = 352.1470\n",
      "Epoch 101: Loss = 541.4247\n",
      "Recon Loss =90.8203, KL Loss = 3.7506, Sparsity Loss = 118.6472, Lagrangian Loss = 328.2065\n",
      "Early stopping triggered. Last Epoch: 147\n",
      "Recon Loss =87.7014, KL Loss = 3.9952, Sparsity Loss = 119.3197, Lagrangian Loss = 400.7410\n"
     ]
    },
    {
     "name": "stderr",
     "output_type": "stream",
     "text": [
      "2025-03-19 15:40:49,820 INFO -- Edge Accuracy = 30.00, Instantaneous Accuracy = 20.00, Lagged Accuracy = 20.00, Counterfactual Accuracy = 30.00,  Blended Accuracy = 30.00,  RR Accuracy = 40.00  \n",
      "2025-03-19 15:40:49,821 INFO -- Model: 10\n"
     ]
    },
    {
     "name": "stdout",
     "output_type": "stream",
     "text": [
      "Anomaly: cfo1\n",
      "Epoch 1: Loss = 3800.7776\n",
      "Recon Loss =3404.3965, KL Loss = 0.0057, Sparsity Loss = 122.0323, Lagrangian Loss = 274.3432\n",
      "Epoch 51: Loss = 514.1829\n",
      "Recon Loss =59.9691, KL Loss = 2.6085, Sparsity Loss = 119.6725, Lagrangian Loss = 331.9328\n",
      "Epoch 101: Loss = 527.3423\n",
      "Recon Loss =46.9863, KL Loss = 3.2837, Sparsity Loss = 118.9850, Lagrangian Loss = 358.0872\n",
      "Epoch 151: Loss = 348.2837\n",
      "Recon Loss =47.2673, KL Loss = 3.3301, Sparsity Loss = 117.0285, Lagrangian Loss = 180.6578\n",
      "Epoch 201: Loss = 335.3505\n",
      "Recon Loss =54.8958, KL Loss = 3.3592, Sparsity Loss = 114.3608, Lagrangian Loss = 162.7348\n",
      "Early stopping triggered. Last Epoch: 229\n",
      "Recon Loss =47.8349, KL Loss = 3.4136, Sparsity Loss = 110.5589, Lagrangian Loss = 141.2563\n"
     ]
    },
    {
     "name": "stderr",
     "output_type": "stream",
     "text": [
      "2025-03-19 15:41:06,448 INFO -- Edge Accuracy = 27.27, Instantaneous Accuracy = 18.18, Lagged Accuracy = 18.18, Counterfactual Accuracy = 36.36,  Blended Accuracy = 27.27,  RR Accuracy = 45.45  \n",
      "2025-03-19 15:41:06,448 INFO -- Model: 11\n"
     ]
    },
    {
     "name": "stdout",
     "output_type": "stream",
     "text": [
      "Anomaly: cso1\n",
      "Epoch 1: Loss = 8300.2744\n",
      "Recon Loss =7920.9014, KL Loss = 0.0055, Sparsity Loss = 117.6921, Lagrangian Loss = 261.6754\n",
      "Epoch 51: Loss = 687.9139\n",
      "Recon Loss =195.1011, KL Loss = 2.5083, Sparsity Loss = 117.7682, Lagrangian Loss = 372.5363\n",
      "Epoch 101: Loss = 512.7458\n",
      "Recon Loss =103.5625, KL Loss = 3.4676, Sparsity Loss = 115.2851, Lagrangian Loss = 290.4307\n",
      "Early stopping triggered. Last Epoch: 124\n",
      "Recon Loss =102.8869, KL Loss = 3.6196, Sparsity Loss = 117.7439, Lagrangian Loss = 339.5726\n"
     ]
    },
    {
     "name": "stderr",
     "output_type": "stream",
     "text": [
      "2025-03-19 15:41:21,184 INFO -- Edge Accuracy = 25.00, Instantaneous Accuracy = 16.67, Lagged Accuracy = 16.67, Counterfactual Accuracy = 33.33,  Blended Accuracy = 25.00,  RR Accuracy = 50.00  \n",
      "2025-03-19 15:41:21,184 INFO -- Model: 12\n"
     ]
    },
    {
     "name": "stdout",
     "output_type": "stream",
     "text": [
      "Anomaly: cso1\n",
      "Epoch 1: Loss = 9757.7764\n",
      "Recon Loss =9258.1592, KL Loss = 0.0064, Sparsity Loss = 124.7725, Lagrangian Loss = 374.8379\n",
      "Epoch 51: Loss = 762.8206\n",
      "Recon Loss =278.5328, KL Loss = 3.2121, Sparsity Loss = 118.7527, Lagrangian Loss = 362.3230\n",
      "Epoch 101: Loss = 621.7098\n",
      "Recon Loss =223.2453, KL Loss = 3.5122, Sparsity Loss = 117.2179, Lagrangian Loss = 277.7345\n",
      "Epoch 151: Loss = 507.4516\n",
      "Recon Loss =236.3968, KL Loss = 3.8839, Sparsity Loss = 116.7841, Lagrangian Loss = 150.3869\n",
      "Epoch 201: Loss = 475.9872\n",
      "Recon Loss =219.5515, KL Loss = 3.5566, Sparsity Loss = 114.7578, Lagrangian Loss = 138.1213\n",
      "Epoch 251: Loss = 419.4057\n",
      "Recon Loss =163.3437, KL Loss = 3.6890, Sparsity Loss = 113.8923, Lagrangian Loss = 138.4806\n",
      "Epoch 301: Loss = 459.2394\n",
      "Recon Loss =237.1321, KL Loss = 3.5089, Sparsity Loss = 109.9532, Lagrangian Loss = 108.6453\n",
      "Early stopping triggered. Last Epoch: 320\n",
      "Recon Loss =199.8379, KL Loss = 3.3643, Sparsity Loss = 111.4769, Lagrangian Loss = 127.0143\n"
     ]
    },
    {
     "name": "stderr",
     "output_type": "stream",
     "text": [
      "2025-03-19 15:42:04,437 INFO -- Edge Accuracy = 23.08, Instantaneous Accuracy = 15.38, Lagged Accuracy = 15.38, Counterfactual Accuracy = 30.77,  Blended Accuracy = 23.08,  RR Accuracy = 46.15  \n",
      "2025-03-19 15:42:04,438 INFO -- Model: 13\n"
     ]
    },
    {
     "name": "stdout",
     "output_type": "stream",
     "text": [
      "Anomaly: cso1\n",
      "Epoch 1: Loss = 6142.7144\n",
      "Recon Loss =5763.0039, KL Loss = 0.0078, Sparsity Loss = 122.0658, Lagrangian Loss = 257.6368\n",
      "Epoch 51: Loss = 950.2432\n",
      "Recon Loss =385.7405, KL Loss = 2.6395, Sparsity Loss = 120.5829, Lagrangian Loss = 441.2802\n",
      "Epoch 101: Loss = 766.0504\n",
      "Recon Loss =340.2768, KL Loss = 3.4555, Sparsity Loss = 116.5765, Lagrangian Loss = 305.7416\n",
      "Epoch 151: Loss = 595.2789\n",
      "Recon Loss =167.2304, KL Loss = 3.2923, Sparsity Loss = 118.2250, Lagrangian Loss = 306.5312\n",
      "Epoch 201: Loss = 407.3549\n",
      "Recon Loss =43.0171, KL Loss = 3.9939, Sparsity Loss = 122.1714, Lagrangian Loss = 238.1724\n",
      "Epoch 251: Loss = 273.4813\n",
      "Recon Loss =39.5572, KL Loss = 4.0983, Sparsity Loss = 107.7839, Lagrangian Loss = 122.0420\n",
      "Epoch 301: Loss = 264.3703\n",
      "Recon Loss =37.8769, KL Loss = 4.1096, Sparsity Loss = 106.4495, Lagrangian Loss = 115.9342\n",
      "Epoch 351: Loss = 271.3266\n",
      "Recon Loss =35.3478, KL Loss = 4.0703, Sparsity Loss = 106.2761, Lagrangian Loss = 125.6324\n",
      "Early stopping triggered. Last Epoch: 394\n",
      "Recon Loss =37.1309, KL Loss = 4.0978, Sparsity Loss = 108.0843, Lagrangian Loss = 124.5952\n"
     ]
    },
    {
     "name": "stderr",
     "output_type": "stream",
     "text": [
      "2025-03-19 15:42:32,740 INFO -- Edge Accuracy = 21.43, Instantaneous Accuracy = 14.29, Lagged Accuracy = 14.29, Counterfactual Accuracy = 35.71,  Blended Accuracy = 21.43,  RR Accuracy = 42.86  \n",
      "2025-03-19 15:42:32,741 INFO -- Model: 14\n"
     ]
    },
    {
     "name": "stdout",
     "output_type": "stream",
     "text": [
      "Anomaly: cfo1\n",
      "Epoch 1: Loss = 4247.2485\n",
      "Recon Loss =3816.8940, KL Loss = 0.0104, Sparsity Loss = 122.0414, Lagrangian Loss = 308.3023\n",
      "Epoch 51: Loss = 840.5814\n",
      "Recon Loss =152.7525, KL Loss = 2.7868, Sparsity Loss = 123.5574, Lagrangian Loss = 561.4847\n",
      "Epoch 101: Loss = 438.8895\n",
      "Recon Loss =53.1496, KL Loss = 3.9642, Sparsity Loss = 116.6110, Lagrangian Loss = 265.1647\n",
      "Epoch 151: Loss = 427.3582\n",
      "Recon Loss =49.0487, KL Loss = 4.3326, Sparsity Loss = 117.7020, Lagrangian Loss = 256.2748\n",
      "Epoch 201: Loss = 348.2641\n",
      "Recon Loss =48.5737, KL Loss = 4.4330, Sparsity Loss = 117.0042, Lagrangian Loss = 178.2533\n",
      "Epoch 251: Loss = 322.3507\n",
      "Recon Loss =46.9457, KL Loss = 4.2533, Sparsity Loss = 114.1505, Lagrangian Loss = 157.0013\n",
      "Early stopping triggered. Last Epoch: 278\n",
      "Recon Loss =47.3226, KL Loss = 4.2810, Sparsity Loss = 111.3246, Lagrangian Loss = 139.5196\n"
     ]
    },
    {
     "name": "stderr",
     "output_type": "stream",
     "text": [
      "2025-03-19 15:42:52,746 INFO -- Edge Accuracy = 26.67, Instantaneous Accuracy = 20.00, Lagged Accuracy = 20.00, Counterfactual Accuracy = 40.00,  Blended Accuracy = 26.67,  RR Accuracy = 46.67  \n",
      "2025-03-19 15:42:52,746 INFO -- Model: 15\n"
     ]
    },
    {
     "name": "stdout",
     "output_type": "stream",
     "text": [
      "Anomaly: ced1\n",
      "Epoch 1: Loss = 6049.5776\n",
      "Recon Loss =5638.6973, KL Loss = 0.0074, Sparsity Loss = 121.9132, Lagrangian Loss = 288.9602\n",
      "Epoch 51: Loss = 719.1907\n",
      "Recon Loss =158.5148, KL Loss = 2.6978, Sparsity Loss = 121.1579, Lagrangian Loss = 436.8202\n",
      "Epoch 101: Loss = 707.3502\n",
      "Recon Loss =128.6339, KL Loss = 3.2820, Sparsity Loss = 121.6458, Lagrangian Loss = 453.7884\n",
      "Epoch 151: Loss = 407.3767\n",
      "Recon Loss =130.1824, KL Loss = 3.1548, Sparsity Loss = 117.4014, Lagrangian Loss = 156.6381\n",
      "Epoch 201: Loss = 286.6035\n",
      "Recon Loss =67.8487, KL Loss = 3.6015, Sparsity Loss = 106.0822, Lagrangian Loss = 109.0710\n",
      "Epoch 251: Loss = 268.6832\n",
      "Recon Loss =55.7545, KL Loss = 3.7158, Sparsity Loss = 104.1522, Lagrangian Loss = 105.0607\n",
      "Epoch 301: Loss = 264.7633\n",
      "Recon Loss =43.2152, KL Loss = 3.7434, Sparsity Loss = 107.1965, Lagrangian Loss = 110.6082\n",
      "Early stopping triggered. Last Epoch: 335\n",
      "Recon Loss =48.4810, KL Loss = 3.4676, Sparsity Loss = 107.4302, Lagrangian Loss = 113.7980\n"
     ]
    },
    {
     "name": "stderr",
     "output_type": "stream",
     "text": [
      "2025-03-19 15:43:26,803 INFO -- Edge Accuracy = 25.00, Instantaneous Accuracy = 18.75, Lagged Accuracy = 18.75, Counterfactual Accuracy = 37.50,  Blended Accuracy = 25.00,  RR Accuracy = 50.00  \n",
      "2025-03-19 15:43:26,803 INFO -- Model: 16\n"
     ]
    },
    {
     "name": "stdout",
     "output_type": "stream",
     "text": [
      "Anomaly: cfo1\n",
      "Epoch 1: Loss = 8848.4150\n",
      "Recon Loss =8200.8691, KL Loss = 0.0065, Sparsity Loss = 127.0542, Lagrangian Loss = 520.4853\n",
      "Epoch 51: Loss = 817.9543\n",
      "Recon Loss =403.9579, KL Loss = 2.9615, Sparsity Loss = 117.0373, Lagrangian Loss = 293.9976\n",
      "Epoch 101: Loss = 608.8629\n",
      "Recon Loss =119.6126, KL Loss = 3.8012, Sparsity Loss = 119.4570, Lagrangian Loss = 365.9922\n",
      "Epoch 151: Loss = 443.4155\n",
      "Recon Loss =89.6055, KL Loss = 4.2523, Sparsity Loss = 116.4283, Lagrangian Loss = 233.1294\n",
      "Epoch 201: Loss = 380.7582\n",
      "Recon Loss =90.1963, KL Loss = 4.1574, Sparsity Loss = 117.8127, Lagrangian Loss = 168.5919\n",
      "Epoch 251: Loss = 347.8983\n",
      "Recon Loss =89.2241, KL Loss = 4.2133, Sparsity Loss = 110.5962, Lagrangian Loss = 143.8647\n",
      "Epoch 301: Loss = 302.0847\n",
      "Recon Loss =78.8051, KL Loss = 4.1901, Sparsity Loss = 106.6161, Lagrangian Loss = 112.4733\n",
      "Early stopping triggered. Last Epoch: 332\n",
      "Recon Loss =68.6507, KL Loss = 4.2604, Sparsity Loss = 105.7025, Lagrangian Loss = 102.1063\n"
     ]
    },
    {
     "name": "stderr",
     "output_type": "stream",
     "text": [
      "2025-03-19 15:44:05,499 INFO -- Edge Accuracy = 23.53, Instantaneous Accuracy = 17.65, Lagged Accuracy = 17.65, Counterfactual Accuracy = 41.18,  Blended Accuracy = 23.53,  RR Accuracy = 52.94  \n",
      "2025-03-19 15:44:05,500 INFO -- Model: 17\n"
     ]
    },
    {
     "name": "stdout",
     "output_type": "stream",
     "text": [
      "Anomaly: cfo1\n",
      "Epoch 1: Loss = 48924.6797\n",
      "Recon Loss =48417.6758, KL Loss = 0.0096, Sparsity Loss = 123.6486, Lagrangian Loss = 383.3464\n",
      "Epoch 51: Loss = 2268.5220\n",
      "Recon Loss =1776.6707, KL Loss = 2.8701, Sparsity Loss = 119.5133, Lagrangian Loss = 369.4680\n",
      "Epoch 101: Loss = 2388.9993\n",
      "Recon Loss =890.2505, KL Loss = 4.1834, Sparsity Loss = 136.7552, Lagrangian Loss = 1357.8102\n",
      "Early stopping triggered. Last Epoch: 131\n",
      "Recon Loss =803.4648, KL Loss = 4.1834, Sparsity Loss = 134.4909, Lagrangian Loss = 1059.1692\n"
     ]
    },
    {
     "name": "stderr",
     "output_type": "stream",
     "text": [
      "2025-03-19 15:45:04,972 INFO -- Edge Accuracy = 22.22, Instantaneous Accuracy = 16.67, Lagged Accuracy = 16.67, Counterfactual Accuracy = 44.44,  Blended Accuracy = 22.22,  RR Accuracy = 55.56  \n",
      "2025-03-19 15:45:04,973 INFO -- Model: 18\n"
     ]
    },
    {
     "name": "stdout",
     "output_type": "stream",
     "text": [
      "Anomaly: ced1\n",
      "Epoch 1: Loss = 8470.4971\n",
      "Recon Loss =7733.8540, KL Loss = 0.0080, Sparsity Loss = 126.3456, Lagrangian Loss = 610.2894\n",
      "Epoch 51: Loss = 917.1444\n",
      "Recon Loss =335.4403, KL Loss = 2.4337, Sparsity Loss = 121.7252, Lagrangian Loss = 457.5451\n",
      "Epoch 101: Loss = 593.4724\n",
      "Recon Loss =134.6638, KL Loss = 4.1112, Sparsity Loss = 119.0939, Lagrangian Loss = 335.6036\n",
      "Epoch 151: Loss = 493.4006\n",
      "Recon Loss =78.7254, KL Loss = 5.0288, Sparsity Loss = 117.9931, Lagrangian Loss = 291.6533\n",
      "Early stopping triggered. Last Epoch: 176\n",
      "Recon Loss =82.6107, KL Loss = 5.0546, Sparsity Loss = 117.1043, Lagrangian Loss = 291.4121\n"
     ]
    },
    {
     "name": "stderr",
     "output_type": "stream",
     "text": [
      "2025-03-19 15:45:23,311 INFO -- Edge Accuracy = 21.05, Instantaneous Accuracy = 15.79, Lagged Accuracy = 15.79, Counterfactual Accuracy = 47.37,  Blended Accuracy = 26.32,  RR Accuracy = 52.63  \n",
      "2025-03-19 15:45:23,311 INFO -- Model: 19\n"
     ]
    },
    {
     "name": "stdout",
     "output_type": "stream",
     "text": [
      "Anomaly: cso1\n",
      "Epoch 1: Loss = 4908.5288\n",
      "Recon Loss =4538.0996, KL Loss = 0.0099, Sparsity Loss = 119.4757, Lagrangian Loss = 250.9440\n",
      "Epoch 51: Loss = 876.4312\n",
      "Recon Loss =352.0362, KL Loss = 2.1107, Sparsity Loss = 120.1248, Lagrangian Loss = 402.1595\n",
      "Epoch 101: Loss = 626.4150\n",
      "Recon Loss =66.3915, KL Loss = 3.6299, Sparsity Loss = 122.1447, Lagrangian Loss = 434.2488\n",
      "Epoch 151: Loss = 322.1802\n",
      "Recon Loss =47.9509, KL Loss = 3.8541, Sparsity Loss = 115.3193, Lagrangian Loss = 155.0560\n",
      "Epoch 201: Loss = 297.8882\n",
      "Recon Loss =48.4996, KL Loss = 3.9960, Sparsity Loss = 109.3781, Lagrangian Loss = 136.0145\n",
      "Epoch 251: Loss = 301.3451\n",
      "Recon Loss =47.2420, KL Loss = 3.9564, Sparsity Loss = 108.0009, Lagrangian Loss = 142.1457\n",
      "Early stopping triggered. Last Epoch: 252\n",
      "Recon Loss =46.7672, KL Loss = 3.9441, Sparsity Loss = 108.9031, Lagrangian Loss = 143.4473\n"
     ]
    },
    {
     "name": "stderr",
     "output_type": "stream",
     "text": [
      "2025-03-19 15:45:41,856 INFO -- Edge Accuracy = 20.00, Instantaneous Accuracy = 15.00, Lagged Accuracy = 15.00, Counterfactual Accuracy = 45.00,  Blended Accuracy = 25.00,  RR Accuracy = 50.00  \n",
      "2025-03-19 15:45:41,857 INFO -- Model: 20\n"
     ]
    },
    {
     "name": "stdout",
     "output_type": "stream",
     "text": [
      "Anomaly: ced1\n",
      "Epoch 1: Loss = 5527.8066\n",
      "Recon Loss =5097.8276, KL Loss = 0.0082, Sparsity Loss = 124.6888, Lagrangian Loss = 305.2816\n",
      "Epoch 51: Loss = 648.5085\n",
      "Recon Loss =159.6426, KL Loss = 2.6086, Sparsity Loss = 119.7033, Lagrangian Loss = 366.5540\n",
      "Epoch 101: Loss = 420.0290\n",
      "Recon Loss =27.7715, KL Loss = 3.9277, Sparsity Loss = 115.4882, Lagrangian Loss = 272.8416\n",
      "Epoch 151: Loss = 287.3062\n",
      "Recon Loss =34.6127, KL Loss = 3.9097, Sparsity Loss = 111.2213, Lagrangian Loss = 137.5624\n",
      "Epoch 201: Loss = 244.4510\n",
      "Recon Loss =24.4947, KL Loss = 3.8160, Sparsity Loss = 107.0708, Lagrangian Loss = 109.0695\n",
      "Early stopping triggered. Last Epoch: 247\n",
      "Recon Loss =23.5002, KL Loss = 3.6524, Sparsity Loss = 108.7735, Lagrangian Loss = 123.5593\n"
     ]
    },
    {
     "name": "stderr",
     "output_type": "stream",
     "text": [
      "2025-03-19 15:46:00,113 INFO -- Edge Accuracy = 23.81, Instantaneous Accuracy = 19.05, Lagged Accuracy = 19.05, Counterfactual Accuracy = 42.86,  Blended Accuracy = 28.57,  RR Accuracy = 52.38  \n",
      "2025-03-19 15:46:00,113 INFO -- Model: 21\n"
     ]
    },
    {
     "name": "stdout",
     "output_type": "stream",
     "text": [
      "Anomaly: cfo1\n",
      "Epoch 1: Loss = 7188.8984\n",
      "Recon Loss =6739.3726, KL Loss = 0.0055, Sparsity Loss = 121.6436, Lagrangian Loss = 327.8772\n",
      "Epoch 51: Loss = 852.0690\n",
      "Recon Loss =372.0203, KL Loss = 1.8490, Sparsity Loss = 116.9739, Lagrangian Loss = 361.2258\n",
      "Epoch 101: Loss = 500.1007\n",
      "Recon Loss =85.0690, KL Loss = 3.9007, Sparsity Loss = 118.4305, Lagrangian Loss = 292.7005\n",
      "Epoch 151: Loss = 437.7393\n",
      "Recon Loss =65.5975, KL Loss = 4.0816, Sparsity Loss = 114.9866, Lagrangian Loss = 253.0737\n",
      "Epoch 201: Loss = 331.2405\n",
      "Recon Loss =62.9891, KL Loss = 4.1703, Sparsity Loss = 115.3350, Lagrangian Loss = 148.7461\n",
      "Epoch 251: Loss = 306.1712\n",
      "Recon Loss =63.7370, KL Loss = 4.2210, Sparsity Loss = 112.0464, Lagrangian Loss = 126.1668\n",
      "Epoch 301: Loss = 291.9119\n",
      "Recon Loss =64.9711, KL Loss = 4.1639, Sparsity Loss = 108.5662, Lagrangian Loss = 114.2107\n",
      "Early stopping triggered. Last Epoch: 340\n",
      "Recon Loss =63.3093, KL Loss = 3.9360, Sparsity Loss = 108.4629, Lagrangian Loss = 115.9281\n"
     ]
    },
    {
     "name": "stderr",
     "output_type": "stream",
     "text": [
      "2025-03-19 15:46:35,248 INFO -- Edge Accuracy = 22.73, Instantaneous Accuracy = 18.18, Lagged Accuracy = 18.18, Counterfactual Accuracy = 40.91,  Blended Accuracy = 27.27,  RR Accuracy = 54.55  \n",
      "2025-03-19 15:46:35,249 INFO -- Model: 22\n"
     ]
    },
    {
     "name": "stdout",
     "output_type": "stream",
     "text": [
      "Anomaly: cso1\n",
      "Epoch 1: Loss = 8175.3262\n",
      "Recon Loss =7747.0923, KL Loss = 0.0080, Sparsity Loss = 120.1889, Lagrangian Loss = 308.0374\n",
      "Epoch 51: Loss = 769.2183\n",
      "Recon Loss =359.2257, KL Loss = 2.2699, Sparsity Loss = 115.6404, Lagrangian Loss = 292.0823\n",
      "Epoch 101: Loss = 506.9602\n",
      "Recon Loss =101.6780, KL Loss = 3.6133, Sparsity Loss = 118.1949, Lagrangian Loss = 283.4741\n",
      "Epoch 151: Loss = 380.8613\n",
      "Recon Loss =87.7385, KL Loss = 3.9782, Sparsity Loss = 116.5296, Lagrangian Loss = 172.6149\n",
      "Epoch 201: Loss = 302.6171\n",
      "Recon Loss =71.9739, KL Loss = 4.2650, Sparsity Loss = 106.8627, Lagrangian Loss = 119.5155\n",
      "Epoch 251: Loss = 276.9056\n",
      "Recon Loss =45.4873, KL Loss = 4.3488, Sparsity Loss = 109.8159, Lagrangian Loss = 117.2536\n",
      "Epoch 301: Loss = 262.7381\n",
      "Recon Loss =43.8153, KL Loss = 4.5102, Sparsity Loss = 106.0009, Lagrangian Loss = 108.4117\n",
      "Early stopping triggered. Last Epoch: 336\n",
      "Recon Loss =43.2866, KL Loss = 4.4842, Sparsity Loss = 107.6295, Lagrangian Loss = 114.0910\n"
     ]
    },
    {
     "name": "stderr",
     "output_type": "stream",
     "text": [
      "2025-03-19 15:47:02,046 INFO -- Edge Accuracy = 21.74, Instantaneous Accuracy = 17.39, Lagged Accuracy = 21.74, Counterfactual Accuracy = 43.48,  Blended Accuracy = 26.09,  RR Accuracy = 52.17  \n",
      "2025-03-19 15:47:02,047 INFO -- Model: 23\n"
     ]
    },
    {
     "name": "stdout",
     "output_type": "stream",
     "text": [
      "Anomaly: ced1\n",
      "Epoch 1: Loss = 55075.6914\n",
      "Recon Loss =54677.0742, KL Loss = 0.0055, Sparsity Loss = 119.4602, Lagrangian Loss = 279.1505\n",
      "Epoch 51: Loss = 4668.2339\n",
      "Recon Loss =4236.8042, KL Loss = 2.5242, Sparsity Loss = 117.4841, Lagrangian Loss = 311.4214\n",
      "Epoch 101: Loss = 1327.6008\n",
      "Recon Loss =933.1331, KL Loss = 4.0979, Sparsity Loss = 117.0013, Lagrangian Loss = 273.3685\n",
      "Epoch 151: Loss = 1608.7128\n",
      "Recon Loss =1058.8621, KL Loss = 4.0685, Sparsity Loss = 120.2078, Lagrangian Loss = 425.5744\n",
      "Early stopping triggered. Last Epoch: 175\n",
      "Recon Loss =873.7593, KL Loss = 4.1909, Sparsity Loss = 117.4939, Lagrangian Loss = 346.1730\n"
     ]
    },
    {
     "name": "stderr",
     "output_type": "stream",
     "text": [
      "2025-03-19 15:48:21,336 INFO -- Edge Accuracy = 20.83, Instantaneous Accuracy = 16.67, Lagged Accuracy = 20.83, Counterfactual Accuracy = 41.67,  Blended Accuracy = 25.00,  RR Accuracy = 50.00  \n",
      "2025-03-19 15:48:21,336 INFO -- Model: 24\n"
     ]
    },
    {
     "name": "stdout",
     "output_type": "stream",
     "text": [
      "Anomaly: ced1\n",
      "Epoch 1: Loss = 3981.4810\n",
      "Recon Loss =3487.3857, KL Loss = 0.0083, Sparsity Loss = 124.9238, Lagrangian Loss = 369.1631\n",
      "Epoch 51: Loss = 930.4677\n",
      "Recon Loss =148.2839, KL Loss = 2.5787, Sparsity Loss = 123.2173, Lagrangian Loss = 656.3878\n",
      "Epoch 101: Loss = 411.4180\n",
      "Recon Loss =47.5676, KL Loss = 2.9176, Sparsity Loss = 115.7978, Lagrangian Loss = 245.1349\n",
      "Epoch 151: Loss = 330.1134\n",
      "Recon Loss =44.2336, KL Loss = 3.3275, Sparsity Loss = 118.1583, Lagrangian Loss = 164.3940\n",
      "Epoch 201: Loss = 307.6172\n",
      "Recon Loss =43.8879, KL Loss = 3.5127, Sparsity Loss = 114.7688, Lagrangian Loss = 145.4478\n",
      "Early stopping triggered. Last Epoch: 240\n",
      "Recon Loss =45.3709, KL Loss = 3.3636, Sparsity Loss = 108.8217, Lagrangian Loss = 118.6212\n"
     ]
    },
    {
     "name": "stderr",
     "output_type": "stream",
     "text": [
      "2025-03-19 15:48:38,862 INFO -- Edge Accuracy = 20.00, Instantaneous Accuracy = 16.00, Lagged Accuracy = 20.00, Counterfactual Accuracy = 44.00,  Blended Accuracy = 24.00,  RR Accuracy = 52.00  \n",
      "2025-03-19 15:48:38,862 INFO -- Model: 25\n"
     ]
    },
    {
     "name": "stdout",
     "output_type": "stream",
     "text": [
      "Anomaly: ced1\n",
      "Epoch 1: Loss = 4511.7529\n",
      "Recon Loss =4133.7861, KL Loss = 0.0063, Sparsity Loss = 121.0714, Lagrangian Loss = 256.8890\n",
      "Epoch 51: Loss = 1186.4380\n",
      "Recon Loss =71.7701, KL Loss = 3.0497, Sparsity Loss = 130.8594, Lagrangian Loss = 980.7588\n",
      "Epoch 101: Loss = 452.7357\n",
      "Recon Loss =37.9565, KL Loss = 3.5185, Sparsity Loss = 116.7908, Lagrangian Loss = 294.4699\n",
      "Epoch 151: Loss = 410.5287\n",
      "Recon Loss =35.4968, KL Loss = 3.5532, Sparsity Loss = 115.0732, Lagrangian Loss = 256.4055\n",
      "Epoch 201: Loss = 369.7795\n",
      "Recon Loss =37.2038, KL Loss = 3.7113, Sparsity Loss = 113.9494, Lagrangian Loss = 214.9149\n",
      "Epoch 251: Loss = 374.3016\n",
      "Recon Loss =44.4012, KL Loss = 3.7693, Sparsity Loss = 115.0437, Lagrangian Loss = 211.0874\n",
      "Early stopping triggered. Last Epoch: 258\n",
      "Recon Loss =36.8608, KL Loss = 3.6416, Sparsity Loss = 118.6349, Lagrangian Loss = 245.7594\n"
     ]
    },
    {
     "name": "stderr",
     "output_type": "stream",
     "text": [
      "2025-03-19 15:48:57,439 INFO -- Edge Accuracy = 19.23, Instantaneous Accuracy = 15.38, Lagged Accuracy = 19.23, Counterfactual Accuracy = 46.15,  Blended Accuracy = 23.08,  RR Accuracy = 50.00  \n",
      "2025-03-19 15:48:57,439 INFO -- Model: 26\n"
     ]
    },
    {
     "name": "stdout",
     "output_type": "stream",
     "text": [
      "Anomaly: ced1\n",
      "Epoch 1: Loss = 8935.0674\n",
      "Recon Loss =8540.6982, KL Loss = 0.0052, Sparsity Loss = 119.2312, Lagrangian Loss = 275.1327\n",
      "Epoch 51: Loss = 675.4679\n",
      "Recon Loss =228.5314, KL Loss = 3.0454, Sparsity Loss = 118.4833, Lagrangian Loss = 325.4078\n",
      "Epoch 101: Loss = 615.7994\n",
      "Recon Loss =154.0335, KL Loss = 3.9195, Sparsity Loss = 116.3280, Lagrangian Loss = 341.5184\n",
      "Epoch 151: Loss = 592.8185\n",
      "Recon Loss =132.9657, KL Loss = 4.1058, Sparsity Loss = 119.5156, Lagrangian Loss = 336.2314\n",
      "Epoch 201: Loss = 400.7622\n",
      "Recon Loss =97.8121, KL Loss = 4.8117, Sparsity Loss = 116.8495, Lagrangian Loss = 181.2889\n",
      "Epoch 251: Loss = 340.1411\n",
      "Recon Loss =97.2725, KL Loss = 4.8727, Sparsity Loss = 109.6555, Lagrangian Loss = 128.3403\n",
      "Early stopping triggered. Last Epoch: 263\n",
      "Recon Loss =92.0080, KL Loss = 5.1581, Sparsity Loss = 111.2903, Lagrangian Loss = 150.7809\n"
     ]
    },
    {
     "name": "stderr",
     "output_type": "stream",
     "text": [
      "2025-03-19 15:49:27,939 INFO -- Edge Accuracy = 18.52, Instantaneous Accuracy = 14.81, Lagged Accuracy = 18.52, Counterfactual Accuracy = 44.44,  Blended Accuracy = 22.22,  RR Accuracy = 51.85  \n",
      "2025-03-19 15:49:27,940 INFO -- Model: 27\n"
     ]
    },
    {
     "name": "stdout",
     "output_type": "stream",
     "text": [
      "Anomaly: cso1\n",
      "Epoch 1: Loss = 6165.9541\n",
      "Recon Loss =5833.7886, KL Loss = 0.0076, Sparsity Loss = 119.4718, Lagrangian Loss = 212.6860\n",
      "Epoch 51: Loss = 1080.2229\n",
      "Recon Loss =347.0707, KL Loss = 2.7417, Sparsity Loss = 125.3316, Lagrangian Loss = 605.0789\n",
      "Epoch 101: Loss = 745.5472\n",
      "Recon Loss =83.8639, KL Loss = 4.0681, Sparsity Loss = 124.3673, Lagrangian Loss = 533.2479\n",
      "Epoch 151: Loss = 474.7604\n",
      "Recon Loss =63.3537, KL Loss = 4.4656, Sparsity Loss = 116.4606, Lagrangian Loss = 290.4804\n",
      "Epoch 201: Loss = 487.8593\n",
      "Recon Loss =54.2857, KL Loss = 4.6207, Sparsity Loss = 117.1478, Lagrangian Loss = 311.8051\n",
      "Early stopping triggered. Last Epoch: 214\n",
      "Recon Loss =45.4425, KL Loss = 4.5260, Sparsity Loss = 115.8962, Lagrangian Loss = 291.8094\n"
     ]
    },
    {
     "name": "stderr",
     "output_type": "stream",
     "text": [
      "2025-03-19 15:49:44,736 INFO -- Edge Accuracy = 21.43, Instantaneous Accuracy = 14.29, Lagged Accuracy = 21.43, Counterfactual Accuracy = 46.43,  Blended Accuracy = 25.00,  RR Accuracy = 50.00  \n",
      "2025-03-19 15:49:44,737 INFO -- Model: 28\n"
     ]
    },
    {
     "name": "stdout",
     "output_type": "stream",
     "text": [
      "Anomaly: ced1\n",
      "Epoch 1: Loss = 5236.5166\n",
      "Recon Loss =4826.7061, KL Loss = 0.0067, Sparsity Loss = 122.4561, Lagrangian Loss = 287.3475\n",
      "Epoch 51: Loss = 1866.7799\n",
      "Recon Loss =103.3383, KL Loss = 3.1617, Sparsity Loss = 137.3927, Lagrangian Loss = 1622.8872\n",
      "Early stopping triggered. Last Epoch: 88\n",
      "Recon Loss =69.2868, KL Loss = 3.5838, Sparsity Loss = 134.8269, Lagrangian Loss = 1205.1270\n"
     ]
    },
    {
     "name": "stderr",
     "output_type": "stream",
     "text": [
      "2025-03-19 15:49:53,897 INFO -- Edge Accuracy = 24.14, Instantaneous Accuracy = 17.24, Lagged Accuracy = 24.14, Counterfactual Accuracy = 44.83,  Blended Accuracy = 27.59,  RR Accuracy = 51.72  \n",
      "2025-03-19 15:49:53,898 INFO -- Model: 29\n"
     ]
    },
    {
     "name": "stdout",
     "output_type": "stream",
     "text": [
      "Anomaly: ced1\n",
      "Epoch 1: Loss = 5174.7778\n",
      "Recon Loss =4734.9438, KL Loss = 0.0058, Sparsity Loss = 122.7302, Lagrangian Loss = 317.0984\n",
      "Epoch 51: Loss = 1291.9067\n",
      "Recon Loss =233.0638, KL Loss = 1.8106, Sparsity Loss = 130.6639, Lagrangian Loss = 926.3684\n",
      "Epoch 101: Loss = 596.3483\n",
      "Recon Loss =94.3811, KL Loss = 3.2882, Sparsity Loss = 119.2833, Lagrangian Loss = 379.3957\n",
      "Early stopping triggered. Last Epoch: 142\n",
      "Recon Loss =72.4392, KL Loss = 3.8124, Sparsity Loss = 130.1766, Lagrangian Loss = 881.8768\n"
     ]
    },
    {
     "name": "stderr",
     "output_type": "stream",
     "text": [
      "2025-03-19 15:50:04,326 INFO -- Edge Accuracy = 23.33, Instantaneous Accuracy = 16.67, Lagged Accuracy = 23.33, Counterfactual Accuracy = 46.67,  Blended Accuracy = 26.67,  RR Accuracy = 53.33  \n",
      "2025-03-19 15:50:04,326 INFO -- Model: 30\n"
     ]
    },
    {
     "name": "stdout",
     "output_type": "stream",
     "text": [
      "Anomaly: cso1\n",
      "Epoch 1: Loss = 8784.3018\n",
      "Recon Loss =8321.2646, KL Loss = 0.0086, Sparsity Loss = 122.4083, Lagrangian Loss = 340.6203\n",
      "Epoch 51: Loss = 661.8104\n",
      "Recon Loss =153.4674, KL Loss = 3.1129, Sparsity Loss = 118.9214, Lagrangian Loss = 386.3086\n",
      "Epoch 101: Loss = 546.9872\n",
      "Recon Loss =94.2763, KL Loss = 3.7039, Sparsity Loss = 117.3351, Lagrangian Loss = 331.6718\n",
      "Epoch 151: Loss = 453.6234\n",
      "Recon Loss =94.3260, KL Loss = 3.8151, Sparsity Loss = 113.3454, Lagrangian Loss = 242.1369\n",
      "Early stopping triggered. Last Epoch: 180\n",
      "Recon Loss =92.7052, KL Loss = 3.7650, Sparsity Loss = 119.5596, Lagrangian Loss = 356.5426\n"
     ]
    },
    {
     "name": "stderr",
     "output_type": "stream",
     "text": [
      "2025-03-19 15:50:25,338 INFO -- Edge Accuracy = 25.81, Instantaneous Accuracy = 19.35, Lagged Accuracy = 25.81, Counterfactual Accuracy = 45.16,  Blended Accuracy = 29.03,  RR Accuracy = 54.84  \n",
      "2025-03-19 15:50:25,339 INFO -- Model: 31\n"
     ]
    },
    {
     "name": "stdout",
     "output_type": "stream",
     "text": [
      "Anomaly: cfo1\n",
      "Epoch 1: Loss = 8017.3936\n",
      "Recon Loss =7596.6016, KL Loss = 0.0073, Sparsity Loss = 122.2405, Lagrangian Loss = 298.5442\n",
      "Epoch 51: Loss = 661.4925\n",
      "Recon Loss =261.7277, KL Loss = 2.5349, Sparsity Loss = 117.1103, Lagrangian Loss = 280.1197\n",
      "Epoch 101: Loss = 582.4005\n",
      "Recon Loss =140.9353, KL Loss = 3.4590, Sparsity Loss = 118.2673, Lagrangian Loss = 319.7388\n",
      "Epoch 151: Loss = 487.2005\n",
      "Recon Loss =139.4627, KL Loss = 3.7272, Sparsity Loss = 116.3071, Lagrangian Loss = 227.7034\n",
      "Early stopping triggered. Last Epoch: 188\n",
      "Recon Loss =140.5597, KL Loss = 3.6845, Sparsity Loss = 116.4181, Lagrangian Loss = 182.7743\n"
     ]
    },
    {
     "name": "stderr",
     "output_type": "stream",
     "text": [
      "2025-03-19 15:50:47,443 INFO -- Edge Accuracy = 28.12, Instantaneous Accuracy = 21.88, Lagged Accuracy = 25.00, Counterfactual Accuracy = 43.75,  Blended Accuracy = 31.25,  RR Accuracy = 56.25  \n",
      "2025-03-19 15:50:47,444 INFO -- Model: 32\n"
     ]
    },
    {
     "name": "stdout",
     "output_type": "stream",
     "text": [
      "Anomaly: cfo1\n",
      "Epoch 1: Loss = 8911.6396\n",
      "Recon Loss =8424.0488, KL Loss = 0.0146, Sparsity Loss = 121.3055, Lagrangian Loss = 366.2703\n",
      "Epoch 51: Loss = 1206.3555\n",
      "Recon Loss =721.0399, KL Loss = 1.8014, Sparsity Loss = 118.8889, Lagrangian Loss = 364.6252\n",
      "Epoch 101: Loss = 1367.9299\n",
      "Recon Loss =164.3387, KL Loss = 3.3523, Sparsity Loss = 132.4529, Lagrangian Loss = 1067.7861\n",
      "Early stopping triggered. Last Epoch: 125\n",
      "Recon Loss =124.3745, KL Loss = 3.9762, Sparsity Loss = 132.5927, Lagrangian Loss = 1112.9033\n"
     ]
    },
    {
     "name": "stderr",
     "output_type": "stream",
     "text": [
      "2025-03-19 15:51:02,127 INFO -- Edge Accuracy = 27.27, Instantaneous Accuracy = 21.21, Lagged Accuracy = 27.27, Counterfactual Accuracy = 45.45,  Blended Accuracy = 33.33,  RR Accuracy = 57.58  \n",
      "2025-03-19 15:51:02,128 INFO -- Model: 33\n"
     ]
    },
    {
     "name": "stdout",
     "output_type": "stream",
     "text": [
      "Anomaly: cso1\n",
      "Epoch 1: Loss = 4593.4575\n",
      "Recon Loss =4236.5229, KL Loss = 0.0063, Sparsity Loss = 119.2977, Lagrangian Loss = 237.6302\n",
      "Epoch 51: Loss = 793.0533\n",
      "Recon Loss =335.6240, KL Loss = 1.8683, Sparsity Loss = 118.2015, Lagrangian Loss = 337.3595\n",
      "Epoch 101: Loss = 487.7695\n",
      "Recon Loss =60.1229, KL Loss = 3.8407, Sparsity Loss = 117.8451, Lagrangian Loss = 305.9609\n",
      "Epoch 151: Loss = 424.2338\n",
      "Recon Loss =49.6456, KL Loss = 4.1791, Sparsity Loss = 116.1382, Lagrangian Loss = 254.2709\n",
      "Epoch 201: Loss = 294.3773\n",
      "Recon Loss =47.2220, KL Loss = 4.2574, Sparsity Loss = 111.5349, Lagrangian Loss = 131.3630\n",
      "Epoch 251: Loss = 262.9537\n",
      "Recon Loss =54.3758, KL Loss = 4.1068, Sparsity Loss = 103.2843, Lagrangian Loss = 101.1868\n",
      "Epoch 301: Loss = 290.9926\n",
      "Recon Loss =53.4323, KL Loss = 4.0043, Sparsity Loss = 109.6415, Lagrangian Loss = 123.9145\n",
      "Early stopping triggered. Last Epoch: 312\n",
      "Recon Loss =47.2100, KL Loss = 3.9261, Sparsity Loss = 104.3947, Lagrangian Loss = 102.7846\n"
     ]
    },
    {
     "name": "stderr",
     "output_type": "stream",
     "text": [
      "2025-03-19 15:51:24,538 INFO -- Edge Accuracy = 26.47, Instantaneous Accuracy = 20.59, Lagged Accuracy = 29.41, Counterfactual Accuracy = 44.12,  Blended Accuracy = 32.35,  RR Accuracy = 58.82  \n",
      "2025-03-19 15:51:24,538 INFO -- Model: 34\n"
     ]
    },
    {
     "name": "stdout",
     "output_type": "stream",
     "text": [
      "Anomaly: ced1\n",
      "Epoch 1: Loss = 6447.4531\n",
      "Recon Loss =6111.1084, KL Loss = 0.0056, Sparsity Loss = 118.5343, Lagrangian Loss = 217.8052\n",
      "Epoch 51: Loss = 1205.2830\n",
      "Recon Loss =199.7237, KL Loss = 2.7175, Sparsity Loss = 130.7909, Lagrangian Loss = 872.0510\n",
      "Epoch 101: Loss = 464.8143\n",
      "Recon Loss =65.4301, KL Loss = 3.8994, Sparsity Loss = 114.6863, Lagrangian Loss = 280.7985\n",
      "Epoch 151: Loss = 480.1047\n",
      "Recon Loss =60.8863, KL Loss = 4.2092, Sparsity Loss = 117.6679, Lagrangian Loss = 297.3412\n",
      "Epoch 201: Loss = 367.1066\n",
      "Recon Loss =64.4091, KL Loss = 4.4305, Sparsity Loss = 119.2633, Lagrangian Loss = 179.0038\n",
      "Epoch 251: Loss = 272.0025\n",
      "Recon Loss =59.9797, KL Loss = 4.3825, Sparsity Loss = 105.1317, Lagrangian Loss = 102.5085\n",
      "Epoch 301: Loss = 293.0854\n",
      "Recon Loss =59.6837, KL Loss = 4.1401, Sparsity Loss = 109.5894, Lagrangian Loss = 119.6721\n",
      "Early stopping triggered. Last Epoch: 304\n",
      "Recon Loss =60.0194, KL Loss = 4.0927, Sparsity Loss = 106.7272, Lagrangian Loss = 107.0847\n"
     ]
    },
    {
     "name": "stderr",
     "output_type": "stream",
     "text": [
      "2025-03-19 15:51:48,535 INFO -- Edge Accuracy = 25.71, Instantaneous Accuracy = 20.00, Lagged Accuracy = 31.43, Counterfactual Accuracy = 42.86,  Blended Accuracy = 31.43,  RR Accuracy = 57.14  \n",
      "2025-03-19 15:51:48,536 INFO -- Model: 35\n"
     ]
    },
    {
     "name": "stdout",
     "output_type": "stream",
     "text": [
      "Anomaly: cfo1\n",
      "Epoch 1: Loss = 4409.7056\n",
      "Recon Loss =4014.7832, KL Loss = 0.0120, Sparsity Loss = 120.7247, Lagrangian Loss = 274.1856\n",
      "Epoch 51: Loss = 574.4215\n",
      "Recon Loss =170.4371, KL Loss = 2.2275, Sparsity Loss = 118.5467, Lagrangian Loss = 283.2103\n",
      "Epoch 101: Loss = 428.8019\n",
      "Recon Loss =55.1017, KL Loss = 3.7213, Sparsity Loss = 116.9569, Lagrangian Loss = 253.0220\n",
      "Early stopping triggered. Last Epoch: 136\n",
      "Recon Loss =71.5684, KL Loss = 3.7535, Sparsity Loss = 124.2518, Lagrangian Loss = 498.3745\n"
     ]
    },
    {
     "name": "stderr",
     "output_type": "stream",
     "text": [
      "2025-03-19 15:51:58,641 INFO -- Edge Accuracy = 25.00, Instantaneous Accuracy = 19.44, Lagged Accuracy = 30.56, Counterfactual Accuracy = 44.44,  Blended Accuracy = 30.56,  RR Accuracy = 58.33  \n",
      "2025-03-19 15:51:58,642 INFO -- Model: 36\n"
     ]
    },
    {
     "name": "stdout",
     "output_type": "stream",
     "text": [
      "Anomaly: cso1\n",
      "Epoch 1: Loss = 6911.2866\n",
      "Recon Loss =6519.7378, KL Loss = 0.0089, Sparsity Loss = 118.9370, Lagrangian Loss = 272.6031\n",
      "Epoch 51: Loss = 1325.0176\n",
      "Recon Loss =566.5528, KL Loss = 2.0787, Sparsity Loss = 124.8832, Lagrangian Loss = 631.5029\n",
      "Epoch 101: Loss = 481.6498\n",
      "Recon Loss =67.6869, KL Loss = 3.8729, Sparsity Loss = 115.9155, Lagrangian Loss = 294.1745\n",
      "Epoch 151: Loss = 397.0432\n",
      "Recon Loss =71.0414, KL Loss = 3.9727, Sparsity Loss = 117.1982, Lagrangian Loss = 204.8309\n",
      "Epoch 201: Loss = 339.9617\n",
      "Recon Loss =66.4942, KL Loss = 3.6540, Sparsity Loss = 113.7529, Lagrangian Loss = 156.0605\n",
      "Epoch 251: Loss = 297.1080\n",
      "Recon Loss =63.8435, KL Loss = 3.9872, Sparsity Loss = 110.1959, Lagrangian Loss = 119.0815\n",
      "Epoch 301: Loss = 294.9811\n",
      "Recon Loss =69.6607, KL Loss = 4.0064, Sparsity Loss = 108.0041, Lagrangian Loss = 113.3100\n",
      "Epoch 351: Loss = 296.0583\n",
      "Recon Loss =66.4211, KL Loss = 3.8256, Sparsity Loss = 108.4160, Lagrangian Loss = 117.3957\n",
      "Early stopping triggered. Last Epoch: 366\n",
      "Recon Loss =64.3562, KL Loss = 3.7953, Sparsity Loss = 110.1161, Lagrangian Loss = 136.8872\n"
     ]
    },
    {
     "name": "stderr",
     "output_type": "stream",
     "text": [
      "2025-03-19 15:52:36,220 INFO -- Edge Accuracy = 24.32, Instantaneous Accuracy = 18.92, Lagged Accuracy = 32.43, Counterfactual Accuracy = 45.95,  Blended Accuracy = 29.73,  RR Accuracy = 59.46  \n",
      "2025-03-19 15:52:36,221 INFO -- Model: 37\n"
     ]
    },
    {
     "name": "stdout",
     "output_type": "stream",
     "text": [
      "Anomaly: cfo1\n",
      "Epoch 1: Loss = 4685.8125\n",
      "Recon Loss =4332.8901, KL Loss = 0.0057, Sparsity Loss = 116.9009, Lagrangian Loss = 236.0157\n",
      "Epoch 51: Loss = 586.4487\n",
      "Recon Loss =122.5074, KL Loss = 2.3283, Sparsity Loss = 118.0366, Lagrangian Loss = 343.5764\n",
      "Epoch 101: Loss = 536.0481\n",
      "Recon Loss =80.6613, KL Loss = 3.5181, Sparsity Loss = 117.7939, Lagrangian Loss = 334.0748\n",
      "Epoch 151: Loss = 399.9798\n",
      "Recon Loss =72.7449, KL Loss = 3.9488, Sparsity Loss = 119.3291, Lagrangian Loss = 203.9570\n",
      "Epoch 201: Loss = 299.7781\n",
      "Recon Loss =54.0213, KL Loss = 3.9880, Sparsity Loss = 109.9106, Lagrangian Loss = 131.8583\n",
      "Epoch 251: Loss = 281.9380\n",
      "Recon Loss =54.2157, KL Loss = 4.3618, Sparsity Loss = 107.8383, Lagrangian Loss = 115.5222\n",
      "Early stopping triggered. Last Epoch: 286\n",
      "Recon Loss =52.8455, KL Loss = 3.8260, Sparsity Loss = 108.8716, Lagrangian Loss = 121.0262\n"
     ]
    },
    {
     "name": "stderr",
     "output_type": "stream",
     "text": [
      "2025-03-19 15:52:57,187 INFO -- Edge Accuracy = 23.68, Instantaneous Accuracy = 18.42, Lagged Accuracy = 31.58, Counterfactual Accuracy = 47.37,  Blended Accuracy = 31.58,  RR Accuracy = 57.89  \n",
      "2025-03-19 15:52:57,188 INFO -- Model: 38\n"
     ]
    },
    {
     "name": "stdout",
     "output_type": "stream",
     "text": [
      "Anomaly: cfo1\n",
      "Epoch 1: Loss = 6573.2319\n",
      "Recon Loss =6199.2930, KL Loss = 0.0105, Sparsity Loss = 120.0536, Lagrangian Loss = 253.8750\n",
      "Epoch 51: Loss = 821.5204\n",
      "Recon Loss =414.0272, KL Loss = 1.7245, Sparsity Loss = 117.3184, Lagrangian Loss = 288.4503\n",
      "Epoch 101: Loss = 476.5037\n",
      "Recon Loss =90.0722, KL Loss = 3.6828, Sparsity Loss = 115.4672, Lagrangian Loss = 267.2815\n",
      "Epoch 151: Loss = 579.7913\n",
      "Recon Loss =86.1846, KL Loss = 3.9175, Sparsity Loss = 119.7609, Lagrangian Loss = 369.9283\n",
      "Epoch 201: Loss = 441.9023\n",
      "Recon Loss =85.3749, KL Loss = 4.0980, Sparsity Loss = 112.3773, Lagrangian Loss = 240.0520\n",
      "Epoch 251: Loss = 426.9556\n",
      "Recon Loss =79.9713, KL Loss = 4.0565, Sparsity Loss = 109.4903, Lagrangian Loss = 233.4375\n",
      "Early stopping triggered. Last Epoch: 269\n",
      "Recon Loss =75.0941, KL Loss = 3.9384, Sparsity Loss = 112.1327, Lagrangian Loss = 259.6302\n"
     ]
    },
    {
     "name": "stderr",
     "output_type": "stream",
     "text": [
      "2025-03-19 15:53:18,785 INFO -- Edge Accuracy = 25.64, Instantaneous Accuracy = 20.51, Lagged Accuracy = 33.33, Counterfactual Accuracy = 46.15,  Blended Accuracy = 33.33,  RR Accuracy = 58.97  \n",
      "2025-03-19 15:53:18,786 INFO -- Model: 39\n"
     ]
    },
    {
     "name": "stdout",
     "output_type": "stream",
     "text": [
      "Anomaly: cfo1\n",
      "Epoch 1: Loss = 8502.9150\n",
      "Recon Loss =8132.3184, KL Loss = 0.0105, Sparsity Loss = 117.2434, Lagrangian Loss = 253.3427\n",
      "Epoch 51: Loss = 1040.6783\n",
      "Recon Loss =587.6322, KL Loss = 2.2430, Sparsity Loss = 117.6429, Lagrangian Loss = 333.1602\n",
      "Epoch 101: Loss = 542.9193\n",
      "Recon Loss =83.7899, KL Loss = 3.5512, Sparsity Loss = 119.4504, Lagrangian Loss = 336.1278\n",
      "Epoch 151: Loss = 380.0822\n",
      "Recon Loss =76.0058, KL Loss = 3.5225, Sparsity Loss = 117.4774, Lagrangian Loss = 183.0765\n",
      "Epoch 201: Loss = 325.6414\n",
      "Recon Loss =77.8053, KL Loss = 3.8003, Sparsity Loss = 111.4953, Lagrangian Loss = 132.5405\n",
      "Epoch 251: Loss = 329.2084\n",
      "Recon Loss =75.9714, KL Loss = 3.7333, Sparsity Loss = 110.9715, Lagrangian Loss = 138.5321\n",
      "Epoch 301: Loss = 319.6756\n",
      "Recon Loss =76.5711, KL Loss = 3.7098, Sparsity Loss = 108.7794, Lagrangian Loss = 130.6152\n",
      "Epoch 351: Loss = 308.5682\n",
      "Recon Loss =72.8408, KL Loss = 3.5312, Sparsity Loss = 107.6596, Lagrangian Loss = 124.5366\n",
      "Early stopping triggered. Last Epoch: 389\n",
      "Recon Loss =70.9333, KL Loss = 3.6434, Sparsity Loss = 110.4748, Lagrangian Loss = 143.1115\n"
     ]
    },
    {
     "name": "stderr",
     "output_type": "stream",
     "text": [
      "2025-03-19 15:54:03,902 INFO -- Edge Accuracy = 27.50, Instantaneous Accuracy = 22.50, Lagged Accuracy = 32.50, Counterfactual Accuracy = 47.50,  Blended Accuracy = 35.00,  RR Accuracy = 60.00  \n",
      "2025-03-19 15:54:03,902 INFO -- Model: 40\n"
     ]
    },
    {
     "name": "stdout",
     "output_type": "stream",
     "text": [
      "Anomaly: cfo1\n",
      "Epoch 1: Loss = 11921.8574\n",
      "Recon Loss =11517.5176, KL Loss = 0.0102, Sparsity Loss = 121.0292, Lagrangian Loss = 283.3009\n",
      "Epoch 51: Loss = 578.5807\n",
      "Recon Loss =196.7825, KL Loss = 3.2164, Sparsity Loss = 114.7707, Lagrangian Loss = 263.8112\n",
      "Epoch 101: Loss = 521.7043\n",
      "Recon Loss =138.2832, KL Loss = 3.9597, Sparsity Loss = 115.7981, Lagrangian Loss = 263.6632\n",
      "Epoch 151: Loss = 425.3659\n",
      "Recon Loss =128.7461, KL Loss = 4.0841, Sparsity Loss = 117.9546, Lagrangian Loss = 174.5812\n",
      "Epoch 201: Loss = 382.9119\n",
      "Recon Loss =128.4204, KL Loss = 4.2324, Sparsity Loss = 108.7352, Lagrangian Loss = 141.5239\n",
      "Epoch 251: Loss = 370.7812\n",
      "Recon Loss =130.1956, KL Loss = 4.2461, Sparsity Loss = 106.4208, Lagrangian Loss = 129.9187\n",
      "Early stopping triggered. Last Epoch: 297\n",
      "Recon Loss =128.6737, KL Loss = 4.2084, Sparsity Loss = 107.8459, Lagrangian Loss = 125.8308\n"
     ]
    },
    {
     "name": "stderr",
     "output_type": "stream",
     "text": [
      "2025-03-19 15:54:43,933 INFO -- Edge Accuracy = 26.83, Instantaneous Accuracy = 21.95, Lagged Accuracy = 31.71, Counterfactual Accuracy = 46.34,  Blended Accuracy = 34.15,  RR Accuracy = 58.54  \n",
      "2025-03-19 15:54:43,933 INFO -- Model: 41\n"
     ]
    },
    {
     "name": "stdout",
     "output_type": "stream",
     "text": [
      "Anomaly: ced1\n",
      "Epoch 1: Loss = 7922.5615\n",
      "Recon Loss =7556.8213, KL Loss = 0.0083, Sparsity Loss = 118.7119, Lagrangian Loss = 247.0201\n",
      "Epoch 51: Loss = 812.9380\n",
      "Recon Loss =398.4742, KL Loss = 2.1546, Sparsity Loss = 116.9726, Lagrangian Loss = 295.3367\n",
      "Epoch 101: Loss = 558.0059\n",
      "Recon Loss =149.0457, KL Loss = 3.2007, Sparsity Loss = 116.3382, Lagrangian Loss = 289.4214\n",
      "Epoch 151: Loss = 619.1644\n",
      "Recon Loss =91.0012, KL Loss = 4.1862, Sparsity Loss = 119.6701, Lagrangian Loss = 404.3069\n",
      "Epoch 201: Loss = 557.8663\n",
      "Recon Loss =85.3324, KL Loss = 4.4925, Sparsity Loss = 119.3437, Lagrangian Loss = 348.6977\n",
      "Early stopping triggered. Last Epoch: 211\n",
      "Recon Loss =82.2338, KL Loss = 4.4831, Sparsity Loss = 115.9335, Lagrangian Loss = 261.5958\n"
     ]
    },
    {
     "name": "stderr",
     "output_type": "stream",
     "text": [
      "2025-03-19 15:55:05,956 INFO -- Edge Accuracy = 26.19, Instantaneous Accuracy = 21.43, Lagged Accuracy = 33.33, Counterfactual Accuracy = 47.62,  Blended Accuracy = 35.71,  RR Accuracy = 59.52  \n",
      "2025-03-19 15:55:05,957 INFO -- Model: 42\n"
     ]
    },
    {
     "name": "stdout",
     "output_type": "stream",
     "text": [
      "Anomaly: cso1\n",
      "Epoch 1: Loss = 10916.0371\n",
      "Recon Loss =10527.5391, KL Loss = 0.0074, Sparsity Loss = 120.4792, Lagrangian Loss = 268.0110\n",
      "Epoch 51: Loss = 983.1961\n",
      "Recon Loss =533.6243, KL Loss = 1.9020, Sparsity Loss = 118.1953, Lagrangian Loss = 329.4745\n",
      "Epoch 101: Loss = 632.3868\n",
      "Recon Loss =197.2336, KL Loss = 3.6000, Sparsity Loss = 118.3003, Lagrangian Loss = 313.2530\n",
      "Epoch 151: Loss = 413.8131\n",
      "Recon Loss =75.1834, KL Loss = 4.8037, Sparsity Loss = 115.5976, Lagrangian Loss = 218.2283\n",
      "Epoch 201: Loss = 319.2460\n",
      "Recon Loss =62.7358, KL Loss = 4.7107, Sparsity Loss = 113.2820, Lagrangian Loss = 138.5174\n",
      "Epoch 251: Loss = 295.6508\n",
      "Recon Loss =61.5462, KL Loss = 4.9038, Sparsity Loss = 108.5377, Lagrangian Loss = 120.6631\n",
      "Epoch 301: Loss = 369.1535\n",
      "Recon Loss =132.6742, KL Loss = 4.6234, Sparsity Loss = 110.2126, Lagrangian Loss = 121.6433\n",
      "Early stopping triggered. Last Epoch: 322\n",
      "Recon Loss =68.3800, KL Loss = 4.4093, Sparsity Loss = 107.6034, Lagrangian Loss = 114.6373\n"
     ]
    },
    {
     "name": "stderr",
     "output_type": "stream",
     "text": [
      "2025-03-19 15:55:43,210 INFO -- Edge Accuracy = 27.91, Instantaneous Accuracy = 23.26, Lagged Accuracy = 34.88, Counterfactual Accuracy = 48.84,  Blended Accuracy = 37.21,  RR Accuracy = 58.14  \n",
      "2025-03-19 15:55:43,210 INFO -- Model: 43\n"
     ]
    },
    {
     "name": "stdout",
     "output_type": "stream",
     "text": [
      "Anomaly: cfo1\n",
      "Epoch 1: Loss = 5713.0566\n",
      "Recon Loss =5365.8770, KL Loss = 0.0059, Sparsity Loss = 118.9621, Lagrangian Loss = 228.2121\n",
      "Epoch 51: Loss = 652.1805\n",
      "Recon Loss =141.7685, KL Loss = 2.9070, Sparsity Loss = 120.5186, Lagrangian Loss = 386.9865\n",
      "Epoch 101: Loss = 535.6139\n",
      "Recon Loss =64.5122, KL Loss = 3.5150, Sparsity Loss = 118.7577, Lagrangian Loss = 348.8289\n",
      "Early stopping triggered. Last Epoch: 144\n",
      "Recon Loss =63.2308, KL Loss = 3.7652, Sparsity Loss = 118.1821, Lagrangian Loss = 328.0169\n"
     ]
    },
    {
     "name": "stderr",
     "output_type": "stream",
     "text": [
      "2025-03-19 15:55:54,873 INFO -- Edge Accuracy = 27.27, Instantaneous Accuracy = 25.00, Lagged Accuracy = 34.09, Counterfactual Accuracy = 50.00,  Blended Accuracy = 36.36,  RR Accuracy = 59.09  \n",
      "2025-03-19 15:55:54,873 INFO -- Model: 44\n"
     ]
    },
    {
     "name": "stdout",
     "output_type": "stream",
     "text": [
      "Anomaly: ced1\n",
      "Epoch 1: Loss = 6750.9937\n",
      "Recon Loss =6319.9663, KL Loss = 0.0071, Sparsity Loss = 120.4840, Lagrangian Loss = 310.5368\n",
      "Epoch 51: Loss = 710.4349\n",
      "Recon Loss =229.8403, KL Loss = 2.0254, Sparsity Loss = 119.3556, Lagrangian Loss = 359.2135\n",
      "Epoch 101: Loss = 584.5355\n",
      "Recon Loss =63.5490, KL Loss = 3.8131, Sparsity Loss = 119.9175, Lagrangian Loss = 397.2559\n",
      "Epoch 151: Loss = 659.7349\n",
      "Recon Loss =63.3825, KL Loss = 4.1920, Sparsity Loss = 123.0111, Lagrangian Loss = 469.1492\n",
      "Early stopping triggered. Last Epoch: 159\n",
      "Recon Loss =76.5427, KL Loss = 4.0583, Sparsity Loss = 120.4612, Lagrangian Loss = 390.0525\n"
     ]
    },
    {
     "name": "stderr",
     "output_type": "stream",
     "text": [
      "2025-03-19 15:56:07,931 INFO -- Edge Accuracy = 26.67, Instantaneous Accuracy = 24.44, Lagged Accuracy = 33.33, Counterfactual Accuracy = 51.11,  Blended Accuracy = 35.56,  RR Accuracy = 57.78  \n",
      "2025-03-19 15:56:07,932 INFO -- Model: 45\n"
     ]
    },
    {
     "name": "stdout",
     "output_type": "stream",
     "text": [
      "Anomaly: ced1\n",
      "Epoch 1: Loss = 6874.9150\n",
      "Recon Loss =6376.8125, KL Loss = 0.0114, Sparsity Loss = 120.5639, Lagrangian Loss = 377.5273\n",
      "Epoch 51: Loss = 890.9144\n",
      "Recon Loss =250.0247, KL Loss = 3.0184, Sparsity Loss = 123.8539, Lagrangian Loss = 514.0173\n",
      "Epoch 101: Loss = 844.8671\n",
      "Recon Loss =217.3598, KL Loss = 3.3320, Sparsity Loss = 122.5288, Lagrangian Loss = 501.6465\n",
      "Epoch 151: Loss = 535.0275\n",
      "Recon Loss =131.3607, KL Loss = 3.9774, Sparsity Loss = 115.6452, Lagrangian Loss = 284.0443\n",
      "Early stopping triggered. Last Epoch: 190\n",
      "Recon Loss =146.4012, KL Loss = 3.7491, Sparsity Loss = 114.9817, Lagrangian Loss = 272.3312\n"
     ]
    },
    {
     "name": "stderr",
     "output_type": "stream",
     "text": [
      "2025-03-19 15:56:30,108 INFO -- Edge Accuracy = 28.26, Instantaneous Accuracy = 26.09, Lagged Accuracy = 32.61, Counterfactual Accuracy = 50.00,  Blended Accuracy = 36.96,  RR Accuracy = 56.52  \n",
      "2025-03-19 15:56:30,108 INFO -- Model: 46\n"
     ]
    },
    {
     "name": "stdout",
     "output_type": "stream",
     "text": [
      "Anomaly: ced1\n",
      "Epoch 1: Loss = 6587.0908\n",
      "Recon Loss =6177.7236, KL Loss = 0.0064, Sparsity Loss = 122.7518, Lagrangian Loss = 286.6088\n",
      "Epoch 51: Loss = 714.9854\n",
      "Recon Loss =164.1345, KL Loss = 2.5961, Sparsity Loss = 119.1180, Lagrangian Loss = 429.1369\n",
      "Epoch 101: Loss = 548.0574\n",
      "Recon Loss =69.2581, KL Loss = 3.4870, Sparsity Loss = 119.4568, Lagrangian Loss = 355.8555\n",
      "Epoch 151: Loss = 375.7391\n",
      "Recon Loss =75.9535, KL Loss = 3.9752, Sparsity Loss = 117.8586, Lagrangian Loss = 177.9518\n",
      "Epoch 201: Loss = 329.6649\n",
      "Recon Loss =68.2377, KL Loss = 3.9485, Sparsity Loss = 114.2672, Lagrangian Loss = 143.2115\n",
      "Epoch 251: Loss = 303.8878\n",
      "Recon Loss =65.1848, KL Loss = 4.0248, Sparsity Loss = 106.6042, Lagrangian Loss = 128.0740\n",
      "Epoch 301: Loss = 288.8490\n",
      "Recon Loss =66.2960, KL Loss = 3.9845, Sparsity Loss = 105.2519, Lagrangian Loss = 113.3166\n",
      "Early stopping triggered. Last Epoch: 303\n",
      "Recon Loss =66.6308, KL Loss = 3.9933, Sparsity Loss = 109.0663, Lagrangian Loss = 129.5035\n"
     ]
    },
    {
     "name": "stderr",
     "output_type": "stream",
     "text": [
      "2025-03-19 15:57:01,284 INFO -- Edge Accuracy = 29.79, Instantaneous Accuracy = 27.66, Lagged Accuracy = 31.91, Counterfactual Accuracy = 51.06,  Blended Accuracy = 38.30,  RR Accuracy = 57.45  \n",
      "2025-03-19 15:57:01,284 INFO -- Model: 47\n"
     ]
    },
    {
     "name": "stdout",
     "output_type": "stream",
     "text": [
      "Anomaly: cfo1\n",
      "Epoch 1: Loss = 54832.5156\n",
      "Recon Loss =53706.4688, KL Loss = 0.0064, Sparsity Loss = 134.1074, Lagrangian Loss = 991.9307\n",
      "Epoch 51: Loss = 3555.6980\n",
      "Recon Loss =3131.7144, KL Loss = 2.3336, Sparsity Loss = 118.0343, Lagrangian Loss = 303.6160\n",
      "Epoch 101: Loss = 1895.5826\n",
      "Recon Loss =1376.7740, KL Loss = 3.6274, Sparsity Loss = 120.1196, Lagrangian Loss = 395.0615\n",
      "Epoch 151: Loss = 1389.6412\n",
      "Recon Loss =992.1237, KL Loss = 4.1029, Sparsity Loss = 117.5299, Lagrangian Loss = 275.8848\n",
      "Epoch 201: Loss = 1156.4895\n",
      "Recon Loss =810.8407, KL Loss = 4.3958, Sparsity Loss = 116.1362, Lagrangian Loss = 225.1168\n",
      "Epoch 251: Loss = 1359.0396\n",
      "Recon Loss =1105.7878, KL Loss = 4.1546, Sparsity Loss = 111.1600, Lagrangian Loss = 137.9370\n",
      "Epoch 301: Loss = 1032.3563\n",
      "Recon Loss =824.5327, KL Loss = 4.3527, Sparsity Loss = 104.4472, Lagrangian Loss = 99.0237\n",
      "Epoch 351: Loss = 1079.6583\n",
      "Recon Loss =865.5347, KL Loss = 3.9612, Sparsity Loss = 105.4901, Lagrangian Loss = 104.6723\n",
      "Epoch 401: Loss = 983.1229\n",
      "Recon Loss =776.2763, KL Loss = 4.2808, Sparsity Loss = 104.2935, Lagrangian Loss = 98.2723\n",
      "Early stopping triggered. Last Epoch: 427\n",
      "Recon Loss =744.8282, KL Loss = 4.5105, Sparsity Loss = 107.8124, Lagrangian Loss = 114.3658\n"
     ]
    },
    {
     "name": "stderr",
     "output_type": "stream",
     "text": [
      "2025-03-19 16:00:12,019 INFO -- Edge Accuracy = 29.17, Instantaneous Accuracy = 29.17, Lagged Accuracy = 31.25, Counterfactual Accuracy = 52.08,  Blended Accuracy = 37.50,  RR Accuracy = 58.33  \n",
      "2025-03-19 16:00:12,020 INFO -- Model: 48\n"
     ]
    },
    {
     "name": "stdout",
     "output_type": "stream",
     "text": [
      "Anomaly: ced1\n",
      "Epoch 1: Loss = 5110.3369\n",
      "Recon Loss =4747.9160, KL Loss = 0.0064, Sparsity Loss = 120.0079, Lagrangian Loss = 242.4070\n",
      "Epoch 51: Loss = 473.3901\n",
      "Recon Loss =96.4053, KL Loss = 3.2574, Sparsity Loss = 115.4880, Lagrangian Loss = 258.2393\n",
      "Epoch 101: Loss = 486.3381\n",
      "Recon Loss =68.0466, KL Loss = 3.4530, Sparsity Loss = 117.0735, Lagrangian Loss = 297.7651\n",
      "Epoch 151: Loss = 370.8752\n",
      "Recon Loss =74.4197, KL Loss = 3.8773, Sparsity Loss = 117.8436, Lagrangian Loss = 174.7347\n",
      "Epoch 201: Loss = 341.9658\n",
      "Recon Loss =87.3005, KL Loss = 3.8091, Sparsity Loss = 110.3817, Lagrangian Loss = 140.4745\n",
      "Epoch 251: Loss = 301.5961\n",
      "Recon Loss =66.4860, KL Loss = 3.7750, Sparsity Loss = 107.7651, Lagrangian Loss = 123.5700\n",
      "Epoch 301: Loss = 308.1395\n",
      "Recon Loss =63.2844, KL Loss = 3.8081, Sparsity Loss = 109.1136, Lagrangian Loss = 131.9334\n",
      "Early stopping triggered. Last Epoch: 344\n",
      "Recon Loss =60.5715, KL Loss = 3.6165, Sparsity Loss = 107.1169, Lagrangian Loss = 123.9881\n"
     ]
    },
    {
     "name": "stderr",
     "output_type": "stream",
     "text": [
      "2025-03-19 16:00:39,415 INFO -- Edge Accuracy = 28.57, Instantaneous Accuracy = 28.57, Lagged Accuracy = 32.65, Counterfactual Accuracy = 51.02,  Blended Accuracy = 36.73,  RR Accuracy = 59.18  \n",
      "2025-03-19 16:00:39,415 INFO -- Model: 49\n"
     ]
    },
    {
     "name": "stdout",
     "output_type": "stream",
     "text": [
      "Anomaly: cfo1\n",
      "Epoch 1: Loss = 51963.1484\n",
      "Recon Loss =51571.4062, KL Loss = 0.0061, Sparsity Loss = 119.5769, Lagrangian Loss = 272.1581\n",
      "Epoch 51: Loss = 4902.5522\n",
      "Recon Loss =4346.8345, KL Loss = 2.9025, Sparsity Loss = 119.2914, Lagrangian Loss = 433.5238\n",
      "Epoch 101: Loss = 1352.5059\n",
      "Recon Loss =880.0195, KL Loss = 4.1871, Sparsity Loss = 118.2388, Lagrangian Loss = 350.0604\n",
      "Epoch 151: Loss = 1173.5862\n",
      "Recon Loss =779.7633, KL Loss = 4.8010, Sparsity Loss = 116.5007, Lagrangian Loss = 272.5212\n",
      "Early stopping triggered. Last Epoch: 195\n",
      "Recon Loss =689.6097, KL Loss = 4.7222, Sparsity Loss = 117.5344, Lagrangian Loss = 339.8631\n"
     ]
    },
    {
     "name": "stderr",
     "output_type": "stream",
     "text": [
      "2025-03-19 16:02:06,959 INFO -- Edge Accuracy = 28.00, Instantaneous Accuracy = 28.00, Lagged Accuracy = 34.00, Counterfactual Accuracy = 50.00,  Blended Accuracy = 36.00,  RR Accuracy = 58.00  \n",
      "2025-03-19 16:02:06,959 INFO -- Model: 50\n"
     ]
    },
    {
     "name": "stdout",
     "output_type": "stream",
     "text": [
      "Anomaly: cso1\n",
      "Epoch 1: Loss = 5744.4966\n",
      "Recon Loss =5334.5137, KL Loss = 0.0102, Sparsity Loss = 121.8382, Lagrangian Loss = 288.1344\n",
      "Epoch 51: Loss = 820.1268\n",
      "Recon Loss =399.9584, KL Loss = 2.5010, Sparsity Loss = 116.5142, Lagrangian Loss = 301.1531\n",
      "Epoch 101: Loss = 1052.8716\n",
      "Recon Loss =119.5055, KL Loss = 3.3748, Sparsity Loss = 130.9264, Lagrangian Loss = 799.0649\n",
      "Early stopping triggered. Last Epoch: 130\n",
      "Recon Loss =94.5121, KL Loss = 3.6259, Sparsity Loss = 128.2538, Lagrangian Loss = 749.8036\n"
     ]
    },
    {
     "name": "stderr",
     "output_type": "stream",
     "text": [
      "2025-03-19 16:02:17,487 INFO -- Edge Accuracy = 29.41, Instantaneous Accuracy = 29.41, Lagged Accuracy = 35.29, Counterfactual Accuracy = 50.98,  Blended Accuracy = 37.25,  RR Accuracy = 56.86  \n",
      "2025-03-19 16:02:17,488 INFO -- Model: 51\n"
     ]
    },
    {
     "name": "stdout",
     "output_type": "stream",
     "text": [
      "Anomaly: ced1\n",
      "Epoch 1: Loss = 13068.9414\n",
      "Recon Loss =12745.8252, KL Loss = 0.0111, Sparsity Loss = 117.0622, Lagrangian Loss = 206.0431\n",
      "Epoch 51: Loss = 1250.2361\n",
      "Recon Loss =807.6724, KL Loss = 2.2542, Sparsity Loss = 116.6544, Lagrangian Loss = 323.6552\n",
      "Epoch 101: Loss = 595.5958\n",
      "Recon Loss =133.8523, KL Loss = 3.7222, Sparsity Loss = 117.7241, Lagrangian Loss = 340.2973\n",
      "Epoch 151: Loss = 494.1417\n",
      "Recon Loss =137.4171, KL Loss = 3.9831, Sparsity Loss = 115.1315, Lagrangian Loss = 237.6100\n",
      "Epoch 201: Loss = 560.2451\n",
      "Recon Loss =124.5546, KL Loss = 4.2871, Sparsity Loss = 116.5125, Lagrangian Loss = 314.8909\n",
      "Early stopping triggered. Last Epoch: 210\n",
      "Recon Loss =138.8506, KL Loss = 4.3367, Sparsity Loss = 117.0633, Lagrangian Loss = 339.6618\n"
     ]
    },
    {
     "name": "stderr",
     "output_type": "stream",
     "text": [
      "2025-03-19 16:02:50,508 INFO -- Edge Accuracy = 28.85, Instantaneous Accuracy = 28.85, Lagged Accuracy = 34.62, Counterfactual Accuracy = 51.92,  Blended Accuracy = 36.54,  RR Accuracy = 57.69  \n",
      "2025-03-19 16:02:50,509 INFO -- Model: 52\n"
     ]
    },
    {
     "name": "stdout",
     "output_type": "stream",
     "text": [
      "Anomaly: cfo1\n",
      "Epoch 1: Loss = 7525.4966\n",
      "Recon Loss =7178.7910, KL Loss = 0.0033, Sparsity Loss = 119.5192, Lagrangian Loss = 227.1830\n",
      "Epoch 51: Loss = 806.3232\n",
      "Recon Loss =404.9669, KL Loss = 2.4220, Sparsity Loss = 116.3947, Lagrangian Loss = 282.5396\n",
      "Epoch 101: Loss = 479.8024\n",
      "Recon Loss =82.4101, KL Loss = 4.2458, Sparsity Loss = 116.8887, Lagrangian Loss = 276.2578\n",
      "Epoch 151: Loss = 527.2007\n",
      "Recon Loss =72.4911, KL Loss = 4.0868, Sparsity Loss = 117.1483, Lagrangian Loss = 333.4745\n",
      "Early stopping triggered. Last Epoch: 156\n",
      "Recon Loss =73.3946, KL Loss = 4.0870, Sparsity Loss = 119.6065, Lagrangian Loss = 395.7614\n"
     ]
    },
    {
     "name": "stderr",
     "output_type": "stream",
     "text": [
      "2025-03-19 16:03:06,556 INFO -- Edge Accuracy = 30.19, Instantaneous Accuracy = 30.19, Lagged Accuracy = 35.85, Counterfactual Accuracy = 52.83,  Blended Accuracy = 37.74,  RR Accuracy = 56.60  \n",
      "2025-03-19 16:03:06,557 INFO -- Model: 53\n"
     ]
    },
    {
     "name": "stdout",
     "output_type": "stream",
     "text": [
      "Anomaly: cso1\n",
      "Epoch 1: Loss = 68001.3203\n",
      "Recon Loss =67293.7969, KL Loss = 0.0090, Sparsity Loss = 125.6747, Lagrangian Loss = 581.8408\n",
      "Epoch 51: Loss = 6195.2344\n",
      "Recon Loss =5715.2227, KL Loss = 2.4882, Sparsity Loss = 117.8477, Lagrangian Loss = 359.6759\n",
      "Epoch 101: Loss = 1171.3376\n",
      "Recon Loss =732.6730, KL Loss = 4.1670, Sparsity Loss = 119.1423, Lagrangian Loss = 315.3553\n",
      "Epoch 151: Loss = 987.2266\n",
      "Recon Loss =615.9200, KL Loss = 4.3670, Sparsity Loss = 115.4700, Lagrangian Loss = 251.4695\n",
      "Epoch 201: Loss = 1094.5167\n",
      "Recon Loss =666.3212, KL Loss = 4.1857, Sparsity Loss = 117.5099, Lagrangian Loss = 306.4999\n",
      "Epoch 251: Loss = 962.5298\n",
      "Recon Loss =604.6553, KL Loss = 4.4472, Sparsity Loss = 114.4683, Lagrangian Loss = 238.9590\n",
      "Epoch 301: Loss = 934.6532\n",
      "Recon Loss =598.6119, KL Loss = 4.5422, Sparsity Loss = 113.6067, Lagrangian Loss = 217.8923\n",
      "Epoch 351: Loss = 898.8312\n",
      "Recon Loss =593.8940, KL Loss = 4.4881, Sparsity Loss = 110.1712, Lagrangian Loss = 190.2780\n",
      "Epoch 401: Loss = 900.8567\n",
      "Recon Loss =605.8845, KL Loss = 4.1969, Sparsity Loss = 108.5390, Lagrangian Loss = 182.2363\n",
      "Early stopping triggered. Last Epoch: 403\n",
      "Recon Loss =613.1387, KL Loss = 4.2915, Sparsity Loss = 109.5837, Lagrangian Loss = 215.0590\n"
     ]
    },
    {
     "name": "stderr",
     "output_type": "stream",
     "text": [
      "2025-03-19 16:06:06,439 INFO -- Edge Accuracy = 29.63, Instantaneous Accuracy = 29.63, Lagged Accuracy = 35.19, Counterfactual Accuracy = 53.70,  Blended Accuracy = 37.04,  RR Accuracy = 55.56  \n",
      "2025-03-19 16:06:06,440 INFO -- Model: 54\n"
     ]
    },
    {
     "name": "stdout",
     "output_type": "stream",
     "text": [
      "Anomaly: ced1\n",
      "Epoch 1: Loss = 12098.6768\n",
      "Recon Loss =11722.6250, KL Loss = 0.0096, Sparsity Loss = 121.0447, Lagrangian Loss = 254.9969\n",
      "Epoch 51: Loss = 985.7870\n",
      "Recon Loss =387.2123, KL Loss = 3.1106, Sparsity Loss = 121.6439, Lagrangian Loss = 473.8202\n",
      "Epoch 101: Loss = 736.5693\n",
      "Recon Loss =267.2171, KL Loss = 3.7839, Sparsity Loss = 118.0128, Lagrangian Loss = 347.5555\n",
      "Epoch 151: Loss = 680.3140\n",
      "Recon Loss =260.0314, KL Loss = 3.9767, Sparsity Loss = 116.7268, Lagrangian Loss = 299.5790\n",
      "Epoch 201: Loss = 653.9547\n",
      "Recon Loss =254.4806, KL Loss = 4.0425, Sparsity Loss = 114.6940, Lagrangian Loss = 280.7376\n",
      "Epoch 251: Loss = 610.3221\n",
      "Recon Loss =249.1313, KL Loss = 4.3972, Sparsity Loss = 114.8052, Lagrangian Loss = 241.9884\n",
      "Epoch 301: Loss = 617.1362\n",
      "Recon Loss =127.9421, KL Loss = 4.1961, Sparsity Loss = 118.7965, Lagrangian Loss = 366.2015\n",
      "Early stopping triggered. Last Epoch: 308\n",
      "Recon Loss =125.7205, KL Loss = 4.2427, Sparsity Loss = 120.0962, Lagrangian Loss = 381.0445\n"
     ]
    },
    {
     "name": "stderr",
     "output_type": "stream",
     "text": [
      "2025-03-19 16:06:47,664 INFO -- Edge Accuracy = 30.91, Instantaneous Accuracy = 30.91, Lagged Accuracy = 36.36, Counterfactual Accuracy = 54.55,  Blended Accuracy = 38.18,  RR Accuracy = 54.55  \n",
      "2025-03-19 16:06:47,665 INFO -- Model: 55\n"
     ]
    },
    {
     "name": "stdout",
     "output_type": "stream",
     "text": [
      "Anomaly: cso1\n",
      "Epoch 1: Loss = 4543.7783\n",
      "Recon Loss =4142.9180, KL Loss = 0.0059, Sparsity Loss = 120.0483, Lagrangian Loss = 280.8062\n",
      "Epoch 51: Loss = 682.4402\n",
      "Recon Loss =139.1737, KL Loss = 2.4280, Sparsity Loss = 119.8300, Lagrangian Loss = 421.0084\n",
      "Epoch 101: Loss = 807.5186\n",
      "Recon Loss =111.4068, KL Loss = 3.2550, Sparsity Loss = 123.2254, Lagrangian Loss = 569.6313\n",
      "Early stopping triggered. Last Epoch: 104\n",
      "Recon Loss =118.2780, KL Loss = 3.2619, Sparsity Loss = 123.1047, Lagrangian Loss = 558.1585\n"
     ]
    },
    {
     "name": "stderr",
     "output_type": "stream",
     "text": [
      "2025-03-19 16:06:58,578 INFO -- Edge Accuracy = 32.14, Instantaneous Accuracy = 32.14, Lagged Accuracy = 37.50, Counterfactual Accuracy = 55.36,  Blended Accuracy = 39.29,  RR Accuracy = 53.57  \n",
      "2025-03-19 16:06:58,578 INFO -- Model: 56\n"
     ]
    },
    {
     "name": "stdout",
     "output_type": "stream",
     "text": [
      "Anomaly: ced1\n",
      "Epoch 1: Loss = 12044.2773\n",
      "Recon Loss =11619.4014, KL Loss = 0.0082, Sparsity Loss = 120.6918, Lagrangian Loss = 304.1772\n",
      "Epoch 51: Loss = 746.4155\n",
      "Recon Loss =314.1762, KL Loss = 2.1336, Sparsity Loss = 116.5270, Lagrangian Loss = 313.5787\n",
      "Epoch 101: Loss = 658.7572\n",
      "Recon Loss =230.9201, KL Loss = 3.4546, Sparsity Loss = 116.8908, Lagrangian Loss = 307.4916\n",
      "Epoch 151: Loss = 820.3360\n",
      "Recon Loss =225.7491, KL Loss = 4.0134, Sparsity Loss = 119.7112, Lagrangian Loss = 470.8624\n",
      "Epoch 201: Loss = 596.2363\n",
      "Recon Loss =191.5170, KL Loss = 4.2287, Sparsity Loss = 116.5662, Lagrangian Loss = 283.9245\n",
      "Epoch 251: Loss = 574.4460\n",
      "Recon Loss =159.9142, KL Loss = 3.9856, Sparsity Loss = 116.1027, Lagrangian Loss = 294.4436\n",
      "Epoch 301: Loss = 423.8460\n",
      "Recon Loss =158.5817, KL Loss = 3.9193, Sparsity Loss = 112.6230, Lagrangian Loss = 148.7220\n",
      "Epoch 351: Loss = 463.9802\n",
      "Recon Loss =177.5629, KL Loss = 4.5108, Sparsity Loss = 115.0665, Lagrangian Loss = 166.8400\n",
      "Early stopping triggered. Last Epoch: 379\n",
      "Recon Loss =142.0398, KL Loss = 4.3809, Sparsity Loss = 106.1802, Lagrangian Loss = 127.3313\n"
     ]
    },
    {
     "name": "stderr",
     "output_type": "stream",
     "text": [
      "2025-03-19 16:07:49,786 INFO -- Edge Accuracy = 33.33, Instantaneous Accuracy = 33.33, Lagged Accuracy = 38.60, Counterfactual Accuracy = 56.14,  Blended Accuracy = 40.35,  RR Accuracy = 52.63  \n",
      "2025-03-19 16:07:49,787 INFO -- Model: 57\n"
     ]
    },
    {
     "name": "stdout",
     "output_type": "stream",
     "text": [
      "Anomaly: cfo1\n",
      "Epoch 1: Loss = 7087.9380\n",
      "Recon Loss =6685.0317, KL Loss = 0.0076, Sparsity Loss = 121.5838, Lagrangian Loss = 281.3145\n",
      "Epoch 51: Loss = 602.4373\n",
      "Recon Loss =192.1411, KL Loss = 2.5274, Sparsity Loss = 117.0841, Lagrangian Loss = 290.6847\n",
      "Epoch 101: Loss = 526.2928\n",
      "Recon Loss =38.6686, KL Loss = 4.2069, Sparsity Loss = 120.7890, Lagrangian Loss = 362.6284\n",
      "Epoch 151: Loss = 467.7872\n",
      "Recon Loss =36.3676, KL Loss = 4.4021, Sparsity Loss = 117.4498, Lagrangian Loss = 309.5677\n",
      "Early stopping triggered. Last Epoch: 165\n",
      "Recon Loss =43.3026, KL Loss = 4.4366, Sparsity Loss = 117.7242, Lagrangian Loss = 395.2045\n"
     ]
    },
    {
     "name": "stderr",
     "output_type": "stream",
     "text": [
      "2025-03-19 16:08:02,891 INFO -- Edge Accuracy = 32.76, Instantaneous Accuracy = 32.76, Lagged Accuracy = 37.93, Counterfactual Accuracy = 55.17,  Blended Accuracy = 39.66,  RR Accuracy = 51.72  \n",
      "2025-03-19 16:08:02,892 INFO -- Model: 58\n"
     ]
    },
    {
     "name": "stdout",
     "output_type": "stream",
     "text": [
      "Anomaly: cfo1\n",
      "Epoch 1: Loss = 8705.3643\n",
      "Recon Loss =8332.2715, KL Loss = 0.0087, Sparsity Loss = 120.1491, Lagrangian Loss = 252.9343\n",
      "Epoch 51: Loss = 1145.6477\n",
      "Recon Loss =642.7607, KL Loss = 2.1046, Sparsity Loss = 120.0338, Lagrangian Loss = 380.7487\n",
      "Epoch 101: Loss = 505.7967\n",
      "Recon Loss =82.6554, KL Loss = 4.6281, Sparsity Loss = 117.2894, Lagrangian Loss = 301.2238\n",
      "Early stopping triggered. Last Epoch: 127\n",
      "Recon Loss =66.5911, KL Loss = 4.3573, Sparsity Loss = 120.6197, Lagrangian Loss = 362.8514\n"
     ]
    },
    {
     "name": "stderr",
     "output_type": "stream",
     "text": [
      "2025-03-19 16:08:16,014 INFO -- Edge Accuracy = 33.90, Instantaneous Accuracy = 33.90, Lagged Accuracy = 38.98, Counterfactual Accuracy = 55.93,  Blended Accuracy = 40.68,  RR Accuracy = 52.54  \n",
      "2025-03-19 16:08:16,014 INFO -- Model: 59\n"
     ]
    },
    {
     "name": "stdout",
     "output_type": "stream",
     "text": [
      "Anomaly: cso1\n",
      "Epoch 1: Loss = 4799.6465\n",
      "Recon Loss =3945.2742, KL Loss = 0.0084, Sparsity Loss = 130.9846, Lagrangian Loss = 723.3796\n",
      "Epoch 51: Loss = 490.0541\n",
      "Recon Loss =138.1741, KL Loss = 2.7906, Sparsity Loss = 119.0051, Lagrangian Loss = 230.0842\n",
      "Epoch 101: Loss = 353.8196\n",
      "Recon Loss =44.3459, KL Loss = 3.3376, Sparsity Loss = 116.6616, Lagrangian Loss = 189.4745\n",
      "Epoch 151: Loss = 295.3062\n",
      "Recon Loss =44.7489, KL Loss = 3.6231, Sparsity Loss = 113.1609, Lagrangian Loss = 133.7733\n",
      "Epoch 201: Loss = 285.8342\n",
      "Recon Loss =43.5228, KL Loss = 3.5661, Sparsity Loss = 112.0005, Lagrangian Loss = 126.7448\n",
      "Epoch 251: Loss = 281.0298\n",
      "Recon Loss =43.8671, KL Loss = 3.5097, Sparsity Loss = 108.7247, Lagrangian Loss = 124.9282\n",
      "Epoch 301: Loss = 265.7959\n",
      "Recon Loss =43.2039, KL Loss = 3.5504, Sparsity Loss = 107.6433, Lagrangian Loss = 111.3982\n",
      "Early stopping triggered. Last Epoch: 333\n",
      "Recon Loss =43.8110, KL Loss = 3.4184, Sparsity Loss = 108.7795, Lagrangian Loss = 118.7971\n"
     ]
    },
    {
     "name": "stderr",
     "output_type": "stream",
     "text": [
      "2025-03-19 16:08:40,199 INFO -- Edge Accuracy = 35.00, Instantaneous Accuracy = 33.33, Lagged Accuracy = 40.00, Counterfactual Accuracy = 55.00,  Blended Accuracy = 41.67,  RR Accuracy = 51.67  \n",
      "2025-03-19 16:08:40,199 INFO -- Model: 60\n"
     ]
    },
    {
     "name": "stdout",
     "output_type": "stream",
     "text": [
      "Anomaly: ced1\n",
      "Epoch 1: Loss = 7561.7754\n",
      "Recon Loss =7180.8418, KL Loss = 0.0112, Sparsity Loss = 119.2006, Lagrangian Loss = 261.7215\n",
      "Epoch 51: Loss = 996.3030\n",
      "Recon Loss =554.1119, KL Loss = 1.9262, Sparsity Loss = 117.0117, Lagrangian Loss = 323.2532\n",
      "Epoch 101: Loss = 534.0552\n",
      "Recon Loss =103.0195, KL Loss = 4.1572, Sparsity Loss = 115.2697, Lagrangian Loss = 311.6087\n",
      "Epoch 151: Loss = 512.8923\n",
      "Recon Loss =98.7368, KL Loss = 4.2160, Sparsity Loss = 117.8668, Lagrangian Loss = 292.0726\n",
      "Epoch 201: Loss = 334.2872\n",
      "Recon Loss =102.0777, KL Loss = 3.8490, Sparsity Loss = 109.4655, Lagrangian Loss = 118.8950\n",
      "Early stopping triggered. Last Epoch: 248\n",
      "Recon Loss =99.7638, KL Loss = 3.7799, Sparsity Loss = 112.2165, Lagrangian Loss = 136.8206\n"
     ]
    },
    {
     "name": "stderr",
     "output_type": "stream",
     "text": [
      "2025-03-19 16:09:05,571 INFO -- Edge Accuracy = 34.43, Instantaneous Accuracy = 32.79, Lagged Accuracy = 39.34, Counterfactual Accuracy = 54.10,  Blended Accuracy = 40.98,  RR Accuracy = 50.82  \n",
      "2025-03-19 16:09:05,572 INFO -- Model: 61\n"
     ]
    },
    {
     "name": "stdout",
     "output_type": "stream",
     "text": [
      "Anomaly: cfo1\n",
      "Epoch 1: Loss = 11043.0537\n",
      "Recon Loss =10542.1641, KL Loss = 0.0045, Sparsity Loss = 125.6367, Lagrangian Loss = 375.2477\n",
      "Epoch 51: Loss = 941.9509\n",
      "Recon Loss =551.0154, KL Loss = 2.7352, Sparsity Loss = 113.6375, Lagrangian Loss = 274.5630\n",
      "Epoch 101: Loss = 572.1813\n",
      "Recon Loss =158.4427, KL Loss = 3.9451, Sparsity Loss = 115.9312, Lagrangian Loss = 293.8622\n",
      "Epoch 151: Loss = 467.3076\n",
      "Recon Loss =143.3538, KL Loss = 4.1382, Sparsity Loss = 114.2074, Lagrangian Loss = 205.6082\n",
      "Epoch 201: Loss = 489.2979\n",
      "Recon Loss =142.9754, KL Loss = 4.0963, Sparsity Loss = 115.8099, Lagrangian Loss = 226.4163\n",
      "Early stopping triggered. Last Epoch: 200\n",
      "Recon Loss =142.9754, KL Loss = 4.0963, Sparsity Loss = 115.8099, Lagrangian Loss = 226.4163\n"
     ]
    },
    {
     "name": "stderr",
     "output_type": "stream",
     "text": [
      "2025-03-19 16:09:32,776 INFO -- Edge Accuracy = 33.87, Instantaneous Accuracy = 32.26, Lagged Accuracy = 38.71, Counterfactual Accuracy = 54.84,  Blended Accuracy = 41.94,  RR Accuracy = 51.61  \n",
      "2025-03-19 16:09:32,777 INFO -- Model: 62\n"
     ]
    },
    {
     "name": "stdout",
     "output_type": "stream",
     "text": [
      "Anomaly: cfo1\n",
      "Epoch 1: Loss = 5879.3921\n",
      "Recon Loss =5504.5591, KL Loss = 0.0157, Sparsity Loss = 120.5068, Lagrangian Loss = 254.3104\n",
      "Epoch 51: Loss = 852.4310\n",
      "Recon Loss =262.7446, KL Loss = 2.3208, Sparsity Loss = 121.0609, Lagrangian Loss = 466.3046\n",
      "Epoch 101: Loss = 500.6202\n",
      "Recon Loss =49.6908, KL Loss = 3.6808, Sparsity Loss = 117.6523, Lagrangian Loss = 329.5963\n",
      "Epoch 151: Loss = 410.7710\n",
      "Recon Loss =46.8782, KL Loss = 3.9995, Sparsity Loss = 115.3154, Lagrangian Loss = 244.5779\n",
      "Epoch 201: Loss = 347.9809\n",
      "Recon Loss =51.3327, KL Loss = 4.1325, Sparsity Loss = 117.7129, Lagrangian Loss = 174.8027\n",
      "Epoch 251: Loss = 269.0113\n",
      "Recon Loss =45.3406, KL Loss = 4.2545, Sparsity Loss = 106.3812, Lagrangian Loss = 113.0350\n",
      "Epoch 301: Loss = 282.4048\n",
      "Recon Loss =45.3720, KL Loss = 4.1728, Sparsity Loss = 107.2282, Lagrangian Loss = 125.6318\n",
      "Early stopping triggered. Last Epoch: 300\n",
      "Recon Loss =45.3720, KL Loss = 4.1728, Sparsity Loss = 107.2282, Lagrangian Loss = 125.6318\n"
     ]
    },
    {
     "name": "stderr",
     "output_type": "stream",
     "text": [
      "2025-03-19 16:09:56,911 INFO -- Edge Accuracy = 33.33, Instantaneous Accuracy = 31.75, Lagged Accuracy = 38.10, Counterfactual Accuracy = 55.56,  Blended Accuracy = 41.27,  RR Accuracy = 50.79  \n",
      "2025-03-19 16:09:56,912 INFO -- Model: 63\n"
     ]
    },
    {
     "name": "stdout",
     "output_type": "stream",
     "text": [
      "Anomaly: cfo1\n",
      "Epoch 1: Loss = 12574.8760\n",
      "Recon Loss =12178.5938, KL Loss = 0.0077, Sparsity Loss = 119.9349, Lagrangian Loss = 276.3402\n",
      "Epoch 51: Loss = 1701.9541\n",
      "Recon Loss =1086.4033, KL Loss = 2.1679, Sparsity Loss = 121.3108, Lagrangian Loss = 492.0722\n",
      "Epoch 101: Loss = 727.6575\n",
      "Recon Loss =250.7244, KL Loss = 4.2767, Sparsity Loss = 117.8136, Lagrangian Loss = 354.8427\n",
      "Epoch 151: Loss = 704.0873\n",
      "Recon Loss =249.5979, KL Loss = 4.0837, Sparsity Loss = 118.5531, Lagrangian Loss = 331.8526\n",
      "Epoch 201: Loss = 511.5759\n",
      "Recon Loss =116.9717, KL Loss = 4.1854, Sparsity Loss = 116.3157, Lagrangian Loss = 274.1031\n",
      "Epoch 251: Loss = 438.2025\n",
      "Recon Loss =137.5216, KL Loss = 4.5384, Sparsity Loss = 117.8221, Lagrangian Loss = 178.3204\n",
      "Epoch 301: Loss = 318.5615\n",
      "Recon Loss =95.3521, KL Loss = 4.6111, Sparsity Loss = 106.6209, Lagrangian Loss = 111.9773\n",
      "Epoch 351: Loss = 327.6475\n",
      "Recon Loss =95.0854, KL Loss = 4.4822, Sparsity Loss = 108.9563, Lagrangian Loss = 119.1236\n",
      "Early stopping triggered. Last Epoch: 352\n",
      "Recon Loss =92.2742, KL Loss = 4.5092, Sparsity Loss = 108.0397, Lagrangian Loss = 113.0484\n"
     ]
    },
    {
     "name": "stderr",
     "output_type": "stream",
     "text": [
      "2025-03-19 16:10:44,530 INFO -- Edge Accuracy = 32.81, Instantaneous Accuracy = 32.81, Lagged Accuracy = 37.50, Counterfactual Accuracy = 56.25,  Blended Accuracy = 42.19,  RR Accuracy = 50.00  \n",
      "2025-03-19 16:10:44,531 INFO -- Model: 64\n"
     ]
    },
    {
     "name": "stdout",
     "output_type": "stream",
     "text": [
      "Anomaly: ced1\n",
      "Epoch 1: Loss = 6066.3281\n",
      "Recon Loss =5703.7397, KL Loss = 0.0080, Sparsity Loss = 119.1426, Lagrangian Loss = 243.4381\n",
      "Epoch 51: Loss = 562.3562\n",
      "Recon Loss =150.6494, KL Loss = 2.6172, Sparsity Loss = 116.1342, Lagrangian Loss = 292.9554\n",
      "Epoch 101: Loss = 487.1345\n",
      "Recon Loss =84.3034, KL Loss = 3.6758, Sparsity Loss = 116.7526, Lagrangian Loss = 282.4027\n",
      "Epoch 151: Loss = 470.3586\n",
      "Recon Loss =49.4902, KL Loss = 4.2180, Sparsity Loss = 117.0062, Lagrangian Loss = 299.6441\n",
      "Epoch 201: Loss = 330.5648\n",
      "Recon Loss =45.9323, KL Loss = 4.3624, Sparsity Loss = 117.4932, Lagrangian Loss = 162.7768\n",
      "Epoch 251: Loss = 270.1547\n",
      "Recon Loss =48.2694, KL Loss = 4.1467, Sparsity Loss = 107.3631, Lagrangian Loss = 110.3755\n",
      "Epoch 301: Loss = 243.6982\n",
      "Recon Loss =46.1852, KL Loss = 4.2161, Sparsity Loss = 102.6846, Lagrangian Loss = 90.6123\n",
      "Epoch 351: Loss = 271.2859\n",
      "Recon Loss =46.8391, KL Loss = 4.0137, Sparsity Loss = 108.1445, Lagrangian Loss = 112.2886\n",
      "Early stopping triggered. Last Epoch: 350\n",
      "Recon Loss =46.8391, KL Loss = 4.0137, Sparsity Loss = 108.1445, Lagrangian Loss = 112.2886\n"
     ]
    },
    {
     "name": "stderr",
     "output_type": "stream",
     "text": [
      "2025-03-19 16:11:13,705 INFO -- Edge Accuracy = 32.31, Instantaneous Accuracy = 32.31, Lagged Accuracy = 36.92, Counterfactual Accuracy = 56.92,  Blended Accuracy = 43.08,  RR Accuracy = 50.77  \n",
      "2025-03-19 16:11:13,705 INFO -- Model: 65\n"
     ]
    },
    {
     "name": "stdout",
     "output_type": "stream",
     "text": [
      "Anomaly: cfo1\n",
      "Epoch 1: Loss = 7985.9849\n",
      "Recon Loss =7598.2012, KL Loss = 0.0078, Sparsity Loss = 121.5285, Lagrangian Loss = 266.2475\n",
      "Epoch 51: Loss = 1007.8859\n",
      "Recon Loss =326.2502, KL Loss = 1.8744, Sparsity Loss = 124.5402, Lagrangian Loss = 555.2210\n",
      "Epoch 101: Loss = 1065.4166\n",
      "Recon Loss =222.8045, KL Loss = 3.0212, Sparsity Loss = 124.6934, Lagrangian Loss = 714.8975\n",
      "Early stopping triggered. Last Epoch: 136\n",
      "Recon Loss =178.6151, KL Loss = 2.9583, Sparsity Loss = 123.3940, Lagrangian Loss = 489.3169\n"
     ]
    },
    {
     "name": "stderr",
     "output_type": "stream",
     "text": [
      "2025-03-19 16:11:29,787 INFO -- Edge Accuracy = 31.82, Instantaneous Accuracy = 31.82, Lagged Accuracy = 36.36, Counterfactual Accuracy = 57.58,  Blended Accuracy = 42.42,  RR Accuracy = 50.00  \n",
      "2025-03-19 16:11:29,788 INFO -- Model: 66\n"
     ]
    },
    {
     "name": "stdout",
     "output_type": "stream",
     "text": [
      "Anomaly: cso1\n",
      "Epoch 1: Loss = 8336.6406\n",
      "Recon Loss =7961.5332, KL Loss = 0.0065, Sparsity Loss = 119.3786, Lagrangian Loss = 255.7225\n",
      "Epoch 51: Loss = 730.4362\n",
      "Recon Loss =315.5825, KL Loss = 2.2447, Sparsity Loss = 115.1122, Lagrangian Loss = 297.4967\n",
      "Epoch 101: Loss = 560.6343\n",
      "Recon Loss =104.4463, KL Loss = 3.7898, Sparsity Loss = 118.1333, Lagrangian Loss = 334.2649\n",
      "Early stopping triggered. Last Epoch: 117\n",
      "Recon Loss =105.2731, KL Loss = 3.7679, Sparsity Loss = 118.2437, Lagrangian Loss = 352.0839\n"
     ]
    },
    {
     "name": "stderr",
     "output_type": "stream",
     "text": [
      "2025-03-19 16:11:43,670 INFO -- Edge Accuracy = 31.34, Instantaneous Accuracy = 31.34, Lagged Accuracy = 35.82, Counterfactual Accuracy = 58.21,  Blended Accuracy = 41.79,  RR Accuracy = 49.25  \n",
      "2025-03-19 16:11:43,671 INFO -- Model: 67\n"
     ]
    },
    {
     "name": "stdout",
     "output_type": "stream",
     "text": [
      "Anomaly: cfo1\n",
      "Epoch 1: Loss = 4520.2134\n",
      "Recon Loss =4170.8218, KL Loss = 0.0061, Sparsity Loss = 120.0909, Lagrangian Loss = 229.2951\n",
      "Epoch 51: Loss = 476.2171\n",
      "Recon Loss =95.3292, KL Loss = 2.4152, Sparsity Loss = 116.4971, Lagrangian Loss = 261.9756\n",
      "Epoch 101: Loss = 425.3093\n",
      "Recon Loss =28.0720, KL Loss = 3.4166, Sparsity Loss = 117.4042, Lagrangian Loss = 276.4164\n",
      "Epoch 151: Loss = 397.9247\n",
      "Recon Loss =28.7937, KL Loss = 3.6173, Sparsity Loss = 114.3007, Lagrangian Loss = 251.2130\n",
      "Epoch 201: Loss = 304.5590\n",
      "Recon Loss =28.1582, KL Loss = 3.7446, Sparsity Loss = 116.8758, Lagrangian Loss = 155.7803\n",
      "Epoch 251: Loss = 253.1158\n",
      "Recon Loss =28.4446, KL Loss = 3.6752, Sparsity Loss = 107.1034, Lagrangian Loss = 113.8926\n",
      "Epoch 301: Loss = 249.6094\n",
      "Recon Loss =31.7943, KL Loss = 3.6315, Sparsity Loss = 106.8742, Lagrangian Loss = 107.3094\n",
      "Early stopping triggered. Last Epoch: 340\n",
      "Recon Loss =27.9955, KL Loss = 3.6560, Sparsity Loss = 107.9644, Lagrangian Loss = 109.5515\n"
     ]
    },
    {
     "name": "stderr",
     "output_type": "stream",
     "text": [
      "2025-03-19 16:12:08,689 INFO -- Edge Accuracy = 30.88, Instantaneous Accuracy = 30.88, Lagged Accuracy = 36.76, Counterfactual Accuracy = 58.82,  Blended Accuracy = 41.18,  RR Accuracy = 50.00  \n",
      "2025-03-19 16:12:08,689 INFO -- Model: 68\n"
     ]
    },
    {
     "name": "stdout",
     "output_type": "stream",
     "text": [
      "Anomaly: cso1\n",
      "Epoch 1: Loss = 7051.1367\n",
      "Recon Loss =6682.2856, KL Loss = 0.0050, Sparsity Loss = 119.7967, Lagrangian Loss = 249.0492\n",
      "Epoch 51: Loss = 743.5474\n",
      "Recon Loss =284.3039, KL Loss = 1.9699, Sparsity Loss = 117.8452, Lagrangian Loss = 339.4283\n",
      "Epoch 101: Loss = 512.8673\n",
      "Recon Loss =103.7827, KL Loss = 3.7264, Sparsity Loss = 117.9506, Lagrangian Loss = 287.4076\n",
      "Epoch 151: Loss = 325.9921\n",
      "Recon Loss =49.7586, KL Loss = 4.3567, Sparsity Loss = 116.9879, Lagrangian Loss = 154.8889\n",
      "Epoch 201: Loss = 270.2046\n",
      "Recon Loss =42.3834, KL Loss = 4.8563, Sparsity Loss = 109.3371, Lagrangian Loss = 113.6279\n",
      "Epoch 251: Loss = 288.4363\n",
      "Recon Loss =47.3425, KL Loss = 4.7132, Sparsity Loss = 109.3641, Lagrangian Loss = 127.0166\n",
      "Early stopping triggered. Last Epoch: 288\n",
      "Recon Loss =55.8565, KL Loss = 4.7288, Sparsity Loss = 107.5693, Lagrangian Loss = 113.4758\n"
     ]
    },
    {
     "name": "stderr",
     "output_type": "stream",
     "text": [
      "2025-03-19 16:12:31,556 INFO -- Edge Accuracy = 31.88, Instantaneous Accuracy = 31.88, Lagged Accuracy = 37.68, Counterfactual Accuracy = 59.42,  Blended Accuracy = 42.03,  RR Accuracy = 50.72  \n",
      "2025-03-19 16:12:31,557 INFO -- Model: 69\n"
     ]
    },
    {
     "name": "stdout",
     "output_type": "stream",
     "text": [
      "Anomaly: cso1\n",
      "Epoch 1: Loss = 23560.1289\n",
      "Recon Loss =23146.5391, KL Loss = 0.0082, Sparsity Loss = 120.6983, Lagrangian Loss = 292.8837\n",
      "Epoch 51: Loss = 2740.6792\n",
      "Recon Loss =1847.6960, KL Loss = 2.6309, Sparsity Loss = 129.7213, Lagrangian Loss = 760.6310\n",
      "Epoch 101: Loss = 1189.4844\n",
      "Recon Loss =306.1335, KL Loss = 3.8153, Sparsity Loss = 127.8983, Lagrangian Loss = 751.6372\n",
      "Epoch 151: Loss = 726.9847\n",
      "Recon Loss =293.5457, KL Loss = 4.4591, Sparsity Loss = 116.4892, Lagrangian Loss = 312.4907\n",
      "Early stopping triggered. Last Epoch: 192\n",
      "Recon Loss =298.2320, KL Loss = 4.5570, Sparsity Loss = 115.8541, Lagrangian Loss = 285.6930\n"
     ]
    },
    {
     "name": "stderr",
     "output_type": "stream",
     "text": [
      "2025-03-19 16:13:07,327 INFO -- Edge Accuracy = 32.86, Instantaneous Accuracy = 32.86, Lagged Accuracy = 38.57, Counterfactual Accuracy = 58.57,  Blended Accuracy = 42.86,  RR Accuracy = 51.43  \n",
      "2025-03-19 16:13:07,327 INFO -- Model: 70\n"
     ]
    },
    {
     "name": "stdout",
     "output_type": "stream",
     "text": [
      "Anomaly: cso1\n",
      "Epoch 1: Loss = 4085.7825\n",
      "Recon Loss =3648.1838, KL Loss = 0.0035, Sparsity Loss = 123.9202, Lagrangian Loss = 313.6750\n",
      "Epoch 51: Loss = 814.7333\n",
      "Recon Loss =209.7716, KL Loss = 2.6594, Sparsity Loss = 122.1319, Lagrangian Loss = 480.1704\n",
      "Epoch 101: Loss = 451.8261\n",
      "Recon Loss =83.9194, KL Loss = 3.1655, Sparsity Loss = 114.9862, Lagrangian Loss = 249.7550\n",
      "Epoch 151: Loss = 474.4811\n",
      "Recon Loss =81.1263, KL Loss = 3.3696, Sparsity Loss = 113.6372, Lagrangian Loss = 276.3480\n",
      "Epoch 201: Loss = 466.4879\n",
      "Recon Loss =80.3208, KL Loss = 3.4708, Sparsity Loss = 116.2424, Lagrangian Loss = 266.4540\n",
      "Epoch 251: Loss = 334.8655\n",
      "Recon Loss =60.5475, KL Loss = 3.6703, Sparsity Loss = 116.6294, Lagrangian Loss = 154.0183\n",
      "Epoch 301: Loss = 276.5920\n",
      "Recon Loss =55.7675, KL Loss = 3.8749, Sparsity Loss = 107.9932, Lagrangian Loss = 108.9563\n",
      "Epoch 351: Loss = 298.5867\n",
      "Recon Loss =54.0974, KL Loss = 3.8204, Sparsity Loss = 112.1598, Lagrangian Loss = 128.5091\n",
      "Early stopping triggered. Last Epoch: 353\n",
      "Recon Loss =54.0921, KL Loss = 3.8417, Sparsity Loss = 109.0598, Lagrangian Loss = 119.8951\n"
     ]
    },
    {
     "name": "stderr",
     "output_type": "stream",
     "text": [
      "2025-03-19 16:13:33,024 INFO -- Edge Accuracy = 33.80, Instantaneous Accuracy = 33.80, Lagged Accuracy = 39.44, Counterfactual Accuracy = 59.15,  Blended Accuracy = 43.66,  RR Accuracy = 50.70  \n",
      "2025-03-19 16:13:33,024 INFO -- Model: 71\n"
     ]
    },
    {
     "name": "stdout",
     "output_type": "stream",
     "text": [
      "Anomaly: ced1\n",
      "Epoch 1: Loss = 6586.5791\n",
      "Recon Loss =6104.1582, KL Loss = 0.0068, Sparsity Loss = 126.4335, Lagrangian Loss = 355.9803\n",
      "Epoch 51: Loss = 598.0713\n",
      "Recon Loss =152.1320, KL Loss = 2.8456, Sparsity Loss = 117.0008, Lagrangian Loss = 326.0930\n",
      "Epoch 101: Loss = 627.2446\n",
      "Recon Loss =110.0227, KL Loss = 3.4843, Sparsity Loss = 121.1002, Lagrangian Loss = 392.6373\n",
      "Early stopping triggered. Last Epoch: 140\n",
      "Recon Loss =104.4044, KL Loss = 3.7756, Sparsity Loss = 120.4466, Lagrangian Loss = 413.4886\n"
     ]
    },
    {
     "name": "stderr",
     "output_type": "stream",
     "text": [
      "2025-03-19 16:13:47,608 INFO -- Edge Accuracy = 34.72, Instantaneous Accuracy = 34.72, Lagged Accuracy = 40.28, Counterfactual Accuracy = 58.33,  Blended Accuracy = 44.44,  RR Accuracy = 50.00  \n",
      "2025-03-19 16:13:47,608 INFO -- Model: 72\n"
     ]
    },
    {
     "name": "stdout",
     "output_type": "stream",
     "text": [
      "Anomaly: cso1\n",
      "Epoch 1: Loss = 61107.3047\n",
      "Recon Loss =60671.8750, KL Loss = 0.0095, Sparsity Loss = 123.9481, Lagrangian Loss = 311.4719\n",
      "Epoch 51: Loss = 7665.4141\n",
      "Recon Loss =5270.6279, KL Loss = 2.0349, Sparsity Loss = 143.4754, Lagrangian Loss = 2249.2756\n",
      "Epoch 101: Loss = 1783.4119\n",
      "Recon Loss =918.2626, KL Loss = 5.4247, Sparsity Loss = 129.4550, Lagrangian Loss = 730.2697\n",
      "Epoch 151: Loss = 1303.7693\n",
      "Recon Loss =873.1010, KL Loss = 5.5297, Sparsity Loss = 117.6963, Lagrangian Loss = 307.4422\n",
      "Early stopping triggered. Last Epoch: 198\n",
      "Recon Loss =676.3970, KL Loss = 5.4257, Sparsity Loss = 117.6173, Lagrangian Loss = 325.4150\n"
     ]
    },
    {
     "name": "stderr",
     "output_type": "stream",
     "text": [
      "2025-03-19 16:15:17,452 INFO -- Edge Accuracy = 35.62, Instantaneous Accuracy = 35.62, Lagged Accuracy = 41.10, Counterfactual Accuracy = 57.53,  Blended Accuracy = 45.21,  RR Accuracy = 50.68  \n",
      "2025-03-19 16:15:17,453 INFO -- Model: 73\n"
     ]
    },
    {
     "name": "stdout",
     "output_type": "stream",
     "text": [
      "Anomaly: cfo1\n",
      "Epoch 1: Loss = 7208.9009\n",
      "Recon Loss =6808.0386, KL Loss = 0.0162, Sparsity Loss = 121.8257, Lagrangian Loss = 279.0204\n",
      "Epoch 51: Loss = 910.1124\n",
      "Recon Loss =310.9496, KL Loss = 2.1904, Sparsity Loss = 120.8901, Lagrangian Loss = 476.0823\n",
      "Epoch 101: Loss = 600.9539\n",
      "Recon Loss =163.4138, KL Loss = 3.8027, Sparsity Loss = 116.2829, Lagrangian Loss = 317.4545\n",
      "Epoch 151: Loss = 373.5115\n",
      "Recon Loss =102.0245, KL Loss = 4.5243, Sparsity Loss = 115.1615, Lagrangian Loss = 151.8012\n",
      "Epoch 201: Loss = 328.9100\n",
      "Recon Loss =74.9090, KL Loss = 5.0733, Sparsity Loss = 110.5792, Lagrangian Loss = 138.3485\n",
      "Early stopping triggered. Last Epoch: 223\n",
      "Recon Loss =78.4703, KL Loss = 4.8513, Sparsity Loss = 105.6382, Lagrangian Loss = 126.9314\n"
     ]
    },
    {
     "name": "stderr",
     "output_type": "stream",
     "text": [
      "2025-03-19 16:15:35,099 INFO -- Edge Accuracy = 35.14, Instantaneous Accuracy = 35.14, Lagged Accuracy = 40.54, Counterfactual Accuracy = 56.76,  Blended Accuracy = 44.59,  RR Accuracy = 50.00  \n",
      "2025-03-19 16:15:35,099 INFO -- Model: 74\n"
     ]
    },
    {
     "name": "stdout",
     "output_type": "stream",
     "text": [
      "Anomaly: cso1\n",
      "Epoch 1: Loss = 9049.4805\n",
      "Recon Loss =8703.0820, KL Loss = 0.0055, Sparsity Loss = 118.6939, Lagrangian Loss = 227.6983\n",
      "Epoch 51: Loss = 794.2448\n",
      "Recon Loss =375.1825, KL Loss = 2.5733, Sparsity Loss = 115.1790, Lagrangian Loss = 301.3100\n",
      "Epoch 101: Loss = 659.4971\n",
      "Recon Loss =123.1796, KL Loss = 3.7415, Sparsity Loss = 122.0575, Lagrangian Loss = 410.5184\n",
      "Early stopping triggered. Last Epoch: 142\n",
      "Recon Loss =130.0021, KL Loss = 3.9368, Sparsity Loss = 118.9270, Lagrangian Loss = 362.8981\n"
     ]
    },
    {
     "name": "stderr",
     "output_type": "stream",
     "text": [
      "2025-03-19 16:15:51,715 INFO -- Edge Accuracy = 34.67, Instantaneous Accuracy = 34.67, Lagged Accuracy = 40.00, Counterfactual Accuracy = 56.00,  Blended Accuracy = 44.00,  RR Accuracy = 49.33  \n",
      "2025-03-19 16:15:51,716 INFO -- Model: 75\n"
     ]
    },
    {
     "name": "stdout",
     "output_type": "stream",
     "text": [
      "Anomaly: cfo1\n",
      "Epoch 1: Loss = 4216.9580\n",
      "Recon Loss =3772.6089, KL Loss = 0.0120, Sparsity Loss = 121.5342, Lagrangian Loss = 322.8029\n",
      "Epoch 51: Loss = 708.6197\n",
      "Recon Loss =251.3051, KL Loss = 2.4514, Sparsity Loss = 117.7021, Lagrangian Loss = 337.1610\n",
      "Epoch 101: Loss = 516.9822\n",
      "Recon Loss =54.3197, KL Loss = 3.4335, Sparsity Loss = 117.8565, Lagrangian Loss = 341.3725\n",
      "Epoch 151: Loss = 419.4099\n",
      "Recon Loss =39.7604, KL Loss = 3.4624, Sparsity Loss = 114.4577, Lagrangian Loss = 261.7294\n",
      "Epoch 201: Loss = 310.7062\n",
      "Recon Loss =43.1945, KL Loss = 3.4390, Sparsity Loss = 115.5475, Lagrangian Loss = 148.5251\n",
      "Epoch 251: Loss = 276.3864\n",
      "Recon Loss =42.3827, KL Loss = 3.2446, Sparsity Loss = 109.8009, Lagrangian Loss = 120.9582\n",
      "Epoch 301: Loss = 268.3321\n",
      "Recon Loss =39.8903, KL Loss = 3.0997, Sparsity Loss = 106.9457, Lagrangian Loss = 118.3963\n",
      "Early stopping triggered. Last Epoch: 321\n",
      "Recon Loss =38.4749, KL Loss = 3.2627, Sparsity Loss = 106.3978, Lagrangian Loss = 107.1621\n"
     ]
    },
    {
     "name": "stderr",
     "output_type": "stream",
     "text": [
      "2025-03-19 16:16:14,975 INFO -- Edge Accuracy = 34.21, Instantaneous Accuracy = 34.21, Lagged Accuracy = 39.47, Counterfactual Accuracy = 55.26,  Blended Accuracy = 43.42,  RR Accuracy = 48.68  \n",
      "2025-03-19 16:16:14,975 INFO -- Model: 76\n"
     ]
    },
    {
     "name": "stdout",
     "output_type": "stream",
     "text": [
      "Anomaly: cfo1\n",
      "Epoch 1: Loss = 12298.8311\n",
      "Recon Loss =11839.1016, KL Loss = 0.0071, Sparsity Loss = 121.2172, Lagrangian Loss = 338.5056\n",
      "Epoch 51: Loss = 1137.9683\n",
      "Recon Loss =758.6064, KL Loss = 2.1541, Sparsity Loss = 116.3715, Lagrangian Loss = 260.8362\n",
      "Epoch 101: Loss = 481.5482\n",
      "Recon Loss =104.0150, KL Loss = 4.3720, Sparsity Loss = 115.4395, Lagrangian Loss = 257.7217\n",
      "Epoch 151: Loss = 385.5634\n",
      "Recon Loss =106.4478, KL Loss = 4.0292, Sparsity Loss = 114.8499, Lagrangian Loss = 160.2364\n",
      "Epoch 201: Loss = 398.5604\n",
      "Recon Loss =98.2096, KL Loss = 4.0136, Sparsity Loss = 113.0423, Lagrangian Loss = 183.2949\n",
      "Epoch 251: Loss = 355.1959\n",
      "Recon Loss =105.3699, KL Loss = 4.0455, Sparsity Loss = 107.5405, Lagrangian Loss = 138.2400\n",
      "Epoch 301: Loss = 478.0518\n",
      "Recon Loss =218.3414, KL Loss = 3.6802, Sparsity Loss = 110.4080, Lagrangian Loss = 145.6222\n",
      "Early stopping triggered. Last Epoch: 307\n",
      "Recon Loss =102.6378, KL Loss = 4.1696, Sparsity Loss = 109.3437, Lagrangian Loss = 127.3424\n"
     ]
    },
    {
     "name": "stderr",
     "output_type": "stream",
     "text": [
      "2025-03-19 16:16:56,525 INFO -- Edge Accuracy = 33.77, Instantaneous Accuracy = 33.77, Lagged Accuracy = 40.26, Counterfactual Accuracy = 54.55,  Blended Accuracy = 42.86,  RR Accuracy = 48.05  \n",
      "2025-03-19 16:16:56,526 INFO -- Model: 77\n"
     ]
    },
    {
     "name": "stdout",
     "output_type": "stream",
     "text": [
      "Anomaly: cso1\n",
      "Epoch 1: Loss = 4982.5132\n",
      "Recon Loss =4581.0747, KL Loss = 0.0082, Sparsity Loss = 122.0785, Lagrangian Loss = 279.3516\n",
      "Epoch 51: Loss = 775.1897\n",
      "Recon Loss =298.6409, KL Loss = 2.1547, Sparsity Loss = 119.3216, Lagrangian Loss = 355.0725\n",
      "Epoch 101: Loss = 446.5312\n",
      "Recon Loss =35.5593, KL Loss = 3.1551, Sparsity Loss = 117.6816, Lagrangian Loss = 290.1351\n",
      "Epoch 151: Loss = 395.6396\n",
      "Recon Loss =39.4987, KL Loss = 3.8221, Sparsity Loss = 117.9607, Lagrangian Loss = 234.3582\n",
      "Epoch 201: Loss = 294.7827\n",
      "Recon Loss =33.4602, KL Loss = 3.7973, Sparsity Loss = 114.5471, Lagrangian Loss = 142.9781\n",
      "Epoch 251: Loss = 269.9929\n",
      "Recon Loss =39.4976, KL Loss = 3.8985, Sparsity Loss = 108.5717, Lagrangian Loss = 118.0251\n",
      "Epoch 301: Loss = 254.9052\n",
      "Recon Loss =31.8188, KL Loss = 3.8096, Sparsity Loss = 107.2312, Lagrangian Loss = 112.0456\n",
      "Early stopping triggered. Last Epoch: 301\n",
      "Recon Loss =32.5144, KL Loss = 3.7810, Sparsity Loss = 108.1606, Lagrangian Loss = 112.0109\n"
     ]
    },
    {
     "name": "stderr",
     "output_type": "stream",
     "text": [
      "2025-03-19 16:17:18,283 INFO -- Edge Accuracy = 34.62, Instantaneous Accuracy = 34.62, Lagged Accuracy = 39.74, Counterfactual Accuracy = 55.13,  Blended Accuracy = 43.59,  RR Accuracy = 47.44  \n",
      "2025-03-19 16:17:18,283 INFO -- Model: 78\n"
     ]
    },
    {
     "name": "stdout",
     "output_type": "stream",
     "text": [
      "Anomaly: cfo1\n",
      "Epoch 1: Loss = 8050.0010\n",
      "Recon Loss =7685.6963, KL Loss = 0.0138, Sparsity Loss = 119.8214, Lagrangian Loss = 244.4695\n",
      "Epoch 51: Loss = 851.9378\n",
      "Recon Loss =167.3404, KL Loss = 2.8755, Sparsity Loss = 123.4653, Lagrangian Loss = 558.2566\n",
      "Epoch 101: Loss = 886.0456\n",
      "Recon Loss =74.6848, KL Loss = 3.4398, Sparsity Loss = 125.8150, Lagrangian Loss = 682.1060\n",
      "Epoch 151: Loss = 1088.0557\n",
      "Recon Loss =88.3165, KL Loss = 3.6095, Sparsity Loss = 128.2198, Lagrangian Loss = 867.9100\n",
      "Epoch 201: Loss = 475.3214\n",
      "Recon Loss =74.6534, KL Loss = 3.9816, Sparsity Loss = 115.4740, Lagrangian Loss = 281.2124\n",
      "Early stopping triggered. Last Epoch: 242\n",
      "Recon Loss =76.7097, KL Loss = 3.8205, Sparsity Loss = 114.3657, Lagrangian Loss = 259.2588\n"
     ]
    },
    {
     "name": "stderr",
     "output_type": "stream",
     "text": [
      "2025-03-19 16:17:46,397 INFO -- Edge Accuracy = 35.44, Instantaneous Accuracy = 35.44, Lagged Accuracy = 40.51, Counterfactual Accuracy = 55.70,  Blended Accuracy = 44.30,  RR Accuracy = 48.10  \n",
      "2025-03-19 16:17:46,398 INFO -- Model: 79\n"
     ]
    },
    {
     "name": "stdout",
     "output_type": "stream",
     "text": [
      "Anomaly: ced1\n",
      "Epoch 1: Loss = 5128.2563\n",
      "Recon Loss =4614.7700, KL Loss = 0.0131, Sparsity Loss = 123.5576, Lagrangian Loss = 389.9154\n",
      "Epoch 51: Loss = 786.7230\n",
      "Recon Loss =177.7718, KL Loss = 1.9585, Sparsity Loss = 123.4412, Lagrangian Loss = 483.5515\n",
      "Epoch 101: Loss = 547.9318\n",
      "Recon Loss =27.7738, KL Loss = 3.7657, Sparsity Loss = 119.0198, Lagrangian Loss = 397.3725\n",
      "Epoch 151: Loss = 296.9196\n",
      "Recon Loss =25.7284, KL Loss = 3.5967, Sparsity Loss = 115.8192, Lagrangian Loss = 151.7752\n",
      "Epoch 201: Loss = 272.7145\n",
      "Recon Loss =27.1747, KL Loss = 3.4464, Sparsity Loss = 110.4549, Lagrangian Loss = 131.6385\n",
      "Epoch 251: Loss = 241.7234\n",
      "Recon Loss =28.0353, KL Loss = 3.3461, Sparsity Loss = 105.3314, Lagrangian Loss = 105.0106\n",
      "Early stopping triggered. Last Epoch: 292\n",
      "Recon Loss =33.7024, KL Loss = 3.1143, Sparsity Loss = 107.4895, Lagrangian Loss = 108.9831\n"
     ]
    },
    {
     "name": "stderr",
     "output_type": "stream",
     "text": [
      "2025-03-19 16:18:07,941 INFO -- Edge Accuracy = 35.00, Instantaneous Accuracy = 35.00, Lagged Accuracy = 40.00, Counterfactual Accuracy = 56.25,  Blended Accuracy = 43.75,  RR Accuracy = 47.50  \n",
      "2025-03-19 16:18:07,942 INFO -- Model: 80\n"
     ]
    },
    {
     "name": "stdout",
     "output_type": "stream",
     "text": [
      "Anomaly: cso1\n",
      "Epoch 1: Loss = 9688.4443\n",
      "Recon Loss =9003.1758, KL Loss = 0.0084, Sparsity Loss = 126.4259, Lagrangian Loss = 558.8343\n",
      "Epoch 51: Loss = 680.1615\n",
      "Recon Loss =140.1916, KL Loss = 3.1676, Sparsity Loss = 119.1944, Lagrangian Loss = 417.6079\n",
      "Epoch 101: Loss = 530.2090\n",
      "Recon Loss =70.3592, KL Loss = 3.9688, Sparsity Loss = 117.8885, Lagrangian Loss = 337.9926\n",
      "Early stopping triggered. Last Epoch: 132\n",
      "Recon Loss =75.5634, KL Loss = 4.0758, Sparsity Loss = 118.0734, Lagrangian Loss = 296.3225\n"
     ]
    },
    {
     "name": "stderr",
     "output_type": "stream",
     "text": [
      "2025-03-19 16:18:23,546 INFO -- Edge Accuracy = 34.57, Instantaneous Accuracy = 34.57, Lagged Accuracy = 39.51, Counterfactual Accuracy = 55.56,  Blended Accuracy = 43.21,  RR Accuracy = 46.91  \n",
      "2025-03-19 16:18:23,547 INFO -- Model: 81\n"
     ]
    },
    {
     "name": "stdout",
     "output_type": "stream",
     "text": [
      "Anomaly: ced1\n",
      "Epoch 1: Loss = 10107.3281\n",
      "Recon Loss =9569.5508, KL Loss = 0.0052, Sparsity Loss = 123.9697, Lagrangian Loss = 413.8026\n",
      "Epoch 51: Loss = 1332.8219\n",
      "Recon Loss =836.7911, KL Loss = 1.8752, Sparsity Loss = 118.2864, Lagrangian Loss = 375.8692\n",
      "Epoch 101: Loss = 546.5959\n",
      "Recon Loss =94.2855, KL Loss = 3.8564, Sparsity Loss = 116.9250, Lagrangian Loss = 331.5290\n",
      "Epoch 151: Loss = 496.8660\n",
      "Recon Loss =84.5937, KL Loss = 3.9248, Sparsity Loss = 115.9512, Lagrangian Loss = 292.3962\n",
      "Epoch 201: Loss = 349.5267\n",
      "Recon Loss =79.4202, KL Loss = 4.1596, Sparsity Loss = 115.7854, Lagrangian Loss = 150.1615\n",
      "Epoch 251: Loss = 314.1796\n",
      "Recon Loss =78.0159, KL Loss = 4.1607, Sparsity Loss = 111.0648, Lagrangian Loss = 120.9382\n",
      "Epoch 301: Loss = 304.5234\n",
      "Recon Loss =81.0247, KL Loss = 4.1176, Sparsity Loss = 107.5861, Lagrangian Loss = 111.7951\n",
      "Early stopping triggered. Last Epoch: 307\n",
      "Recon Loss =78.8207, KL Loss = 4.1102, Sparsity Loss = 110.3361, Lagrangian Loss = 124.3279\n"
     ]
    },
    {
     "name": "stderr",
     "output_type": "stream",
     "text": [
      "2025-03-19 16:18:59,292 INFO -- Edge Accuracy = 35.37, Instantaneous Accuracy = 35.37, Lagged Accuracy = 40.24, Counterfactual Accuracy = 56.10,  Blended Accuracy = 43.90,  RR Accuracy = 47.56  \n",
      "2025-03-19 16:18:59,293 INFO -- Model: 82\n"
     ]
    },
    {
     "name": "stdout",
     "output_type": "stream",
     "text": [
      "Anomaly: cso1\n",
      "Epoch 1: Loss = 6005.1553\n",
      "Recon Loss =5669.7466, KL Loss = 0.0037, Sparsity Loss = 118.3385, Lagrangian Loss = 217.0663\n",
      "Epoch 51: Loss = 686.1328\n",
      "Recon Loss =266.3525, KL Loss = 2.1295, Sparsity Loss = 116.8520, Lagrangian Loss = 300.7988\n",
      "Epoch 101: Loss = 464.0758\n",
      "Recon Loss =63.9920, KL Loss = 3.5098, Sparsity Loss = 119.3404, Lagrangian Loss = 277.2336\n",
      "Epoch 151: Loss = 372.9322\n",
      "Recon Loss =64.3728, KL Loss = 3.4833, Sparsity Loss = 115.7204, Lagrangian Loss = 189.3557\n",
      "Epoch 201: Loss = 312.3270\n",
      "Recon Loss =62.6911, KL Loss = 3.5654, Sparsity Loss = 111.6153, Lagrangian Loss = 134.4551\n",
      "Epoch 251: Loss = 298.5718\n",
      "Recon Loss =64.1396, KL Loss = 3.5563, Sparsity Loss = 107.0729, Lagrangian Loss = 123.8031\n",
      "Early stopping triggered. Last Epoch: 279\n",
      "Recon Loss =63.1716, KL Loss = 3.5518, Sparsity Loss = 106.2595, Lagrangian Loss = 117.7867\n"
     ]
    },
    {
     "name": "stderr",
     "output_type": "stream",
     "text": [
      "2025-03-19 16:19:21,866 INFO -- Edge Accuracy = 34.94, Instantaneous Accuracy = 34.94, Lagged Accuracy = 39.76, Counterfactual Accuracy = 55.42,  Blended Accuracy = 43.37,  RR Accuracy = 46.99  \n",
      "2025-03-19 16:19:21,866 INFO -- Model: 83\n"
     ]
    },
    {
     "name": "stdout",
     "output_type": "stream",
     "text": [
      "Anomaly: ced1\n",
      "Epoch 1: Loss = 7710.6870\n",
      "Recon Loss =7150.0283, KL Loss = 0.0090, Sparsity Loss = 122.3007, Lagrangian Loss = 438.3490\n",
      "Epoch 51: Loss = 786.0181\n",
      "Recon Loss =361.4015, KL Loss = 2.7585, Sparsity Loss = 117.0938, Lagrangian Loss = 304.7643\n",
      "Epoch 101: Loss = 964.4554\n",
      "Recon Loss =212.1101, KL Loss = 3.0246, Sparsity Loss = 125.2977, Lagrangian Loss = 624.0231\n",
      "Epoch 151: Loss = 596.8569\n",
      "Recon Loss =116.5104, KL Loss = 3.9423, Sparsity Loss = 117.7494, Lagrangian Loss = 358.6547\n",
      "Epoch 201: Loss = 436.2016\n",
      "Recon Loss =115.3385, KL Loss = 4.1429, Sparsity Loss = 120.2109, Lagrangian Loss = 196.5093\n",
      "Epoch 251: Loss = 328.8112\n",
      "Recon Loss =111.1018, KL Loss = 4.1826, Sparsity Loss = 105.8157, Lagrangian Loss = 107.7111\n",
      "Early stopping triggered. Last Epoch: 298\n",
      "Recon Loss =119.1390, KL Loss = 4.0046, Sparsity Loss = 106.8582, Lagrangian Loss = 111.4842\n"
     ]
    },
    {
     "name": "stderr",
     "output_type": "stream",
     "text": [
      "2025-03-19 16:19:56,108 INFO -- Edge Accuracy = 35.71, Instantaneous Accuracy = 34.52, Lagged Accuracy = 40.48, Counterfactual Accuracy = 54.76,  Blended Accuracy = 44.05,  RR Accuracy = 47.62  \n",
      "2025-03-19 16:19:56,109 INFO -- Model: 84\n"
     ]
    },
    {
     "name": "stdout",
     "output_type": "stream",
     "text": [
      "Anomaly: ced1\n",
      "Epoch 1: Loss = 10662.8311\n",
      "Recon Loss =9920.6504, KL Loss = 0.0068, Sparsity Loss = 128.5067, Lagrangian Loss = 613.6672\n",
      "Epoch 51: Loss = 773.9067\n",
      "Recon Loss =318.5737, KL Loss = 2.5308, Sparsity Loss = 118.2738, Lagrangian Loss = 334.5284\n",
      "Epoch 101: Loss = 458.8322\n",
      "Recon Loss =73.7428, KL Loss = 3.4537, Sparsity Loss = 115.5321, Lagrangian Loss = 266.1036\n",
      "Epoch 151: Loss = 420.0561\n",
      "Recon Loss =83.3966, KL Loss = 3.5929, Sparsity Loss = 116.3112, Lagrangian Loss = 216.7554\n",
      "Early stopping triggered. Last Epoch: 175\n",
      "Recon Loss =74.3538, KL Loss = 3.9030, Sparsity Loss = 116.4768, Lagrangian Loss = 219.2838\n"
     ]
    },
    {
     "name": "stderr",
     "output_type": "stream",
     "text": [
      "2025-03-19 16:20:16,688 INFO -- Edge Accuracy = 36.47, Instantaneous Accuracy = 35.29, Lagged Accuracy = 40.00, Counterfactual Accuracy = 54.12,  Blended Accuracy = 44.71,  RR Accuracy = 48.24  \n",
      "2025-03-19 16:20:16,689 INFO -- Model: 85\n"
     ]
    },
    {
     "name": "stdout",
     "output_type": "stream",
     "text": [
      "Anomaly: ced1\n",
      "Epoch 1: Loss = 9868.8896\n",
      "Recon Loss =9316.2646, KL Loss = 0.0122, Sparsity Loss = 125.6973, Lagrangian Loss = 426.9160\n",
      "Epoch 51: Loss = 1002.6456\n",
      "Recon Loss =418.7308, KL Loss = 2.5383, Sparsity Loss = 120.6088, Lagrangian Loss = 460.7677\n",
      "Epoch 101: Loss = 724.3795\n",
      "Recon Loss =132.3519, KL Loss = 3.5288, Sparsity Loss = 122.3023, Lagrangian Loss = 466.1965\n",
      "Epoch 151: Loss = 376.7426\n",
      "Recon Loss =64.1485, KL Loss = 4.0635, Sparsity Loss = 119.7959, Lagrangian Loss = 188.7348\n",
      "Epoch 201: Loss = 308.2126\n",
      "Recon Loss =65.2920, KL Loss = 4.5664, Sparsity Loss = 109.8361, Lagrangian Loss = 128.5181\n",
      "Epoch 251: Loss = 292.2264\n",
      "Recon Loss =64.7676, KL Loss = 4.6008, Sparsity Loss = 105.1220, Lagrangian Loss = 117.7360\n",
      "Epoch 301: Loss = 291.8544\n",
      "Recon Loss =62.2360, KL Loss = 4.5968, Sparsity Loss = 106.0963, Lagrangian Loss = 118.9252\n",
      "Early stopping triggered. Last Epoch: 314\n",
      "Recon Loss =75.4354, KL Loss = 4.4804, Sparsity Loss = 106.6643, Lagrangian Loss = 117.4559\n"
     ]
    },
    {
     "name": "stderr",
     "output_type": "stream",
     "text": [
      "2025-03-19 16:20:48,949 INFO -- Edge Accuracy = 36.05, Instantaneous Accuracy = 34.88, Lagged Accuracy = 39.53, Counterfactual Accuracy = 53.49,  Blended Accuracy = 44.19,  RR Accuracy = 47.67  \n",
      "2025-03-19 16:20:48,950 INFO -- Model: 86\n"
     ]
    },
    {
     "name": "stdout",
     "output_type": "stream",
     "text": [
      "Anomaly: cfo1\n",
      "Epoch 1: Loss = 74952.6797\n",
      "Recon Loss =74501.4375, KL Loss = 0.0098, Sparsity Loss = 122.0071, Lagrangian Loss = 329.2278\n",
      "Epoch 51: Loss = 5901.5601\n",
      "Recon Loss =5181.7720, KL Loss = 1.9329, Sparsity Loss = 124.5167, Lagrangian Loss = 593.3384\n",
      "Epoch 101: Loss = 2409.0576\n",
      "Recon Loss =939.3054, KL Loss = 4.3586, Sparsity Loss = 137.9336, Lagrangian Loss = 1327.4598\n",
      "Epoch 151: Loss = 2531.4009\n",
      "Recon Loss =790.5424, KL Loss = 4.5409, Sparsity Loss = 141.5707, Lagrangian Loss = 1594.7469\n",
      "Epoch 201: Loss = 1184.3195\n",
      "Recon Loss =793.0478, KL Loss = 4.5827, Sparsity Loss = 115.8112, Lagrangian Loss = 270.8778\n",
      "Epoch 251: Loss = 1153.7535\n",
      "Recon Loss =778.9599, KL Loss = 4.8666, Sparsity Loss = 113.7070, Lagrangian Loss = 256.2200\n",
      "Early stopping triggered. Last Epoch: 264\n",
      "Recon Loss =789.6125, KL Loss = 4.7426, Sparsity Loss = 116.4264, Lagrangian Loss = 301.8379\n"
     ]
    },
    {
     "name": "stderr",
     "output_type": "stream",
     "text": [
      "2025-03-19 16:22:34,167 INFO -- Edge Accuracy = 36.78, Instantaneous Accuracy = 35.63, Lagged Accuracy = 40.23, Counterfactual Accuracy = 52.87,  Blended Accuracy = 44.83,  RR Accuracy = 47.13  \n",
      "2025-03-19 16:22:34,167 INFO -- Model: 87\n"
     ]
    },
    {
     "name": "stdout",
     "output_type": "stream",
     "text": [
      "Anomaly: cfo1\n",
      "Epoch 1: Loss = 8531.7480\n",
      "Recon Loss =7966.6826, KL Loss = 0.0079, Sparsity Loss = 125.2468, Lagrangian Loss = 439.8105\n",
      "Epoch 51: Loss = 825.7720\n",
      "Recon Loss =309.3268, KL Loss = 2.4940, Sparsity Loss = 119.8482, Lagrangian Loss = 394.1030\n",
      "Epoch 101: Loss = 493.1991\n",
      "Recon Loss =95.9282, KL Loss = 4.0615, Sparsity Loss = 115.7399, Lagrangian Loss = 277.4695\n",
      "Epoch 151: Loss = 519.5035\n",
      "Recon Loss =87.1073, KL Loss = 4.1032, Sparsity Loss = 118.6138, Lagrangian Loss = 309.6792\n",
      "Epoch 201: Loss = 432.9185\n",
      "Recon Loss =84.5250, KL Loss = 4.1133, Sparsity Loss = 114.5943, Lagrangian Loss = 229.6859\n",
      "Epoch 251: Loss = 340.3017\n",
      "Recon Loss =85.1088, KL Loss = 4.1299, Sparsity Loss = 115.0518, Lagrangian Loss = 136.0113\n",
      "Epoch 301: Loss = 319.4503\n",
      "Recon Loss =91.8122, KL Loss = 4.0503, Sparsity Loss = 107.9578, Lagrangian Loss = 115.6299\n",
      "Epoch 351: Loss = 348.1483\n",
      "Recon Loss =84.2804, KL Loss = 3.9578, Sparsity Loss = 114.7715, Lagrangian Loss = 145.1385\n",
      "Early stopping triggered. Last Epoch: 354\n",
      "Recon Loss =84.8449, KL Loss = 3.9355, Sparsity Loss = 114.1169, Lagrangian Loss = 143.9518\n"
     ]
    },
    {
     "name": "stderr",
     "output_type": "stream",
     "text": [
      "2025-03-19 16:23:09,843 INFO -- Edge Accuracy = 36.36, Instantaneous Accuracy = 35.23, Lagged Accuracy = 39.77, Counterfactual Accuracy = 53.41,  Blended Accuracy = 45.45,  RR Accuracy = 47.73  \n",
      "2025-03-19 16:23:09,844 INFO -- Model: 88\n"
     ]
    },
    {
     "name": "stdout",
     "output_type": "stream",
     "text": [
      "Anomaly: cfo1\n",
      "Epoch 1: Loss = 62941.1914\n",
      "Recon Loss =62458.5859, KL Loss = 0.0060, Sparsity Loss = 123.6519, Lagrangian Loss = 358.9465\n",
      "Epoch 51: Loss = 5387.4268\n",
      "Recon Loss =4967.3491, KL Loss = 1.9940, Sparsity Loss = 117.5679, Lagrangian Loss = 300.5158\n",
      "Epoch 101: Loss = 1757.7240\n",
      "Recon Loss =1335.8470, KL Loss = 4.5256, Sparsity Loss = 117.1375, Lagrangian Loss = 300.2138\n",
      "Epoch 151: Loss = 3057.6670\n",
      "Recon Loss =1051.9205, KL Loss = 4.5575, Sparsity Loss = 139.4537, Lagrangian Loss = 1861.7355\n",
      "Early stopping triggered. Last Epoch: 189\n",
      "Recon Loss =1253.3256, KL Loss = 4.7683, Sparsity Loss = 135.4986, Lagrangian Loss = 1395.9083\n"
     ]
    },
    {
     "name": "stderr",
     "output_type": "stream",
     "text": [
      "2025-03-19 16:24:30,810 INFO -- Edge Accuracy = 35.96, Instantaneous Accuracy = 34.83, Lagged Accuracy = 39.33, Counterfactual Accuracy = 52.81,  Blended Accuracy = 44.94,  RR Accuracy = 48.31  \n",
      "2025-03-19 16:24:30,811 INFO -- Model: 89\n"
     ]
    },
    {
     "name": "stdout",
     "output_type": "stream",
     "text": [
      "Anomaly: ced1\n",
      "Epoch 1: Loss = 63588.8555\n",
      "Recon Loss =63072.5391, KL Loss = 0.0058, Sparsity Loss = 122.9745, Lagrangian Loss = 393.3392\n",
      "Epoch 51: Loss = 1946.8127\n",
      "Recon Loss =1552.9473, KL Loss = 3.1856, Sparsity Loss = 115.8942, Lagrangian Loss = 274.7857\n",
      "Epoch 101: Loss = 1560.5143\n",
      "Recon Loss =1076.3079, KL Loss = 3.8620, Sparsity Loss = 119.5402, Lagrangian Loss = 360.8042\n",
      "Epoch 151: Loss = 1326.0469\n",
      "Recon Loss =942.6727, KL Loss = 4.1646, Sparsity Loss = 119.3578, Lagrangian Loss = 259.8517\n",
      "Epoch 201: Loss = 878.0059\n",
      "Recon Loss =621.9583, KL Loss = 4.2930, Sparsity Loss = 111.9770, Lagrangian Loss = 139.7776\n",
      "Epoch 251: Loss = 852.8763\n",
      "Recon Loss =608.0317, KL Loss = 4.6034, Sparsity Loss = 109.9088, Lagrangian Loss = 130.3324\n",
      "Epoch 301: Loss = 763.8831\n",
      "Recon Loss =522.3945, KL Loss = 4.8113, Sparsity Loss = 111.4251, Lagrangian Loss = 125.2522\n",
      "Epoch 351: Loss = 743.6116\n",
      "Recon Loss =509.3185, KL Loss = 4.7607, Sparsity Loss = 109.7291, Lagrangian Loss = 119.8033\n",
      "Epoch 401: Loss = 982.9676\n",
      "Recon Loss =750.0421, KL Loss = 4.8495, Sparsity Loss = 109.8694, Lagrangian Loss = 118.2066\n",
      "Early stopping triggered. Last Epoch: 443\n",
      "Recon Loss =900.9300, KL Loss = 4.9871, Sparsity Loss = 109.7806, Lagrangian Loss = 120.4632\n"
     ]
    },
    {
     "name": "stderr",
     "output_type": "stream",
     "text": [
      "2025-03-19 16:27:25,242 INFO -- Edge Accuracy = 36.67, Instantaneous Accuracy = 35.56, Lagged Accuracy = 40.00, Counterfactual Accuracy = 53.33,  Blended Accuracy = 45.56,  RR Accuracy = 48.89  \n",
      "2025-03-19 16:27:25,243 INFO -- Model: 90\n"
     ]
    },
    {
     "name": "stdout",
     "output_type": "stream",
     "text": [
      "Anomaly: cso1\n",
      "Epoch 1: Loss = 25619.2344\n",
      "Recon Loss =25222.5117, KL Loss = 0.0077, Sparsity Loss = 120.6155, Lagrangian Loss = 276.0995\n",
      "Epoch 51: Loss = 3064.5007\n",
      "Recon Loss =2608.8770, KL Loss = 2.2645, Sparsity Loss = 117.8517, Lagrangian Loss = 335.5078\n",
      "Epoch 101: Loss = 1134.6150\n",
      "Recon Loss =698.6116, KL Loss = 3.7767, Sparsity Loss = 116.2908, Lagrangian Loss = 315.9359\n",
      "Epoch 151: Loss = 874.4000\n",
      "Recon Loss =475.9423, KL Loss = 4.5867, Sparsity Loss = 115.1913, Lagrangian Loss = 278.6796\n",
      "Epoch 201: Loss = 688.7197\n",
      "Recon Loss =462.9977, KL Loss = 4.7102, Sparsity Loss = 107.1479, Lagrangian Loss = 113.8639\n",
      "Epoch 251: Loss = 664.4299\n",
      "Recon Loss =441.2890, KL Loss = 4.8579, Sparsity Loss = 106.5823, Lagrangian Loss = 111.7006\n",
      "Epoch 301: Loss = 651.8126\n",
      "Recon Loss =420.5975, KL Loss = 4.8985, Sparsity Loss = 109.2846, Lagrangian Loss = 117.0319\n",
      "Epoch 351: Loss = 632.7931\n",
      "Recon Loss =414.1394, KL Loss = 4.8925, Sparsity Loss = 106.1407, Lagrangian Loss = 107.6204\n",
      "Epoch 401: Loss = 687.8342\n",
      "Recon Loss =477.2122, KL Loss = 4.9003, Sparsity Loss = 105.8202, Lagrangian Loss = 99.9016\n",
      "Epoch 451: Loss = 601.2134\n",
      "Recon Loss =384.5923, KL Loss = 4.7555, Sparsity Loss = 106.8675, Lagrangian Loss = 104.9980\n",
      "Epoch 501: Loss = 553.9055\n",
      "Recon Loss =337.7025, KL Loss = 4.5891, Sparsity Loss = 105.7848, Lagrangian Loss = 105.8290\n",
      "Epoch 551: Loss = 556.3219\n",
      "Recon Loss =322.2267, KL Loss = 4.0373, Sparsity Loss = 107.8563, Lagrangian Loss = 122.2017\n",
      "Epoch 601: Loss = 482.8043\n",
      "Recon Loss =255.3941, KL Loss = 4.0823, Sparsity Loss = 106.1800, Lagrangian Loss = 117.1480\n",
      "Epoch 651: Loss = 578.7959\n",
      "Recon Loss =333.7712, KL Loss = 4.0635, Sparsity Loss = 108.3884, Lagrangian Loss = 132.5728\n",
      "Early stopping triggered. Last Epoch: 675\n",
      "Recon Loss =229.7386, KL Loss = 4.3728, Sparsity Loss = 107.7921, Lagrangian Loss = 123.2968\n"
     ]
    },
    {
     "name": "stderr",
     "output_type": "stream",
     "text": [
      "2025-03-19 16:29:28,984 INFO -- Edge Accuracy = 36.26, Instantaneous Accuracy = 35.16, Lagged Accuracy = 40.66, Counterfactual Accuracy = 53.85,  Blended Accuracy = 46.15,  RR Accuracy = 48.35  \n",
      "2025-03-19 16:29:28,985 INFO -- Model: 91\n"
     ]
    },
    {
     "name": "stdout",
     "output_type": "stream",
     "text": [
      "Anomaly: ced1\n",
      "Epoch 1: Loss = 6157.7544\n",
      "Recon Loss =5686.8223, KL Loss = 0.0073, Sparsity Loss = 123.3334, Lagrangian Loss = 347.5915\n",
      "Epoch 51: Loss = 739.8083\n",
      "Recon Loss =335.5260, KL Loss = 2.2144, Sparsity Loss = 115.7168, Lagrangian Loss = 286.3511\n",
      "Epoch 101: Loss = 575.3294\n",
      "Recon Loss =126.2275, KL Loss = 3.7998, Sparsity Loss = 118.7214, Lagrangian Loss = 326.5806\n",
      "Epoch 151: Loss = 417.2230\n",
      "Recon Loss =35.9971, KL Loss = 5.2028, Sparsity Loss = 116.1193, Lagrangian Loss = 259.9037\n",
      "Epoch 201: Loss = 292.0674\n",
      "Recon Loss =28.5630, KL Loss = 4.9693, Sparsity Loss = 116.4633, Lagrangian Loss = 142.0718\n",
      "Epoch 251: Loss = 263.2921\n",
      "Recon Loss =28.5969, KL Loss = 4.4785, Sparsity Loss = 109.0542, Lagrangian Loss = 121.1625\n",
      "Epoch 301: Loss = 238.9476\n",
      "Recon Loss =27.5022, KL Loss = 4.2981, Sparsity Loss = 104.9620, Lagrangian Loss = 102.1853\n",
      "Epoch 351: Loss = 234.2137\n",
      "Recon Loss =27.4030, KL Loss = 4.1060, Sparsity Loss = 103.9317, Lagrangian Loss = 98.7730\n",
      "Early stopping triggered. Last Epoch: 387\n",
      "Recon Loss =28.6472, KL Loss = 4.0321, Sparsity Loss = 106.8697, Lagrangian Loss = 110.0266\n"
     ]
    },
    {
     "name": "stderr",
     "output_type": "stream",
     "text": [
      "2025-03-19 16:29:57,041 INFO -- Edge Accuracy = 35.87, Instantaneous Accuracy = 34.78, Lagged Accuracy = 40.22, Counterfactual Accuracy = 54.35,  Blended Accuracy = 45.65,  RR Accuracy = 48.91  \n",
      "2025-03-19 16:29:57,042 INFO -- Model: 92\n"
     ]
    },
    {
     "name": "stdout",
     "output_type": "stream",
     "text": [
      "Anomaly: ced1\n",
      "Epoch 1: Loss = 27169.3594\n",
      "Recon Loss =26641.1445, KL Loss = 0.0067, Sparsity Loss = 124.0786, Lagrangian Loss = 404.1301\n",
      "Epoch 51: Loss = 1361.1117\n",
      "Recon Loss =932.3167, KL Loss = 2.3813, Sparsity Loss = 117.3928, Lagrangian Loss = 309.0209\n",
      "Epoch 101: Loss = 797.0762\n",
      "Recon Loss =345.9208, KL Loss = 3.9346, Sparsity Loss = 117.0680, Lagrangian Loss = 330.1528\n",
      "Epoch 151: Loss = 864.9556\n",
      "Recon Loss =341.8539, KL Loss = 4.2148, Sparsity Loss = 120.3389, Lagrangian Loss = 398.5479\n",
      "Epoch 201: Loss = 599.6347\n",
      "Recon Loss =336.2126, KL Loss = 4.4635, Sparsity Loss = 109.0710, Lagrangian Loss = 149.8876\n",
      "Epoch 251: Loss = 603.1585\n",
      "Recon Loss =366.0976, KL Loss = 4.6635, Sparsity Loss = 107.0916, Lagrangian Loss = 125.3059\n",
      "Epoch 301: Loss = 634.4749\n",
      "Recon Loss =396.9393, KL Loss = 4.3416, Sparsity Loss = 106.3683, Lagrangian Loss = 126.8257\n",
      "Epoch 351: Loss = 490.3905\n",
      "Recon Loss =255.9132, KL Loss = 4.4596, Sparsity Loss = 105.7839, Lagrangian Loss = 124.2338\n",
      "Early stopping triggered. Last Epoch: 399\n",
      "Recon Loss =270.7830, KL Loss = 4.0289, Sparsity Loss = 102.5699, Lagrangian Loss = 124.4205\n"
     ]
    },
    {
     "name": "stderr",
     "output_type": "stream",
     "text": [
      "2025-03-19 16:31:10,432 INFO -- Edge Accuracy = 36.56, Instantaneous Accuracy = 35.48, Lagged Accuracy = 40.86, Counterfactual Accuracy = 54.84,  Blended Accuracy = 46.24,  RR Accuracy = 49.46  \n",
      "2025-03-19 16:31:10,433 INFO -- Model: 93\n"
     ]
    },
    {
     "name": "stdout",
     "output_type": "stream",
     "text": [
      "Anomaly: cso1\n",
      "Epoch 1: Loss = 6660.1265\n",
      "Recon Loss =6253.4072, KL Loss = 0.0078, Sparsity Loss = 120.8203, Lagrangian Loss = 285.8912\n",
      "Epoch 51: Loss = 636.7701\n",
      "Recon Loss =201.0596, KL Loss = 2.6916, Sparsity Loss = 116.4026, Lagrangian Loss = 316.6163\n",
      "Epoch 101: Loss = 465.7430\n",
      "Recon Loss =63.2041, KL Loss = 4.2738, Sparsity Loss = 115.8170, Lagrangian Loss = 282.4481\n",
      "Epoch 151: Loss = 675.9736\n",
      "Recon Loss =57.6548, KL Loss = 4.4143, Sparsity Loss = 120.0800, Lagrangian Loss = 493.8246\n",
      "Early stopping triggered. Last Epoch: 177\n",
      "Recon Loss =58.3199, KL Loss = 4.2972, Sparsity Loss = 117.2273, Lagrangian Loss = 267.4872\n"
     ]
    },
    {
     "name": "stderr",
     "output_type": "stream",
     "text": [
      "2025-03-19 16:31:24,727 INFO -- Edge Accuracy = 36.17, Instantaneous Accuracy = 35.11, Lagged Accuracy = 40.43, Counterfactual Accuracy = 54.26,  Blended Accuracy = 45.74,  RR Accuracy = 48.94  \n",
      "2025-03-19 16:31:24,727 INFO -- Model: 94\n"
     ]
    },
    {
     "name": "stdout",
     "output_type": "stream",
     "text": [
      "Anomaly: cso1\n",
      "Epoch 1: Loss = 6915.3091\n",
      "Recon Loss =6346.5298, KL Loss = 0.0059, Sparsity Loss = 125.2298, Lagrangian Loss = 443.5433\n",
      "Epoch 51: Loss = 621.5793\n",
      "Recon Loss =149.8091, KL Loss = 2.6684, Sparsity Loss = 119.2719, Lagrangian Loss = 349.8300\n",
      "Epoch 101: Loss = 431.2598\n",
      "Recon Loss =72.1418, KL Loss = 3.7245, Sparsity Loss = 114.9011, Lagrangian Loss = 240.4924\n",
      "Epoch 151: Loss = 411.3824\n",
      "Recon Loss =64.2651, KL Loss = 3.7957, Sparsity Loss = 115.4664, Lagrangian Loss = 227.8552\n",
      "Early stopping triggered. Last Epoch: 163\n",
      "Recon Loss =74.6872, KL Loss = 3.9880, Sparsity Loss = 116.8231, Lagrangian Loss = 240.9744\n"
     ]
    },
    {
     "name": "stderr",
     "output_type": "stream",
     "text": [
      "2025-03-19 16:31:41,746 INFO -- Edge Accuracy = 36.84, Instantaneous Accuracy = 34.74, Lagged Accuracy = 41.05, Counterfactual Accuracy = 54.74,  Blended Accuracy = 46.32,  RR Accuracy = 48.42  \n",
      "2025-03-19 16:31:41,746 INFO -- Model: 95\n"
     ]
    },
    {
     "name": "stdout",
     "output_type": "stream",
     "text": [
      "Anomaly: ced1\n",
      "Epoch 1: Loss = 5221.7007\n",
      "Recon Loss =4713.5830, KL Loss = 0.0077, Sparsity Loss = 125.4234, Lagrangian Loss = 382.6866\n",
      "Epoch 51: Loss = 602.5481\n",
      "Recon Loss =182.1466, KL Loss = 2.7718, Sparsity Loss = 119.9407, Lagrangian Loss = 297.6890\n",
      "Epoch 101: Loss = 498.6389\n",
      "Recon Loss =123.6907, KL Loss = 3.6309, Sparsity Loss = 117.4503, Lagrangian Loss = 253.8669\n",
      "Epoch 151: Loss = 530.2289\n",
      "Recon Loss =123.5516, KL Loss = 3.8706, Sparsity Loss = 117.5012, Lagrangian Loss = 285.3055\n",
      "Early stopping triggered. Last Epoch: 151\n",
      "Recon Loss =117.7391, KL Loss = 3.7470, Sparsity Loss = 113.3435, Lagrangian Loss = 228.7377\n"
     ]
    },
    {
     "name": "stderr",
     "output_type": "stream",
     "text": [
      "2025-03-19 16:32:01,740 INFO -- Edge Accuracy = 37.50, Instantaneous Accuracy = 34.38, Lagged Accuracy = 41.67, Counterfactual Accuracy = 54.17,  Blended Accuracy = 46.88,  RR Accuracy = 48.96  \n",
      "2025-03-19 16:32:01,740 INFO -- Model: 96\n"
     ]
    },
    {
     "name": "stdout",
     "output_type": "stream",
     "text": [
      "Anomaly: ced1\n",
      "Epoch 1: Loss = 6662.3052\n",
      "Recon Loss =6225.2090, KL Loss = 0.0101, Sparsity Loss = 122.0993, Lagrangian Loss = 314.9868\n",
      "Epoch 51: Loss = 1395.7129\n",
      "Recon Loss =150.3853, KL Loss = 2.1558, Sparsity Loss = 131.1414, Lagrangian Loss = 1112.0304\n",
      "Epoch 101: Loss = 1081.7229\n",
      "Recon Loss =76.5019, KL Loss = 3.4462, Sparsity Loss = 127.9920, Lagrangian Loss = 873.7828\n",
      "Epoch 151: Loss = 352.9637\n",
      "Recon Loss =76.5553, KL Loss = 3.7060, Sparsity Loss = 115.3868, Lagrangian Loss = 157.3156\n",
      "Epoch 201: Loss = 335.5026\n",
      "Recon Loss =71.6840, KL Loss = 3.6128, Sparsity Loss = 112.7298, Lagrangian Loss = 147.4760\n",
      "Epoch 251: Loss = 351.3925\n",
      "Recon Loss =103.2516, KL Loss = 3.8295, Sparsity Loss = 109.6376, Lagrangian Loss = 134.6737\n",
      "Epoch 301: Loss = 283.1880\n",
      "Recon Loss =43.3672, KL Loss = 3.5996, Sparsity Loss = 107.5437, Lagrangian Loss = 128.6775\n",
      "Epoch 351: Loss = 262.4493\n",
      "Recon Loss =42.1452, KL Loss = 3.5113, Sparsity Loss = 104.9290, Lagrangian Loss = 111.8638\n",
      "Early stopping triggered. Last Epoch: 364\n",
      "Recon Loss =41.5356, KL Loss = 3.4579, Sparsity Loss = 107.8681, Lagrangian Loss = 138.3849\n"
     ]
    },
    {
     "name": "stderr",
     "output_type": "stream",
     "text": [
      "2025-03-19 16:32:30,333 INFO -- Edge Accuracy = 38.14, Instantaneous Accuracy = 35.05, Lagged Accuracy = 42.27, Counterfactual Accuracy = 54.64,  Blended Accuracy = 47.42,  RR Accuracy = 48.45  \n",
      "2025-03-19 16:32:30,334 INFO -- Model: 97\n"
     ]
    },
    {
     "name": "stdout",
     "output_type": "stream",
     "text": [
      "Anomaly: cfo1\n",
      "Epoch 1: Loss = 6282.9922\n",
      "Recon Loss =5913.7793, KL Loss = 0.0066, Sparsity Loss = 116.1023, Lagrangian Loss = 253.1041\n",
      "Epoch 51: Loss = 542.7152\n",
      "Recon Loss =113.6786, KL Loss = 3.3197, Sparsity Loss = 117.4067, Lagrangian Loss = 308.3102\n",
      "Epoch 101: Loss = 397.8297\n",
      "Recon Loss =64.7183, KL Loss = 3.4613, Sparsity Loss = 117.8893, Lagrangian Loss = 211.7607\n",
      "Epoch 151: Loss = 380.9461\n",
      "Recon Loss =63.3883, KL Loss = 3.9001, Sparsity Loss = 115.1134, Lagrangian Loss = 198.5444\n",
      "Epoch 201: Loss = 299.4823\n",
      "Recon Loss =64.2853, KL Loss = 3.9264, Sparsity Loss = 108.0134, Lagrangian Loss = 123.2572\n",
      "Epoch 251: Loss = 311.7243\n",
      "Recon Loss =71.9522, KL Loss = 4.0054, Sparsity Loss = 107.9972, Lagrangian Loss = 127.7695\n",
      "Early stopping triggered. Last Epoch: 279\n",
      "Recon Loss =71.9898, KL Loss = 4.0721, Sparsity Loss = 109.3542, Lagrangian Loss = 129.3062\n"
     ]
    },
    {
     "name": "stderr",
     "output_type": "stream",
     "text": [
      "2025-03-19 16:32:58,954 INFO -- Edge Accuracy = 37.76, Instantaneous Accuracy = 34.69, Lagged Accuracy = 41.84, Counterfactual Accuracy = 54.08,  Blended Accuracy = 46.94,  RR Accuracy = 48.98  \n",
      "2025-03-19 16:32:58,955 INFO -- Model: 98\n"
     ]
    },
    {
     "name": "stdout",
     "output_type": "stream",
     "text": [
      "Anomaly: cfo1\n",
      "Epoch 1: Loss = 15913.8604\n",
      "Recon Loss =15537.8848, KL Loss = 0.0140, Sparsity Loss = 119.2039, Lagrangian Loss = 256.7577\n",
      "Epoch 51: Loss = 1740.7268\n",
      "Recon Loss =1217.6133, KL Loss = 2.0871, Sparsity Loss = 120.3314, Lagrangian Loss = 400.6951\n",
      "Epoch 101: Loss = 1008.3703\n",
      "Recon Loss =363.2826, KL Loss = 4.0224, Sparsity Loss = 122.0587, Lagrangian Loss = 519.0067\n",
      "Epoch 151: Loss = 630.3818\n",
      "Recon Loss =146.8798, KL Loss = 5.4554, Sparsity Loss = 118.4689, Lagrangian Loss = 359.5778\n",
      "Epoch 201: Loss = 654.0582\n",
      "Recon Loss =137.0951, KL Loss = 5.6288, Sparsity Loss = 118.8245, Lagrangian Loss = 392.5099\n",
      "Early stopping triggered. Last Epoch: 228\n",
      "Recon Loss =170.7303, KL Loss = 5.2564, Sparsity Loss = 120.1593, Lagrangian Loss = 352.5153\n"
     ]
    },
    {
     "name": "stderr",
     "output_type": "stream",
     "text": [
      "2025-03-19 16:33:29,788 INFO -- Edge Accuracy = 37.37, Instantaneous Accuracy = 34.34, Lagged Accuracy = 41.41, Counterfactual Accuracy = 53.54,  Blended Accuracy = 46.46,  RR Accuracy = 48.48  \n",
      "2025-03-19 16:33:29,789 INFO -- Model: 99\n"
     ]
    },
    {
     "name": "stdout",
     "output_type": "stream",
     "text": [
      "Anomaly: cfo1\n",
      "Epoch 1: Loss = 6589.9663\n",
      "Recon Loss =6121.7881, KL Loss = 0.0131, Sparsity Loss = 124.3815, Lagrangian Loss = 343.7836\n",
      "Epoch 51: Loss = 904.7457\n",
      "Recon Loss =446.5016, KL Loss = 2.0330, Sparsity Loss = 117.5024, Lagrangian Loss = 338.7087\n",
      "Epoch 101: Loss = 663.1184\n",
      "Recon Loss =264.3628, KL Loss = 3.4507, Sparsity Loss = 114.8067, Lagrangian Loss = 280.4982\n",
      "Epoch 151: Loss = 527.4530\n",
      "Recon Loss =184.2245, KL Loss = 3.5049, Sparsity Loss = 114.7998, Lagrangian Loss = 224.9238\n",
      "Epoch 201: Loss = 387.9527\n",
      "Recon Loss =128.8074, KL Loss = 4.0709, Sparsity Loss = 114.9748, Lagrangian Loss = 140.0996\n",
      "Epoch 251: Loss = 349.8277\n",
      "Recon Loss =100.0845, KL Loss = 4.3135, Sparsity Loss = 112.4714, Lagrangian Loss = 132.9583\n",
      "Epoch 301: Loss = 307.1967\n",
      "Recon Loss =81.4070, KL Loss = 4.2882, Sparsity Loss = 109.2895, Lagrangian Loss = 112.2120\n",
      "Early stopping triggered. Last Epoch: 338\n",
      "Recon Loss =82.5390, KL Loss = 4.2294, Sparsity Loss = 107.9105, Lagrangian Loss = 109.4527\n"
     ]
    },
    {
     "name": "stderr",
     "output_type": "stream",
     "text": [
      "2025-03-19 16:34:04,384 INFO -- Edge Accuracy = 37.00, Instantaneous Accuracy = 34.00, Lagged Accuracy = 42.00, Counterfactual Accuracy = 54.00,  Blended Accuracy = 47.00,  RR Accuracy = 49.00  \n",
      "2025-03-19 16:34:04,384 INFO -- Model: 100\n"
     ]
    },
    {
     "name": "stdout",
     "output_type": "stream",
     "text": [
      "Anomaly: cso1\n",
      "Epoch 1: Loss = 29124.7480\n",
      "Recon Loss =28706.6523, KL Loss = 0.0047, Sparsity Loss = 119.5845, Lagrangian Loss = 298.5073\n",
      "Epoch 51: Loss = 2567.5166\n",
      "Recon Loss =2058.7424, KL Loss = 2.9813, Sparsity Loss = 118.5969, Lagrangian Loss = 387.1961\n",
      "Epoch 101: Loss = 2351.0630\n",
      "Recon Loss =1829.9049, KL Loss = 3.6025, Sparsity Loss = 118.9682, Lagrangian Loss = 398.5873\n",
      "Epoch 151: Loss = 1117.8459\n",
      "Recon Loss =701.7349, KL Loss = 4.3031, Sparsity Loss = 115.1068, Lagrangian Loss = 296.7011\n",
      "Early stopping triggered. Last Epoch: 194\n",
      "Recon Loss =672.6266, KL Loss = 4.4318, Sparsity Loss = 116.8128, Lagrangian Loss = 271.9493\n"
     ]
    },
    {
     "name": "stderr",
     "output_type": "stream",
     "text": [
      "2025-03-19 16:34:40,350 INFO -- Edge Accuracy = 37.62, Instantaneous Accuracy = 34.65, Lagged Accuracy = 42.57, Counterfactual Accuracy = 53.47,  Blended Accuracy = 47.52,  RR Accuracy = 48.51  \n",
      "2025-03-19 16:34:40,350 INFO -- Model: 101\n"
     ]
    },
    {
     "name": "stdout",
     "output_type": "stream",
     "text": [
      "Anomaly: cso1\n",
      "Epoch 1: Loss = 22878.3574\n",
      "Recon Loss =22544.3750, KL Loss = 0.0176, Sparsity Loss = 118.1066, Lagrangian Loss = 215.8584\n",
      "Epoch 51: Loss = 2132.8154\n",
      "Recon Loss =1670.9572, KL Loss = 2.6403, Sparsity Loss = 118.0055, Lagrangian Loss = 341.2124\n",
      "Epoch 101: Loss = 1292.4539\n",
      "Recon Loss =506.2299, KL Loss = 4.6961, Sparsity Loss = 126.2666, Lagrangian Loss = 655.2614\n",
      "Early stopping triggered. Last Epoch: 144\n",
      "Recon Loss =336.2805, KL Loss = 4.7299, Sparsity Loss = 120.1115, Lagrangian Loss = 402.9891\n"
     ]
    },
    {
     "name": "stderr",
     "output_type": "stream",
     "text": [
      "2025-03-19 16:35:07,087 INFO -- Edge Accuracy = 38.24, Instantaneous Accuracy = 35.29, Lagged Accuracy = 43.14, Counterfactual Accuracy = 52.94,  Blended Accuracy = 48.04,  RR Accuracy = 49.02  \n",
      "2025-03-19 16:35:07,088 INFO -- Model: 102\n"
     ]
    },
    {
     "name": "stdout",
     "output_type": "stream",
     "text": [
      "Anomaly: cso1\n",
      "Epoch 1: Loss = 8807.8408\n",
      "Recon Loss =8396.4297, KL Loss = 0.0090, Sparsity Loss = 121.5499, Lagrangian Loss = 289.8530\n",
      "Epoch 51: Loss = 754.0713\n",
      "Recon Loss =303.3783, KL Loss = 2.8241, Sparsity Loss = 117.8257, Lagrangian Loss = 330.0432\n",
      "Epoch 101: Loss = 582.5062\n",
      "Recon Loss =144.3502, KL Loss = 4.1302, Sparsity Loss = 118.5492, Lagrangian Loss = 315.4767\n",
      "Epoch 151: Loss = 406.3127\n",
      "Recon Loss =112.5004, KL Loss = 4.8232, Sparsity Loss = 119.1356, Lagrangian Loss = 169.8535\n",
      "Epoch 201: Loss = 357.2298\n",
      "Recon Loss =116.1168, KL Loss = 4.8974, Sparsity Loss = 111.6159, Lagrangian Loss = 124.5997\n",
      "Epoch 251: Loss = 345.6069\n",
      "Recon Loss =128.6019, KL Loss = 5.1695, Sparsity Loss = 107.8971, Lagrangian Loss = 103.9384\n",
      "Early stopping triggered. Last Epoch: 294\n",
      "Recon Loss =105.2103, KL Loss = 5.3362, Sparsity Loss = 106.0028, Lagrangian Loss = 107.7793\n"
     ]
    },
    {
     "name": "stderr",
     "output_type": "stream",
     "text": [
      "2025-03-19 16:35:37,126 INFO -- Edge Accuracy = 37.86, Instantaneous Accuracy = 34.95, Lagged Accuracy = 43.69, Counterfactual Accuracy = 53.40,  Blended Accuracy = 47.57,  RR Accuracy = 48.54  \n",
      "2025-03-19 16:35:37,126 INFO -- Model: 103\n"
     ]
    },
    {
     "name": "stdout",
     "output_type": "stream",
     "text": [
      "Anomaly: cfo1\n",
      "Epoch 1: Loss = 8475.1270\n",
      "Recon Loss =8053.9629, KL Loss = 0.0162, Sparsity Loss = 120.3961, Lagrangian Loss = 300.7523\n",
      "Epoch 51: Loss = 793.1432\n",
      "Recon Loss =247.5315, KL Loss = 2.4567, Sparsity Loss = 121.2555, Lagrangian Loss = 421.8995\n",
      "Epoch 101: Loss = 507.8693\n",
      "Recon Loss =122.0774, KL Loss = 3.7340, Sparsity Loss = 114.7849, Lagrangian Loss = 267.2730\n",
      "Epoch 151: Loss = 465.8882\n",
      "Recon Loss =108.9524, KL Loss = 3.9805, Sparsity Loss = 115.4798, Lagrangian Loss = 237.4756\n",
      "Epoch 201: Loss = 360.3033\n",
      "Recon Loss =109.7064, KL Loss = 3.8154, Sparsity Loss = 114.3819, Lagrangian Loss = 132.3996\n",
      "Epoch 251: Loss = 347.0746\n",
      "Recon Loss =109.0990, KL Loss = 3.6725, Sparsity Loss = 109.4397, Lagrangian Loss = 124.8634\n",
      "Epoch 301: Loss = 326.2016\n",
      "Recon Loss =111.0480, KL Loss = 3.7119, Sparsity Loss = 106.0486, Lagrangian Loss = 105.3931\n",
      "Early stopping triggered. Last Epoch: 320\n",
      "Recon Loss =106.3558, KL Loss = 3.9945, Sparsity Loss = 105.3388, Lagrangian Loss = 104.4851\n"
     ]
    },
    {
     "name": "stderr",
     "output_type": "stream",
     "text": [
      "2025-03-19 16:36:14,151 INFO -- Edge Accuracy = 37.50, Instantaneous Accuracy = 34.62, Lagged Accuracy = 43.27, Counterfactual Accuracy = 53.85,  Blended Accuracy = 47.12,  RR Accuracy = 49.04  \n",
      "2025-03-19 16:36:14,152 INFO -- Model: 104\n"
     ]
    },
    {
     "name": "stdout",
     "output_type": "stream",
     "text": [
      "Anomaly: cfo1\n",
      "Epoch 1: Loss = 54193.2930\n",
      "Recon Loss =53685.8516, KL Loss = 0.0105, Sparsity Loss = 123.2497, Lagrangian Loss = 384.1790\n",
      "Epoch 51: Loss = 5287.3726\n",
      "Recon Loss =4791.3047, KL Loss = 1.8384, Sparsity Loss = 119.6797, Lagrangian Loss = 374.5496\n",
      "Epoch 101: Loss = 1516.0358\n",
      "Recon Loss =1061.0363, KL Loss = 4.3136, Sparsity Loss = 118.8937, Lagrangian Loss = 331.7923\n",
      "Epoch 151: Loss = 1386.2363\n",
      "Recon Loss =993.8245, KL Loss = 4.2718, Sparsity Loss = 115.0637, Lagrangian Loss = 273.0765\n",
      "Epoch 201: Loss = 1276.2646\n",
      "Recon Loss =906.6263, KL Loss = 3.9723, Sparsity Loss = 112.8568, Lagrangian Loss = 252.8092\n",
      "Epoch 251: Loss = 1170.0856\n",
      "Recon Loss =768.3762, KL Loss = 4.4399, Sparsity Loss = 115.3427, Lagrangian Loss = 281.9269\n",
      "Epoch 301: Loss = 1113.5222\n",
      "Recon Loss =741.4424, KL Loss = 4.3791, Sparsity Loss = 114.4081, Lagrangian Loss = 253.2927\n",
      "Epoch 351: Loss = 1052.3856\n",
      "Recon Loss =686.6992, KL Loss = 4.2771, Sparsity Loss = 117.2227, Lagrangian Loss = 244.1866\n",
      "Epoch 401: Loss = 1008.8495\n",
      "Recon Loss =635.8810, KL Loss = 4.4216, Sparsity Loss = 116.1315, Lagrangian Loss = 252.4155\n",
      "Epoch 451: Loss = 971.3260\n",
      "Recon Loss =632.0400, KL Loss = 4.4038, Sparsity Loss = 113.0289, Lagrangian Loss = 221.8534\n",
      "Early stopping triggered. Last Epoch: 499\n",
      "Recon Loss =626.4491, KL Loss = 4.2975, Sparsity Loss = 116.1059, Lagrangian Loss = 247.5070\n"
     ]
    },
    {
     "name": "stderr",
     "output_type": "stream",
     "text": [
      "2025-03-19 16:39:32,251 INFO -- Edge Accuracy = 37.14, Instantaneous Accuracy = 34.29, Lagged Accuracy = 42.86, Counterfactual Accuracy = 54.29,  Blended Accuracy = 46.67,  RR Accuracy = 48.57  \n",
      "2025-03-19 16:39:32,252 INFO -- Model: 105\n"
     ]
    },
    {
     "name": "stdout",
     "output_type": "stream",
     "text": [
      "Anomaly: ced1\n",
      "Epoch 1: Loss = 22655.5684\n",
      "Recon Loss =22060.3926, KL Loss = 0.0086, Sparsity Loss = 125.1101, Lagrangian Loss = 470.0581\n",
      "Epoch 51: Loss = 2412.5522\n",
      "Recon Loss =1946.3007, KL Loss = 2.5694, Sparsity Loss = 118.1348, Lagrangian Loss = 345.5475\n",
      "Epoch 101: Loss = 933.9240\n",
      "Recon Loss =446.5422, KL Loss = 3.7901, Sparsity Loss = 118.4763, Lagrangian Loss = 365.1153\n",
      "Epoch 151: Loss = 1070.4265\n",
      "Recon Loss =526.7380, KL Loss = 4.0564, Sparsity Loss = 120.0778, Lagrangian Loss = 419.5543\n",
      "Early stopping triggered. Last Epoch: 188\n",
      "Recon Loss =358.4321, KL Loss = 4.0021, Sparsity Loss = 119.3690, Lagrangian Loss = 386.8795\n"
     ]
    },
    {
     "name": "stderr",
     "output_type": "stream",
     "text": [
      "2025-03-19 16:40:07,782 INFO -- Edge Accuracy = 36.79, Instantaneous Accuracy = 33.96, Lagged Accuracy = 42.45, Counterfactual Accuracy = 53.77,  Blended Accuracy = 46.23,  RR Accuracy = 48.11  \n",
      "2025-03-19 16:40:07,783 INFO -- Model: 106\n"
     ]
    },
    {
     "name": "stdout",
     "output_type": "stream",
     "text": [
      "Anomaly: ced1\n",
      "Epoch 1: Loss = 5149.2656\n",
      "Recon Loss =4578.5811, KL Loss = 0.0166, Sparsity Loss = 127.0090, Lagrangian Loss = 443.6589\n",
      "Epoch 51: Loss = 719.8917\n",
      "Recon Loss =178.6151, KL Loss = 2.5100, Sparsity Loss = 120.6002, Lagrangian Loss = 418.1664\n",
      "Epoch 101: Loss = 672.6528\n",
      "Recon Loss =51.4759, KL Loss = 4.1186, Sparsity Loss = 120.2583, Lagrangian Loss = 496.8000\n",
      "Epoch 151: Loss = 527.5165\n",
      "Recon Loss =49.1467, KL Loss = 4.0381, Sparsity Loss = 118.8839, Lagrangian Loss = 355.4479\n",
      "Epoch 201: Loss = 333.2477\n",
      "Recon Loss =47.9043, KL Loss = 4.1775, Sparsity Loss = 117.3080, Lagrangian Loss = 163.8579\n",
      "Epoch 251: Loss = 320.6786\n",
      "Recon Loss =47.5826, KL Loss = 4.0013, Sparsity Loss = 117.1247, Lagrangian Loss = 151.9700\n",
      "Epoch 301: Loss = 288.3427\n",
      "Recon Loss =46.3153, KL Loss = 4.0142, Sparsity Loss = 108.0510, Lagrangian Loss = 129.9621\n",
      "Epoch 351: Loss = 286.6573\n",
      "Recon Loss =50.5994, KL Loss = 4.1042, Sparsity Loss = 106.3832, Lagrangian Loss = 125.5704\n",
      "Early stopping triggered. Last Epoch: 375\n",
      "Recon Loss =47.0900, KL Loss = 3.8962, Sparsity Loss = 107.0349, Lagrangian Loss = 125.4863\n"
     ]
    },
    {
     "name": "stderr",
     "output_type": "stream",
     "text": [
      "2025-03-19 16:40:34,741 INFO -- Edge Accuracy = 36.45, Instantaneous Accuracy = 33.64, Lagged Accuracy = 42.99, Counterfactual Accuracy = 54.21,  Blended Accuracy = 45.79,  RR Accuracy = 48.60  \n",
      "2025-03-19 16:40:34,741 INFO -- Model: 107\n"
     ]
    },
    {
     "name": "stdout",
     "output_type": "stream",
     "text": [
      "Anomaly: cfo1\n",
      "Epoch 1: Loss = 7377.6367\n",
      "Recon Loss =6972.9746, KL Loss = 0.0113, Sparsity Loss = 120.0146, Lagrangian Loss = 284.6363\n",
      "Epoch 51: Loss = 556.5201\n",
      "Recon Loss =140.7419, KL Loss = 2.4751, Sparsity Loss = 117.7661, Lagrangian Loss = 295.5371\n",
      "Epoch 101: Loss = 504.3921\n",
      "Recon Loss =61.5602, KL Loss = 3.7733, Sparsity Loss = 117.7477, Lagrangian Loss = 321.3110\n",
      "Epoch 151: Loss = 373.4292\n",
      "Recon Loss =62.8030, KL Loss = 3.9554, Sparsity Loss = 117.1104, Lagrangian Loss = 189.5603\n",
      "Epoch 201: Loss = 339.6581\n",
      "Recon Loss =71.1397, KL Loss = 3.7108, Sparsity Loss = 112.4215, Lagrangian Loss = 152.3861\n",
      "Early stopping triggered. Last Epoch: 240\n",
      "Recon Loss =62.8126, KL Loss = 3.8516, Sparsity Loss = 112.7620, Lagrangian Loss = 158.9618\n"
     ]
    },
    {
     "name": "stderr",
     "output_type": "stream",
     "text": [
      "2025-03-19 16:40:59,486 INFO -- Edge Accuracy = 37.04, Instantaneous Accuracy = 34.26, Lagged Accuracy = 43.52, Counterfactual Accuracy = 53.70,  Blended Accuracy = 46.30,  RR Accuracy = 48.15  \n",
      "2025-03-19 16:40:59,487 INFO -- Model: 108\n"
     ]
    },
    {
     "name": "stdout",
     "output_type": "stream",
     "text": [
      "Anomaly: cfo1\n",
      "Epoch 1: Loss = 5561.1001\n",
      "Recon Loss =5178.7080, KL Loss = 0.0111, Sparsity Loss = 120.8699, Lagrangian Loss = 261.5112\n",
      "Epoch 51: Loss = 747.5714\n",
      "Recon Loss =313.9008, KL Loss = 2.0862, Sparsity Loss = 117.3275, Lagrangian Loss = 314.2569\n",
      "Epoch 101: Loss = 453.4302\n",
      "Recon Loss =74.8935, KL Loss = 3.5286, Sparsity Loss = 115.8928, Lagrangian Loss = 259.1153\n",
      "Epoch 151: Loss = 318.8607\n",
      "Recon Loss =70.1404, KL Loss = 4.0623, Sparsity Loss = 110.6793, Lagrangian Loss = 133.9787\n",
      "Epoch 201: Loss = 290.0839\n",
      "Recon Loss =62.7123, KL Loss = 4.5222, Sparsity Loss = 107.0941, Lagrangian Loss = 115.7552\n",
      "Epoch 251: Loss = 268.8870\n",
      "Recon Loss =47.3724, KL Loss = 4.1902, Sparsity Loss = 105.4041, Lagrangian Loss = 111.9203\n",
      "Epoch 301: Loss = 273.0061\n",
      "Recon Loss =48.9624, KL Loss = 4.1389, Sparsity Loss = 105.0455, Lagrangian Loss = 114.8593\n",
      "Early stopping triggered. Last Epoch: 331\n",
      "Recon Loss =45.3722, KL Loss = 4.0607, Sparsity Loss = 106.8257, Lagrangian Loss = 122.6667\n"
     ]
    },
    {
     "name": "stderr",
     "output_type": "stream",
     "text": [
      "2025-03-19 16:41:23,396 INFO -- Edge Accuracy = 36.70, Instantaneous Accuracy = 33.94, Lagged Accuracy = 43.12, Counterfactual Accuracy = 54.13,  Blended Accuracy = 45.87,  RR Accuracy = 48.62  \n",
      "2025-03-19 16:41:23,396 INFO -- Model: 109\n"
     ]
    },
    {
     "name": "stdout",
     "output_type": "stream",
     "text": [
      "Anomaly: ced1\n",
      "Epoch 1: Loss = 6812.4966\n",
      "Recon Loss =6456.2979, KL Loss = 0.0039, Sparsity Loss = 118.0966, Lagrangian Loss = 238.0981\n",
      "Epoch 51: Loss = 592.8075\n",
      "Recon Loss =241.9841, KL Loss = 2.1466, Sparsity Loss = 115.7051, Lagrangian Loss = 232.9717\n",
      "Epoch 101: Loss = 502.9681\n",
      "Recon Loss =73.3219, KL Loss = 3.7416, Sparsity Loss = 116.3689, Lagrangian Loss = 309.5359\n",
      "Epoch 151: Loss = 450.3117\n",
      "Recon Loss =57.0671, KL Loss = 4.1164, Sparsity Loss = 116.1507, Lagrangian Loss = 272.9775\n",
      "Epoch 201: Loss = 413.2375\n",
      "Recon Loss =53.4852, KL Loss = 4.3124, Sparsity Loss = 114.9873, Lagrangian Loss = 240.4527\n",
      "Early stopping triggered. Last Epoch: 202\n",
      "Recon Loss =54.6213, KL Loss = 4.3064, Sparsity Loss = 116.9972, Lagrangian Loss = 276.9481\n"
     ]
    },
    {
     "name": "stderr",
     "output_type": "stream",
     "text": [
      "2025-03-19 16:41:39,558 INFO -- Edge Accuracy = 37.27, Instantaneous Accuracy = 34.55, Lagged Accuracy = 43.64, Counterfactual Accuracy = 54.55,  Blended Accuracy = 46.36,  RR Accuracy = 48.18  \n",
      "2025-03-19 16:41:39,558 INFO -- Model: 110\n"
     ]
    },
    {
     "name": "stdout",
     "output_type": "stream",
     "text": [
      "Anomaly: cfo1\n",
      "Epoch 1: Loss = 6552.2563\n",
      "Recon Loss =6086.1865, KL Loss = 0.0096, Sparsity Loss = 122.9294, Lagrangian Loss = 343.1307\n",
      "Epoch 51: Loss = 926.5488\n",
      "Recon Loss =498.6271, KL Loss = 1.8176, Sparsity Loss = 116.4682, Lagrangian Loss = 309.6359\n",
      "Epoch 101: Loss = 446.0587\n",
      "Recon Loss =53.6779, KL Loss = 3.6988, Sparsity Loss = 115.4301, Lagrangian Loss = 273.2519\n",
      "Epoch 151: Loss = 321.6891\n",
      "Recon Loss =40.8889, KL Loss = 3.7742, Sparsity Loss = 117.5147, Lagrangian Loss = 159.5112\n",
      "Epoch 201: Loss = 289.2849\n",
      "Recon Loss =43.1716, KL Loss = 3.7290, Sparsity Loss = 108.9639, Lagrangian Loss = 133.4204\n",
      "Epoch 251: Loss = 269.7320\n",
      "Recon Loss =40.7121, KL Loss = 3.8335, Sparsity Loss = 106.3833, Lagrangian Loss = 118.8032\n",
      "Early stopping triggered. Last Epoch: 295\n",
      "Recon Loss =46.1193, KL Loss = 3.6926, Sparsity Loss = 109.7902, Lagrangian Loss = 137.3621\n"
     ]
    },
    {
     "name": "stderr",
     "output_type": "stream",
     "text": [
      "2025-03-19 16:42:02,941 INFO -- Edge Accuracy = 36.94, Instantaneous Accuracy = 34.23, Lagged Accuracy = 43.24, Counterfactual Accuracy = 54.95,  Blended Accuracy = 46.85,  RR Accuracy = 48.65  \n",
      "2025-03-19 16:42:02,942 INFO -- Model: 111\n"
     ]
    },
    {
     "name": "stdout",
     "output_type": "stream",
     "text": [
      "Anomaly: ced1\n",
      "Epoch 1: Loss = 6314.5615\n",
      "Recon Loss =5976.4678, KL Loss = 0.0086, Sparsity Loss = 119.1099, Lagrangian Loss = 218.9753\n",
      "Epoch 51: Loss = 681.4799\n",
      "Recon Loss =199.4977, KL Loss = 2.8334, Sparsity Loss = 119.5377, Lagrangian Loss = 359.6110\n",
      "Epoch 101: Loss = 741.8581\n",
      "Recon Loss =130.2763, KL Loss = 3.9933, Sparsity Loss = 121.5222, Lagrangian Loss = 486.0662\n",
      "Epoch 151: Loss = 476.0402\n",
      "Recon Loss =125.5878, KL Loss = 3.9397, Sparsity Loss = 116.6796, Lagrangian Loss = 229.8331\n",
      "Epoch 201: Loss = 383.6602\n",
      "Recon Loss =119.5530, KL Loss = 3.7965, Sparsity Loss = 114.6086, Lagrangian Loss = 145.7020\n",
      "Epoch 251: Loss = 344.8968\n",
      "Recon Loss =106.7685, KL Loss = 3.7661, Sparsity Loss = 108.8106, Lagrangian Loss = 125.5516\n",
      "Epoch 301: Loss = 340.7014\n",
      "Recon Loss =102.3510, KL Loss = 3.6657, Sparsity Loss = 108.8082, Lagrangian Loss = 125.8764\n",
      "Epoch 351: Loss = 316.5360\n",
      "Recon Loss =98.8406, KL Loss = 3.5663, Sparsity Loss = 104.2538, Lagrangian Loss = 109.8753\n",
      "Early stopping triggered. Last Epoch: 369\n",
      "Recon Loss =77.8348, KL Loss = 3.6505, Sparsity Loss = 107.9063, Lagrangian Loss = 135.2188\n"
     ]
    },
    {
     "name": "stderr",
     "output_type": "stream",
     "text": [
      "2025-03-19 16:42:40,819 INFO -- Edge Accuracy = 36.61, Instantaneous Accuracy = 33.93, Lagged Accuracy = 42.86, Counterfactual Accuracy = 55.36,  Blended Accuracy = 46.43,  RR Accuracy = 48.21  \n",
      "2025-03-19 16:42:40,820 INFO -- Model: 112\n"
     ]
    },
    {
     "name": "stdout",
     "output_type": "stream",
     "text": [
      "Anomaly: cfo1\n",
      "Epoch 1: Loss = 22195.5000\n",
      "Recon Loss =21746.4414, KL Loss = 0.0048, Sparsity Loss = 122.6636, Lagrangian Loss = 326.3909\n",
      "Epoch 51: Loss = 1279.6680\n",
      "Recon Loss =850.5218, KL Loss = 2.9414, Sparsity Loss = 115.7791, Lagrangian Loss = 310.4257\n",
      "Epoch 101: Loss = 1198.8359\n",
      "Recon Loss =647.9912, KL Loss = 3.6059, Sparsity Loss = 120.7896, Lagrangian Loss = 426.4492\n",
      "Early stopping triggered. Last Epoch: 146\n",
      "Recon Loss =598.8075, KL Loss = 4.0738, Sparsity Loss = 118.4859, Lagrangian Loss = 360.9626\n"
     ]
    },
    {
     "name": "stderr",
     "output_type": "stream",
     "text": [
      "2025-03-19 16:43:07,997 INFO -- Edge Accuracy = 36.28, Instantaneous Accuracy = 33.63, Lagged Accuracy = 42.48, Counterfactual Accuracy = 54.87,  Blended Accuracy = 46.02,  RR Accuracy = 48.67  \n",
      "2025-03-19 16:43:07,997 INFO -- Model: 113\n"
     ]
    },
    {
     "name": "stdout",
     "output_type": "stream",
     "text": [
      "Anomaly: cfo1\n",
      "Epoch 1: Loss = 5261.2881\n",
      "Recon Loss =4842.6411, KL Loss = 0.0136, Sparsity Loss = 120.6045, Lagrangian Loss = 298.0291\n",
      "Epoch 51: Loss = 657.5254\n",
      "Recon Loss =147.0771, KL Loss = 2.1443, Sparsity Loss = 120.5011, Lagrangian Loss = 387.8028\n",
      "Epoch 101: Loss = 495.7824\n",
      "Recon Loss =48.4164, KL Loss = 3.4155, Sparsity Loss = 118.5741, Lagrangian Loss = 325.3764\n",
      "Epoch 151: Loss = 331.1656\n",
      "Recon Loss =43.3481, KL Loss = 3.7660, Sparsity Loss = 118.7905, Lagrangian Loss = 165.2609\n",
      "Epoch 201: Loss = 273.6174\n",
      "Recon Loss =41.7391, KL Loss = 3.6779, Sparsity Loss = 109.1110, Lagrangian Loss = 119.0895\n",
      "Epoch 251: Loss = 265.3418\n",
      "Recon Loss =42.9945, KL Loss = 3.5838, Sparsity Loss = 107.8460, Lagrangian Loss = 110.9176\n",
      "Epoch 301: Loss = 260.3101\n",
      "Recon Loss =44.6095, KL Loss = 3.4492, Sparsity Loss = 106.1146, Lagrangian Loss = 106.1368\n",
      "Early stopping triggered. Last Epoch: 322\n",
      "Recon Loss =41.4263, KL Loss = 3.4466, Sparsity Loss = 105.4679, Lagrangian Loss = 105.9311\n"
     ]
    },
    {
     "name": "stderr",
     "output_type": "stream",
     "text": [
      "2025-03-19 16:43:31,402 INFO -- Edge Accuracy = 36.84, Instantaneous Accuracy = 34.21, Lagged Accuracy = 42.98, Counterfactual Accuracy = 55.26,  Blended Accuracy = 46.49,  RR Accuracy = 49.12  \n",
      "2025-03-19 16:43:31,403 INFO -- Model: 114\n"
     ]
    },
    {
     "name": "stdout",
     "output_type": "stream",
     "text": [
      "Anomaly: cso1\n",
      "Epoch 1: Loss = 4602.7915\n",
      "Recon Loss =4249.6235, KL Loss = 0.0098, Sparsity Loss = 118.7179, Lagrangian Loss = 234.4402\n",
      "Epoch 51: Loss = 760.4982\n",
      "Recon Loss =289.7903, KL Loss = 1.9443, Sparsity Loss = 118.5928, Lagrangian Loss = 350.1708\n",
      "Epoch 101: Loss = 673.6090\n",
      "Recon Loss =236.8454, KL Loss = 3.0693, Sparsity Loss = 116.9803, Lagrangian Loss = 316.7141\n",
      "Epoch 151: Loss = 442.5024\n",
      "Recon Loss =58.9626, KL Loss = 4.1921, Sparsity Loss = 114.8285, Lagrangian Loss = 264.5192\n",
      "Early stopping triggered. Last Epoch: 188\n",
      "Recon Loss =49.2719, KL Loss = 3.9741, Sparsity Loss = 116.6768, Lagrangian Loss = 330.0420\n"
     ]
    },
    {
     "name": "stderr",
     "output_type": "stream",
     "text": [
      "2025-03-19 16:43:45,400 INFO -- Edge Accuracy = 36.52, Instantaneous Accuracy = 33.91, Lagged Accuracy = 42.61, Counterfactual Accuracy = 54.78,  Blended Accuracy = 46.09,  RR Accuracy = 48.70  \n",
      "2025-03-19 16:43:45,401 INFO -- Model: 115\n"
     ]
    },
    {
     "name": "stdout",
     "output_type": "stream",
     "text": [
      "Anomaly: ced1\n",
      "Epoch 1: Loss = 19992.1562\n",
      "Recon Loss =19655.0391, KL Loss = 0.0105, Sparsity Loss = 118.2536, Lagrangian Loss = 218.8525\n",
      "Epoch 51: Loss = 2304.9849\n",
      "Recon Loss =1363.7100, KL Loss = 2.4569, Sparsity Loss = 127.7022, Lagrangian Loss = 811.1158\n",
      "Epoch 101: Loss = 981.2855\n",
      "Recon Loss =380.0535, KL Loss = 3.9279, Sparsity Loss = 120.4410, Lagrangian Loss = 476.8631\n",
      "Epoch 151: Loss = 783.8036\n",
      "Recon Loss =368.2432, KL Loss = 4.1990, Sparsity Loss = 116.5477, Lagrangian Loss = 294.8138\n",
      "Early stopping triggered. Last Epoch: 159\n",
      "Recon Loss =373.7589, KL Loss = 4.2353, Sparsity Loss = 117.2546, Lagrangian Loss = 329.2173\n"
     ]
    },
    {
     "name": "stderr",
     "output_type": "stream",
     "text": [
      "2025-03-19 16:44:14,886 INFO -- Edge Accuracy = 36.21, Instantaneous Accuracy = 33.62, Lagged Accuracy = 42.24, Counterfactual Accuracy = 54.31,  Blended Accuracy = 45.69,  RR Accuracy = 48.28  \n",
      "2025-03-19 16:44:14,887 INFO -- Model: 116\n"
     ]
    },
    {
     "name": "stdout",
     "output_type": "stream",
     "text": [
      "Anomaly: cso1\n",
      "Epoch 1: Loss = 10547.1836\n",
      "Recon Loss =10188.2617, KL Loss = 0.0081, Sparsity Loss = 117.1161, Lagrangian Loss = 241.7975\n",
      "Epoch 51: Loss = 1060.3895\n",
      "Recon Loss =587.1594, KL Loss = 2.7646, Sparsity Loss = 117.6647, Lagrangian Loss = 352.8008\n",
      "Epoch 101: Loss = 779.0863\n",
      "Recon Loss =295.8500, KL Loss = 3.8502, Sparsity Loss = 118.9105, Lagrangian Loss = 360.4756\n",
      "Epoch 151: Loss = 487.6909\n",
      "Recon Loss =205.9464, KL Loss = 5.0717, Sparsity Loss = 117.7542, Lagrangian Loss = 158.9186\n",
      "Epoch 201: Loss = 421.5474\n",
      "Recon Loss =204.6600, KL Loss = 5.1036, Sparsity Loss = 106.4830, Lagrangian Loss = 105.3008\n",
      "Epoch 251: Loss = 526.0668\n",
      "Recon Loss =296.5262, KL Loss = 5.4468, Sparsity Loss = 108.5312, Lagrangian Loss = 115.5626\n",
      "Early stopping triggered. Last Epoch: 270\n",
      "Recon Loss =218.2835, KL Loss = 4.8340, Sparsity Loss = 103.8726, Lagrangian Loss = 103.8668\n"
     ]
    },
    {
     "name": "stderr",
     "output_type": "stream",
     "text": [
      "2025-03-19 16:44:46,345 INFO -- Edge Accuracy = 35.90, Instantaneous Accuracy = 33.33, Lagged Accuracy = 41.88, Counterfactual Accuracy = 54.70,  Blended Accuracy = 45.30,  RR Accuracy = 47.86  \n",
      "2025-03-19 16:44:46,345 INFO -- Model: 117\n"
     ]
    },
    {
     "name": "stdout",
     "output_type": "stream",
     "text": [
      "Anomaly: cfo1\n",
      "Epoch 1: Loss = 5680.5195\n",
      "Recon Loss =5274.3535, KL Loss = 0.0098, Sparsity Loss = 121.8500, Lagrangian Loss = 284.3062\n",
      "Epoch 51: Loss = 764.4026\n",
      "Recon Loss =384.0490, KL Loss = 2.0268, Sparsity Loss = 117.2322, Lagrangian Loss = 261.0946\n",
      "Epoch 101: Loss = 421.8593\n",
      "Recon Loss =69.8611, KL Loss = 3.9318, Sparsity Loss = 116.2727, Lagrangian Loss = 231.7935\n",
      "Early stopping triggered. Last Epoch: 149\n",
      "Recon Loss =63.6694, KL Loss = 4.2770, Sparsity Loss = 117.2470, Lagrangian Loss = 272.6963\n"
     ]
    },
    {
     "name": "stderr",
     "output_type": "stream",
     "text": [
      "2025-03-19 16:44:57,401 INFO -- Edge Accuracy = 35.59, Instantaneous Accuracy = 33.05, Lagged Accuracy = 41.53, Counterfactual Accuracy = 55.08,  Blended Accuracy = 44.92,  RR Accuracy = 48.31  \n",
      "2025-03-19 16:44:57,401 INFO -- Model: 118\n"
     ]
    },
    {
     "name": "stdout",
     "output_type": "stream",
     "text": [
      "Anomaly: ced1\n",
      "Epoch 1: Loss = 8487.5000\n",
      "Recon Loss =8118.4121, KL Loss = 0.0062, Sparsity Loss = 119.2759, Lagrangian Loss = 249.8061\n",
      "Epoch 51: Loss = 963.8516\n",
      "Recon Loss =496.6657, KL Loss = 2.9641, Sparsity Loss = 117.1980, Lagrangian Loss = 347.0237\n",
      "Epoch 101: Loss = 488.3238\n",
      "Recon Loss =93.0113, KL Loss = 3.7524, Sparsity Loss = 116.9795, Lagrangian Loss = 274.5805\n",
      "Epoch 151: Loss = 471.9427\n",
      "Recon Loss =94.0517, KL Loss = 4.1212, Sparsity Loss = 118.4149, Lagrangian Loss = 255.3550\n",
      "Early stopping triggered. Last Epoch: 154\n",
      "Recon Loss =90.8181, KL Loss = 4.2210, Sparsity Loss = 118.4538, Lagrangian Loss = 334.3165\n"
     ]
    },
    {
     "name": "stderr",
     "output_type": "stream",
     "text": [
      "2025-03-19 16:45:15,645 INFO -- Edge Accuracy = 36.13, Instantaneous Accuracy = 33.61, Lagged Accuracy = 42.02, Counterfactual Accuracy = 54.62,  Blended Accuracy = 45.38,  RR Accuracy = 48.74  \n",
      "2025-03-19 16:45:15,646 INFO -- Model: 119\n"
     ]
    },
    {
     "name": "stdout",
     "output_type": "stream",
     "text": [
      "Anomaly: cfo1\n",
      "Epoch 1: Loss = 7084.0366\n",
      "Recon Loss =6728.5103, KL Loss = 0.0054, Sparsity Loss = 117.9611, Lagrangian Loss = 237.5602\n",
      "Epoch 51: Loss = 704.4352\n",
      "Recon Loss =268.5961, KL Loss = 2.4145, Sparsity Loss = 117.3022, Lagrangian Loss = 316.1226\n",
      "Epoch 101: Loss = 583.8893\n",
      "Recon Loss =101.0683, KL Loss = 2.6018, Sparsity Loss = 117.9546, Lagrangian Loss = 362.2646\n",
      "Epoch 151: Loss = 474.7324\n",
      "Recon Loss =61.7618, KL Loss = 3.5543, Sparsity Loss = 116.5947, Lagrangian Loss = 292.8217\n",
      "Epoch 201: Loss = 442.5203\n",
      "Recon Loss =64.6444, KL Loss = 3.7833, Sparsity Loss = 114.9673, Lagrangian Loss = 259.1253\n",
      "Epoch 251: Loss = 282.8008\n",
      "Recon Loss =61.5185, KL Loss = 3.8683, Sparsity Loss = 106.3858, Lagrangian Loss = 111.0282\n",
      "Epoch 301: Loss = 291.4789\n",
      "Recon Loss =60.8222, KL Loss = 3.8570, Sparsity Loss = 108.7956, Lagrangian Loss = 118.0041\n",
      "Early stopping triggered. Last Epoch: 302\n",
      "Recon Loss =61.9229, KL Loss = 3.8287, Sparsity Loss = 108.5763, Lagrangian Loss = 115.0253\n"
     ]
    },
    {
     "name": "stderr",
     "output_type": "stream",
     "text": [
      "2025-03-19 16:45:46,773 INFO -- Edge Accuracy = 35.83, Instantaneous Accuracy = 34.17, Lagged Accuracy = 41.67, Counterfactual Accuracy = 55.00,  Blended Accuracy = 45.00,  RR Accuracy = 49.17  \n",
      "2025-03-19 16:45:46,774 INFO -- Model: 120\n"
     ]
    },
    {
     "name": "stdout",
     "output_type": "stream",
     "text": [
      "Anomaly: ced1\n",
      "Epoch 1: Loss = 6297.7217\n",
      "Recon Loss =5933.8687, KL Loss = 0.0070, Sparsity Loss = 122.4226, Lagrangian Loss = 241.4236\n",
      "Epoch 51: Loss = 1061.7319\n",
      "Recon Loss =167.0413, KL Loss = 2.3047, Sparsity Loss = 129.4947, Lagrangian Loss = 762.8912\n",
      "Epoch 101: Loss = 479.6428\n",
      "Recon Loss =52.0049, KL Loss = 3.7553, Sparsity Loss = 116.7668, Lagrangian Loss = 307.1158\n",
      "Epoch 151: Loss = 475.9300\n",
      "Recon Loss =52.8300, KL Loss = 3.9239, Sparsity Loss = 114.7555, Lagrangian Loss = 304.4206\n",
      "Early stopping triggered. Last Epoch: 153\n",
      "Recon Loss =51.9509, KL Loss = 3.9882, Sparsity Loss = 116.3298, Lagrangian Loss = 291.9557\n"
     ]
    },
    {
     "name": "stderr",
     "output_type": "stream",
     "text": [
      "2025-03-19 16:45:59,152 INFO -- Edge Accuracy = 35.54, Instantaneous Accuracy = 33.88, Lagged Accuracy = 41.32, Counterfactual Accuracy = 55.37,  Blended Accuracy = 44.63,  RR Accuracy = 49.59  \n",
      "2025-03-19 16:45:59,152 INFO -- Model: 121\n"
     ]
    },
    {
     "name": "stdout",
     "output_type": "stream",
     "text": [
      "Anomaly: ced1\n",
      "Epoch 1: Loss = 11689.5576\n",
      "Recon Loss =11374.4004, KL Loss = 0.0056, Sparsity Loss = 115.5995, Lagrangian Loss = 199.5518\n",
      "Epoch 51: Loss = 1077.0232\n",
      "Recon Loss =530.0822, KL Loss = 2.4686, Sparsity Loss = 120.8790, Lagrangian Loss = 423.5935\n",
      "Epoch 101: Loss = 741.8688\n",
      "Recon Loss =120.7762, KL Loss = 4.0590, Sparsity Loss = 121.6204, Lagrangian Loss = 495.4132\n",
      "Epoch 151: Loss = 631.6422\n",
      "Recon Loss =110.1120, KL Loss = 4.1172, Sparsity Loss = 119.5422, Lagrangian Loss = 397.8708\n",
      "Early stopping triggered. Last Epoch: 169\n",
      "Recon Loss =183.5623, KL Loss = 4.2777, Sparsity Loss = 120.5690, Lagrangian Loss = 433.3071\n"
     ]
    },
    {
     "name": "stderr",
     "output_type": "stream",
     "text": [
      "2025-03-19 16:46:19,067 INFO -- Edge Accuracy = 35.25, Instantaneous Accuracy = 33.61, Lagged Accuracy = 40.98, Counterfactual Accuracy = 54.92,  Blended Accuracy = 44.26,  RR Accuracy = 49.18  \n",
      "2025-03-19 16:46:19,068 INFO -- Model: 122\n"
     ]
    },
    {
     "name": "stdout",
     "output_type": "stream",
     "text": [
      "Anomaly: cfo1\n",
      "Epoch 1: Loss = 7664.1006\n",
      "Recon Loss =7120.8135, KL Loss = 0.0081, Sparsity Loss = 124.7005, Lagrangian Loss = 418.5781\n",
      "Epoch 51: Loss = 1016.7814\n",
      "Recon Loss =476.7945, KL Loss = 2.5636, Sparsity Loss = 119.8651, Lagrangian Loss = 417.5582\n",
      "Epoch 101: Loss = 560.7687\n",
      "Recon Loss =103.7116, KL Loss = 3.5187, Sparsity Loss = 117.7880, Lagrangian Loss = 335.7505\n",
      "Epoch 151: Loss = 460.9435\n",
      "Recon Loss =98.8896, KL Loss = 4.0351, Sparsity Loss = 115.4597, Lagrangian Loss = 242.5592\n",
      "Epoch 201: Loss = 400.9950\n",
      "Recon Loss =90.9915, KL Loss = 4.3500, Sparsity Loss = 115.5287, Lagrangian Loss = 190.1248\n",
      "Epoch 251: Loss = 355.9960\n",
      "Recon Loss =80.0490, KL Loss = 4.1800, Sparsity Loss = 109.9732, Lagrangian Loss = 161.7939\n",
      "Early stopping triggered. Last Epoch: 286\n",
      "Recon Loss =79.1725, KL Loss = 4.0033, Sparsity Loss = 114.5730, Lagrangian Loss = 150.6694\n"
     ]
    },
    {
     "name": "stderr",
     "output_type": "stream",
     "text": [
      "2025-03-19 16:46:48,387 INFO -- Edge Accuracy = 35.77, Instantaneous Accuracy = 33.33, Lagged Accuracy = 41.46, Counterfactual Accuracy = 55.28,  Blended Accuracy = 44.72,  RR Accuracy = 49.59  \n",
      "2025-03-19 16:46:48,387 INFO -- Model: 123\n"
     ]
    },
    {
     "name": "stdout",
     "output_type": "stream",
     "text": [
      "Anomaly: cso1\n",
      "Epoch 1: Loss = 5128.4888\n",
      "Recon Loss =4632.0044, KL Loss = 0.0035, Sparsity Loss = 126.6252, Lagrangian Loss = 369.8560\n",
      "Epoch 51: Loss = 593.1647\n",
      "Recon Loss =137.2722, KL Loss = 2.5729, Sparsity Loss = 118.8611, Lagrangian Loss = 334.4585\n",
      "Epoch 101: Loss = 471.7147\n",
      "Recon Loss =67.3431, KL Loss = 3.8166, Sparsity Loss = 117.2218, Lagrangian Loss = 283.3331\n",
      "Early stopping triggered. Last Epoch: 137\n",
      "Recon Loss =68.7015, KL Loss = 3.7625, Sparsity Loss = 118.3035, Lagrangian Loss = 398.1092\n"
     ]
    },
    {
     "name": "stderr",
     "output_type": "stream",
     "text": [
      "2025-03-19 16:47:02,708 INFO -- Edge Accuracy = 36.29, Instantaneous Accuracy = 33.87, Lagged Accuracy = 41.13, Counterfactual Accuracy = 54.84,  Blended Accuracy = 45.16,  RR Accuracy = 50.00  \n",
      "2025-03-19 16:47:02,709 INFO -- Model: 124\n"
     ]
    },
    {
     "name": "stdout",
     "output_type": "stream",
     "text": [
      "Anomaly: cfo1\n",
      "Epoch 1: Loss = 14908.6777\n",
      "Recon Loss =14500.5605, KL Loss = 0.0105, Sparsity Loss = 119.4894, Lagrangian Loss = 288.6174\n",
      "Epoch 51: Loss = 1695.3134\n",
      "Recon Loss =1068.3701, KL Loss = 2.4530, Sparsity Loss = 120.4837, Lagrangian Loss = 504.0065\n",
      "Epoch 101: Loss = 896.3306\n",
      "Recon Loss =283.2747, KL Loss = 3.8301, Sparsity Loss = 121.6138, Lagrangian Loss = 487.6119\n",
      "Epoch 151: Loss = 663.3756\n",
      "Recon Loss =280.2594, KL Loss = 4.2554, Sparsity Loss = 114.9653, Lagrangian Loss = 263.8955\n",
      "Epoch 201: Loss = 699.0962\n",
      "Recon Loss =274.8078, KL Loss = 4.3588, Sparsity Loss = 117.5760, Lagrangian Loss = 302.3536\n",
      "Early stopping triggered. Last Epoch: 206\n",
      "Recon Loss =295.5413, KL Loss = 4.2845, Sparsity Loss = 115.4123, Lagrangian Loss = 270.2086\n"
     ]
    },
    {
     "name": "stderr",
     "output_type": "stream",
     "text": [
      "2025-03-19 16:47:31,119 INFO -- Edge Accuracy = 36.00, Instantaneous Accuracy = 33.60, Lagged Accuracy = 40.80, Counterfactual Accuracy = 55.20,  Blended Accuracy = 44.80,  RR Accuracy = 50.40  \n",
      "2025-03-19 16:47:31,119 INFO -- Model: 125\n"
     ]
    },
    {
     "name": "stdout",
     "output_type": "stream",
     "text": [
      "Anomaly: ced1\n",
      "Epoch 1: Loss = 8190.1582\n",
      "Recon Loss =7703.9165, KL Loss = 0.0135, Sparsity Loss = 122.3546, Lagrangian Loss = 363.8737\n",
      "Epoch 51: Loss = 1378.4655\n",
      "Recon Loss =845.4255, KL Loss = 1.7745, Sparsity Loss = 120.9677, Lagrangian Loss = 410.2978\n",
      "Epoch 101: Loss = 663.9791\n",
      "Recon Loss =183.3888, KL Loss = 3.9386, Sparsity Loss = 119.2253, Lagrangian Loss = 357.4265\n",
      "Epoch 151: Loss = 557.4521\n",
      "Recon Loss =168.3323, KL Loss = 4.0953, Sparsity Loss = 119.2485, Lagrangian Loss = 265.7760\n",
      "Epoch 201: Loss = 444.1316\n",
      "Recon Loss =110.3371, KL Loss = 4.4956, Sparsity Loss = 116.1331, Lagrangian Loss = 213.1658\n",
      "Epoch 251: Loss = 412.5738\n",
      "Recon Loss =136.1310, KL Loss = 4.8486, Sparsity Loss = 113.1844, Lagrangian Loss = 158.4097\n",
      "Epoch 301: Loss = 340.5654\n",
      "Recon Loss =87.8006, KL Loss = 4.4588, Sparsity Loss = 110.9544, Lagrangian Loss = 137.3516\n",
      "Early stopping triggered. Last Epoch: 327\n",
      "Recon Loss =81.0951, KL Loss = 4.5651, Sparsity Loss = 115.5290, Lagrangian Loss = 192.5347\n"
     ]
    },
    {
     "name": "stderr",
     "output_type": "stream",
     "text": [
      "2025-03-19 16:48:04,830 INFO -- Edge Accuracy = 35.71, Instantaneous Accuracy = 33.33, Lagged Accuracy = 40.48, Counterfactual Accuracy = 55.56,  Blended Accuracy = 44.44,  RR Accuracy = 50.79  \n",
      "2025-03-19 16:48:04,831 INFO -- Model: 126\n"
     ]
    },
    {
     "name": "stdout",
     "output_type": "stream",
     "text": [
      "Anomaly: cso1\n",
      "Epoch 1: Loss = 8578.7256\n",
      "Recon Loss =8041.7793, KL Loss = 0.0125, Sparsity Loss = 123.9403, Lagrangian Loss = 412.9933\n",
      "Epoch 51: Loss = 992.6746\n",
      "Recon Loss =573.9312, KL Loss = 1.9259, Sparsity Loss = 117.1050, Lagrangian Loss = 299.7125\n",
      "Epoch 101: Loss = 555.5376\n",
      "Recon Loss =122.9598, KL Loss = 3.5675, Sparsity Loss = 117.4603, Lagrangian Loss = 311.5500\n",
      "Epoch 151: Loss = 510.3675\n",
      "Recon Loss =121.5345, KL Loss = 3.6069, Sparsity Loss = 116.9625, Lagrangian Loss = 268.2636\n",
      "Epoch 201: Loss = 410.4428\n",
      "Recon Loss =115.0337, KL Loss = 3.8168, Sparsity Loss = 119.4203, Lagrangian Loss = 172.1719\n",
      "Epoch 251: Loss = 319.9066\n",
      "Recon Loss =75.5529, KL Loss = 4.0804, Sparsity Loss = 110.5707, Lagrangian Loss = 129.7027\n",
      "Epoch 301: Loss = 291.9097\n",
      "Recon Loss =70.5999, KL Loss = 3.9452, Sparsity Loss = 106.2354, Lagrangian Loss = 111.1291\n",
      "Epoch 351: Loss = 282.3992\n",
      "Recon Loss =68.6974, KL Loss = 3.9555, Sparsity Loss = 104.6092, Lagrangian Loss = 105.1371\n",
      "Early stopping triggered. Last Epoch: 351\n",
      "Recon Loss =69.3371, KL Loss = 3.9491, Sparsity Loss = 106.6438, Lagrangian Loss = 114.6484\n"
     ]
    },
    {
     "name": "stderr",
     "output_type": "stream",
     "text": [
      "2025-03-19 16:48:40,912 INFO -- Edge Accuracy = 35.43, Instantaneous Accuracy = 33.07, Lagged Accuracy = 40.94, Counterfactual Accuracy = 55.12,  Blended Accuracy = 44.09,  RR Accuracy = 50.39  \n",
      "2025-03-19 16:48:40,912 INFO -- Model: 127\n"
     ]
    },
    {
     "name": "stdout",
     "output_type": "stream",
     "text": [
      "Anomaly: cfo1\n",
      "Epoch 1: Loss = 6807.8931\n",
      "Recon Loss =6431.6973, KL Loss = 0.0053, Sparsity Loss = 121.0512, Lagrangian Loss = 255.1390\n",
      "Epoch 51: Loss = 631.8212\n",
      "Recon Loss =217.3857, KL Loss = 2.2882, Sparsity Loss = 115.7619, Lagrangian Loss = 296.3854\n",
      "Epoch 101: Loss = 560.9805\n",
      "Recon Loss =88.6935, KL Loss = 3.4941, Sparsity Loss = 117.6393, Lagrangian Loss = 351.1536\n",
      "Epoch 151: Loss = 461.7081\n",
      "Recon Loss =62.4363, KL Loss = 4.1153, Sparsity Loss = 115.2534, Lagrangian Loss = 279.9032\n",
      "Early stopping triggered. Last Epoch: 174\n",
      "Recon Loss =59.4322, KL Loss = 4.2417, Sparsity Loss = 114.6545, Lagrangian Loss = 262.2532\n"
     ]
    },
    {
     "name": "stderr",
     "output_type": "stream",
     "text": [
      "2025-03-19 16:48:59,073 INFO -- Edge Accuracy = 35.94, Instantaneous Accuracy = 33.59, Lagged Accuracy = 41.41, Counterfactual Accuracy = 55.47,  Blended Accuracy = 44.53,  RR Accuracy = 50.00  \n",
      "2025-03-19 16:48:59,074 INFO -- Model: 128\n"
     ]
    },
    {
     "name": "stdout",
     "output_type": "stream",
     "text": [
      "Anomaly: cso1\n",
      "Epoch 1: Loss = 6658.4233\n",
      "Recon Loss =6320.1162, KL Loss = 0.0061, Sparsity Loss = 118.5172, Lagrangian Loss = 219.7840\n",
      "Epoch 51: Loss = 2512.8215\n",
      "Recon Loss =148.9577, KL Loss = 2.4790, Sparsity Loss = 139.9211, Lagrangian Loss = 2221.4636\n",
      "Epoch 101: Loss = 1609.6014\n",
      "Recon Loss =68.1677, KL Loss = 3.6162, Sparsity Loss = 135.5555, Lagrangian Loss = 1402.2621\n",
      "Epoch 151: Loss = 454.2186\n",
      "Recon Loss =55.5832, KL Loss = 3.8808, Sparsity Loss = 116.2516, Lagrangian Loss = 278.5030\n",
      "Early stopping triggered. Last Epoch: 166\n",
      "Recon Loss =47.7509, KL Loss = 3.9085, Sparsity Loss = 117.2222, Lagrangian Loss = 323.3233\n"
     ]
    },
    {
     "name": "stderr",
     "output_type": "stream",
     "text": [
      "2025-03-19 16:49:16,603 INFO -- Edge Accuracy = 35.66, Instantaneous Accuracy = 33.33, Lagged Accuracy = 41.09, Counterfactual Accuracy = 55.04,  Blended Accuracy = 44.19,  RR Accuracy = 49.61  \n",
      "2025-03-19 16:49:16,603 INFO -- Model: 129\n"
     ]
    },
    {
     "name": "stdout",
     "output_type": "stream",
     "text": [
      "Anomaly: cfo1\n",
      "Epoch 1: Loss = 4373.6704\n",
      "Recon Loss =3827.2920, KL Loss = 0.0103, Sparsity Loss = 124.2998, Lagrangian Loss = 422.0685\n",
      "Epoch 51: Loss = 608.7234\n",
      "Recon Loss =115.8393, KL Loss = 3.0956, Sparsity Loss = 118.8144, Lagrangian Loss = 370.9742\n",
      "Epoch 101: Loss = 534.3719\n",
      "Recon Loss =85.7247, KL Loss = 3.5860, Sparsity Loss = 116.9098, Lagrangian Loss = 328.1514\n",
      "Early stopping triggered. Last Epoch: 144\n",
      "Recon Loss =103.0289, KL Loss = 3.7657, Sparsity Loss = 119.3261, Lagrangian Loss = 396.6737\n"
     ]
    },
    {
     "name": "stderr",
     "output_type": "stream",
     "text": [
      "2025-03-19 16:49:27,365 INFO -- Edge Accuracy = 35.38, Instantaneous Accuracy = 33.08, Lagged Accuracy = 40.77, Counterfactual Accuracy = 55.38,  Blended Accuracy = 43.85,  RR Accuracy = 49.23  \n",
      "2025-03-19 16:49:27,366 INFO -- Model: 130\n"
     ]
    },
    {
     "name": "stdout",
     "output_type": "stream",
     "text": [
      "Anomaly: cso1\n",
      "Epoch 1: Loss = 5006.0947\n",
      "Recon Loss =4535.3203, KL Loss = 0.0073, Sparsity Loss = 122.5654, Lagrangian Loss = 348.2018\n",
      "Epoch 51: Loss = 690.3256\n",
      "Recon Loss =267.5090, KL Loss = 1.5145, Sparsity Loss = 116.7564, Lagrangian Loss = 304.5458\n",
      "Epoch 101: Loss = 888.3763\n",
      "Recon Loss =92.1008, KL Loss = 3.1971, Sparsity Loss = 125.8462, Lagrangian Loss = 667.2322\n",
      "Epoch 151: Loss = 520.2728\n",
      "Recon Loss =84.6453, KL Loss = 3.5975, Sparsity Loss = 119.0935, Lagrangian Loss = 312.9365\n",
      "Epoch 201: Loss = 348.9580\n",
      "Recon Loss =76.2802, KL Loss = 3.8532, Sparsity Loss = 114.8223, Lagrangian Loss = 154.0023\n",
      "Early stopping triggered. Last Epoch: 210\n",
      "Recon Loss =75.4906, KL Loss = 3.8552, Sparsity Loss = 120.6066, Lagrangian Loss = 194.9612\n"
     ]
    },
    {
     "name": "stderr",
     "output_type": "stream",
     "text": [
      "2025-03-19 16:49:42,834 INFO -- Edge Accuracy = 35.11, Instantaneous Accuracy = 32.82, Lagged Accuracy = 40.46, Counterfactual Accuracy = 54.96,  Blended Accuracy = 43.51,  RR Accuracy = 49.62  \n",
      "2025-03-19 16:49:42,835 INFO -- Model: 131\n"
     ]
    },
    {
     "name": "stdout",
     "output_type": "stream",
     "text": [
      "Anomaly: cfo1\n",
      "Epoch 1: Loss = 10147.1904\n",
      "Recon Loss =9653.4775, KL Loss = 0.0098, Sparsity Loss = 122.4293, Lagrangian Loss = 371.2730\n",
      "Epoch 51: Loss = 1026.8970\n",
      "Recon Loss =574.1882, KL Loss = 2.9153, Sparsity Loss = 116.7717, Lagrangian Loss = 333.0217\n",
      "Epoch 101: Loss = 488.9905\n",
      "Recon Loss =81.0492, KL Loss = 4.4521, Sparsity Loss = 116.0936, Lagrangian Loss = 287.3957\n",
      "Epoch 151: Loss = 516.1418\n",
      "Recon Loss =75.3415, KL Loss = 4.4607, Sparsity Loss = 117.7350, Lagrangian Loss = 318.6047\n",
      "Epoch 201: Loss = 365.1991\n",
      "Recon Loss =82.4749, KL Loss = 4.5733, Sparsity Loss = 116.7685, Lagrangian Loss = 161.3824\n",
      "Epoch 251: Loss = 316.0970\n",
      "Recon Loss =94.6767, KL Loss = 4.6786, Sparsity Loss = 108.1765, Lagrangian Loss = 108.5651\n",
      "Early stopping triggered. Last Epoch: 280\n",
      "Recon Loss =91.5048, KL Loss = 4.5316, Sparsity Loss = 104.6855, Lagrangian Loss = 99.0825\n"
     ]
    },
    {
     "name": "stderr",
     "output_type": "stream",
     "text": [
      "2025-03-19 16:50:15,340 INFO -- Edge Accuracy = 35.61, Instantaneous Accuracy = 32.58, Lagged Accuracy = 40.91, Counterfactual Accuracy = 54.55,  Blended Accuracy = 43.18,  RR Accuracy = 50.00  \n",
      "2025-03-19 16:50:15,340 INFO -- Model: 132\n"
     ]
    },
    {
     "name": "stdout",
     "output_type": "stream",
     "text": [
      "Anomaly: ced1\n",
      "Epoch 1: Loss = 12471.5352\n",
      "Recon Loss =12094.9326, KL Loss = 0.0116, Sparsity Loss = 119.2777, Lagrangian Loss = 257.3138\n",
      "Epoch 51: Loss = 943.7841\n",
      "Recon Loss =526.0469, KL Loss = 2.7614, Sparsity Loss = 116.4640, Lagrangian Loss = 298.5117\n",
      "Epoch 101: Loss = 670.4314\n",
      "Recon Loss =171.7391, KL Loss = 3.8815, Sparsity Loss = 120.6822, Lagrangian Loss = 374.1286\n",
      "Epoch 151: Loss = 709.4578\n",
      "Recon Loss =184.1678, KL Loss = 4.0926, Sparsity Loss = 118.1857, Lagrangian Loss = 403.0118\n",
      "Epoch 201: Loss = 482.1666\n",
      "Recon Loss =155.9562, KL Loss = 4.2699, Sparsity Loss = 114.2419, Lagrangian Loss = 207.6985\n",
      "Epoch 251: Loss = 421.4020\n",
      "Recon Loss =162.3194, KL Loss = 4.3771, Sparsity Loss = 111.1039, Lagrangian Loss = 143.6016\n",
      "Epoch 301: Loss = 417.4042\n",
      "Recon Loss =151.9684, KL Loss = 4.3286, Sparsity Loss = 111.5663, Lagrangian Loss = 149.5408\n",
      "Early stopping triggered. Last Epoch: 343\n",
      "Recon Loss =156.0804, KL Loss = 4.2706, Sparsity Loss = 109.3105, Lagrangian Loss = 129.4799\n"
     ]
    },
    {
     "name": "stderr",
     "output_type": "stream",
     "text": [
      "2025-03-19 16:51:01,922 INFO -- Edge Accuracy = 35.34, Instantaneous Accuracy = 32.33, Lagged Accuracy = 40.60, Counterfactual Accuracy = 54.89,  Blended Accuracy = 42.86,  RR Accuracy = 50.38  \n",
      "2025-03-19 16:51:01,923 INFO -- Model: 133\n"
     ]
    },
    {
     "name": "stdout",
     "output_type": "stream",
     "text": [
      "Anomaly: ced1\n",
      "Epoch 1: Loss = 10126.3730\n",
      "Recon Loss =9302.0615, KL Loss = 0.0068, Sparsity Loss = 131.6530, Lagrangian Loss = 692.6519\n",
      "Epoch 51: Loss = 968.9381\n",
      "Recon Loss =363.7600, KL Loss = 2.1159, Sparsity Loss = 121.7784, Lagrangian Loss = 481.2838\n",
      "Epoch 101: Loss = 550.7316\n",
      "Recon Loss =90.0239, KL Loss = 4.0777, Sparsity Loss = 118.9404, Lagrangian Loss = 337.6896\n",
      "Epoch 151: Loss = 466.6693\n",
      "Recon Loss =87.9567, KL Loss = 4.1882, Sparsity Loss = 115.4694, Lagrangian Loss = 259.0550\n",
      "Epoch 201: Loss = 438.6788\n",
      "Recon Loss =90.0253, KL Loss = 4.5647, Sparsity Loss = 114.7860, Lagrangian Loss = 229.3027\n",
      "Epoch 251: Loss = 365.6385\n",
      "Recon Loss =73.6737, KL Loss = 4.5002, Sparsity Loss = 108.2997, Lagrangian Loss = 179.1649\n",
      "Epoch 301: Loss = 393.3872\n",
      "Recon Loss =73.7701, KL Loss = 4.3806, Sparsity Loss = 113.4919, Lagrangian Loss = 201.7446\n",
      "Early stopping triggered. Last Epoch: 301\n",
      "Recon Loss =73.4271, KL Loss = 4.4287, Sparsity Loss = 113.8392, Lagrangian Loss = 242.5748\n"
     ]
    },
    {
     "name": "stderr",
     "output_type": "stream",
     "text": [
      "2025-03-19 16:51:37,101 INFO -- Edge Accuracy = 35.07, Instantaneous Accuracy = 32.09, Lagged Accuracy = 40.30, Counterfactual Accuracy = 55.22,  Blended Accuracy = 42.54,  RR Accuracy = 50.00  \n",
      "2025-03-19 16:51:37,101 INFO -- Model: 134\n"
     ]
    },
    {
     "name": "stdout",
     "output_type": "stream",
     "text": [
      "Anomaly: cfo1\n",
      "Epoch 1: Loss = 8293.3096\n",
      "Recon Loss =7889.5112, KL Loss = 0.0095, Sparsity Loss = 120.5061, Lagrangian Loss = 283.2822\n",
      "Epoch 51: Loss = 940.9037\n",
      "Recon Loss =456.3455, KL Loss = 2.0718, Sparsity Loss = 118.0923, Lagrangian Loss = 364.3941\n",
      "Epoch 101: Loss = 814.7819\n",
      "Recon Loss =223.9501, KL Loss = 3.4569, Sparsity Loss = 121.4001, Lagrangian Loss = 465.9747\n",
      "Epoch 151: Loss = 565.6308\n",
      "Recon Loss =104.8916, KL Loss = 4.3240, Sparsity Loss = 118.5054, Lagrangian Loss = 337.9097\n",
      "Early stopping triggered. Last Epoch: 196\n",
      "Recon Loss =103.3644, KL Loss = 4.7604, Sparsity Loss = 115.9349, Lagrangian Loss = 288.5083\n"
     ]
    },
    {
     "name": "stderr",
     "output_type": "stream",
     "text": [
      "2025-03-19 16:51:57,443 INFO -- Edge Accuracy = 35.56, Instantaneous Accuracy = 32.59, Lagged Accuracy = 40.74, Counterfactual Accuracy = 54.81,  Blended Accuracy = 42.96,  RR Accuracy = 50.37  \n",
      "2025-03-19 16:51:57,443 INFO -- Model: 135\n"
     ]
    },
    {
     "name": "stdout",
     "output_type": "stream",
     "text": [
      "Anomaly: cso1\n",
      "Epoch 1: Loss = 68224.0938\n",
      "Recon Loss =67576.2344, KL Loss = 0.0076, Sparsity Loss = 124.5728, Lagrangian Loss = 523.2825\n",
      "Epoch 51: Loss = 3429.1208\n",
      "Recon Loss =3012.1511, KL Loss = 2.8850, Sparsity Loss = 116.0501, Lagrangian Loss = 298.0346\n",
      "Epoch 101: Loss = 1308.3259\n",
      "Recon Loss =859.3538, KL Loss = 4.1737, Sparsity Loss = 118.5386, Lagrangian Loss = 326.2597\n",
      "Epoch 151: Loss = 1191.1366\n",
      "Recon Loss =814.1458, KL Loss = 4.0977, Sparsity Loss = 116.1071, Lagrangian Loss = 256.7860\n",
      "Epoch 201: Loss = 1356.6306\n",
      "Recon Loss =987.3362, KL Loss = 4.1738, Sparsity Loss = 116.4142, Lagrangian Loss = 248.7065\n",
      "Early stopping triggered. Last Epoch: 221\n",
      "Recon Loss =786.2958, KL Loss = 4.3276, Sparsity Loss = 116.3503, Lagrangian Loss = 259.4837\n"
     ]
    },
    {
     "name": "stderr",
     "output_type": "stream",
     "text": [
      "2025-03-19 16:53:37,341 INFO -- Edge Accuracy = 35.29, Instantaneous Accuracy = 33.09, Lagged Accuracy = 40.44, Counterfactual Accuracy = 55.15,  Blended Accuracy = 42.65,  RR Accuracy = 50.74  \n",
      "2025-03-19 16:53:37,342 INFO -- Model: 136\n"
     ]
    },
    {
     "name": "stdout",
     "output_type": "stream",
     "text": [
      "Anomaly: ced1\n",
      "Epoch 1: Loss = 13514.7920\n",
      "Recon Loss =13103.4658, KL Loss = 0.0091, Sparsity Loss = 121.9240, Lagrangian Loss = 289.3932\n",
      "Epoch 51: Loss = 1015.9681\n",
      "Recon Loss =529.8652, KL Loss = 2.7520, Sparsity Loss = 118.8265, Lagrangian Loss = 364.5244\n",
      "Epoch 101: Loss = 699.1720\n",
      "Recon Loss =159.5549, KL Loss = 4.3122, Sparsity Loss = 120.2554, Lagrangian Loss = 415.0495\n",
      "Epoch 151: Loss = 580.0990\n",
      "Recon Loss =165.8047, KL Loss = 4.2493, Sparsity Loss = 115.5432, Lagrangian Loss = 294.5019\n",
      "Epoch 201: Loss = 544.0918\n",
      "Recon Loss =191.2370, KL Loss = 4.2816, Sparsity Loss = 115.0716, Lagrangian Loss = 233.5015\n",
      "Early stopping triggered. Last Epoch: 210\n",
      "Recon Loss =157.3975, KL Loss = 4.0948, Sparsity Loss = 119.5172, Lagrangian Loss = 293.5050\n"
     ]
    },
    {
     "name": "stderr",
     "output_type": "stream",
     "text": [
      "2025-03-19 16:54:05,710 INFO -- Edge Accuracy = 35.77, Instantaneous Accuracy = 33.58, Lagged Accuracy = 40.88, Counterfactual Accuracy = 55.47,  Blended Accuracy = 43.07,  RR Accuracy = 50.36  \n",
      "2025-03-19 16:54:05,710 INFO -- Model: 137\n"
     ]
    },
    {
     "name": "stdout",
     "output_type": "stream",
     "text": [
      "Anomaly: ced1\n",
      "Epoch 1: Loss = 5358.6655\n",
      "Recon Loss =4985.6689, KL Loss = 0.0055, Sparsity Loss = 118.9858, Lagrangian Loss = 254.0056\n",
      "Epoch 51: Loss = 700.2742\n",
      "Recon Loss =259.0149, KL Loss = 1.9278, Sparsity Loss = 118.3400, Lagrangian Loss = 320.9916\n",
      "Epoch 101: Loss = 560.8480\n",
      "Recon Loss =90.6299, KL Loss = 3.6021, Sparsity Loss = 119.2835, Lagrangian Loss = 347.3325\n",
      "Epoch 151: Loss = 428.5440\n",
      "Recon Loss =38.6089, KL Loss = 4.2501, Sparsity Loss = 114.6771, Lagrangian Loss = 271.0079\n",
      "Epoch 201: Loss = 317.3104\n",
      "Recon Loss =36.0184, KL Loss = 4.2041, Sparsity Loss = 117.6830, Lagrangian Loss = 159.4048\n",
      "Epoch 251: Loss = 249.0864\n",
      "Recon Loss =33.7629, KL Loss = 4.1978, Sparsity Loss = 105.7495, Lagrangian Loss = 105.3762\n",
      "Epoch 301: Loss = 256.7345\n",
      "Recon Loss =33.5714, KL Loss = 4.0725, Sparsity Loss = 106.7294, Lagrangian Loss = 112.3614\n",
      "Early stopping triggered. Last Epoch: 304\n",
      "Recon Loss =36.2159, KL Loss = 4.1019, Sparsity Loss = 107.6067, Lagrangian Loss = 112.8281\n"
     ]
    },
    {
     "name": "stderr",
     "output_type": "stream",
     "text": [
      "2025-03-19 16:54:27,662 INFO -- Edge Accuracy = 35.51, Instantaneous Accuracy = 33.33, Lagged Accuracy = 40.58, Counterfactual Accuracy = 55.80,  Blended Accuracy = 42.75,  RR Accuracy = 50.00  \n",
      "2025-03-19 16:54:27,663 INFO -- Model: 138\n"
     ]
    },
    {
     "name": "stdout",
     "output_type": "stream",
     "text": [
      "Anomaly: cso1\n",
      "Epoch 1: Loss = 81604.0078\n",
      "Recon Loss =81197.5234, KL Loss = 0.0063, Sparsity Loss = 119.8027, Lagrangian Loss = 286.6742\n",
      "Epoch 51: Loss = 8150.6084\n",
      "Recon Loss =7643.5234, KL Loss = 1.9728, Sparsity Loss = 119.0213, Lagrangian Loss = 386.0907\n",
      "Epoch 101: Loss = 2183.6084\n",
      "Recon Loss =1722.9939, KL Loss = 3.8889, Sparsity Loss = 116.5951, Lagrangian Loss = 340.1304\n",
      "Epoch 151: Loss = 1829.9901\n",
      "Recon Loss =1278.9598, KL Loss = 4.2477, Sparsity Loss = 120.8913, Lagrangian Loss = 425.8913\n",
      "Epoch 201: Loss = 1869.5660\n",
      "Recon Loss =1595.6669, KL Loss = 4.4201, Sparsity Loss = 113.2233, Lagrangian Loss = 156.2559\n",
      "Epoch 251: Loss = 1264.5380\n",
      "Recon Loss =952.3547, KL Loss = 4.4540, Sparsity Loss = 117.9632, Lagrangian Loss = 189.7661\n",
      "Epoch 301: Loss = 1332.3062\n",
      "Recon Loss =1079.6224, KL Loss = 4.4294, Sparsity Loss = 110.2103, Lagrangian Loss = 138.0440\n",
      "Epoch 351: Loss = 1344.9514\n",
      "Recon Loss =1102.0421, KL Loss = 3.9902, Sparsity Loss = 109.0985, Lagrangian Loss = 129.8206\n",
      "Epoch 401: Loss = 1498.5518\n",
      "Recon Loss =1264.8998, KL Loss = 3.7208, Sparsity Loss = 106.9696, Lagrangian Loss = 122.9615\n",
      "Early stopping triggered. Last Epoch: 424\n",
      "Recon Loss =852.0558, KL Loss = 3.9600, Sparsity Loss = 110.7576, Lagrangian Loss = 145.0782\n"
     ]
    },
    {
     "name": "stderr",
     "output_type": "stream",
     "text": [
      "2025-03-19 16:57:37,489 INFO -- Edge Accuracy = 35.97, Instantaneous Accuracy = 33.81, Lagged Accuracy = 40.29, Counterfactual Accuracy = 56.12,  Blended Accuracy = 43.17,  RR Accuracy = 49.64  \n",
      "2025-03-19 16:57:37,489 INFO -- Model: 139\n"
     ]
    },
    {
     "name": "stdout",
     "output_type": "stream",
     "text": [
      "Anomaly: cfo1\n",
      "Epoch 1: Loss = 9895.9932\n",
      "Recon Loss =9539.2402, KL Loss = 0.0057, Sparsity Loss = 117.5154, Lagrangian Loss = 239.2318\n",
      "Epoch 51: Loss = 2114.0596\n",
      "Recon Loss =342.7677, KL Loss = 2.8067, Sparsity Loss = 141.9102, Lagrangian Loss = 1626.5750\n",
      "Epoch 101: Loss = 2706.0640\n",
      "Recon Loss =172.4012, KL Loss = 4.0066, Sparsity Loss = 144.9962, Lagrangian Loss = 2384.6599\n",
      "Epoch 151: Loss = 571.5620\n",
      "Recon Loss =160.9432, KL Loss = 4.0294, Sparsity Loss = 116.4151, Lagrangian Loss = 290.1743\n",
      "Epoch 201: Loss = 530.9141\n",
      "Recon Loss =123.1114, KL Loss = 4.1865, Sparsity Loss = 116.4288, Lagrangian Loss = 287.1874\n",
      "Epoch 251: Loss = 371.5673\n",
      "Recon Loss =103.5679, KL Loss = 4.0376, Sparsity Loss = 113.8378, Lagrangian Loss = 150.1240\n",
      "Epoch 301: Loss = 332.3006\n",
      "Recon Loss =95.8330, KL Loss = 4.4694, Sparsity Loss = 108.1106, Lagrangian Loss = 123.8876\n",
      "Early stopping triggered. Last Epoch: 345\n",
      "Recon Loss =97.6411, KL Loss = 4.3753, Sparsity Loss = 108.0842, Lagrangian Loss = 118.5334\n"
     ]
    },
    {
     "name": "stderr",
     "output_type": "stream",
     "text": [
      "2025-03-19 16:58:17,034 INFO -- Edge Accuracy = 35.71, Instantaneous Accuracy = 33.57, Lagged Accuracy = 40.71, Counterfactual Accuracy = 56.43,  Blended Accuracy = 42.86,  RR Accuracy = 50.00  \n",
      "2025-03-19 16:58:17,034 INFO -- Model: 140\n"
     ]
    },
    {
     "name": "stdout",
     "output_type": "stream",
     "text": [
      "Anomaly: ced1\n",
      "Epoch 1: Loss = 7373.5527\n",
      "Recon Loss =6790.4023, KL Loss = 0.0110, Sparsity Loss = 125.1310, Lagrangian Loss = 458.0084\n",
      "Epoch 51: Loss = 779.5823\n",
      "Recon Loss =219.2078, KL Loss = 3.0482, Sparsity Loss = 122.1484, Lagrangian Loss = 435.1779\n",
      "Epoch 101: Loss = 596.6636\n",
      "Recon Loss =119.8182, KL Loss = 3.6612, Sparsity Loss = 119.9840, Lagrangian Loss = 353.2001\n",
      "Epoch 151: Loss = 433.3056\n",
      "Recon Loss =51.4480, KL Loss = 4.2054, Sparsity Loss = 118.4615, Lagrangian Loss = 259.1908\n",
      "Epoch 201: Loss = 328.5707\n",
      "Recon Loss =40.7547, KL Loss = 4.3707, Sparsity Loss = 115.2193, Lagrangian Loss = 168.2260\n",
      "Epoch 251: Loss = 274.2427\n",
      "Recon Loss =36.4563, KL Loss = 4.1923, Sparsity Loss = 109.4486, Lagrangian Loss = 124.1456\n",
      "Epoch 301: Loss = 325.9463\n",
      "Recon Loss =64.3871, KL Loss = 4.0144, Sparsity Loss = 111.5064, Lagrangian Loss = 146.0384\n",
      "Early stopping triggered. Last Epoch: 316\n",
      "Recon Loss =40.4817, KL Loss = 3.6075, Sparsity Loss = 106.2866, Lagrangian Loss = 122.2033\n"
     ]
    },
    {
     "name": "stderr",
     "output_type": "stream",
     "text": [
      "2025-03-19 16:58:42,024 INFO -- Edge Accuracy = 36.17, Instantaneous Accuracy = 34.04, Lagged Accuracy = 41.13, Counterfactual Accuracy = 56.74,  Blended Accuracy = 42.55,  RR Accuracy = 49.65  \n",
      "2025-03-19 16:58:42,024 INFO -- Model: 141\n"
     ]
    },
    {
     "name": "stdout",
     "output_type": "stream",
     "text": [
      "Anomaly: cso1\n",
      "Epoch 1: Loss = 4454.9121\n",
      "Recon Loss =4076.3850, KL Loss = 0.0099, Sparsity Loss = 119.8859, Lagrangian Loss = 258.6311\n",
      "Epoch 51: Loss = 566.9816\n",
      "Recon Loss =132.4933, KL Loss = 2.1954, Sparsity Loss = 117.8899, Lagrangian Loss = 314.4030\n",
      "Epoch 101: Loss = 556.3513\n",
      "Recon Loss =42.9799, KL Loss = 3.5086, Sparsity Loss = 122.3572, Lagrangian Loss = 387.5056\n",
      "Epoch 151: Loss = 472.0829\n",
      "Recon Loss =41.6073, KL Loss = 3.6278, Sparsity Loss = 117.6658, Lagrangian Loss = 309.1821\n",
      "Early stopping triggered. Last Epoch: 164\n",
      "Recon Loss =41.3887, KL Loss = 3.7828, Sparsity Loss = 118.1934, Lagrangian Loss = 315.0222\n"
     ]
    },
    {
     "name": "stderr",
     "output_type": "stream",
     "text": [
      "2025-03-19 16:58:54,145 INFO -- Edge Accuracy = 35.92, Instantaneous Accuracy = 33.80, Lagged Accuracy = 40.85, Counterfactual Accuracy = 57.04,  Blended Accuracy = 42.25,  RR Accuracy = 49.30  \n",
      "2025-03-19 16:58:54,146 INFO -- Model: 142\n"
     ]
    },
    {
     "name": "stdout",
     "output_type": "stream",
     "text": [
      "Anomaly: cso1\n",
      "Epoch 1: Loss = 25346.7812\n",
      "Recon Loss =24863.1562, KL Loss = 0.0047, Sparsity Loss = 120.8354, Lagrangian Loss = 362.7843\n",
      "Epoch 51: Loss = 2374.6230\n",
      "Recon Loss =1576.6807, KL Loss = 2.7245, Sparsity Loss = 126.1935, Lagrangian Loss = 669.0245\n",
      "Epoch 101: Loss = 1145.0330\n",
      "Recon Loss =440.4271, KL Loss = 3.8192, Sparsity Loss = 123.9024, Lagrangian Loss = 576.8842\n",
      "Epoch 151: Loss = 869.9901\n",
      "Recon Loss =386.5167, KL Loss = 4.2132, Sparsity Loss = 119.8826, Lagrangian Loss = 359.3777\n",
      "Epoch 201: Loss = 617.3247\n",
      "Recon Loss =369.9118, KL Loss = 4.2637, Sparsity Loss = 111.3338, Lagrangian Loss = 131.8154\n",
      "Early stopping triggered. Last Epoch: 248\n",
      "Recon Loss =358.4146, KL Loss = 4.2919, Sparsity Loss = 112.5580, Lagrangian Loss = 135.5150\n"
     ]
    },
    {
     "name": "stderr",
     "output_type": "stream",
     "text": [
      "2025-03-19 16:59:39,913 INFO -- Edge Accuracy = 36.36, Instantaneous Accuracy = 34.27, Lagged Accuracy = 41.26, Counterfactual Accuracy = 56.64,  Blended Accuracy = 42.66,  RR Accuracy = 48.95  \n",
      "2025-03-19 16:59:39,913 INFO -- Model: 143\n"
     ]
    },
    {
     "name": "stdout",
     "output_type": "stream",
     "text": [
      "Anomaly: cfo1\n",
      "Epoch 1: Loss = 7372.2480\n",
      "Recon Loss =6865.3135, KL Loss = 0.0089, Sparsity Loss = 123.4775, Lagrangian Loss = 383.4483\n",
      "Epoch 51: Loss = 1348.7761\n",
      "Recon Loss =674.1092, KL Loss = 2.4182, Sparsity Loss = 123.2790, Lagrangian Loss = 548.9697\n",
      "Epoch 101: Loss = 1045.7909\n",
      "Recon Loss =133.2844, KL Loss = 3.8488, Sparsity Loss = 126.4850, Lagrangian Loss = 782.1727\n",
      "Epoch 151: Loss = 541.9954\n",
      "Recon Loss =99.7225, KL Loss = 4.3361, Sparsity Loss = 118.5668, Lagrangian Loss = 319.3700\n",
      "Epoch 201: Loss = 330.0592\n",
      "Recon Loss =100.3465, KL Loss = 3.9308, Sparsity Loss = 109.0263, Lagrangian Loss = 116.7557\n",
      "Epoch 251: Loss = 296.1956\n",
      "Recon Loss =84.3308, KL Loss = 4.2859, Sparsity Loss = 105.5009, Lagrangian Loss = 102.0780\n",
      "Early stopping triggered. Last Epoch: 263\n",
      "Recon Loss =91.4427, KL Loss = 4.1263, Sparsity Loss = 105.6110, Lagrangian Loss = 105.8755\n"
     ]
    },
    {
     "name": "stderr",
     "output_type": "stream",
     "text": [
      "2025-03-19 17:00:10,159 INFO -- Edge Accuracy = 36.11, Instantaneous Accuracy = 34.03, Lagged Accuracy = 40.97, Counterfactual Accuracy = 56.94,  Blended Accuracy = 42.36,  RR Accuracy = 49.31  \n",
      "2025-03-19 17:00:10,160 INFO -- Model: 144\n"
     ]
    },
    {
     "name": "stdout",
     "output_type": "stream",
     "text": [
      "Anomaly: cso1\n",
      "Epoch 1: Loss = 7066.7065\n",
      "Recon Loss =6673.5288, KL Loss = 0.0137, Sparsity Loss = 120.1614, Lagrangian Loss = 273.0026\n",
      "Epoch 51: Loss = 1082.5172\n",
      "Recon Loss =608.7313, KL Loss = 1.6190, Sparsity Loss = 117.0165, Lagrangian Loss = 355.1504\n",
      "Epoch 101: Loss = 554.0144\n",
      "Recon Loss =164.8110, KL Loss = 3.2750, Sparsity Loss = 115.5101, Lagrangian Loss = 270.4184\n",
      "Epoch 151: Loss = 337.4605\n",
      "Recon Loss =56.3024, KL Loss = 3.9944, Sparsity Loss = 116.0939, Lagrangian Loss = 161.0697\n",
      "Epoch 201: Loss = 289.1663\n",
      "Recon Loss =57.6184, KL Loss = 4.1765, Sparsity Loss = 108.9507, Lagrangian Loss = 118.4206\n",
      "Epoch 251: Loss = 262.3491\n",
      "Recon Loss =55.2549, KL Loss = 4.1637, Sparsity Loss = 103.5142, Lagrangian Loss = 99.4163\n",
      "Early stopping triggered. Last Epoch: 282\n",
      "Recon Loss =52.2620, KL Loss = 4.0776, Sparsity Loss = 105.0972, Lagrangian Loss = 103.9432\n"
     ]
    },
    {
     "name": "stderr",
     "output_type": "stream",
     "text": [
      "2025-03-19 17:00:33,078 INFO -- Edge Accuracy = 35.86, Instantaneous Accuracy = 33.79, Lagged Accuracy = 40.69, Counterfactual Accuracy = 56.55,  Blended Accuracy = 42.07,  RR Accuracy = 48.97  \n",
      "2025-03-19 17:00:33,078 INFO -- Model: 145\n"
     ]
    },
    {
     "name": "stdout",
     "output_type": "stream",
     "text": [
      "Anomaly: ced1\n",
      "Epoch 1: Loss = 26322.2305\n",
      "Recon Loss =25822.1641, KL Loss = 0.0100, Sparsity Loss = 124.4074, Lagrangian Loss = 375.6489\n",
      "Epoch 51: Loss = 1928.2371\n",
      "Recon Loss =1525.0903, KL Loss = 2.3165, Sparsity Loss = 115.8732, Lagrangian Loss = 284.9571\n",
      "Epoch 101: Loss = 721.8201\n",
      "Recon Loss =187.9456, KL Loss = 3.8922, Sparsity Loss = 120.5886, Lagrangian Loss = 409.3937\n",
      "Epoch 151: Loss = 770.7240\n",
      "Recon Loss =181.7211, KL Loss = 4.2920, Sparsity Loss = 118.7085, Lagrangian Loss = 466.0025\n",
      "Epoch 201: Loss = 421.4360\n",
      "Recon Loss =188.1510, KL Loss = 4.4703, Sparsity Loss = 108.5312, Lagrangian Loss = 120.2835\n",
      "Epoch 251: Loss = 421.1826\n",
      "Recon Loss =188.1616, KL Loss = 4.5417, Sparsity Loss = 105.5887, Lagrangian Loss = 122.8906\n",
      "Epoch 301: Loss = 426.5117\n",
      "Recon Loss =187.4443, KL Loss = 4.5996, Sparsity Loss = 107.8857, Lagrangian Loss = 126.5821\n",
      "Early stopping triggered. Last Epoch: 319\n",
      "Recon Loss =207.5327, KL Loss = 4.5842, Sparsity Loss = 107.7952, Lagrangian Loss = 131.1333\n"
     ]
    },
    {
     "name": "stderr",
     "output_type": "stream",
     "text": [
      "2025-03-19 17:01:31,623 INFO -- Edge Accuracy = 36.30, Instantaneous Accuracy = 34.25, Lagged Accuracy = 41.10, Counterfactual Accuracy = 56.85,  Blended Accuracy = 42.47,  RR Accuracy = 49.32  \n",
      "2025-03-19 17:01:31,623 INFO -- Model: 146\n"
     ]
    },
    {
     "name": "stdout",
     "output_type": "stream",
     "text": [
      "Anomaly: cfo1\n",
      "Epoch 1: Loss = 6740.4810\n",
      "Recon Loss =6348.6714, KL Loss = 0.0093, Sparsity Loss = 121.3451, Lagrangian Loss = 270.4550\n",
      "Epoch 51: Loss = 815.3735\n",
      "Recon Loss =260.7110, KL Loss = 2.0979, Sparsity Loss = 122.7506, Lagrangian Loss = 429.8139\n",
      "Epoch 101: Loss = 663.0983\n",
      "Recon Loss =181.3501, KL Loss = 3.3666, Sparsity Loss = 120.0439, Lagrangian Loss = 358.3376\n",
      "Epoch 151: Loss = 362.7528\n",
      "Recon Loss =52.0389, KL Loss = 3.1958, Sparsity Loss = 119.0840, Lagrangian Loss = 188.4341\n",
      "Epoch 201: Loss = 302.2549\n",
      "Recon Loss =46.8898, KL Loss = 3.7331, Sparsity Loss = 111.0547, Lagrangian Loss = 140.5773\n",
      "Epoch 251: Loss = 274.2650\n",
      "Recon Loss =46.4350, KL Loss = 3.8147, Sparsity Loss = 107.5465, Lagrangian Loss = 116.4688\n",
      "Early stopping triggered. Last Epoch: 273\n",
      "Recon Loss =47.8152, KL Loss = 3.8337, Sparsity Loss = 110.0376, Lagrangian Loss = 134.8689\n"
     ]
    },
    {
     "name": "stderr",
     "output_type": "stream",
     "text": [
      "2025-03-19 17:01:53,329 INFO -- Edge Accuracy = 36.05, Instantaneous Accuracy = 34.01, Lagged Accuracy = 40.82, Counterfactual Accuracy = 56.46,  Blended Accuracy = 42.18,  RR Accuracy = 49.66  \n",
      "2025-03-19 17:01:53,329 INFO -- Model: 147\n"
     ]
    },
    {
     "name": "stdout",
     "output_type": "stream",
     "text": [
      "Anomaly: ced1\n",
      "Epoch 1: Loss = 21191.6699\n",
      "Recon Loss =20723.8672, KL Loss = 0.0090, Sparsity Loss = 121.4229, Lagrangian Loss = 346.3698\n",
      "Epoch 51: Loss = 1053.4371\n",
      "Recon Loss =590.2930, KL Loss = 2.6909, Sparsity Loss = 118.8265, Lagrangian Loss = 341.6267\n",
      "Epoch 101: Loss = 811.8308\n",
      "Recon Loss =390.2727, KL Loss = 3.7786, Sparsity Loss = 115.5482, Lagrangian Loss = 302.2313\n",
      "Epoch 151: Loss = 795.4771\n",
      "Recon Loss =367.2723, KL Loss = 3.9861, Sparsity Loss = 116.9531, Lagrangian Loss = 307.2657\n",
      "Epoch 201: Loss = 838.9148\n",
      "Recon Loss =387.7747, KL Loss = 3.8343, Sparsity Loss = 116.1128, Lagrangian Loss = 331.1930\n",
      "Early stopping triggered. Last Epoch: 226\n",
      "Recon Loss =397.8191, KL Loss = 3.7414, Sparsity Loss = 115.1173, Lagrangian Loss = 292.8521\n"
     ]
    },
    {
     "name": "stderr",
     "output_type": "stream",
     "text": [
      "2025-03-19 17:02:35,262 INFO -- Edge Accuracy = 36.49, Instantaneous Accuracy = 34.46, Lagged Accuracy = 41.22, Counterfactual Accuracy = 56.76,  Blended Accuracy = 42.57,  RR Accuracy = 50.00  \n",
      "2025-03-19 17:02:35,262 INFO -- Model: 148\n"
     ]
    },
    {
     "name": "stdout",
     "output_type": "stream",
     "text": [
      "Anomaly: ced1\n",
      "Epoch 1: Loss = 11298.3213\n",
      "Recon Loss =10935.7344, KL Loss = 0.0109, Sparsity Loss = 120.1610, Lagrangian Loss = 242.4147\n",
      "Epoch 51: Loss = 1792.9502\n",
      "Recon Loss =1095.1165, KL Loss = 1.8805, Sparsity Loss = 123.4878, Lagrangian Loss = 572.4655\n",
      "Epoch 101: Loss = 793.9509\n",
      "Recon Loss =237.1633, KL Loss = 3.8645, Sparsity Loss = 119.5773, Lagrangian Loss = 433.3458\n",
      "Epoch 151: Loss = 598.3188\n",
      "Recon Loss =150.6605, KL Loss = 4.9228, Sparsity Loss = 118.8127, Lagrangian Loss = 323.9228\n",
      "Early stopping triggered. Last Epoch: 173\n",
      "Recon Loss =125.8617, KL Loss = 5.0221, Sparsity Loss = 119.0459, Lagrangian Loss = 332.1943\n"
     ]
    },
    {
     "name": "stderr",
     "output_type": "stream",
     "text": [
      "2025-03-19 17:02:57,762 INFO -- Edge Accuracy = 36.91, Instantaneous Accuracy = 34.90, Lagged Accuracy = 41.61, Counterfactual Accuracy = 57.05,  Blended Accuracy = 42.95,  RR Accuracy = 49.66  \n",
      "2025-03-19 17:02:57,762 INFO -- Model: 149\n"
     ]
    },
    {
     "name": "stdout",
     "output_type": "stream",
     "text": [
      "Anomaly: cso1\n",
      "Epoch 1: Loss = 6222.0303\n",
      "Recon Loss =5899.4536, KL Loss = 0.0189, Sparsity Loss = 116.8100, Lagrangian Loss = 205.7474\n",
      "Epoch 51: Loss = 1072.0514\n",
      "Recon Loss =524.2479, KL Loss = 1.8670, Sparsity Loss = 121.0916, Lagrangian Loss = 424.8449\n",
      "Epoch 101: Loss = 569.8008\n",
      "Recon Loss =154.0208, KL Loss = 4.0992, Sparsity Loss = 116.8723, Lagrangian Loss = 294.8084\n",
      "Epoch 151: Loss = 628.0847\n",
      "Recon Loss =206.4895, KL Loss = 5.2510, Sparsity Loss = 118.2848, Lagrangian Loss = 298.0594\n",
      "Epoch 201: Loss = 433.8964\n",
      "Recon Loss =109.2094, KL Loss = 5.2058, Sparsity Loss = 121.0132, Lagrangian Loss = 198.4680\n",
      "Epoch 251: Loss = 384.4912\n",
      "Recon Loss =129.9939, KL Loss = 5.1204, Sparsity Loss = 110.3165, Lagrangian Loss = 139.0605\n",
      "Epoch 301: Loss = 342.1676\n",
      "Recon Loss =106.8643, KL Loss = 5.3822, Sparsity Loss = 106.6995, Lagrangian Loss = 123.2215\n",
      "Epoch 351: Loss = 348.6428\n",
      "Recon Loss =131.6665, KL Loss = 5.1988, Sparsity Loss = 103.8436, Lagrangian Loss = 107.9339\n",
      "Epoch 401: Loss = 329.2544\n",
      "Recon Loss =99.0403, KL Loss = 5.1628, Sparsity Loss = 106.8372, Lagrangian Loss = 118.2141\n",
      "Epoch 451: Loss = 311.1243\n",
      "Recon Loss =91.1589, KL Loss = 5.0427, Sparsity Loss = 105.4692, Lagrangian Loss = 109.4535\n",
      "Early stopping triggered. Last Epoch: 471\n",
      "Recon Loss =98.1070, KL Loss = 5.1716, Sparsity Loss = 107.4548, Lagrangian Loss = 121.1546\n"
     ]
    },
    {
     "name": "stderr",
     "output_type": "stream",
     "text": [
      "2025-03-19 17:03:34,614 INFO -- Edge Accuracy = 37.33, Instantaneous Accuracy = 35.33, Lagged Accuracy = 42.00, Counterfactual Accuracy = 57.33,  Blended Accuracy = 43.33,  RR Accuracy = 49.33  \n",
      "2025-03-19 17:03:34,614 INFO -- Model: 150\n"
     ]
    },
    {
     "name": "stdout",
     "output_type": "stream",
     "text": [
      "Anomaly: cfo1\n",
      "Epoch 1: Loss = 14222.0840\n",
      "Recon Loss =13799.6445, KL Loss = 0.0094, Sparsity Loss = 120.3617, Lagrangian Loss = 302.0679\n",
      "Epoch 51: Loss = 1466.7345\n",
      "Recon Loss =905.4011, KL Loss = 2.8568, Sparsity Loss = 121.6387, Lagrangian Loss = 436.8379\n",
      "Epoch 101: Loss = 612.1868\n",
      "Recon Loss =157.1070, KL Loss = 3.8449, Sparsity Loss = 118.1446, Lagrangian Loss = 333.0903\n",
      "Early stopping triggered. Last Epoch: 140\n",
      "Recon Loss =144.6018, KL Loss = 4.0413, Sparsity Loss = 119.0370, Lagrangian Loss = 333.8433\n"
     ]
    },
    {
     "name": "stderr",
     "output_type": "stream",
     "text": [
      "2025-03-19 17:03:53,715 INFO -- Edge Accuracy = 37.09, Instantaneous Accuracy = 35.10, Lagged Accuracy = 41.72, Counterfactual Accuracy = 57.62,  Blended Accuracy = 43.05,  RR Accuracy = 49.67  \n",
      "2025-03-19 17:03:53,716 INFO -- Model: 151\n"
     ]
    },
    {
     "name": "stdout",
     "output_type": "stream",
     "text": [
      "Anomaly: cfo1\n",
      "Epoch 1: Loss = 6553.3682\n",
      "Recon Loss =6006.8027, KL Loss = 0.0041, Sparsity Loss = 122.5024, Lagrangian Loss = 424.0591\n",
      "Epoch 51: Loss = 621.5653\n",
      "Recon Loss =127.4035, KL Loss = 3.0783, Sparsity Loss = 119.1860, Lagrangian Loss = 371.8975\n",
      "Epoch 101: Loss = 521.4050\n",
      "Recon Loss =68.1961, KL Loss = 3.6058, Sparsity Loss = 118.6336, Lagrangian Loss = 330.9696\n",
      "Epoch 151: Loss = 346.8889\n",
      "Recon Loss =71.1662, KL Loss = 3.9286, Sparsity Loss = 109.2215, Lagrangian Loss = 162.5726\n",
      "Epoch 201: Loss = 391.4812\n",
      "Recon Loss =77.8122, KL Loss = 3.9693, Sparsity Loss = 119.0636, Lagrangian Loss = 190.6361\n",
      "Early stopping triggered. Last Epoch: 205\n",
      "Recon Loss =73.4693, KL Loss = 3.9847, Sparsity Loss = 120.3982, Lagrangian Loss = 211.2170\n"
     ]
    },
    {
     "name": "stderr",
     "output_type": "stream",
     "text": [
      "2025-03-19 17:04:10,063 INFO -- Edge Accuracy = 36.84, Instantaneous Accuracy = 34.87, Lagged Accuracy = 42.11, Counterfactual Accuracy = 57.89,  Blended Accuracy = 42.76,  RR Accuracy = 50.00  \n",
      "2025-03-19 17:04:10,063 INFO -- Model: 152\n"
     ]
    },
    {
     "name": "stdout",
     "output_type": "stream",
     "text": [
      "Anomaly: cfo1\n",
      "Epoch 1: Loss = 5094.4604\n",
      "Recon Loss =4738.0923, KL Loss = 0.0140, Sparsity Loss = 120.2046, Lagrangian Loss = 236.1496\n",
      "Epoch 51: Loss = 594.4398\n",
      "Recon Loss =91.7900, KL Loss = 2.7149, Sparsity Loss = 124.2734, Lagrangian Loss = 375.6614\n",
      "Epoch 101: Loss = 476.5627\n",
      "Recon Loss =55.5750, KL Loss = 3.2427, Sparsity Loss = 116.6315, Lagrangian Loss = 301.1136\n",
      "Epoch 151: Loss = 347.6375\n",
      "Recon Loss =53.8561, KL Loss = 3.4479, Sparsity Loss = 118.4366, Lagrangian Loss = 171.8969\n",
      "Epoch 201: Loss = 325.9928\n",
      "Recon Loss =55.4618, KL Loss = 3.2193, Sparsity Loss = 113.6834, Lagrangian Loss = 153.6283\n",
      "Epoch 251: Loss = 280.3190\n",
      "Recon Loss =56.9241, KL Loss = 3.2315, Sparsity Loss = 103.1275, Lagrangian Loss = 117.0359\n",
      "Epoch 301: Loss = 285.8057\n",
      "Recon Loss =53.5891, KL Loss = 3.1237, Sparsity Loss = 107.7280, Lagrangian Loss = 121.3648\n",
      "Epoch 351: Loss = 279.3970\n",
      "Recon Loss =46.0450, KL Loss = 2.8619, Sparsity Loss = 107.3025, Lagrangian Loss = 123.1877\n",
      "Early stopping triggered. Last Epoch: 391\n",
      "Recon Loss =53.5493, KL Loss = 2.7251, Sparsity Loss = 108.6468, Lagrangian Loss = 131.7094\n"
     ]
    },
    {
     "name": "stderr",
     "output_type": "stream",
     "text": [
      "2025-03-19 17:04:38,233 INFO -- Edge Accuracy = 37.25, Instantaneous Accuracy = 35.29, Lagged Accuracy = 42.48, Counterfactual Accuracy = 58.17,  Blended Accuracy = 43.14,  RR Accuracy = 50.33  \n",
      "2025-03-19 17:04:38,234 INFO -- Model: 153\n"
     ]
    },
    {
     "name": "stdout",
     "output_type": "stream",
     "text": [
      "Anomaly: cso1\n",
      "Epoch 1: Loss = 10170.3232\n",
      "Recon Loss =9683.3564, KL Loss = 0.0071, Sparsity Loss = 123.8399, Lagrangian Loss = 363.1197\n",
      "Epoch 51: Loss = 985.4464\n",
      "Recon Loss =479.6533, KL Loss = 2.1088, Sparsity Loss = 119.6129, Lagrangian Loss = 384.0714\n",
      "Epoch 101: Loss = 745.7746\n",
      "Recon Loss =137.1000, KL Loss = 3.8521, Sparsity Loss = 122.0956, Lagrangian Loss = 482.7269\n",
      "Epoch 151: Loss = 455.7894\n",
      "Recon Loss =97.6257, KL Loss = 4.0351, Sparsity Loss = 115.4751, Lagrangian Loss = 238.6535\n",
      "Epoch 201: Loss = 367.5910\n",
      "Recon Loss =90.0719, KL Loss = 4.0005, Sparsity Loss = 116.4643, Lagrangian Loss = 157.0544\n",
      "Epoch 251: Loss = 324.6081\n",
      "Recon Loss =91.4886, KL Loss = 3.9154, Sparsity Loss = 109.8417, Lagrangian Loss = 119.3624\n",
      "Epoch 301: Loss = 328.5468\n",
      "Recon Loss =96.7554, KL Loss = 3.9920, Sparsity Loss = 109.3706, Lagrangian Loss = 118.4288\n",
      "Early stopping triggered. Last Epoch: 323\n",
      "Recon Loss =96.4067, KL Loss = 3.9195, Sparsity Loss = 104.5991, Lagrangian Loss = 103.1000\n"
     ]
    },
    {
     "name": "stderr",
     "output_type": "stream",
     "text": [
      "2025-03-19 17:05:15,785 INFO -- Edge Accuracy = 37.66, Instantaneous Accuracy = 35.71, Lagged Accuracy = 42.86, Counterfactual Accuracy = 58.44,  Blended Accuracy = 43.51,  RR Accuracy = 50.65  \n",
      "2025-03-19 17:05:15,786 INFO -- Model: 154\n"
     ]
    },
    {
     "name": "stdout",
     "output_type": "stream",
     "text": [
      "Anomaly: cso1\n",
      "Epoch 1: Loss = 11935.3447\n",
      "Recon Loss =11539.5518, KL Loss = 0.0126, Sparsity Loss = 121.2086, Lagrangian Loss = 274.5711\n",
      "Epoch 51: Loss = 1039.0872\n",
      "Recon Loss =560.4792, KL Loss = 2.7717, Sparsity Loss = 119.3773, Lagrangian Loss = 356.4590\n",
      "Epoch 101: Loss = 568.6068\n",
      "Recon Loss =93.4997, KL Loss = 3.8985, Sparsity Loss = 117.7506, Lagrangian Loss = 353.4580\n",
      "Epoch 151: Loss = 376.0942\n",
      "Recon Loss =92.9102, KL Loss = 4.3304, Sparsity Loss = 117.7408, Lagrangian Loss = 161.1128\n"
     ]
    },
    {
     "ename": "KeyboardInterrupt",
     "evalue": "",
     "output_type": "error",
     "traceback": [
      "\u001b[1;31m---------------------------------------------------------------------------\u001b[0m",
      "\u001b[1;31mKeyboardInterrupt\u001b[0m                         Traceback (most recent call last)",
      "Cell \u001b[1;32mIn[23], line 57\u001b[0m\n\u001b[0;32m     51\u001b[0m fine_tuned \u001b[38;5;241m=\u001b[39m CausalGraphVAE(input_dim\u001b[38;5;241m=\u001b[39mnum_nodes, hidden_dim\u001b[38;5;241m=\u001b[39mhidden_dim,\n\u001b[0;32m     52\u001b[0m                        latent_dim\u001b[38;5;241m=\u001b[39mlatent_dim, num_nodes\u001b[38;5;241m=\u001b[39mnum_nodes,device\u001b[38;5;241m=\u001b[39mdevice,\n\u001b[0;32m     53\u001b[0m                        time_steps\u001b[38;5;241m=\u001b[39mTIME_STEPS,prior_adj\u001b[38;5;241m=\u001b[39mprior_adj)\n\u001b[0;32m     54\u001b[0m optimizer \u001b[38;5;241m=\u001b[39m torch\u001b[38;5;241m.\u001b[39moptim\u001b[38;5;241m.\u001b[39mAdamW(fine_tuned\u001b[38;5;241m.\u001b[39mparameters(), lr\u001b[38;5;241m=\u001b[39m\u001b[38;5;241m0.01\u001b[39m, weight_decay\u001b[38;5;241m=\u001b[39m\u001b[38;5;241m1e-0\u001b[39m)  \u001b[38;5;66;03m# L2 Regularization\u001b[39;00m\n\u001b[1;32m---> 57\u001b[0m fine_tuned\u001b[38;5;241m.\u001b[39mtrain_model(dataloader, optimizer, num_epochs\u001b[38;5;241m=\u001b[39m\u001b[38;5;241m2500\u001b[39m, patience\u001b[38;5;241m=\u001b[39m\u001b[38;5;241m50\u001b[39m,BATCH_SIZE\u001b[38;5;241m=\u001b[39mBATCH_SIZE,rho_max\u001b[38;5;241m=\u001b[39m\u001b[38;5;241m0.2\u001b[39m,alpha_max\u001b[38;5;241m=\u001b[39m\u001b[38;5;241m0.2\u001b[39m)\n\u001b[0;32m     59\u001b[0m causes \u001b[38;5;241m=\u001b[39m fine_tuned\u001b[38;5;241m.\u001b[39minfer_causal_effect(X_data\u001b[38;5;241m.\u001b[39mto(torch\u001b[38;5;241m.\u001b[39mfloat32)\u001b[38;5;241m.\u001b[39mto(device),T_data\u001b[38;5;241m.\u001b[39mto(torch\u001b[38;5;241m.\u001b[39mfloat32)\u001b[38;5;241m.\u001b[39mto(device),anomaly,cols,non_causal_indices\u001b[38;5;241m=\u001b[39mnon_causal_indices)\n\u001b[0;32m     61\u001b[0m causes \u001b[38;5;241m=\u001b[39m causes\u001b[38;5;241m.\u001b[39mfilter(items\u001b[38;5;241m=\u001b[39mpotential_causes, axis\u001b[38;5;241m=\u001b[39m\u001b[38;5;241m0\u001b[39m)\n",
      "File \u001b[1;32m~\\Documents\\Doctorate\\praxis_research\\CARAT_CI\\src\\CARAT\\model.py:187\u001b[0m, in \u001b[0;36mCausalGraphVAE.train_model\u001b[1;34m(self, dataloader, optimizer, num_epochs, patience, BATCH_SIZE, rho_max, alpha_max)\u001b[0m\n\u001b[0;32m    185\u001b[0m \u001b[38;5;28;01mfor\u001b[39;00m epoch \u001b[38;5;129;01min\u001b[39;00m \u001b[38;5;28mrange\u001b[39m(num_epochs):\n\u001b[0;32m    186\u001b[0m     total_loss \u001b[38;5;241m=\u001b[39m \u001b[38;5;241m0\u001b[39m\n\u001b[1;32m--> 187\u001b[0m     \u001b[38;5;28;01mfor\u001b[39;00m batch_idx, (X_batch, time_batch) \u001b[38;5;129;01min\u001b[39;00m \u001b[38;5;28menumerate\u001b[39m(dataloader):\n\u001b[0;32m    188\u001b[0m         \u001b[38;5;28;01mif\u001b[39;00m X_batch\u001b[38;5;241m.\u001b[39mshape[\u001b[38;5;241m0\u001b[39m] \u001b[38;5;241m<\u001b[39m X_batch\u001b[38;5;241m.\u001b[39mshape[\u001b[38;5;241m2\u001b[39m]:\n\u001b[0;32m    189\u001b[0m             \u001b[38;5;28;01mcontinue\u001b[39;00m\n",
      "File \u001b[1;32m~\\anaconda3\\envs\\torch\\Lib\\site-packages\\torch\\utils\\data\\dataloader.py:701\u001b[0m, in \u001b[0;36m_BaseDataLoaderIter.__next__\u001b[1;34m(self)\u001b[0m\n\u001b[0;32m    698\u001b[0m \u001b[38;5;28;01mif\u001b[39;00m \u001b[38;5;28mself\u001b[39m\u001b[38;5;241m.\u001b[39m_sampler_iter \u001b[38;5;129;01mis\u001b[39;00m \u001b[38;5;28;01mNone\u001b[39;00m:\n\u001b[0;32m    699\u001b[0m     \u001b[38;5;66;03m# TODO(https://github.com/pytorch/pytorch/issues/76750)\u001b[39;00m\n\u001b[0;32m    700\u001b[0m     \u001b[38;5;28mself\u001b[39m\u001b[38;5;241m.\u001b[39m_reset()  \u001b[38;5;66;03m# type: ignore[call-arg]\u001b[39;00m\n\u001b[1;32m--> 701\u001b[0m data \u001b[38;5;241m=\u001b[39m \u001b[38;5;28mself\u001b[39m\u001b[38;5;241m.\u001b[39m_next_data()\n\u001b[0;32m    702\u001b[0m \u001b[38;5;28mself\u001b[39m\u001b[38;5;241m.\u001b[39m_num_yielded \u001b[38;5;241m+\u001b[39m\u001b[38;5;241m=\u001b[39m \u001b[38;5;241m1\u001b[39m\n\u001b[0;32m    703\u001b[0m \u001b[38;5;28;01mif\u001b[39;00m (\n\u001b[0;32m    704\u001b[0m     \u001b[38;5;28mself\u001b[39m\u001b[38;5;241m.\u001b[39m_dataset_kind \u001b[38;5;241m==\u001b[39m _DatasetKind\u001b[38;5;241m.\u001b[39mIterable\n\u001b[0;32m    705\u001b[0m     \u001b[38;5;129;01mand\u001b[39;00m \u001b[38;5;28mself\u001b[39m\u001b[38;5;241m.\u001b[39m_IterableDataset_len_called \u001b[38;5;129;01mis\u001b[39;00m \u001b[38;5;129;01mnot\u001b[39;00m \u001b[38;5;28;01mNone\u001b[39;00m\n\u001b[0;32m    706\u001b[0m     \u001b[38;5;129;01mand\u001b[39;00m \u001b[38;5;28mself\u001b[39m\u001b[38;5;241m.\u001b[39m_num_yielded \u001b[38;5;241m>\u001b[39m \u001b[38;5;28mself\u001b[39m\u001b[38;5;241m.\u001b[39m_IterableDataset_len_called\n\u001b[0;32m    707\u001b[0m ):\n",
      "File \u001b[1;32m~\\anaconda3\\envs\\torch\\Lib\\site-packages\\torch\\utils\\data\\dataloader.py:757\u001b[0m, in \u001b[0;36m_SingleProcessDataLoaderIter._next_data\u001b[1;34m(self)\u001b[0m\n\u001b[0;32m    755\u001b[0m \u001b[38;5;28;01mdef\u001b[39;00m \u001b[38;5;21m_next_data\u001b[39m(\u001b[38;5;28mself\u001b[39m):\n\u001b[0;32m    756\u001b[0m     index \u001b[38;5;241m=\u001b[39m \u001b[38;5;28mself\u001b[39m\u001b[38;5;241m.\u001b[39m_next_index()  \u001b[38;5;66;03m# may raise StopIteration\u001b[39;00m\n\u001b[1;32m--> 757\u001b[0m     data \u001b[38;5;241m=\u001b[39m \u001b[38;5;28mself\u001b[39m\u001b[38;5;241m.\u001b[39m_dataset_fetcher\u001b[38;5;241m.\u001b[39mfetch(index)  \u001b[38;5;66;03m# may raise StopIteration\u001b[39;00m\n\u001b[0;32m    758\u001b[0m     \u001b[38;5;28;01mif\u001b[39;00m \u001b[38;5;28mself\u001b[39m\u001b[38;5;241m.\u001b[39m_pin_memory:\n\u001b[0;32m    759\u001b[0m         data \u001b[38;5;241m=\u001b[39m _utils\u001b[38;5;241m.\u001b[39mpin_memory\u001b[38;5;241m.\u001b[39mpin_memory(data, \u001b[38;5;28mself\u001b[39m\u001b[38;5;241m.\u001b[39m_pin_memory_device)\n",
      "File \u001b[1;32m~\\anaconda3\\envs\\torch\\Lib\\site-packages\\torch\\utils\\data\\_utils\\fetch.py:52\u001b[0m, in \u001b[0;36m_MapDatasetFetcher.fetch\u001b[1;34m(self, possibly_batched_index)\u001b[0m\n\u001b[0;32m     50\u001b[0m         data \u001b[38;5;241m=\u001b[39m \u001b[38;5;28mself\u001b[39m\u001b[38;5;241m.\u001b[39mdataset\u001b[38;5;241m.\u001b[39m__getitems__(possibly_batched_index)\n\u001b[0;32m     51\u001b[0m     \u001b[38;5;28;01melse\u001b[39;00m:\n\u001b[1;32m---> 52\u001b[0m         data \u001b[38;5;241m=\u001b[39m [\u001b[38;5;28mself\u001b[39m\u001b[38;5;241m.\u001b[39mdataset[idx] \u001b[38;5;28;01mfor\u001b[39;00m idx \u001b[38;5;129;01min\u001b[39;00m possibly_batched_index]\n\u001b[0;32m     53\u001b[0m \u001b[38;5;28;01melse\u001b[39;00m:\n\u001b[0;32m     54\u001b[0m     data \u001b[38;5;241m=\u001b[39m \u001b[38;5;28mself\u001b[39m\u001b[38;5;241m.\u001b[39mdataset[possibly_batched_index]\n",
      "File \u001b[1;32m~\\Documents\\Doctorate\\praxis_research\\CARAT_CI\\src\\CARAT\\model_utils.py:47\u001b[0m, in \u001b[0;36mTimeSeriesDataset.__getitem__\u001b[1;34m(self, idx)\u001b[0m\n\u001b[0;32m     41\u001b[0m \u001b[38;5;250m\u001b[39m\u001b[38;5;124;03m\"\"\"\u001b[39;00m\n\u001b[0;32m     42\u001b[0m \u001b[38;5;124;03mReturns:\u001b[39;00m\n\u001b[0;32m     43\u001b[0m \u001b[38;5;124;03m    X: Past `time_steps` values (shape: [time_steps, num_features])\u001b[39;00m\n\u001b[0;32m     44\u001b[0m \u001b[38;5;124;03m    y: Next step prediction target (shape: [num_features])\u001b[39;00m\n\u001b[0;32m     45\u001b[0m \u001b[38;5;124;03m\"\"\"\u001b[39;00m\n\u001b[0;32m     46\u001b[0m X \u001b[38;5;241m=\u001b[39m \u001b[38;5;28mself\u001b[39m\u001b[38;5;241m.\u001b[39mdata[idx : idx \u001b[38;5;241m+\u001b[39m \u001b[38;5;28mself\u001b[39m\u001b[38;5;241m.\u001b[39mtime_steps, :]\u001b[38;5;241m.\u001b[39mto(\u001b[38;5;28mself\u001b[39m\u001b[38;5;241m.\u001b[39mdevice)\n\u001b[1;32m---> 47\u001b[0m time_context \u001b[38;5;241m=\u001b[39m torch\u001b[38;5;241m.\u001b[39marange(\u001b[38;5;28mself\u001b[39m\u001b[38;5;241m.\u001b[39mtime_steps)\u001b[38;5;241m.\u001b[39mfloat()\u001b[38;5;241m.\u001b[39mto(\u001b[38;5;28mself\u001b[39m\u001b[38;5;241m.\u001b[39mdevice)  \u001b[38;5;66;03m# Time indexing\u001b[39;00m\n\u001b[0;32m     49\u001b[0m \u001b[38;5;28;01mreturn\u001b[39;00m X, time_context\n",
      "\u001b[1;31mKeyboardInterrupt\u001b[0m: "
     ]
    }
   ],
   "source": [
    "cols = list(test_df.columns)\n",
    "non_causal_columns = list(set(cols).difference(set(potential_causes)))\n",
    "causal_indices = [train_df.columns.get_loc(col) for col in potential_causes]\n",
    "non_causal_indices = [train_df.columns.get_loc(col) for col in non_causal_columns]\n",
    "num_nodes = len(train_df.columns)\n",
    "\n",
    "new_metadata = []\n",
    "hidden_dim = 64\n",
    "\n",
    "edge_correct = 0\n",
    "instantaneous_correct = 0\n",
    "lagged_correct = 0\n",
    "counterfactual_correct = 0 \n",
    "rr_correct = 0\n",
    "total_correct = 0\n",
    "total_checked = 0\n",
    "incorrect = []\n",
    "\n",
    "for i, row in enumerate(cats_rows_list):\n",
    "    total_checked +=1 \n",
    "    logger.info('Model: '+ str(i))\n",
    "    anomaly = eval(row['affected'])[0]\n",
    "    print('Anomaly: ' + anomaly)\n",
    "    anomaly_time = datetime.strptime(row['start_time'],\"%Y-%m-%d %H:%M:%S\")\n",
    "    #start_time = datetime.strptime(row['start_time'],\"%Y-%m-%d %H:%M:%S\")\n",
    "    end_time = datetime.strptime(row['end_time'],\"%Y-%m-%d %H:%M:%S\")\n",
    "    root_cause = row['root_cause']\n",
    "    #start_len = mod_df.shape[0]\n",
    "    #if start_len >1000:\n",
    "        #start_len = 1000\n",
    "    start_len = 50\n",
    "    start_time = anomaly_time- timedelta(seconds=start_len)\n",
    "    finish_time = end_time + timedelta(seconds=start_len)\n",
    "    mod_df = test_df[(test_df.index>= start_time) & (test_df.index<= finish_time)]\n",
    "    mod_df = mod_df[['aimp', 'amud', 'arnd', 'asin1', 'asin2', 'adbr', 'adfl', 'bed1',\n",
    "       'bed2', 'bfo1', 'bfo2', 'bso1', 'bso2', 'bso3', 'ced1', 'cfo1', 'cso1']]\n",
    "\n",
    "    \"\"\"\n",
    "    FIND THE OPTIMAL NUMBER OF LAGS\n",
    "    \"\"\"\n",
    "    TIME_STEPS = max(most_frequent(find_optimal_lags_for_dataframe(mod_df))+1,3)\n",
    "\n",
    "    dataset = TimeSeriesDataset(mod_df,device=device, time_steps=TIME_STEPS)\n",
    "    dataloader = DataLoader(dataset, batch_size=BATCH_SIZE, shuffle=False)\n",
    "    X_data = torch.empty(0,device=device)\n",
    "    T_data = torch.empty(0,device=device)\n",
    "    for batch_idx, (X_batch, time_batch) in enumerate(dataloader):\n",
    "        X_data = torch.cat((X_data[:batch_idx], X_batch, X_data[batch_idx:]))\n",
    "        T_data = torch.cat((T_data[:batch_idx], time_batch, T_data[batch_idx:]))\n",
    "    \n",
    "    fine_tuned = CausalGraphVAE(input_dim=num_nodes, hidden_dim=hidden_dim,\n",
    "                           latent_dim=latent_dim, num_nodes=num_nodes,device=device,\n",
    "                           time_steps=TIME_STEPS,prior_adj=prior_adj)\n",
    "    optimizer = torch.optim.AdamW(fine_tuned.parameters(), lr=0.01, weight_decay=1e-10)  # L2 Regularization\n",
    "\n",
    "    \n",
    "    fine_tuned.train_model(dataloader, optimizer, num_epochs=2500, patience=50,BATCH_SIZE=BATCH_SIZE,rho_max=0.2,alpha_max=0.2)\n",
    "\n",
    "    causes = fine_tuned.infer_causal_effect(X_data.to(torch.float32).to(device),T_data.to(torch.float32).to(device),anomaly,cols,non_causal_indices=non_causal_indices)\n",
    "    \n",
    "    causes = causes.filter(items=potential_causes, axis=0)\n",
    "    edge_cause_1 = causes.sort_values(by='causes',ascending=False)[0:3].index[0]\n",
    "    edge_cause_2 = causes.sort_values(by='causes',ascending=False)[0:3].index[1]\n",
    "    edge_cause_3 = causes.sort_values(by='causes',ascending=False)[0:3].index[2]\n",
    "    \n",
    "    instant_cause_1 = causes.sort_values(by='instantaneous',ascending=False)[0:3].index[0]\n",
    "    instant_cause_2 = causes.sort_values(by='instantaneous',ascending=False)[0:3].index[1]\n",
    "    instant_cause_3 = causes.sort_values(by='instantaneous',ascending=False)[0:3].index[2]\n",
    "    \n",
    "    lag_cause_1 = causes.sort_values(by='lagged',ascending=False)[0:3].index[0]\n",
    "    lag_cause_2 = causes.sort_values(by='lagged',ascending=False)[0:3].index[1]\n",
    "    lag_cause_3 = causes.sort_values(by='lagged',ascending=False)[0:3].index[2]\n",
    "    \n",
    "    counterfactual_cause_1 = causes.sort_values(by='counterfactuals',ascending=False)[0:3].index[0]\n",
    "    counterfactual_cause_2 = causes.sort_values(by='counterfactuals',ascending=False)[0:3].index[1]\n",
    "    counterfactual_cause_3 = causes.sort_values(by='counterfactuals',ascending=False)[0:3].index[2]\n",
    "\n",
    "    rr_cause_1 = causes.sort_values(by='RootRank',ascending=False)[0:3].index[0]\n",
    "    rr_cause_2 = causes.sort_values(by='RootRank',ascending=False)[0:3].index[1]\n",
    "    rr_cause_3 = causes.sort_values(by='RootRank',ascending=False)[0:3].index[2]\n",
    "    \n",
    "    total_score_cause_1=causes.sort_values(by='causal_strength',ascending=False)[0:3].index[0]\n",
    "    total_score_cause_2=causes.sort_values(by='causal_strength',ascending=False)[0:3].index[1]\n",
    "    total_score_cause_3=causes.sort_values(by='causal_strength',ascending=False)[0:3].index[2]\n",
    "    \n",
    "    if root_cause == edge_cause_1:\n",
    "        row['edge_cause_1'] = 1\n",
    "    if root_cause == edge_cause_1:\n",
    "        row['edge_cause_2'] = 1\n",
    "    if root_cause == edge_cause_1:\n",
    "        row['edge_cause_3'] = 1\n",
    "    \n",
    "    if root_cause == counterfactual_cause_1:\n",
    "        row['counterfactual_cause_1'] = 1\n",
    "    if root_cause == counterfactual_cause_2:\n",
    "        row['counterfactual_cause_2'] = 1\n",
    "    if root_cause == counterfactual_cause_3:\n",
    "        row['counterfactual_cause_3'] = 1\n",
    "    \n",
    "    if root_cause == total_score_cause_1:\n",
    "        row['total_score_cause_1'] = 1\n",
    "    if root_cause == total_score_cause_2:\n",
    "        row['total_score_cause_2'] = 1\n",
    "    if root_cause == total_score_cause_3:\n",
    "        row['total_score_cause_3'] = 1\n",
    "    \n",
    "    if root_cause == instant_cause_1:\n",
    "        row['instant_cause_1'] = 1\n",
    "    if root_cause == instant_cause_2:\n",
    "        row['instant_cause_2'] = 1\n",
    "    if root_cause == instant_cause_3:\n",
    "        row['instant_cause_3'] = 1\n",
    "    \n",
    "    if root_cause == lag_cause_1:\n",
    "        row['lag_cause_1'] = 1\n",
    "    if root_cause == lag_cause_2:\n",
    "        row['lag_cause_2'] = 1\n",
    "    if root_cause == lag_cause_3:\n",
    "        row['lag_cause_3'] = 1\n",
    "\n",
    "    if root_cause == rr_cause_1:\n",
    "        row['rr_cause_1'] = 1\n",
    "    if root_cause == rr_cause_2:\n",
    "        row['rr_cause_2'] = 1\n",
    "    if root_cause == rr_cause_3:\n",
    "        row['rr_cause_3'] = 1\n",
    "    \n",
    "    new_metadata.append(row)\n",
    "    \n",
    "    if root_cause in [total_score_cause_1 , total_score_cause_2 , total_score_cause_3]:\n",
    "        total_correct+=1\n",
    "    if root_cause in [edge_cause_1 , edge_cause_2 , edge_cause_3]:\n",
    "        edge_correct+=1\n",
    "    if root_cause in [counterfactual_cause_1 , counterfactual_cause_2 , counterfactual_cause_3]:\n",
    "        counterfactual_correct+=1\n",
    "    if root_cause in [instant_cause_1 , instant_cause_2 , instant_cause_3]:\n",
    "        instantaneous_correct+=1\n",
    "    if root_cause in [lag_cause_1 , lag_cause_2 , lag_cause_3]:\n",
    "        lagged_correct+=1\n",
    "    if root_cause in [rr_cause_1 , rr_cause_2 , rr_cause_3]:\n",
    "        rr_correct+=1\n",
    "    \n",
    "    total_accuracy = total_correct/total_checked* 100\n",
    "    edge_accuracy = edge_correct/total_checked* 100\n",
    "    cf_accuracy = counterfactual_correct/total_checked* 100\n",
    "    instant_accuracy = instantaneous_correct/total_checked* 100\n",
    "    lag_accuracy = lagged_correct/total_checked* 100\n",
    "    rr_accuracy = rr_correct/total_checked* 100\n",
    "    \n",
    "    if root_cause not in [total_score_cause_1 , total_score_cause_2 , total_score_cause_3,edge_cause_1 , edge_cause_2 , edge_cause_3 ]:\n",
    "        incorrect.append(i) \n",
    "    logger.info(f\"Edge Accuracy = {edge_accuracy:.2f}, Instantaneous Accuracy = {instant_accuracy:.2f}, Lagged Accuracy = {lag_accuracy:.2f}, Counterfactual Accuracy = {cf_accuracy:.2f},  Blended Accuracy = {total_accuracy:.2f},  RR Accuracy = {rr_accuracy:.2f}  \") \n",
    "\n"
   ]
  },
  {
   "cell_type": "code",
   "execution_count": null,
   "id": "fab3a638-f7c1-4ba2-ba66-380c14575be8",
   "metadata": {},
   "outputs": [],
   "source": []
  }
 ],
 "metadata": {
  "kernelspec": {
   "display_name": "Python 3 (ipykernel)",
   "language": "python",
   "name": "python3"
  },
  "language_info": {
   "codemirror_mode": {
    "name": "ipython",
    "version": 3
   },
   "file_extension": ".py",
   "mimetype": "text/x-python",
   "name": "python",
   "nbconvert_exporter": "python",
   "pygments_lexer": "ipython3",
   "version": "3.12.7"
  },
  "widgets": {
   "application/vnd.jupyter.widget-state+json": {
    "state": {},
    "version_major": 2,
    "version_minor": 0
   }
  }
 },
 "nbformat": 4,
 "nbformat_minor": 5
}
